{
 "cells": [
  {
   "cell_type": "code",
   "execution_count": 1,
   "id": "7504095f-aee0-4dff-8691-73bcf36dac1d",
   "metadata": {},
   "outputs": [
    {
     "name": "stdout",
     "output_type": "stream",
     "text": [
      "[1, 4, 9, 16, 25]\n"
     ]
    }
   ],
   "source": [
    "# For Loop\n",
    "a = [1,2,3,4,5]\n",
    "squared_a = []\n",
    "for num in a:\n",
    "    squared_a.append(num**2)\n",
    "print(squared_a)"
   ]
  },
  {
   "cell_type": "code",
   "execution_count": 2,
   "id": "649d7080-d9fc-464a-8ed6-d2304ae458e5",
   "metadata": {},
   "outputs": [
    {
     "name": "stdout",
     "output_type": "stream",
     "text": [
      "[1, 4, 9, 16, 25]\n"
     ]
    }
   ],
   "source": [
    "for i in range(0,len(a)):\n",
    "    a[i] = a[i]**2\n",
    "print(a)"
   ]
  },
  {
   "cell_type": "code",
   "execution_count": 3,
   "id": "0590a21f-69e8-44f6-a08d-c77c5f68309a",
   "metadata": {},
   "outputs": [
    {
     "name": "stdout",
     "output_type": "stream",
     "text": [
      "[4, 16]\n",
      "[1, 9, 25]\n"
     ]
    }
   ],
   "source": [
    "even_num = []\n",
    "odd_num = []\n",
    "for nums in a:\n",
    "    if nums%2 == 0:\n",
    "        even_num.append(nums)\n",
    "    else:\n",
    "        odd_num.append(nums)\n",
    "print(even_num)\n",
    "print(odd_num)\n",
    "        "
   ]
  },
  {
   "cell_type": "code",
   "execution_count": 4,
   "id": "d06e1e39-07f0-4ebd-88ca-b97efd0d2f4e",
   "metadata": {},
   "outputs": [
    {
     "name": "stdout",
     "output_type": "stream",
     "text": [
      "odd number\n",
      "even number\n",
      "odd number\n",
      "even number\n",
      "odd number\n"
     ]
    }
   ],
   "source": [
    "#input [1,2,3,4,5]\n",
    "'''\n",
    "output=\n",
    "odd number\n",
    "even number\n",
    "odd number \n",
    "odd number\n",
    "'''\n",
    "\n",
    "for nums in a:\n",
    "    if nums%2 == 0:\n",
    "        print(\"even number\")\n",
    "    else:\n",
    "        print(\"odd number\")\n"
   ]
  },
  {
   "cell_type": "code",
   "execution_count": 5,
   "id": "f765ed07-2341-4035-8102-866c9b030079",
   "metadata": {},
   "outputs": [
    {
     "name": "stdout",
     "output_type": "stream",
     "text": [
      "S\n",
      "t\n",
      "r\n",
      "i\n",
      "n\n",
      "g\n",
      " \n",
      "H\n",
      "e\n",
      "l\n",
      "l\n",
      "o\n",
      " \n",
      "W\n",
      "o\n",
      "r\n",
      "l\n",
      "d\n"
     ]
    }
   ],
   "source": [
    "a = \"String Hello World\"\n",
    "for char in a:\n",
    "    print(char)"
   ]
  },
  {
   "cell_type": "code",
   "execution_count": 6,
   "id": "5510da08-38f5-4d90-bdc0-faf922d00a38",
   "metadata": {},
   "outputs": [
    {
     "name": "stdout",
     "output_type": "stream",
     "text": [
      "(1, 4, 9, 16, 25)\n"
     ]
    }
   ],
   "source": [
    "a = [1,2,3,4,5]\n",
    "squared_a = []\n",
    "for num in a:\n",
    "    squared_a.append(num**2)\n",
    "print(tuple(squared_a))"
   ]
  },
  {
   "cell_type": "code",
   "execution_count": 7,
   "id": "3f263203-abc9-4540-9b17-1c798a91d9d9",
   "metadata": {},
   "outputs": [
    {
     "name": "stdout",
     "output_type": "stream",
     "text": [
      "a\n",
      "b\n",
      "c\n",
      "d\n"
     ]
    }
   ],
   "source": [
    "dict = {\"a\":1,\"b\":2,\"c\":3,\"d\":4}\n",
    "for i in dict:\n",
    "    print(i)"
   ]
  },
  {
   "cell_type": "code",
   "execution_count": 8,
   "id": "b7aed7e1-0a1d-4a94-8aff-731f8fac2e8a",
   "metadata": {},
   "outputs": [
    {
     "data": {
      "text/plain": [
       "dict_items([('a', 1), ('b', 2), ('c', 3), ('d', 4)])"
      ]
     },
     "execution_count": 8,
     "metadata": {},
     "output_type": "execute_result"
    }
   ],
   "source": [
    "dict = {\"a\":1,\"b\":2,\"c\":3,\"d\":4}\n",
    "dict.items()"
   ]
  },
  {
   "cell_type": "code",
   "execution_count": 26,
   "id": "96347e1a-2d3e-4ef8-a2ad-eab705fe0fda",
   "metadata": {},
   "outputs": [
    {
     "name": "stdout",
     "output_type": "stream",
     "text": [
      "('a', 1)\n",
      "('b', 2)\n",
      "('c', 3)\n",
      "('d', 4)\n"
     ]
    }
   ],
   "source": [
    "dict = {\"a\":1,\"b\":2,\"c\":3,\"d\":4}\n",
    "dict.items()\n",
    "for k,v in dict.items():\n",
    "    print((k,v))"
   ]
  },
  {
   "cell_type": "code",
   "execution_count": 22,
   "id": "b31e42fc-078b-4289-881a-15f92cca6e89",
   "metadata": {},
   "outputs": [
    {
     "data": {
      "text/plain": [
       "'#study\\nw3 schl\\ngeeks for geek\\n#practice\\nhackerank\\ncode cheaf\\nleetcode/neetcode'"
      ]
     },
     "execution_count": 22,
     "metadata": {},
     "output_type": "execute_result"
    }
   ],
   "source": [
    "'''#study\n",
    "w3 schl\n",
    "geeks for geek\n",
    "#practice\n",
    "hackerank\n",
    "code cheaf\n",
    "leetcode/neetcode'''"
   ]
  },
  {
   "cell_type": "code",
   "execution_count": 25,
   "id": "f5009bb5-e72d-4e5a-b790-798fd8fae52f",
   "metadata": {},
   "outputs": [
    {
     "name": "stdout",
     "output_type": "stream",
     "text": [
      "10\n",
      "11\n",
      "12\n",
      "13\n",
      "14\n",
      "15\n",
      "LOOP CLOSED\n"
     ]
    }
   ],
   "source": [
    "x = 10\n",
    "while x <= 15:\n",
    "    print(x)\n",
    "    x += 1\n",
    "else:\n",
    "    print(\"LOOP CLOSED\")"
   ]
  },
  {
   "cell_type": "code",
   "execution_count": 27,
   "id": "5b92f498-fa46-4673-a1b0-8b868bea786c",
   "metadata": {},
   "outputs": [
    {
     "name": "stdout",
     "output_type": "stream",
     "text": [
      "10\n",
      "11\n"
     ]
    }
   ],
   "source": [
    "x = 10\n",
    "while x <= 15:\n",
    "    print(x)\n",
    "    x += 1\n",
    "    if x == 12:\n",
    "        break\n",
    "else:\n",
    "    print(\"LOOP CLOSED\")"
   ]
  },
  {
   "cell_type": "code",
   "execution_count": 1,
   "id": "21273feb-0bfd-4daf-b4ed-af5f520cfa3d",
   "metadata": {},
   "outputs": [
    {
     "name": "stdout",
     "output_type": "stream",
     "text": [
      "1\n",
      "3\n",
      "5\n",
      "7\n",
      "9\n"
     ]
    }
   ],
   "source": [
    "# If we want odd numbers\n",
    "n = 1\n",
    "while n <= 10:\n",
    "    if n%2 == 0:\n",
    "        n += 1\n",
    "        continue\n",
    "    print(n)\n",
    "    n += 1"
   ]
  },
  {
   "cell_type": "code",
   "execution_count": 31,
   "id": "b8f88896-b1c6-4f52-8822-b2179adf1571",
   "metadata": {},
   "outputs": [
    {
     "name": "stdout",
     "output_type": "stream",
     "text": [
      "2\n",
      "4\n",
      "6\n",
      "8\n",
      "10\n"
     ]
    }
   ],
   "source": [
    "# If we want even number\n",
    "n = 1\n",
    "while n <= 10:\n",
    "    if n%2 != 0:\n",
    "        n += 1\n",
    "        continue\n",
    "    print(n)\n",
    "    n += 1"
   ]
  },
  {
   "cell_type": "code",
   "execution_count": null,
   "id": "c6760462-7067-42e2-b463-e36d1eaf1d91",
   "metadata": {},
   "outputs": [],
   "source": []
  }
 ],
 "metadata": {
  "kernelspec": {
   "display_name": "Python 3 (ipykernel)",
   "language": "python",
   "name": "python3"
  },
  "language_info": {
   "codemirror_mode": {
    "name": "ipython",
    "version": 3
   },
   "file_extension": ".py",
   "mimetype": "text/x-python",
   "name": "python",
   "nbconvert_exporter": "python",
   "pygments_lexer": "ipython3",
   "version": "3.12.4"
  }
 },
 "nbformat": 4,
 "nbformat_minor": 5
}
