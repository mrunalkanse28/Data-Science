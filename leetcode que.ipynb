{
 "cells": [
  {
   "cell_type": "code",
   "execution_count": 24,
   "id": "60fca8cb-bc66-4598-83b9-111bfa91b2dc",
   "metadata": {},
   "outputs": [
    {
     "data": {
      "text/plain": [
       "124"
      ]
     },
     "execution_count": 24,
     "metadata": {},
     "output_type": "execute_result"
    }
   ],
   "source": [
    "def plusOne(num):\n",
    "    num = int(''.join(map(str,num)))\n",
    "    num += 1\n",
    "    return num\n",
    "plusOne([1,2,3])\n"
   ]
  },
  {
   "cell_type": "code",
   "execution_count": 29,
   "id": "bfcb958a-d1fc-4a43-bf2b-0c94b57aec7b",
   "metadata": {},
   "outputs": [
    {
     "data": {
      "text/plain": [
       "3"
      ]
     },
     "execution_count": 29,
     "metadata": {},
     "output_type": "execute_result"
    }
   ],
   "source": [
    "def count_op(num1,num2):\n",
    "    count = 0\n",
    "    while True:\n",
    "        if num1 == 0 or num2 == 0:\n",
    "            break\n",
    "        elif num1 > num2:\n",
    "            num1 = num1-num2\n",
    "        else:\n",
    "            num2 = num2-num1\n",
    "        count += 1\n",
    "    return count\n",
    "count_op(2,3)"
   ]
  },
  {
   "cell_type": "code",
   "execution_count": 45,
   "id": "61cbd677-ba6c-4a5b-9a55-e72ee38c5b32",
   "metadata": {},
   "outputs": [],
   "source": [
    "def final_x(operations):\n",
    "    X = 0\n",
    "    for a in operations:\n",
    "        if a == \"X++\" or a == \"++X\":\n",
    "            return X+1\n",
    "        elif a == \"X--\" or a == \"--X\":\n",
    "            return X-1\n",
    "    return a        "
   ]
  },
  {
   "cell_type": "code",
   "execution_count": 83,
   "id": "f057661a-92e0-423b-a3eb-e502edf611e6",
   "metadata": {},
   "outputs": [
    {
     "name": "stdout",
     "output_type": "stream",
     "text": [
      "-1\n"
     ]
    }
   ],
   "source": [
    "operations = [\"--X\",\"X++\",\"X++\"]\n",
    "print(final_x(operations))"
   ]
  },
  {
   "cell_type": "code",
   "execution_count": 86,
   "id": "3f727079-ecd4-4249-a714-e3044749b8ed",
   "metadata": {},
   "outputs": [],
   "source": []
  }
 ],
 "metadata": {
  "kernelspec": {
   "display_name": "Python 3 (ipykernel)",
   "language": "python",
   "name": "python3"
  },
  "language_info": {
   "codemirror_mode": {
    "name": "ipython",
    "version": 3
   },
   "file_extension": ".py",
   "mimetype": "text/x-python",
   "name": "python",
   "nbconvert_exporter": "python",
   "pygments_lexer": "ipython3",
   "version": "3.12.4"
  }
 },
 "nbformat": 4,
 "nbformat_minor": 5
}
