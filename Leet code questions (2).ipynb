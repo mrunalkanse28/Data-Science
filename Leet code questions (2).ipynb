{
 "cells": [
  {
   "cell_type": "markdown",
   "id": "2ea31dea-dbea-424c-a53d-6128e1e70f4a",
   "metadata": {},
   "source": [
    "https://leetcode.com/problems/plus-one/description/\r\n",
    "https://leetcode.com/problems/count-operations-to-obtain-zero/description/\r\n",
    "https://leetcode.com/problems/final-value-of-variable-after-performing-operations/description/\r\n",
    "https://leetcode.com/problems/minimum-operations-to-make-the-array-increasing/description/\r\n",
    "https://leetcode.com/problems/palindrome-number/description/\r\n",
    "https://www.codechef.com/learn/course/python/LTCPY12/problems/PYTH63?tab=solution\r\n",
    "https://www.codechef.com/practice/course/python/PPY05/problems/GDTURN?tab=solution\r\n",
    "https://leetcode.com/problems/check-if-all-as-appears-before-all-bs/description/\r\n",
    "https://leetcode.com/problems/buddy-strings/description/\r\n",
    "https://leetcode.com/problems/make-number-of-distinct-characters-equal/solutions/3016972/python3-brute-force-o-26-26/\r\n",
    "https://leetcode.com/problems/reverse-integer/description/\r\n",
    "https://leetcode.com/problems/multiply-strings/description/\r\n",
    "https://leetcode.com/problems/water-and-jug-problem/description/\r\n",
    "https://www.codechef.com/START116D/problems/HATTRICK\r\n",
    "https://leetcode.com/problems/median-of-two-sorted-arrays/description/\r\n",
    "https://leetcode.com/problems/permutation-sequence/\r\n",
    "https://leetcode.com/problems/max-points-on-a-line/description/"
   ]
  },
  {
   "cell_type": "markdown",
   "id": "500ad306-11d6-40ac-b30c-e054b14d9559",
   "metadata": {},
   "source": []
  },
  {
   "cell_type": "code",
   "execution_count": null,
   "id": "da08d9f5-2b8e-4c91-9c85-bf14555bd502",
   "metadata": {},
   "outputs": [],
   "source": []
  },
  {
   "cell_type": "code",
   "execution_count": null,
   "id": "d63ace4d-3862-4987-9afe-9ebf183c0910",
   "metadata": {},
   "outputs": [],
   "source": []
  }
 ],
 "metadata": {
  "kernelspec": {
   "display_name": "Python 3 (ipykernel)",
   "language": "python",
   "name": "python3"
  },
  "language_info": {
   "codemirror_mode": {
    "name": "ipython",
    "version": 3
   },
   "file_extension": ".py",
   "mimetype": "text/x-python",
   "name": "python",
   "nbconvert_exporter": "python",
   "pygments_lexer": "ipython3",
   "version": "3.11.7"
  }
 },
 "nbformat": 4,
 "nbformat_minor": 5
}
