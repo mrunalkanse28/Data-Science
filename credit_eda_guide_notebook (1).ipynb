{
  "cells": [
    {
      "cell_type": "markdown",
      "metadata": {
        "id": "BB43mwmZbw0x"
      },
      "source": [
        "# EDA - Credit Case Study"
      ]
    },
    {
      "cell_type": "markdown",
      "metadata": {
        "id": "U7ch76yWbw0y"
      },
      "source": [
        "### Steps covered\n",
        "- Reading dataset\n",
        "- Missing value analysis\n",
        "- Transformation of dates\n",
        "- Univariate Analysis\n",
        "- Analysing numerical columns\n",
        "- Outliers\n",
        "- Bivariate analysis"
      ]
    },
    {
      "cell_type": "markdown",
      "metadata": {
        "id": "w_-ZaQbVGvQ3"
      },
      "source": [
        "# Ignore Warnings"
      ]
    },
    {
      "cell_type": "markdown",
      "metadata": {
        "id": "0Ty5zEsYGvQ8"
      },
      "source": [
        "# Importing required libraries"
      ]
    },
    {
      "cell_type": "markdown",
      "metadata": {
        "id": "hGD6HZiKGvQ9"
      },
      "source": [
        "# Importing the dataset"
      ]
    },
    {
      "cell_type": "markdown",
      "metadata": {
        "id": "OEG_gKaHGvQ_"
      },
      "source": [
        "# Check structure of the data"
      ]
    },
    {
      "cell_type": "markdown",
      "metadata": {
        "id": "Jm3raHIjGvRA"
      },
      "source": [
        "Difficult to see columns with null values."
      ]
    },
    {
      "cell_type": "markdown",
      "metadata": {
        "id": "7Prl-qEtGvRA"
      },
      "source": [
        "There are ~307k rows and 122 columns"
      ]
    },
    {
      "cell_type": "markdown",
      "metadata": {
        "id": "1u21pojdGvRB"
      },
      "source": [
        "## Get statistical summary for numerical variables"
      ]
    },
    {
      "cell_type": "markdown",
      "metadata": {
        "id": "kVKt4WCIGvRB"
      },
      "source": [
        "# Analyzing categorical variables"
      ]
    },
    {
      "cell_type": "markdown",
      "metadata": {
        "id": "r-s9AB4CGvRC"
      },
      "source": [
        "There are 16 `categorical` variables"
      ]
    },
    {
      "cell_type": "markdown",
      "metadata": {
        "id": "qsZD6tqGGvRC"
      },
      "source": [
        "# Analyzing numerical variables"
      ]
    },
    {
      "cell_type": "markdown",
      "metadata": {
        "id": "qmIGhJwGGvRD"
      },
      "source": [
        "There are 106 `numerical` variables"
      ]
    },
    {
      "cell_type": "markdown",
      "metadata": {
        "id": "80wMx8sJGvRE"
      },
      "source": [
        "# Dealing with incorrect data types"
      ]
    },
    {
      "cell_type": "markdown",
      "metadata": {
        "id": "tdIoSlxPGvRE"
      },
      "source": [
        "Check if we have any column with incorrect data type"
      ]
    },
    {
      "cell_type": "markdown",
      "metadata": {
        "id": "On8Q2ZD-GvRF"
      },
      "source": [
        "Looking at the data and their corresponding data types, we can conclude that **No Data Type changes are required**"
      ]
    },
    {
      "cell_type": "markdown",
      "metadata": {
        "id": "AhNFT6uEGvRF"
      },
      "source": [
        "# Dealing with missing values"
      ]
    },
    {
      "cell_type": "markdown",
      "metadata": {
        "id": "_B5rh2U_GvRF"
      },
      "source": [
        "Check if we have any null values in the dataset"
      ]
    },
    {
      "cell_type": "markdown",
      "metadata": {
        "id": "F53USZW-GvRG"
      },
      "source": [
        "Get Total number of null values in the dataset"
      ]
    },
    {
      "cell_type": "markdown",
      "metadata": {
        "id": "FnH_kQ1cGvRH"
      },
      "source": [
        "Getting the list of column(s) which have null values"
      ]
    },
    {
      "cell_type": "markdown",
      "metadata": {
        "id": "gqH8gpWWGvRH"
      },
      "source": [
        "There are totally `67` columns having one or more NULL values in the data"
      ]
    },
    {
      "cell_type": "markdown",
      "metadata": {
        "id": "di3wTjUPGvRI"
      },
      "source": [
        "## Computing count and percentage of missing values"
      ]
    },
    {
      "cell_type": "markdown",
      "metadata": {
        "id": "XvXWgaE7GvRR"
      },
      "source": [
        "## Removing columns with NULL values > 40%"
      ]
    },
    {
      "cell_type": "markdown",
      "metadata": {
        "id": "W26J_5L7GvRR"
      },
      "source": [
        "Getting list of columns with NULL values > 40% into a list. We will be removing these columns from the dataframe as there are too many missing values."
      ]
    },
    {
      "cell_type": "markdown",
      "metadata": {
        "id": "8pnF_ULfGvRS"
      },
      "source": [
        "There are totally `49` columns to be removed. Deleting them from main dataframe **`df`**"
      ]
    },
    {
      "cell_type": "markdown",
      "metadata": {
        "id": "T3tVwPJkGvRS"
      },
      "source": [
        "Checking column count post removal. Only `73` columns should be left"
      ]
    },
    {
      "cell_type": "markdown",
      "metadata": {
        "id": "ZkMQ-qxtGvRS"
      },
      "source": [
        "## Checking columns with NULL values < 40%"
      ]
    },
    {
      "cell_type": "markdown",
      "metadata": {
        "id": "44nh8JgyGvRS"
      },
      "source": [
        "Creating dataframe `null_df_under40` with missing column percentages under 40%"
      ]
    },
    {
      "cell_type": "markdown",
      "metadata": {
        "id": "S40CIDV2GvRT"
      },
      "source": [
        "### Analysis of `OCCUPATION_TYPE` column\n",
        "\n",
        "-  null values = 31.35%"
      ]
    },
    {
      "cell_type": "markdown",
      "metadata": {
        "id": "HkSsxjeWGvRT"
      },
      "source": [
        "Impute NULL values with `Unknown` category"
      ]
    },
    {
      "cell_type": "markdown",
      "metadata": {
        "id": "6-qXZpEVGvRT"
      },
      "source": [
        "**Observations**\n",
        "-  Looking at the plot, `Laborers` has the highest number of loan applicants\n",
        "-  For imputation, it would be better to leave the data as is (missing values being 31.35%) and not impute to min/min/mode/median as it may bias the data in later computations"
      ]
    },
    {
      "cell_type": "markdown",
      "metadata": {
        "id": "pSMKw8QpGvRT"
      },
      "source": [
        "### Analysis of `EXT_SOURCE_3` column\n",
        "\n",
        "-  null values = 19.83%"
      ]
    },
    {
      "cell_type": "markdown",
      "metadata": {
        "id": "sgQc0hFMGvRU"
      },
      "source": [
        "Getting percentile values for `EXT_SOURCE_3`"
      ]
    },
    {
      "cell_type": "markdown",
      "metadata": {
        "id": "S5s-8fNWGvRU"
      },
      "source": [
        "Most recurring value in `EXT_SOURCE_3`"
      ]
    },
    {
      "cell_type": "markdown",
      "metadata": {
        "id": "36rT099-GvRU"
      },
      "source": [
        "Checking the average value of `EXT_SOURCE_3`"
      ]
    },
    {
      "cell_type": "markdown",
      "metadata": {
        "id": "dcLF-FBFGvRV"
      },
      "source": [
        "**Observations**\n",
        "-  Looking at the boxplot, median is 0.535276\n",
        "-  Most recurring value is 0.746300213050371\n",
        "-  Mean value is 0.5108529061800121\n",
        "-  Though mean and median are closer and could be used for imputation, since missing percentage value is higher (19.83%), it would be better to leave the data as it is and not perform imputations"
      ]
    },
    {
      "cell_type": "markdown",
      "metadata": {
        "id": "0ezoKCYGGvRV"
      },
      "source": [
        "### Analysis of six columns with 13.5% missing values\n",
        "-  `AMT_REQ_CREDIT_BUREAU_YEAR`\n",
        "-\t`AMT_REQ_CREDIT_BUREAU_QRT`\n",
        "-\t`AMT_REQ_CREDIT_BUREAU_MON`\n",
        "-\t`AMT_REQ_CREDIT_BUREAU_WEEK`\n",
        "-\t`AMT_REQ_CREDIT_BUREAU_DAY`\n",
        "-\t`AMT_REQ_CREDIT_BUREAU_HOUR`\n",
        "\n",
        "> null values = 13.50%"
      ]
    },
    {
      "cell_type": "markdown",
      "metadata": {
        "id": "LwsPFKboGvRV"
      },
      "source": [
        "Looking at summary statistics for the columns"
      ]
    },
    {
      "cell_type": "markdown",
      "metadata": {
        "id": "eenZ3a8YGvRV"
      },
      "source": [
        "Most recurring value for the columns"
      ]
    },
    {
      "cell_type": "markdown",
      "metadata": {
        "id": "mycUpQJxGvRV"
      },
      "source": [
        "**Observations for the below columns**\n",
        "-  `AMT_REQ_CREDIT_BUREAU_YEAR`\n",
        " -  Mean is 1.899974 and Median is 1.000000\n",
        " -  Mode is 0\n",
        " -  Don't impute as null values are higher (13.50%) and it might introduce bias in the data\n",
        "-\t`AMT_REQ_CREDIT_BUREAU_QRT`\n",
        " -  Mean is 0.265474 and Median is 0\n",
        " -  Mode is 0\n",
        " -  Don't impute as null values are higher (13.50%) and it might introduce bias in the data\n",
        "-\t`AMT_REQ_CREDIT_BUREAU_MON`\n",
        " -  Mean is 0.267395 and Median is 0\n",
        " -  Mode is 0\n",
        " -  Don't impute as null values are higher (13.50%) and it might introduce bias in the data\n",
        "-\t`AMT_REQ_CREDIT_BUREAU_WEEK`\n",
        " -  Mean is 0.034362 and Median is 0\n",
        " -  Mode is 0\n",
        " -  Don't impute as null values are higher (13.50%) and it might introduce bias in the data\n",
        "-\t`AMT_REQ_CREDIT_BUREAU_DAY`\n",
        " -  Mean is 0.007000 and Median is 0\n",
        " -  Mode is 0\n",
        " -  Don't impute as null values are higher (13.50%) and it might introduce bias in the data\n",
        "-\t`AMT_REQ_CREDIT_BUREAU_HOUR`\n",
        " -  Mean is 0.006402 and Median is 0\n",
        " -  Mode is 0\n",
        " -  Don't impute as null values are higher (13.50%) and it might introduce bias in the data"
      ]
    },
    {
      "cell_type": "markdown",
      "metadata": {
        "id": "-sERswmiGvRV"
      },
      "source": [
        "## Checking columns with NULL values > 0% and < 1%"
      ]
    },
    {
      "cell_type": "markdown",
      "metadata": {
        "id": "fEdFoUeiGvRW"
      },
      "source": [
        "Creating dataframe `null_df_under1` with missing column percentages values > 0% and < 1%"
      ]
    },
    {
      "cell_type": "markdown",
      "metadata": {
        "id": "wiBpQ7IbGvRW"
      },
      "source": [
        "### Analysis of `NAME_TYPE_SUITE` column\n",
        "\n",
        "-  null values = 0.42%"
      ]
    },
    {
      "cell_type": "markdown",
      "metadata": {
        "id": "PlGHcNXwGvRX"
      },
      "source": [
        "**Observations**\n",
        "-  Looking at the plot, `Unaccompanied` category has the highest number of loan applicants. So, most of the loan applicants venture out alone for applying loan\n",
        "-  We can go ahead and impute `Unaccompanied` in the dataframe"
      ]
    },
    {
      "cell_type": "markdown",
      "metadata": {
        "id": "5nMs96VvGvRX"
      },
      "source": [
        "### Analysis of `OBS_30_CNT_SOCIAL_CIRCLE` column\n",
        "\n",
        "-  null values = 0.33%"
      ]
    },
    {
      "cell_type": "markdown",
      "metadata": {
        "id": "FtlaM_7NGvRX"
      },
      "source": [
        "Getting percentile values for `OBS_30_CNT_SOCIAL_CIRCLE`"
      ]
    },
    {
      "cell_type": "markdown",
      "metadata": {
        "id": "6Rk0gmsTGvRY"
      },
      "source": [
        "Most recurring value in `OBS_30_CNT_SOCIAL_CIRCLE`"
      ]
    },
    {
      "cell_type": "markdown",
      "metadata": {
        "id": "402S3EKtGvRY"
      },
      "source": [
        "Checking the average value of `OBS_30_CNT_SOCIAL_CIRCLE`"
      ]
    },
    {
      "cell_type": "markdown",
      "metadata": {
        "id": "KdAT0--CGvRY"
      },
      "source": [
        "**Observations**\n",
        "-  Looking at the boxplot, median is 0.0\n",
        "-  Most recurring value is 0.0\n",
        "-  Mean value is 1.4222454239942575\n",
        "-  There are two outlier values at 50 and 350.\n",
        "-  Mean and mode are closer and can be used for imputation. It will not introduce bias as the missing value percentage is small (0.33%)"
      ]
    },
    {
      "cell_type": "markdown",
      "metadata": {
        "id": "pAB2kmiUGvRY"
      },
      "source": [
        "### Analysis of `DEF_30_CNT_SOCIAL_CIRCLE` column\n",
        "\n",
        "-  null values = 0.33%"
      ]
    },
    {
      "cell_type": "markdown",
      "metadata": {
        "id": "sCz6fi0tGvRY"
      },
      "source": [
        "Getting percentile values for `DEF_30_CNT_SOCIAL_CIRCLE`"
      ]
    },
    {
      "cell_type": "markdown",
      "metadata": {
        "id": "VUyh9cMZGvRZ"
      },
      "source": [
        "Most recurring value in `DEF_30_CNT_SOCIAL_CIRCLE`"
      ]
    },
    {
      "cell_type": "markdown",
      "metadata": {
        "id": "H6wWsZQDGvRZ"
      },
      "source": [
        "Checking the average value of `DEF_30_CNT_SOCIAL_CIRCLE`"
      ]
    },
    {
      "cell_type": "markdown",
      "metadata": {
        "id": "crIio8T1GvRZ"
      },
      "source": [
        "**Observations**\n",
        "-  Looking at the boxplot, median is 0.0\n",
        "-  Most recurring value is 0.0\n",
        "-  Mean value is 0.1434206662533851\n",
        "-  Even 99th percentile value is 2. There are ~7 outliers the largest of which is ~33.\n",
        "-  Mean and median are closer and can be used for imputation. It will not introduce bias as the missing value percentage is small (0.33%)"
      ]
    },
    {
      "cell_type": "markdown",
      "metadata": {
        "id": "kisS4sD6GvRZ"
      },
      "source": [
        "### Analysis of `OBS_60_CNT_SOCIAL_CIRCLE` column\n",
        "\n",
        "-  null values = 0.33%"
      ]
    },
    {
      "cell_type": "markdown",
      "metadata": {
        "id": "u4GwtH77GvRa"
      },
      "source": [
        "Getting percentile values for `OBS_60_CNT_SOCIAL_CIRCLE`"
      ]
    },
    {
      "cell_type": "markdown",
      "metadata": {
        "id": "7Oda4AJmGvRa"
      },
      "source": [
        "Most recurring value in `OBS_60_CNT_SOCIAL_CIRCLE`"
      ]
    },
    {
      "cell_type": "markdown",
      "metadata": {
        "id": "ccQwsdO_GvRa"
      },
      "source": [
        "Checking the average value of `OBS_60_CNT_SOCIAL_CIRCLE`"
      ]
    },
    {
      "cell_type": "markdown",
      "metadata": {
        "id": "nNJAybBVGvRa"
      },
      "source": [
        "**Observations**\n",
        "-  Looking at the boxplot, median is 0.0\n",
        "-  Most recurring value is 0.0\n",
        "-  Mean value is 1.4052921791901856\n",
        "-  Even 99th percentile value is 10. There is a prominent outlier at 50 and 350 approximately.\n",
        "-  Mean and median are closer and can be used for imputation. It will not introduce bias as the missing value percentage is small (0.33%)"
      ]
    },
    {
      "cell_type": "markdown",
      "metadata": {
        "id": "CByUy2pgGvRb"
      },
      "source": [
        "### Analysis of `DEF_60_CNT_SOCIAL_CIRCLE` column\n",
        "\n",
        "-  null values = 0.33%"
      ]
    },
    {
      "cell_type": "markdown",
      "metadata": {
        "id": "qqqgnkcQGvRb"
      },
      "source": [
        "Getting percentile values for `DEF_60_CNT_SOCIAL_CIRCLE`"
      ]
    },
    {
      "cell_type": "markdown",
      "metadata": {
        "id": "6OjgQSl-GvRb"
      },
      "source": [
        "Most recurring value in `DEF_60_CNT_SOCIAL_CIRCLE`"
      ]
    },
    {
      "cell_type": "markdown",
      "metadata": {
        "id": "edCWEj4aGvRb"
      },
      "source": [
        "Checking the average value of `DEF_60_CNT_SOCIAL_CIRCLE`"
      ]
    },
    {
      "cell_type": "markdown",
      "metadata": {
        "id": "GlXF0DZQGvRb"
      },
      "source": [
        "**Observations**\n",
        "-  Looking at the boxplot, median is 0.0\n",
        "-  Most recurring value is 0.0\n",
        "-  Mean value is 0.10004894123788705\n",
        "-  Even 99th percentile value is 2.  There are ~7 outliers the largest of which is ~24.\n",
        "-  Mean and median are closer and can be used for imputation. It will not introduce bias as the missing value percentage is small (0.33%)"
      ]
    },
    {
      "cell_type": "markdown",
      "metadata": {
        "id": "8qrpW4hsGvRc"
      },
      "source": [
        "### Analysis of `EXT_SOURCE_2` column\n",
        "\n",
        "-  null values = 0.21%"
      ]
    },
    {
      "cell_type": "markdown",
      "metadata": {
        "id": "1gsK2VCsGvRc"
      },
      "source": [
        "Getting percentile values for `EXT_SOURCE_2`"
      ]
    },
    {
      "cell_type": "markdown",
      "metadata": {
        "id": "rSXFeqCMGvRc"
      },
      "source": [
        "Most recurring value in `EXT_SOURCE_2`"
      ]
    },
    {
      "cell_type": "markdown",
      "metadata": {
        "id": "BFvXITilGvRc"
      },
      "source": [
        "Checking the average value of `EXT_SOURCE_2`"
      ]
    },
    {
      "cell_type": "markdown",
      "metadata": {
        "id": "IkuF0HwGGvRd"
      },
      "source": [
        "**Observations**\n",
        "-  Looking at the boxplot, median is 0.565961\n",
        "-  Most recurring value is 0.2858978721410488\n",
        "-  Mean value is 0.5143926741308463\n",
        "-  There is no outlier in the dataset\n",
        "-  Mean and median are closer and can be used for imputation. It will not introduce bias as the missing value percentage is small (0.21%)"
      ]
    },
    {
      "cell_type": "markdown",
      "metadata": {
        "id": "BCBmrsuEGvRd"
      },
      "source": [
        "### Analysis of `AMT_GOODS_PRICE` column\n",
        "\n",
        "-  null values = 0.09%"
      ]
    },
    {
      "cell_type": "markdown",
      "metadata": {
        "id": "FUUqG2vKGvRd"
      },
      "source": [
        "Getting percentile values for `AMT_GOODS_PRICE`"
      ]
    },
    {
      "cell_type": "markdown",
      "metadata": {
        "id": "9nXlzNTDGvRd"
      },
      "source": [
        "Most recurring value in `AMT_GOODS_PRICE`"
      ]
    },
    {
      "cell_type": "markdown",
      "metadata": {
        "id": "yNri5GfLGvRe"
      },
      "source": [
        "Checking the average value of `AMT_GOODS_PRICE`"
      ]
    },
    {
      "cell_type": "markdown",
      "metadata": {
        "id": "3UHHJB10GvRe"
      },
      "source": [
        "**Observations**\n",
        "-  Looking at the boxplot, median is 450000.0\n",
        "-  Most recurring value is 450000.0. So, median and mode are the same\n",
        "-  Mean value is 538396.2074288895\n",
        "-  Though there are values above 2500000 they cannot be treated as outliers as it could be a valid goods price\n",
        "-  Mean and median are exactly same and can be used for imputation. It will not introduce bias as the missing value percentage is small (0.09%)"
      ]
    },
    {
      "cell_type": "markdown",
      "metadata": {
        "id": "i_VltbdbGvRe"
      },
      "source": [
        "# Dealing with incorrect/unknown data values"
      ]
    },
    {
      "cell_type": "markdown",
      "metadata": {
        "id": "dkDPj_MkGvRe"
      },
      "source": [
        "### Analysis of `CODE_GENDER` column"
      ]
    },
    {
      "cell_type": "markdown",
      "metadata": {
        "id": "8pjLZ92qGvRe"
      },
      "source": [
        "Checking range of values"
      ]
    },
    {
      "cell_type": "markdown",
      "metadata": {
        "id": "KoYw8GVbGvRe"
      },
      "source": [
        "Gender should only be Male or Female. `XNA` value may indicate that the value was not provided by the loan applicant or missed by the loan officer verifying the application"
      ]
    },
    {
      "cell_type": "markdown",
      "metadata": {
        "id": "bO2rcwIfGvRf"
      },
      "source": [
        "As data looks valid, we will go ahead and check for an imputation method.\n",
        "-  `Female` applicants are twice the number of `Male` applicants\n",
        "-  And so, we will go ahead and impute `CODE_GENDER` with 'F'"
      ]
    },
    {
      "cell_type": "markdown",
      "metadata": {
        "id": "jZlrGe9UGvRf"
      },
      "source": [
        "Checking if `XNA` is removed"
      ]
    },
    {
      "cell_type": "markdown",
      "metadata": {
        "id": "jU4h7iExGvRf"
      },
      "source": [
        "### Analysis of `DAYS_BIRTH` column"
      ]
    },
    {
      "cell_type": "markdown",
      "metadata": {
        "id": "M_tzvsPWGvRf"
      },
      "source": [
        "There are ~17K+ unique records all of which seem to be having negative values"
      ]
    },
    {
      "cell_type": "markdown",
      "metadata": {
        "id": "c6A9mU77GvRg"
      },
      "source": [
        "Converting `Days Birth` to positive days"
      ]
    },
    {
      "cell_type": "markdown",
      "metadata": {
        "id": "GC7DPO_1GvRg"
      },
      "source": [
        "All Days in `DAYS_BIRTH` have positive values"
      ]
    },
    {
      "cell_type": "markdown",
      "metadata": {
        "id": "p7WWGSRpGvRg"
      },
      "source": [
        "#### Creating a new column `YEARS_BIRTH` for ease of analysis"
      ]
    },
    {
      "cell_type": "markdown",
      "metadata": {
        "id": "Oggrihw4GvRg"
      },
      "source": [
        "### Analysis of `NAME_FAMILY_STATUS` column"
      ]
    },
    {
      "cell_type": "markdown",
      "metadata": {
        "id": "toLpy8bbGvRg"
      },
      "source": [
        "Checking range of values"
      ]
    },
    {
      "cell_type": "markdown",
      "metadata": {
        "id": "tR6oCe_xGvRh"
      },
      "source": [
        "Gender should only be Male or Female. `Unknown` value may indicate that the value was not provided by the loan applicant or missed by the loan officer verifying the application"
      ]
    },
    {
      "cell_type": "markdown",
      "metadata": {
        "id": "VysjTQJJGvRh"
      },
      "source": [
        "As data looks valid, we will go ahead and check for an imputation method.\n",
        "-  `Married` applicants make up more than 63% of applicants.\n",
        "-  Hence, we will go ahead and impute `NAME_FAMILY_STATUS` with 'Married'"
      ]
    },
    {
      "cell_type": "markdown",
      "metadata": {
        "id": "QzNo0967GvRi"
      },
      "source": [
        "Checking if `Unknown` is removed"
      ]
    },
    {
      "cell_type": "markdown",
      "metadata": {
        "id": "TTR1DLhbGvRi"
      },
      "source": [
        "### Analysis of `DAYS_EMPLOYED` column"
      ]
    },
    {
      "cell_type": "markdown",
      "metadata": {
        "id": "Ug_CW88oGvRn"
      },
      "source": [
        "**Observations**\n",
        "-  There are ~55K+ records for which `DAYS_EMPLOYED` is 365243 days\n",
        "-  Remaining 252K+ records have negative value for days\n",
        "-  There are 12,574 unique values for `DAYS_EMPLOYED`"
      ]
    },
    {
      "cell_type": "markdown",
      "metadata": {
        "id": "t6V9uT4PGvRn"
      },
      "source": [
        "-  `DAYS_EMPLOYED` column indicates how many days before the application the person started current employment, the applicant/loan officer must have entered negative values to indicate the days before. <br>\n",
        " -  We will convert negative values in `DAYS_EMPLOYED` to positive days to standardize the days during use in calculations"
      ]
    },
    {
      "cell_type": "markdown",
      "metadata": {
        "id": "E6ws2Xj4GvRn"
      },
      "source": [
        "We can see that all days in `DAYS_EMPLOYED` have positive values"
      ]
    },
    {
      "cell_type": "markdown",
      "metadata": {
        "id": "Upy8saD0GvRo"
      },
      "source": [
        "**For ~55K+ records for which `DAYS_EMPLOYED` is 365243 days**\n",
        "- Converting this to year gives us 1000 years which is physically impossible to be employed for an applicant\n",
        "- This is present for 18% of the data and cannot be an anamoly\n",
        "- They could either be `Pensioners` or `Unemployed` and looking at the data our conclusion is correct\n",
        "\n",
        "> There are two ways to handle this\n",
        ">> 1) We let the data remain as it is and account for this during analysis OR <br>\n",
        ">> 2) We calculate Average Days Employed excluding this category and impute that instead of 365243 days for Pensioners. <br>\n",
        ">> For Unemployed, Days Employed can be 0\n",
        "\n",
        "*Note*\n",
        " - During calculations with this column, we need to account for this scenario as otherwise it will skew our results"
      ]
    },
    {
      "cell_type": "markdown",
      "metadata": {
        "id": "VSFEfRLlGvRo"
      },
      "source": [
        "#### Creating a new column `YEARS_EMPLOYED` for ease of analysis"
      ]
    },
    {
      "cell_type": "markdown",
      "metadata": {
        "id": "jwXfrLW0GvRo"
      },
      "source": [
        "### Analysis of `DAYS_REGISTRATION` column"
      ]
    },
    {
      "cell_type": "markdown",
      "metadata": {
        "id": "VHHAReTUGvRp"
      },
      "source": [
        "Converting `DAYS_REGISTRATION` to positive days"
      ]
    },
    {
      "cell_type": "markdown",
      "metadata": {
        "id": "gYRhKIjlGvRq"
      },
      "source": [
        "All Days in `DAYS_REGISTRATION` have positive values"
      ]
    },
    {
      "cell_type": "markdown",
      "metadata": {
        "id": "wAUwGf1nGvRr"
      },
      "source": [
        "#### Creating a new column `YEARS_REGISTRATION` for ease of analysis"
      ]
    },
    {
      "cell_type": "markdown",
      "metadata": {
        "id": "lwDgVgMoGvRr"
      },
      "source": [
        "### Analysis of `DAYS_ID_PUBLISH` column"
      ]
    },
    {
      "cell_type": "markdown",
      "metadata": {
        "id": "UA5aY_ltGvRr"
      },
      "source": [
        "Converting `DAYS_ID_PUBLISH` to positive days"
      ]
    },
    {
      "cell_type": "markdown",
      "metadata": {
        "id": "uTM_hLhzGvRs"
      },
      "source": [
        "All Days in `DAYS_ID_PUBLISH` have positive values"
      ]
    },
    {
      "cell_type": "markdown",
      "metadata": {
        "id": "aSQIGfF0GvRs"
      },
      "source": [
        "#### Creating a new column `YEARS_ID_PUBLISH` for ease of analysis"
      ]
    },
    {
      "cell_type": "markdown",
      "metadata": {
        "id": "c1K_RSj1GvRs"
      },
      "source": [
        "### Analysis of `DAYS_LAST_PHONE_CHANGE` column"
      ]
    },
    {
      "cell_type": "markdown",
      "metadata": {
        "id": "Rz-wEdP9GvRt"
      },
      "source": [
        "Converting `DAYS_LAST_PHONE_CHANGE` to positive days"
      ]
    },
    {
      "cell_type": "markdown",
      "metadata": {
        "id": "XMG-AMhTGvRt"
      },
      "source": [
        "All Days in `DAYS_LAST_PHONE_CHANGE` have positive values"
      ]
    },
    {
      "cell_type": "markdown",
      "metadata": {
        "id": "gcw-tafoGvRt"
      },
      "source": [
        "#### Creating a new column `YEARS_LAST_PHONE_CHANGE` for ease of analysis"
      ]
    },
    {
      "cell_type": "markdown",
      "metadata": {
        "id": "Df9TucNrGvRt"
      },
      "source": [
        "# Automation functions"
      ]
    },
    {
      "cell_type": "markdown",
      "metadata": {
        "id": "JJkElbspGvRt"
      },
      "source": [
        "### Outlier Analysis (Distplot + BoxPlot) - numerical columns"
      ]
    },
    {
      "cell_type": "markdown",
      "metadata": {
        "id": "WAnuaw5XGvRu"
      },
      "source": [
        "### Creating a function `age_cat` to categorize `YEARS_BIRTH`"
      ]
    },
    {
      "cell_type": "markdown",
      "metadata": {
        "id": "tlDoskiaGvRu"
      },
      "source": [
        "### Univariate Analysis (Countplot) - categorical columns"
      ]
    },
    {
      "cell_type": "markdown",
      "metadata": {
        "id": "GociZVjBGvRu"
      },
      "source": [
        "### Univariate Analysis (Piechart) - categorical columns"
      ]
    },
    {
      "cell_type": "markdown",
      "metadata": {
        "id": "CxQurq91GvRu"
      },
      "source": [
        "### Univariate Analysis (Barplot) - categorical columns"
      ]
    },
    {
      "cell_type": "markdown",
      "metadata": {
        "id": "AF9ssjyRGvRu"
      },
      "source": [
        "### Calculating min and max outlier range for numerical columns"
      ]
    },
    {
      "cell_type": "markdown",
      "metadata": {
        "id": "6IoOq8GYGvRv"
      },
      "source": [
        "### Bivariate Analysis (boxplot) - categorical V/S continuous variables"
      ]
    },
    {
      "cell_type": "markdown",
      "metadata": {
        "id": "OsjJEkeEGvRv"
      },
      "source": [
        "### Bivariate Analysis (Countplot) - categorical V/S categorical columns"
      ]
    },
    {
      "cell_type": "markdown",
      "metadata": {
        "id": "uf17OgyIGvRv"
      },
      "source": [
        "### Univariate Analysis (Countplot) - categorical columns - Merged dataset"
      ]
    },
    {
      "cell_type": "markdown",
      "metadata": {
        "id": "-1anbduRGvRv"
      },
      "source": [
        "### Univariate Analysis (Piechart) - categorical columns - Merged dataset"
      ]
    },
    {
      "cell_type": "markdown",
      "metadata": {
        "id": "ONgRoGTrGvRw"
      },
      "source": [
        "### Bivariate Analysis (boxplot) - categorical V/S continuous variables - Merged dataset"
      ]
    },
    {
      "cell_type": "markdown",
      "metadata": {
        "id": "BlXZqDIbGvRw"
      },
      "source": [
        "### Bivariate Analysis (Countplot) - categorical V/S categorical columns - Merged dataset"
      ]
    },
    {
      "cell_type": "markdown",
      "metadata": {
        "id": "GQ0fxDwKGvRx"
      },
      "source": [
        "# Dealing with outliers for numerical columns"
      ]
    },
    {
      "cell_type": "markdown",
      "metadata": {
        "id": "20rq1kSGGvRy"
      },
      "source": [
        "### Analysis of `CNT_CHILDREN` column"
      ]
    },
    {
      "cell_type": "markdown",
      "metadata": {
        "id": "5P3e2eccGvRy"
      },
      "source": [
        "Calculating IQR (Inter Quartile range)"
      ]
    },
    {
      "cell_type": "markdown",
      "metadata": {
        "id": "hETRrp9LGvRy"
      },
      "source": [
        "Values before (Q1 - 1.5 * IQR) and (Q3 + 1.5 * IQR) are outliers"
      ]
    },
    {
      "cell_type": "markdown",
      "metadata": {
        "id": "5Jn74tmqGvRy"
      },
      "source": [
        "**Observations**\n",
        "-  Looking at the data, we can see that above 7 children, the count of applicants are very minimal (2 or 3 in each category)\n",
        "-  Also, looking at the observation data for applicants with 10 children, the applicants are only 31 and 41 years respectively. This seems a one-off scenario and can be treated as an outlier\n",
        "-  Both distplots and boxplots clearly show the values above 2.5 as being outliers\n",
        "\n",
        "**Conclusion**\n",
        "-  Applicants with 3 or more children are outlier cases"
      ]
    },
    {
      "cell_type": "markdown",
      "metadata": {
        "id": "pEHm9POWGvRz"
      },
      "source": [
        "### Analysis of `AMT_INCOME_TOTAL` column"
      ]
    },
    {
      "cell_type": "markdown",
      "metadata": {
        "id": "onVYqVHBGvRz"
      },
      "source": [
        "Plotting for `AMT_INCOME_TOTAL`"
      ]
    },
    {
      "cell_type": "markdown",
      "metadata": {
        "id": "FydImCRMGvRz"
      },
      "source": [
        "-  The end result charts are very thin and we are able to observe an outlier around ~120 million.\n",
        "-  Let's plot it out by only considering income under 99.9% value which is 900K"
      ]
    },
    {
      "cell_type": "markdown",
      "metadata": {
        "id": "CM7b_O8MGvRz"
      },
      "source": [
        "Now, we are able to clearly make out the distribution and data range in both plots.\n",
        " - This means that values above 900K income are clearly outliers"
      ]
    },
    {
      "cell_type": "markdown",
      "metadata": {
        "id": "S6UyOJgwGvRz"
      },
      "source": [
        "**Observations**\n",
        "-  Looking at the data, we can see that Income above 900K (99.9% value) are outliers\n",
        "-  Both distplots and boxplots clearly show the same trend\n",
        "\n",
        "**Conclusion**\n",
        "-  Applicants with Income above 900K (99.9% value) are outliers"
      ]
    },
    {
      "cell_type": "markdown",
      "metadata": {
        "id": "9T4PSNWaGvR0"
      },
      "source": [
        "### Analysis of `CNT_FAM_MEMBERS` column"
      ]
    },
    {
      "cell_type": "markdown",
      "metadata": {
        "id": "ohYd9IZAGvR0"
      },
      "source": [
        "Plotting for `CNT_FAM_MEMBERS`"
      ]
    },
    {
      "cell_type": "markdown",
      "metadata": {
        "id": "88whzwB1GvR0"
      },
      "source": [
        "-  For family members count from 5 upwards, the results are sparse and there is a clear outlier around 20\n",
        "-  Applicants with family members above 10 are only 2 or 3\n",
        "-  Let's plot it out by only considering family members under 99.9% value which is 8"
      ]
    },
    {
      "cell_type": "markdown",
      "metadata": {
        "id": "dDLUAR5RGvR0"
      },
      "source": [
        "Now, we are able to clearly make out the distribution and data range in both plots.\n",
        " - This means that applicants with 5 or more family members are clearly outliers"
      ]
    },
    {
      "cell_type": "markdown",
      "metadata": {
        "id": "QfeFYaV_GvR1"
      },
      "source": [
        "### Analysis of `AMT_ANNUITY` column"
      ]
    },
    {
      "cell_type": "markdown",
      "metadata": {
        "id": "ZoTihFlNGvR1"
      },
      "source": [
        "Calculating IQR (Inter Quartile range)"
      ]
    },
    {
      "cell_type": "markdown",
      "metadata": {
        "id": "SbqEpX9BGvR1"
      },
      "source": [
        "Values before (Q1 - 1.5 * IQR) and (Q3 + 1.5 * IQR) are outliers"
      ]
    },
    {
      "cell_type": "markdown",
      "metadata": {
        "id": "wZ2gCiEuGvR1"
      },
      "source": [
        "Plotting for `AMT_ANNUITY`"
      ]
    },
    {
      "cell_type": "markdown",
      "metadata": {
        "id": "2ZSix_n9GvR2"
      },
      "source": [
        "-  As observed from displot and boxplot, the outliers tend to exist after 61704.0 (This value is derived using `Max_value` using IQR formulae)\n",
        "-  We can verify the same by reproducing the same plots under outlier value as shown below"
      ]
    },
    {
      "cell_type": "markdown",
      "metadata": {
        "id": "QOnuR4rXGvR2"
      },
      "source": [
        "Now, we are able to clearly make out the distribution and data range in both plots\n",
        " - This means that values above 61704.0 `AMT_ANNUITY` are clearly outliers"
      ]
    },
    {
      "cell_type": "markdown",
      "metadata": {
        "id": "f3NkLcWSGvR2"
      },
      "source": [
        "**Observations**\n",
        "-  As observed from displot and boxplot, the outliers tend to exist after 61704 (Outlier value is derived using `Max_value` using IQR formulae)\n",
        "\n",
        "**Conclusion**\n",
        "-  Applicants with `AMT_ANNUITY` above 61704 (calculated using IQR) are outliers"
      ]
    },
    {
      "cell_type": "markdown",
      "metadata": {
        "id": "PimxdKpyGvR2"
      },
      "source": [
        "### Analysis of `AMT_CREDIT` column"
      ]
    },
    {
      "cell_type": "markdown",
      "metadata": {
        "id": "7YXFafjeGvR2"
      },
      "source": [
        "Calculating IQR (Inter Quartile range)"
      ]
    },
    {
      "cell_type": "markdown",
      "metadata": {
        "id": "m-fXnjiTGvR3"
      },
      "source": [
        "Values before (Q1 - 1.5 * IQR) and (Q3 + 1.5 * IQR) are outliers"
      ]
    },
    {
      "cell_type": "markdown",
      "metadata": {
        "id": "z9xo1R2pGvR3"
      },
      "source": [
        "Plotting for `AMT_CREDIT`"
      ]
    },
    {
      "cell_type": "markdown",
      "metadata": {
        "id": "elQGOKchGvR3"
      },
      "source": [
        "-  As observed from displot and boxplot, the outliers tend to exist after 1616625.0 (This value is derived using `Max_value` using IQR formulae)\n",
        "-  We can verify the same by reproducing the same plots under outlier value as shown below"
      ]
    },
    {
      "cell_type": "markdown",
      "metadata": {
        "id": "8hRYQTMVGvR4"
      },
      "source": [
        "Now, we are able to clearly make out the distribution and data range in both plots\n",
        " - This means that values above 61616625.0 `AMT_CREDIT` are clearly outliers"
      ]
    },
    {
      "cell_type": "markdown",
      "metadata": {
        "id": "xOnewRdGGvR4"
      },
      "source": [
        "**Observations**\n",
        "-  As observed from displot and boxplot, the outliers tend to exist after 1616625.0 (Outlier value is derived using `Max_value` using IQR formulae)\n",
        "\n",
        "**Conclusion**\n",
        "-  Applicants with `AMT_CREDIT` above 1616625.0 (calculated using IQR) are outliers"
      ]
    },
    {
      "cell_type": "markdown",
      "metadata": {
        "id": "wD0bC3vnGvR4"
      },
      "source": [
        "### Analysis of `DAYS_LAST_PHONE_CHANGE` column"
      ]
    },
    {
      "cell_type": "markdown",
      "metadata": {
        "id": "hz5pPdPoGvR5"
      },
      "source": [
        "Calculating IQR (Inter Quartile range)"
      ]
    },
    {
      "cell_type": "markdown",
      "metadata": {
        "id": "Bjy73cX1GvR5"
      },
      "source": [
        "Values before (Q1 - 1.5 * IQR) and (Q3 + 1.5 * IQR) are outliers"
      ]
    },
    {
      "cell_type": "markdown",
      "metadata": {
        "id": "iVWh-RCzGvR5"
      },
      "source": [
        "Plotting for `DAYS_LAST_PHONE_CHANGE`"
      ]
    },
    {
      "cell_type": "markdown",
      "metadata": {
        "id": "JfYXW9IfGvR5"
      },
      "source": [
        "-  As observed from displot and boxplot, the outliers tend to exist after 3514.0 (This value is derived using `Max_value` using IQR formulae)\n",
        "-  We can verify the same by reproducing the same plots under outlier value as shown below"
      ]
    },
    {
      "cell_type": "markdown",
      "metadata": {
        "id": "c9JfsSSwGvR5"
      },
      "source": [
        "Now, we are able to clearly make out the distribution and data range in both plots\n",
        " - This means that values above 3514.0 `DAYS_LAST_PHONE_CHANGE` are clearly outliers"
      ]
    },
    {
      "cell_type": "markdown",
      "metadata": {
        "id": "HN7eBHrMGvR6"
      },
      "source": [
        "**Observations**\n",
        "-  As observed from displot and boxplot, the outliers tend to exist after 3514.0 (Outlier value is derived using `Max_value` using IQR formulae)\n",
        "\n",
        "**Conclusion**\n",
        "-  Applicants with `DAYS_LAST_PHONE_CHANGE` above 3514.0 (calculated using IQR) are outliers"
      ]
    },
    {
      "cell_type": "markdown",
      "metadata": {
        "id": "hxUczhIfGvR6"
      },
      "source": [
        "# Binning of continuous columns for analysis"
      ]
    },
    {
      "cell_type": "markdown",
      "metadata": {
        "id": "mHaP1H_hGvR6"
      },
      "source": [
        "### Categorizing `AMT_GOODS_PRICE` column"
      ]
    },
    {
      "cell_type": "markdown",
      "metadata": {
        "id": "GcOytX97GvR6"
      },
      "source": [
        "Getting Statistical summary for `AMT_GOODS_PRICE`"
      ]
    },
    {
      "cell_type": "markdown",
      "metadata": {
        "id": "f1i8wSrLGvR6"
      },
      "source": [
        "Categorize the values in `AMT_GOODS_PRICE` into 5 bins and create a new column `AMT_GOODS_PRICE_CATEGORY`"
      ]
    },
    {
      "cell_type": "markdown",
      "metadata": {
        "id": "MtOBSyEXGvR7"
      },
      "source": [
        "Checking that the values are populated as per expectation"
      ]
    },
    {
      "cell_type": "markdown",
      "metadata": {
        "id": "qvOuxG37GvR7"
      },
      "source": [
        "### Categorizing `YEARS_BIRTH` column"
      ]
    },
    {
      "cell_type": "markdown",
      "metadata": {
        "id": "1sqyaAaQGvR7"
      },
      "source": [
        "We will be categorizing 'YEARS_BIRTH' instead of 'DAYS_BIRTH' as years are easier to interpret than days"
      ]
    },
    {
      "cell_type": "markdown",
      "metadata": {
        "id": "QzIC7f5aGvR8"
      },
      "source": [
        "Getting Statistical summary for `YEARS_BIRTH`"
      ]
    },
    {
      "cell_type": "markdown",
      "metadata": {
        "id": "FKkFc2mqGvR8"
      },
      "source": [
        "Categorize the values from `YEARS_BIRTH` into a new column `YEARS_BIRTH_CATEGORY`"
      ]
    },
    {
      "cell_type": "markdown",
      "metadata": {
        "id": "RwnoU6nXGvR8"
      },
      "source": [
        "Checking that the values are populated as per expectation"
      ]
    },
    {
      "cell_type": "markdown",
      "metadata": {
        "id": "Qy07TRrWGvR8"
      },
      "source": [
        "### Categorizing `YEARS_REGISTRATION` column"
      ]
    },
    {
      "cell_type": "markdown",
      "metadata": {
        "id": "t6VjPR26GvR8"
      },
      "source": [
        "We will be categorizing 'YEARS_REGISTRATION' instead of 'DAYS_REGISTRATION' as years are easier to interpret than days"
      ]
    },
    {
      "cell_type": "markdown",
      "metadata": {
        "id": "res_BBUVGvR9"
      },
      "source": [
        "Getting Statistical summary for `YEARS_REGISTRATION`"
      ]
    },
    {
      "cell_type": "markdown",
      "metadata": {
        "id": "fJ81erl5GvR9"
      },
      "source": [
        "Categorize the values from `YEARS_REGISTRATION` into a new column `YEARS_REGISTRATION_CATEGORY`"
      ]
    },
    {
      "cell_type": "markdown",
      "metadata": {
        "id": "ekOlAMGCGvR9"
      },
      "source": [
        "Checking that the values are populated as per expectation"
      ]
    },
    {
      "cell_type": "markdown",
      "metadata": {
        "id": "KHJBaL4HGvR9"
      },
      "source": [
        "# Checking Imbalance for target column `TARGET'"
      ]
    },
    {
      "cell_type": "markdown",
      "metadata": {
        "id": "i_5D_RfaGvR9"
      },
      "source": [
        "### Analyzing `TARGET` column"
      ]
    },
    {
      "cell_type": "markdown",
      "metadata": {
        "id": "KHLQjqIMGvR-"
      },
      "source": [
        "**Observations**\n",
        "\n",
        "-  We have imbalance in `TARGET` variable based on the % of observations\n",
        " - `TARGET` value 1 represents client with payment difficulties (he/she had late payment more than X days on at least one of the first Y installments of the loan). This is only 8.07% of the data\n",
        " - `TARGET` value 0 represents all other cases than 1. This is 91.93% of the data"
      ]
    },
    {
      "cell_type": "markdown",
      "metadata": {
        "id": "ZD9Vgm5QGvR-"
      },
      "source": [
        "# Data split based on `TARGET`"
      ]
    },
    {
      "cell_type": "markdown",
      "metadata": {
        "id": "ETQo5YFDGvR-"
      },
      "source": [
        "### Create new dataframe with `TARGET` value 1\n",
        "- `TARGET` value 1 represents client with payment difficulties (he/she had late payment more than X days on at least one of the first Y installments of the loan). This is only 8.07% of the data"
      ]
    },
    {
      "cell_type": "markdown",
      "metadata": {
        "id": "i1DosNcpGvR-"
      },
      "source": [
        "### Create new dataframe with `TARGET` value 0\n",
        "- `TARGET` value 0 represents all other cases than 1. This is 91.93% of the data"
      ]
    },
    {
      "cell_type": "markdown",
      "metadata": {
        "id": "paw9wv-IGvR_"
      },
      "source": [
        "# Univariate analysis of categorical variables"
      ]
    },
    {
      "cell_type": "markdown",
      "metadata": {
        "id": "9cIBLZukGvR_"
      },
      "source": [
        "### Analysis of `NAME_CONTRACT_TYPE`"
      ]
    },
    {
      "cell_type": "markdown",
      "metadata": {
        "id": "orgzpO4bGvR_"
      },
      "source": [
        "`NAME_CONTRACT_TYPE` with payment difficulties"
      ]
    },
    {
      "cell_type": "markdown",
      "metadata": {
        "id": "Z_J3cX-4GvR_"
      },
      "source": [
        "`NAME_CONTRACT_TYPE` with on-time payments"
      ]
    },
    {
      "cell_type": "markdown",
      "metadata": {
        "id": "U0scX-jKGvR_"
      },
      "source": [
        "**Observations**\n",
        "\n",
        "- Looking at CountPlot, we don't see significant differences in `NAME_CONTRACT_TYPE` b/w clients with payment difficulties and on-time payments\n",
        "- Looking at PieChart, we don't see significant differences in `NAME_CONTRACT_TYPE` b/w clients with payment difficulties and on-time payments\n",
        "\n",
        "**Conclusion**\n",
        "- `NAME_CONTRACT_TYPE` column does not provide any conclusive evidence in favor of clients with payment difficulties OR on-time payments"
      ]
    },
    {
      "cell_type": "markdown",
      "metadata": {
        "id": "mXkyvb0vGvR_"
      },
      "source": [
        "### Analysis of `CODE_GENDER`"
      ]
    },
    {
      "cell_type": "markdown",
      "metadata": {
        "id": "f3Kaf91EGvR_"
      },
      "source": [
        "`CODE_GENDER` with payment difficulties"
      ]
    },
    {
      "cell_type": "markdown",
      "metadata": {
        "id": "G8FLvQDEGvSA"
      },
      "source": [
        "`CODE_GENDER` with on-time payments"
      ]
    },
    {
      "cell_type": "markdown",
      "metadata": {
        "id": "ltRrI-BgGvSA"
      },
      "source": [
        "**Observations**\n",
        "\n",
        "- Looking at CountPlot and PieChart, there is a 9.5% decrease in \"Male\" values from `CODE_GENDER` b/w clients with payment difficulties to on-time payments. It's a weak correlation that Males have more payment difficulties.\n",
        "\n",
        "**Conclusion**\n",
        "- `CODE_GENDER` column provides a weak inference that \"Male\" clients have more payment difficulties"
      ]
    },
    {
      "cell_type": "markdown",
      "metadata": {
        "id": "7ocptF44GvSA"
      },
      "source": [
        "### Analysis of `FLAG_OWN_CAR`"
      ]
    },
    {
      "cell_type": "markdown",
      "metadata": {
        "id": "twu46RQkGvSA"
      },
      "source": [
        "`FLAG_OWN_CAR` with payment difficulties"
      ]
    },
    {
      "cell_type": "markdown",
      "metadata": {
        "id": "unTt7aSeGvSA"
      },
      "source": [
        "`FLAG_OWN_CAR` with on-time payments"
      ]
    },
    {
      "cell_type": "markdown",
      "metadata": {
        "id": "WXYM4UifGvSB"
      },
      "source": [
        "**Observations**\n",
        "\n",
        "- Looking at CountPlot, we don't see significant differences in `FLAG_OWN_CAR` b/w clients with payment difficulties and on-time payments\n",
        "- Looking at PieChart, we don't see significant differences in `FLAG_OWN_CAR` b/w clients with payment difficulties and on-time payments.\n",
        "\n",
        "**Conclusion**\n",
        "- `FLAG_OWN_CAR` column does not provide any conclusive evidence in favor of clients with payment difficulties OR on-time payments"
      ]
    },
    {
      "cell_type": "markdown",
      "metadata": {
        "id": "O0AzF9GoGvSB"
      },
      "source": [
        "### Analysis of `NAME_INCOME_TYPE`"
      ]
    },
    {
      "cell_type": "markdown",
      "metadata": {
        "id": "D_OTbvEzGvSB"
      },
      "source": [
        "`NAME_INCOME_TYPE` with payment difficulties"
      ]
    },
    {
      "cell_type": "markdown",
      "metadata": {
        "id": "oO54sS-YGvSB"
      },
      "source": [
        "`NAME_INCOME_TYPE` with on-time payments"
      ]
    },
    {
      "cell_type": "markdown",
      "metadata": {
        "id": "yeUuEd24GvSC"
      },
      "source": [
        "**Observations**\n",
        "\n",
        "- Pensioners have better on-time payments\n",
        "- Students don't have Payment difficulties\n",
        "- Businessmen don't have Payment difficulties\n",
        "\n",
        "**Conclusion**\n",
        "\n",
        "- Pensioners have better on-time payments. This is a weak correlation.\n",
        "- Students don't have Payment difficulties. In this case, total students have only 18 observations and should be treated as a weak correlation\n",
        "- Businessmen don't have Payment difficulties. In this case, Businessmen have only 10 observations and should be treated as a weak correlation"
      ]
    },
    {
      "cell_type": "markdown",
      "metadata": {
        "id": "ZBFOH3owGvSC"
      },
      "source": [
        "### Analysis of `NAME_EDUCATION_TYPE`"
      ]
    },
    {
      "cell_type": "markdown",
      "metadata": {
        "id": "4mztYSIUGvSC"
      },
      "source": [
        "`NAME_EDUCATION_TYPE` with payment difficulties"
      ]
    },
    {
      "cell_type": "markdown",
      "metadata": {
        "id": "WX-Yl55dGvSC"
      },
      "source": [
        "`NAME_EDUCATION_TYPE` with on-time payments"
      ]
    },
    {
      "cell_type": "markdown",
      "metadata": {
        "id": "DlTVHZk8GvSD"
      },
      "source": [
        "**Observations**\n",
        "\n",
        "- Clients with 'Higher education' have better on-timepayments than payment difficulties\n",
        "- Remaining categories don't provide any conclusive results\n",
        "\n",
        "**Conclusion**\n",
        "\n",
        "- Clients with 'Higher education' have less payment difficulties. However, this is a weak correlation"
      ]
    },
    {
      "cell_type": "markdown",
      "metadata": {
        "id": "hWCToUwOGvSD"
      },
      "source": [
        "### Analysis of `NAME_FAMILY_STATUS`"
      ]
    },
    {
      "cell_type": "markdown",
      "metadata": {
        "id": "7dSMdyflGvSD"
      },
      "source": [
        "`NAME_FAMILY_STATUS` with payment difficulties"
      ]
    },
    {
      "cell_type": "markdown",
      "metadata": {
        "id": "kbPb8NfZGvSD"
      },
      "source": [
        "`NAME_FAMILY_STATUS` with on-time payments"
      ]
    },
    {
      "cell_type": "markdown",
      "metadata": {
        "id": "r6McuzckGvSE"
      },
      "source": [
        "**Observations**\n",
        "\n",
        "- Clients who are 'Married' are 59.8% with payment difficulties and 64.2% with on-timepayments\n",
        "- Clients who are 'Widow' are 3.8% with payment difficulties and 5.4% with on-timepayments\n",
        "- Clients who are 'Single/not married' are 18.0% with payment difficulties and 14.5% with on-timepayments\n",
        "- Remaining categories don't provide any conclusive results\n",
        "\n",
        "**Conclusion**\n",
        "\n",
        "- Clients who are 'Married' OR 'Widow' do on-time payments better comparatively. However, this is a weak correlation.\n",
        "- Clients who are 'Single/not married' have more difficulties with on-time payments comparatively. However, this is a weak correlation."
      ]
    },
    {
      "cell_type": "markdown",
      "metadata": {
        "id": "e__lViV8GvSE"
      },
      "source": [
        "# Correlation analysis of numerical variables"
      ]
    },
    {
      "cell_type": "markdown",
      "metadata": {
        "id": "1ZqTjZqvGvSE"
      },
      "source": [
        "### Plotting correlation matrix for Payment Difficulties"
      ]
    },
    {
      "cell_type": "markdown",
      "metadata": {
        "id": "0gMd8cT4GvSE"
      },
      "source": [
        "There are 66 numerical columns. Creating a correlation matrix `corr` to view the results better"
      ]
    },
    {
      "cell_type": "markdown",
      "metadata": {
        "id": "dMiI7OnkGvSE"
      },
      "source": [
        "Creating a HeatMap to view the correlations above 80% and 99.99%"
      ]
    },
    {
      "cell_type": "markdown",
      "metadata": {
        "id": "Wh5KUfPUGvSF"
      },
      "source": [
        "### Getting top 10 correlations for Payment Difficulties"
      ]
    },
    {
      "cell_type": "markdown",
      "metadata": {
        "id": "QQnKN309GvSF"
      },
      "source": [
        "As we have duplicate combinations, looking at the above and removing dups, we get top 10 correlations as:\n",
        "\n",
        "- AMT_GOODS_PRICE              AMT_CREDIT                    0.98\n",
        "- REGION_RATING_CLIENT         REGION_RATING_CLIENT_W_CITY   0.96\n",
        "- CNT_FAM_MEMBERS              CNT_CHILDREN                  0.89\n",
        "- DEF_60_CNT_SOCIAL_CIRCLE     DEF_30_CNT_SOCIAL_CIRCLE      0.87\n",
        "- REG_REGION_NOT_WORK_REGION   LIVE_REGION_NOT_WORK_REGION   0.85\n",
        "- LIVE_CITY_NOT_WORK_CITY      REG_CITY_NOT_WORK_CITY        0.78\n",
        "- AMT_ANNUITY                  AMT_GOODS_PRICE               0.75\n",
        "- AMT_ANNUITY                  AMT_CREDIT                    0.75\n",
        "- DAYS_EMPLOYED                FLAG_DOCUMENT_6               0.62\n",
        "- DAYS_BIRTH                   DAYS_EMPLOYED                 0.58"
      ]
    },
    {
      "cell_type": "markdown",
      "metadata": {
        "id": "mb8HbiIYGvSF"
      },
      "source": [
        "### Plotting correlation matrix for On-Time payments"
      ]
    },
    {
      "cell_type": "markdown",
      "metadata": {
        "id": "32APCMOnGvSF"
      },
      "source": [
        "There are 66 numerical columns. Creating a correlation matrix `corr` to view the results better"
      ]
    },
    {
      "cell_type": "markdown",
      "metadata": {
        "id": "hTmwQEXQGvSF"
      },
      "source": [
        "Creating a HeatMap to view the correlations above 80% and 99.99%"
      ]
    },
    {
      "cell_type": "markdown",
      "metadata": {
        "id": "SJOjTKrnGvSF"
      },
      "source": [
        "### Getting top 10 correlations for On-Time Payments"
      ]
    },
    {
      "cell_type": "markdown",
      "metadata": {
        "id": "avWvjn0-GvSG"
      },
      "source": [
        "As we have duplicate combinations, looking at the above and removing dups, we get top 10 correlations as:\n",
        "\n",
        "- AMT_GOODS_PRICE              AMT_CREDIT                    0.99\n",
        "- REGION_RATING_CLIENT         REGION_RATING_CLIENT_W_CITY   0.95\n",
        "- CNT_FAM_MEMBERS              CNT_CHILDREN                  0.88\n",
        "- REG_REGION_NOT_WORK_REGION   LIVE_REGION_NOT_WORK_REGION   0.86\n",
        "- DEF_30_CNT_SOCIAL_CIRCLE     DEF_60_CNT_SOCIAL_CIRCLE      0.86\n",
        "- LIVE_CITY_NOT_WORK_CITY      REG_CITY_NOT_WORK_CITY        0.83\n",
        "- AMT_ANNUITY                  AMT_GOODS_PRICE               0.78\n",
        "- AMT_ANNUITY                  AMT_CREDIT                    0.77\n",
        "- DAYS_BIRTH                   DAYS_EMPLOYED                 0.63\n",
        "- DAYS_EMPLOYED                FLAG_DOCUMENT_6               0.60"
      ]
    },
    {
      "cell_type": "markdown",
      "metadata": {
        "id": "7d0HOkMnGvSG"
      },
      "source": [
        "### Comparing top 10 correlations b/w Payment difficulties and On-Time Payments"
      ]
    },
    {
      "cell_type": "markdown",
      "metadata": {
        "id": "kVZYA3LmGvSG"
      },
      "source": [
        "**Observations**\n",
        "\n",
        "- The top 10 correlations for Payment difficulties and On-Time Payments are the same except minor differences in correlation percentage\n",
        "- The highest correlation is for the combination of `AMT_GOODS_PRICE` and `AMT_CREDIT`\n",
        "- For Payment difficulties dataset, the correlation b/w `AMT_GOODS_PRICE` and `AMT_CREDIT` is 0.98\n",
        "- For On-Time Payments dataset, the correlation b/w `AMT_GOODS_PRICE` and `AMT_CREDIT` is 0.99"
      ]
    },
    {
      "cell_type": "markdown",
      "metadata": {
        "id": "2CZ2WcmjGvSG"
      },
      "source": [
        "# Univariate analysis of numerical variables"
      ]
    },
    {
      "cell_type": "markdown",
      "metadata": {
        "id": "e-_a2bAzGvSG"
      },
      "source": [
        "### Analysis of `AMT_CREDIT`"
      ]
    },
    {
      "cell_type": "markdown",
      "metadata": {
        "id": "VGk8IcJeGvSG"
      },
      "source": [
        "#### Outlier identification of `AMT_CREDIT` with Payment difficulties"
      ]
    },
    {
      "cell_type": "markdown",
      "metadata": {
        "id": "0JVUUHF8GvSG"
      },
      "source": [
        "Calculating IQR (Inter Quartile range)"
      ]
    },
    {
      "cell_type": "markdown",
      "metadata": {
        "id": "EskpYdyTGvSG"
      },
      "source": [
        "Values before (Q1 - 1.5 * IQR) and (Q3 + 1.5 * IQR) are outliers"
      ]
    },
    {
      "cell_type": "markdown",
      "metadata": {
        "id": "93zX6MIBGvSG"
      },
      "source": [
        "#### Outlier identification of `AMT_CREDIT` with On-Time Payments"
      ]
    },
    {
      "cell_type": "markdown",
      "metadata": {
        "id": "F4VylacGGvSG"
      },
      "source": [
        "Calculating IQR (Inter Quartile range)"
      ]
    },
    {
      "cell_type": "markdown",
      "metadata": {
        "id": "N4u7-eIrGvSM"
      },
      "source": [
        "Values before (Q1 - 1.5 * IQR) and (Q3 + 1.5 * IQR) are outliers"
      ]
    },
    {
      "cell_type": "markdown",
      "metadata": {
        "id": "dxIsRGCbGvSN"
      },
      "source": [
        "Removing outliers and plotting distplot"
      ]
    },
    {
      "cell_type": "markdown",
      "metadata": {
        "id": "D_tBafTOGvSN"
      },
      "source": [
        "**Observations**\n",
        "\n",
        "- For `AMT_CREDIT` between 250000 and approximately 650000, there are more clients with Payment difficulties\n",
        "- For `AMT_CREDIT` > 750000 , there are more clients with On-Time Payments"
      ]
    },
    {
      "cell_type": "markdown",
      "metadata": {
        "id": "I-tvIwLTGvSN"
      },
      "source": [
        "### Analysis of `YEARS_BIRTH`"
      ]
    },
    {
      "cell_type": "markdown",
      "metadata": {
        "id": "Tr430c8MGvSN"
      },
      "source": [
        "#### Outlier identification of `YEARS_BIRTH` with Payment difficulties"
      ]
    },
    {
      "cell_type": "markdown",
      "metadata": {
        "id": "ArDz7VuHGvSN"
      },
      "source": [
        "Calculating IQR (Inter Quartile range)"
      ]
    },
    {
      "cell_type": "markdown",
      "metadata": {
        "id": "WA5xdlBDGvSN"
      },
      "source": [
        "Values before (Q1 - 1.5 * IQR) and (Q3 + 1.5 * IQR) are outliers"
      ]
    },
    {
      "cell_type": "markdown",
      "metadata": {
        "id": "k-scnu7HGvSO"
      },
      "source": [
        "#### Outlier identification of `YEARS_BIRTH` with On-Time Payments"
      ]
    },
    {
      "cell_type": "markdown",
      "metadata": {
        "id": "HrvaJewbGvSO"
      },
      "source": [
        "Calculating IQR (Inter Quartile range)"
      ]
    },
    {
      "cell_type": "markdown",
      "metadata": {
        "id": "nMBxkaFvGvSO"
      },
      "source": [
        "Values before (Q1 - 1.5 * IQR) and (Q3 + 1.5 * IQR) are outliers"
      ]
    },
    {
      "cell_type": "markdown",
      "metadata": {
        "id": "9WTpGGwHGvSO"
      },
      "source": [
        "Removing outliers and plotting distplot"
      ]
    },
    {
      "cell_type": "markdown",
      "metadata": {
        "id": "5iTg21WbGvSO"
      },
      "source": [
        "**Observations**\n",
        "\n",
        "- For `YEARS_BIRTH` between 20 and 40, there are more clients with Payment difficulties\n",
        "- Conversely, for `YEARS_BIRTH` > 40 , there are more clients with On-Time Payments"
      ]
    },
    {
      "cell_type": "markdown",
      "metadata": {
        "id": "0koxSvjXGvSO"
      },
      "source": [
        "### Analysis of `AMT_GOODS_PRICE `"
      ]
    },
    {
      "cell_type": "markdown",
      "metadata": {
        "id": "n4gNBT-8GvSO"
      },
      "source": [
        "#### Outlier identification of `AMT_GOODS_PRICE ` with Payment difficulties"
      ]
    },
    {
      "cell_type": "markdown",
      "metadata": {
        "id": "bSEnDXQCGvSO"
      },
      "source": [
        "Calculating IQR (Inter Quartile range)"
      ]
    },
    {
      "cell_type": "markdown",
      "metadata": {
        "id": "7TXRe-0sGvSP"
      },
      "source": [
        "Values before (Q1 - 1.5 * IQR) and (Q3 + 1.5 * IQR) are outliers"
      ]
    },
    {
      "cell_type": "markdown",
      "metadata": {
        "id": "UemmrM64GvSP"
      },
      "source": [
        "#### Outlier identification of `AMT_GOODS_PRICE ` with On-Time Payments"
      ]
    },
    {
      "cell_type": "markdown",
      "metadata": {
        "id": "jzK4zXTEGvSP"
      },
      "source": [
        "Calculating IQR (Inter Quartile range)"
      ]
    },
    {
      "cell_type": "markdown",
      "metadata": {
        "id": "edKlJGfuGvSP"
      },
      "source": [
        "Values before (Q1 - 1.5 * IQR) and (Q3 + 1.5 * IQR) are outliers"
      ]
    },
    {
      "cell_type": "markdown",
      "metadata": {
        "id": "MOlA8LeeGvSP"
      },
      "source": [
        "Removing outliers and plotting distplot"
      ]
    },
    {
      "cell_type": "markdown",
      "metadata": {
        "id": "bJv_VguoGvSP"
      },
      "source": [
        "**Observations**\n",
        "\n",
        "- For `AMT_GOODS_PRICE` between ~250000 and ~550000, there are more clients with Payment difficulties\n",
        "- Otherwise there are spikes on and off but they don't show any conclusive observations"
      ]
    },
    {
      "cell_type": "markdown",
      "metadata": {
        "id": "GJjDW5NlGvSQ"
      },
      "source": [
        "### Analysis of `DAYS_EMPLOYED`"
      ]
    },
    {
      "cell_type": "markdown",
      "metadata": {
        "id": "aIj7vdFXGvSQ"
      },
      "source": [
        "#### Outlier identification of `DAYS_EMPLOYED ` with Payment difficulties"
      ]
    },
    {
      "cell_type": "markdown",
      "metadata": {
        "id": "TcEVuI2rGvSQ"
      },
      "source": [
        "Calculating IQR (Inter Quartile range)"
      ]
    },
    {
      "cell_type": "markdown",
      "metadata": {
        "id": "csu80FP3GvSQ"
      },
      "source": [
        "Values before (Q1 - 1.5 * IQR) and (Q3 + 1.5 * IQR) are outliers"
      ]
    },
    {
      "cell_type": "markdown",
      "metadata": {
        "id": "Y1VjOMvqGvSQ"
      },
      "source": [
        "#### Outlier identification of `DAYS_EMPLOYED ` with On-Time Payments"
      ]
    },
    {
      "cell_type": "markdown",
      "metadata": {
        "id": "aW_7CQPbGvSQ"
      },
      "source": [
        "Calculating IQR (Inter Quartile range)"
      ]
    },
    {
      "cell_type": "markdown",
      "metadata": {
        "id": "SzxFU_xuGvSQ"
      },
      "source": [
        "Values before (Q1 - 1.5 * IQR) and (Q3 + 1.5 * IQR) are outliers"
      ]
    },
    {
      "cell_type": "markdown",
      "metadata": {
        "id": "LmFESo8eGvSQ"
      },
      "source": [
        "Removing outliers and plotting distplot"
      ]
    },
    {
      "cell_type": "markdown",
      "metadata": {
        "id": "-rTA7xdWGvSR"
      },
      "source": [
        "**Observations**\n",
        "\n",
        "- For `DAYS_EMPLOYED` less than 2000, there are more clients with Payment difficulties\n",
        "- Conversely, for `DAYS_EMPLOYED` > 2000 , there are more clients with On-Time Payments\n",
        "- This means that those who are employed longer have better chances of repaying the loan"
      ]
    },
    {
      "cell_type": "markdown",
      "metadata": {
        "id": "PDBtwFCNGvSR"
      },
      "source": [
        "### Analysis of `CNT_CHILDREN `"
      ]
    },
    {
      "cell_type": "markdown",
      "metadata": {
        "id": "V63QSPHQGvSR"
      },
      "source": [
        "#### Outlier identification of `CNT_CHILDREN ` with Payment difficulties"
      ]
    },
    {
      "cell_type": "markdown",
      "metadata": {
        "id": "ecYebPSEGvSR"
      },
      "source": [
        "Calculating IQR (Inter Quartile range)"
      ]
    },
    {
      "cell_type": "markdown",
      "metadata": {
        "id": "p1DWHqKGGvSU"
      },
      "source": [
        "Values before (Q1 - 1.5 * IQR) and (Q3 + 1.5 * IQR) are outliers"
      ]
    },
    {
      "cell_type": "markdown",
      "metadata": {
        "id": "DyLQGQ2xGvSV"
      },
      "source": [
        "#### Outlier identification of `CNT_CHILDREN ` with On-Time Payments"
      ]
    },
    {
      "cell_type": "markdown",
      "metadata": {
        "id": "n6ldxGGBGvSV"
      },
      "source": [
        "Calculating IQR (Inter Quartile range)"
      ]
    },
    {
      "cell_type": "markdown",
      "metadata": {
        "id": "F8tH78-MGvSV"
      },
      "source": [
        "Values before (Q1 - 1.5 * IQR) and (Q3 + 1.5 * IQR) are outliers"
      ]
    },
    {
      "cell_type": "markdown",
      "metadata": {
        "id": "Uz5z1Iv8GvSW"
      },
      "source": [
        "Removing outliers and plotting distplot"
      ]
    },
    {
      "cell_type": "markdown",
      "metadata": {
        "id": "p2oM9o7UGvSW"
      },
      "source": [
        "**Observations**\n",
        "\n",
        "- For `CNT_CHILDREN` 0 (those with no children), there are lots of clients with On-Time Payments\n",
        "- For `CNT_CHILDREN` with 1 OR 2 (those with 1 or 2 children), there are few more clients with On-Time Payments"
      ]
    },
    {
      "cell_type": "markdown",
      "metadata": {
        "id": "IsXtK5fyGvSW"
      },
      "source": [
        "### Analysis of `AMT_INCOME_TOTAL `"
      ]
    },
    {
      "cell_type": "markdown",
      "metadata": {
        "id": "p1h7cEdJGvSW"
      },
      "source": [
        "#### Outlier identification of `AMT_INCOME_TOTAL ` with Payment difficulties"
      ]
    },
    {
      "cell_type": "markdown",
      "metadata": {
        "id": "OvVIGQo4GvSW"
      },
      "source": [
        "Calculating IQR (Inter Quartile range)"
      ]
    },
    {
      "cell_type": "markdown",
      "metadata": {
        "id": "_Yb3y3nAGvSW"
      },
      "source": [
        "Values before (Q1 - 1.5 * IQR) and (Q3 + 1.5 * IQR) are outliers"
      ]
    },
    {
      "cell_type": "markdown",
      "metadata": {
        "id": "1xrih3pUGvSX"
      },
      "source": [
        "#### Outlier identification of `AMT_INCOME_TOTAL ` with On-Time Payments"
      ]
    },
    {
      "cell_type": "markdown",
      "metadata": {
        "id": "4x9yejq8GvSX"
      },
      "source": [
        "Calculating IQR (Inter Quartile range)"
      ]
    },
    {
      "cell_type": "markdown",
      "metadata": {
        "id": "50rnU5nlGvSX"
      },
      "source": [
        "Values before (Q1 - 1.5 * IQR) and (Q3 + 1.5 * IQR) are outliers"
      ]
    },
    {
      "cell_type": "markdown",
      "metadata": {
        "id": "hpXKW5oJGvSX"
      },
      "source": [
        "Removing outliers and plotting distplot"
      ]
    },
    {
      "cell_type": "markdown",
      "metadata": {
        "id": "7Nsec1fqGvSX"
      },
      "source": [
        "**Observations**\n",
        "\n",
        "- Based on `AMT_INCOME_TOTAL`, for clients with Payment difficulties, the distribution resembles a normal distribution approximately\n",
        "- But for clients with On-Time Payments, there are erratic spikes in the distribution which doesn't give any valid observations"
      ]
    },
    {
      "cell_type": "markdown",
      "metadata": {
        "id": "aXqPE6MNGvSY"
      },
      "source": [
        "# Bivariate/Multivariate analysis"
      ]
    },
    {
      "cell_type": "markdown",
      "metadata": {
        "id": "d6mK0OiTGvSY"
      },
      "source": [
        "## Continuous V/S Continuous variables"
      ]
    },
    {
      "cell_type": "markdown",
      "metadata": {
        "id": "pppKq7l2GvSY"
      },
      "source": [
        "### Analysis of `AMT_GOODS_PRICE` V/S `AMT_CREDIT`"
      ]
    },
    {
      "cell_type": "markdown",
      "metadata": {
        "id": "ZGQm_IviGvSY"
      },
      "source": [
        "**Outlier identification of `AMT_GOODS_PRICE ` with Payment difficulties**"
      ]
    },
    {
      "cell_type": "markdown",
      "metadata": {
        "id": "_ZxTGir-GvSY"
      },
      "source": [
        "**Outlier identification of `AMT_CREDIT ` with Payment difficulties**"
      ]
    },
    {
      "cell_type": "markdown",
      "metadata": {
        "id": "Kw6-rbJAGvSY"
      },
      "source": [
        "**Outlier identification of `AMT_GOODS_PRICE ` with On-Time Payments**"
      ]
    },
    {
      "cell_type": "markdown",
      "metadata": {
        "id": "t7-7FHodGvSY"
      },
      "source": [
        "**Outlier identification of `AMT_CREDIT ` with On-Time Payments**"
      ]
    },
    {
      "cell_type": "markdown",
      "metadata": {
        "id": "SMMSBaFjGvSY"
      },
      "source": [
        "Plotting scatterplot for comparison with outliers removed"
      ]
    },
    {
      "cell_type": "markdown",
      "metadata": {
        "id": "b-cXp2Y6GvSZ"
      },
      "source": [
        "**Observations**\n",
        "- `AMT_GOODS_PRICE` and `AMT_CREDIT` have strong positive correlation. This means that as Goods price increases, so does Credit Amount"
      ]
    },
    {
      "cell_type": "markdown",
      "metadata": {
        "id": "Pmk6--BxGvSZ"
      },
      "source": [
        "### Analysis of `AMT_ANNUITY` V/S `AMT_CREDIT`"
      ]
    },
    {
      "cell_type": "markdown",
      "metadata": {
        "id": "NmHeTXjiGvSZ"
      },
      "source": [
        "**Outlier identification of `AMT_ANNUITY` with Payment difficulties**"
      ]
    },
    {
      "cell_type": "markdown",
      "metadata": {
        "id": "ffXvMYxKGvSa"
      },
      "source": [
        "**Outlier identification of `AMT_CREDIT ` with Payment difficulties**"
      ]
    },
    {
      "cell_type": "markdown",
      "metadata": {
        "id": "ZmzfsC1qGvSa"
      },
      "source": [
        "**Outlier identification of `AMT_ANNUITY ` with On-Time Payments**"
      ]
    },
    {
      "cell_type": "markdown",
      "metadata": {
        "id": "pN_zy8c7GvSa"
      },
      "source": [
        "**Outlier identification of `AMT_CREDIT ` with On-Time Payments**"
      ]
    },
    {
      "cell_type": "markdown",
      "metadata": {
        "id": "DVsX2ZbdGvSb"
      },
      "source": [
        "Plotting scatterplot for comparison with outliers removed"
      ]
    },
    {
      "cell_type": "markdown",
      "metadata": {
        "id": "rndv1UnlGvSb"
      },
      "source": [
        "**Observations**\n",
        "- `AMT_ANNUITY` and `AMT_CREDIT` have strong positive correlation. This means that as Annuity Amount increases, so does Credit Amount"
      ]
    },
    {
      "cell_type": "markdown",
      "metadata": {
        "id": "XO8JdAC5GvSb"
      },
      "source": [
        "### Analysis of `DAYS_EMPLOYED` V/S `AMT_INCOME_TOTAL`"
      ]
    },
    {
      "cell_type": "markdown",
      "metadata": {
        "id": "yEab_cR8GvSb"
      },
      "source": [
        "**Outlier identification of `DAYS_EMPLOYED` with Payment difficulties**"
      ]
    },
    {
      "cell_type": "markdown",
      "metadata": {
        "id": "EmWdhmMVGvSb"
      },
      "source": [
        "**Outlier identification of `AMT_INCOME_TOTAL ` with Payment difficulties**"
      ]
    },
    {
      "cell_type": "markdown",
      "metadata": {
        "id": "wRV0SolRGvSb"
      },
      "source": [
        "**Outlier identification of `DAYS_EMPLOYED ` with On-Time Payments**"
      ]
    },
    {
      "cell_type": "markdown",
      "metadata": {
        "id": "6JqmOpO6GvSc"
      },
      "source": [
        "**Outlier identification of `AMT_INCOME_TOTAL ` with On-Time Payments**"
      ]
    },
    {
      "cell_type": "markdown",
      "metadata": {
        "id": "tMrVWHe-GvSc"
      },
      "source": [
        "Plotting scatterplot for comparison with outliers removed"
      ]
    },
    {
      "cell_type": "markdown",
      "metadata": {
        "id": "gwlYvLc0GvSc"
      },
      "source": [
        "**Observations**\n",
        "- Clients who are employed for a long time (>7000) days are making their payments on-time but these category of clients do not exist in Payments difficulties group\n",
        "- Even looking at Payment difficulties group, clients with more than 4000 days of employment are sparse"
      ]
    },
    {
      "cell_type": "markdown",
      "metadata": {
        "id": "E9gY4fE8GvSc"
      },
      "source": [
        "### Analysis of `AMT_CREDIT` V/S `DAYS_BIRTH`"
      ]
    },
    {
      "cell_type": "markdown",
      "metadata": {
        "id": "8Jcbb8s2GvSc"
      },
      "source": [
        "**Outlier identification of `AMT_CREDIT` with Payment difficulties**"
      ]
    },
    {
      "cell_type": "markdown",
      "metadata": {
        "id": "mCnSPzgBGvSc"
      },
      "source": [
        "**Outlier identification of `DAYS_BIRTH ` with Payment difficulties**"
      ]
    },
    {
      "cell_type": "markdown",
      "metadata": {
        "id": "k62LRuyTGvSd"
      },
      "source": [
        "**Outlier identification of `AMT_CREDIT ` with On-Time Payments**"
      ]
    },
    {
      "cell_type": "markdown",
      "metadata": {
        "id": "PIF02CYNGvSd"
      },
      "source": [
        "**Outlier identification of `DAYS_BIRTH ` with On-Time Payments**"
      ]
    },
    {
      "cell_type": "markdown",
      "metadata": {
        "id": "NVXJZ4SfGvSd"
      },
      "source": [
        "Plotting scatterplot for comparison with outliers removed"
      ]
    },
    {
      "cell_type": "markdown",
      "metadata": {
        "id": "6Cc3bL7DGvSd"
      },
      "source": [
        "**Observations**\n",
        "- There is no observable correlation between Days of Birth and Amount of Credit"
      ]
    },
    {
      "cell_type": "markdown",
      "metadata": {
        "id": "W0KkB-QUGvSd"
      },
      "source": [
        "### Analysis of `AMT_ANNUITY` V/S `AMT_GOODS_PRICE`"
      ]
    },
    {
      "cell_type": "markdown",
      "metadata": {
        "id": "llA0AVjJGvSd"
      },
      "source": [
        "**Outlier identification of `AMT_ANNUITY` with Payment difficulties**"
      ]
    },
    {
      "cell_type": "markdown",
      "metadata": {
        "id": "RY9NWp6sGvSe"
      },
      "source": [
        "**Outlier identification of `AMT_GOODS_PRICE` with Payment difficulties**"
      ]
    },
    {
      "cell_type": "markdown",
      "metadata": {
        "id": "QlJcvdM6GvSe"
      },
      "source": [
        "**Outlier identification of `AMT_ANNUITY ` with On-Time Payments**"
      ]
    },
    {
      "cell_type": "markdown",
      "metadata": {
        "id": "3dfPovW8GvSe"
      },
      "source": [
        "**Outlier identification of `AMT_GOODS_PRICE` with On-Time Payments**"
      ]
    },
    {
      "cell_type": "markdown",
      "metadata": {
        "id": "NHknTbz5GvSe"
      },
      "source": [
        "Plotting scatterplot for comparison with outliers removed"
      ]
    },
    {
      "cell_type": "markdown",
      "metadata": {
        "id": "7qJFZ6gXGvSf"
      },
      "source": [
        "**Observations**\n",
        "- `AMT_ANNUITY` and `AMT_GOODS_PRICE` have strong positive correlation. This means that as Annuity increases, so does Goods Price"
      ]
    },
    {
      "cell_type": "markdown",
      "metadata": {
        "id": "hPXnUg7cGvSf"
      },
      "source": [
        "## Continuous V/S Categorical variables"
      ]
    },
    {
      "cell_type": "markdown",
      "metadata": {
        "id": "yA1jDMJ6GvSf"
      },
      "source": [
        "### Analysis of `NAME_EDUCATION_TYPE` V/S `AMT_CREDIT` V/S `CODE_GENDER`"
      ]
    },
    {
      "cell_type": "markdown",
      "metadata": {
        "id": "Z7am-EFOGvSf"
      },
      "source": [
        "**Outlier identification of `AMT_CREDIT ` with Payment difficulties**"
      ]
    },
    {
      "cell_type": "markdown",
      "metadata": {
        "id": "xvtISwteGvSf"
      },
      "source": [
        "**Outlier identification of `AMT_CREDIT ` with On-Time Payments**"
      ]
    },
    {
      "cell_type": "markdown",
      "metadata": {
        "id": "pRZ4Gc8bGvSf"
      },
      "source": [
        "**Client with Payment difficulties**"
      ]
    },
    {
      "cell_type": "markdown",
      "metadata": {
        "id": "k9vXYYY_GvSg"
      },
      "source": [
        "**Client with On-Time Payments**"
      ]
    },
    {
      "cell_type": "markdown",
      "metadata": {
        "id": "gTy2NvCFGvSg"
      },
      "source": [
        "**Observations**\n",
        "- Clients with `Academic Degree` have a wide range of credits for On-Time Payments whereas the range is much lower for ones with Payment difficulties\n",
        "- Looking at summary statistics, Clients with `Academic Degree` and Payment difficulties take mean and median credit at a much higher range than On-Time Payment clients\n",
        "- `Male` clients with `Academic Degree` always pay the loan on-time"
      ]
    },
    {
      "cell_type": "markdown",
      "metadata": {
        "id": "R-RadHbaGvSg"
      },
      "source": [
        "### Analysis of `NAME_FAMILY_STATUS` V/S `AMT_INCOME_TOTAL` V/S `CODE_GENDER`"
      ]
    },
    {
      "cell_type": "markdown",
      "metadata": {
        "id": "erHk-6YYGvSh"
      },
      "source": [
        "**Outlier identification of `AMT_INCOME_TOTAL` with Payment difficulties**"
      ]
    },
    {
      "cell_type": "markdown",
      "metadata": {
        "id": "f4o6-NguGvSh"
      },
      "source": [
        "**Outlier identification of `AMT_INCOME_TOTAL` with On-Time Payments**"
      ]
    },
    {
      "cell_type": "markdown",
      "metadata": {
        "id": "4sGfnBMJGvSh"
      },
      "source": [
        "**Client with Payment difficulties**"
      ]
    },
    {
      "cell_type": "markdown",
      "metadata": {
        "id": "8o1-pGqRGvSh"
      },
      "source": [
        "**Client with On-Time Payments**"
      ]
    },
    {
      "cell_type": "markdown",
      "metadata": {
        "id": "cN62mlgLGvSi"
      },
      "source": [
        "**Observations**\n",
        "- `Married` clients have a slightly higher mean/median income with On-Time Payments than Payment difficulties category"
      ]
    },
    {
      "cell_type": "markdown",
      "metadata": {
        "id": "iXCSnkqNGvSi"
      },
      "source": [
        "### Analysis of `YEARS_BIRTH_CATEGORY` V/S `AMT_INCOME_TOTAL` V/S `NAME_HOUSING_TYPE`"
      ]
    },
    {
      "cell_type": "markdown",
      "metadata": {
        "id": "fJr4fiJWGvSi"
      },
      "source": [
        "**Outlier identification of `AMT_INCOME_TOTAL` with Payment difficulties**"
      ]
    },
    {
      "cell_type": "markdown",
      "metadata": {
        "id": "Qky4fNozGvSi"
      },
      "source": [
        "**Outlier identification of `AMT_INCOME_TOTAL` with On-Time Payments**"
      ]
    },
    {
      "cell_type": "markdown",
      "metadata": {
        "id": "OkZHLbcYGvSi"
      },
      "source": [
        "**Client with Payment difficulties**"
      ]
    },
    {
      "cell_type": "markdown",
      "metadata": {
        "id": "8q0wZDmbGvSi"
      },
      "source": [
        "**Client with On-Time Payments**"
      ]
    },
    {
      "cell_type": "markdown",
      "metadata": {
        "id": "93PUknABGvSj"
      },
      "source": [
        "**Observations**\n",
        "- Clients with age `60-70` and living in `Co-op apartment` have very high income range in Payment difficulties category than On-Time Payments\n",
        "- Clients with age `20-30` and living in `Office apartment` have very higher income median in On-Time Payments compared to Payment difficulties category"
      ]
    },
    {
      "cell_type": "markdown",
      "metadata": {
        "id": "yaW2az2RGvSj"
      },
      "source": [
        "### Analysis of `FLAG_OWN_CAR` V/S `AMT_ANNUITY` V/S `CODE_GENDER`"
      ]
    },
    {
      "cell_type": "markdown",
      "metadata": {
        "id": "yGVUyc_WGvSj"
      },
      "source": [
        "**Outlier identification of `AMT_ANNUITY` with Payment difficulties**"
      ]
    },
    {
      "cell_type": "markdown",
      "metadata": {
        "id": "nio3Mid7GvSj"
      },
      "source": [
        "**Outlier identification of `AMT_ANNUITY` with On-Time Payments**"
      ]
    },
    {
      "cell_type": "markdown",
      "metadata": {
        "id": "mIkty5o3GvSk"
      },
      "source": [
        "**Client with Payment difficulties**"
      ]
    },
    {
      "cell_type": "markdown",
      "metadata": {
        "id": "QIGi6ZI1GvSk"
      },
      "source": [
        "**Client with On-Time Payments**"
      ]
    },
    {
      "cell_type": "markdown",
      "metadata": {
        "id": "7pg_XegTGvSl"
      },
      "source": [
        "**Observations**\n",
        "- We don't find any significant observations"
      ]
    },
    {
      "cell_type": "markdown",
      "metadata": {
        "id": "ljNh2Y4yGvSl"
      },
      "source": [
        "### Analysis of `NAME_INCOME_TYPE` V/S `AMT_GOODS_PRICE` V/S `CODE_GENDER`"
      ]
    },
    {
      "cell_type": "markdown",
      "metadata": {
        "id": "7bzPV4v8GvSl"
      },
      "source": [
        "**Outlier identification of `AMT_GOODS_PRICE` with Payment difficulties**"
      ]
    },
    {
      "cell_type": "markdown",
      "metadata": {
        "id": "mC85BYh6GvSl"
      },
      "source": [
        "**Outlier identification of `AMT_GOODS_PRICE` with On-Time Payments**"
      ]
    },
    {
      "cell_type": "markdown",
      "metadata": {
        "id": "tacEZgXhGvSm"
      },
      "source": [
        "**Client with Payment difficulties**"
      ]
    },
    {
      "cell_type": "markdown",
      "metadata": {
        "id": "fE1qUJAjGvSm"
      },
      "source": [
        "**Client with On-Time Payments**"
      ]
    },
    {
      "cell_type": "markdown",
      "metadata": {
        "id": "M7DG-UVuGvSm"
      },
      "source": [
        "**Observations**\n",
        "- Clients who are `Unemployed` and `Male` have a very high price of goods in On-Time Payments than Payment difficulties\n",
        "- Clients who are `Student` and either `Male` OR `Female` do their payments On-Time. They are completely missing from Payment difficulties category. `Student` seems to be an attractive category to give loans to.\n",
        "- Clients who are `Businessman` and either `Male` OR `Female` do their payments On-Time. They are completely missing from Payment difficulties category. `Businessman` seems to be an attractive category to give loans to."
      ]
    },
    {
      "cell_type": "markdown",
      "metadata": {
        "id": "THCDow7jGvSm"
      },
      "source": [
        "### Analysis of `NAME_INCOME_TYPE` V/S `AMT_INCOME_TOTAL` V/S `CODE_GENDER`"
      ]
    },
    {
      "cell_type": "markdown",
      "metadata": {
        "id": "DV1nDFIlGvSm"
      },
      "source": [
        "**Outlier identification of `AMT_INCOME_TOTAL` with Payment difficulties**"
      ]
    },
    {
      "cell_type": "markdown",
      "metadata": {
        "id": "3_bpT05aGvSn"
      },
      "source": [
        "**Outlier identification of `AMT_INCOME_TOTAL` with On-Time Payments**"
      ]
    },
    {
      "cell_type": "markdown",
      "metadata": {
        "id": "s9CJE7d6GvSn"
      },
      "source": [
        "**Client with Payment difficulties**"
      ]
    },
    {
      "cell_type": "markdown",
      "metadata": {
        "id": "AsNw1KiUGvSn"
      },
      "source": [
        "**Client with On-Time Payments**"
      ]
    },
    {
      "cell_type": "markdown",
      "metadata": {
        "id": "DVX1M95YGvSo"
      },
      "source": [
        "**Observations**\n",
        "- Clients who are `Unemployed` and `Male` have a very high income in On-Time Payments than Payment difficulties\n",
        "- Clients who are `Student` and either `Male` OR `Female` do their payments On-Time. They are completely missing from Payment difficulties category. `Student` seems to be an attractive category to give loans to.\n",
        "- Clients who are `Businessman` and either `Male` OR `Female` do their payments On-Time. They are completely missing from Payment difficulties category. `Businessman` seems to be an attractive category to give loans to.\n",
        "- Clients who are in `Maternity Leave` and `Female` have a very high income in On-Time Payments than Payment difficulties"
      ]
    },
    {
      "cell_type": "markdown",
      "metadata": {
        "id": "voVIzknaGvSo"
      },
      "source": [
        "### Analysis of `OCCUPATION_TYPE` V/S `AMT_INCOME_TOTAL` V/S `CODE_GENDER`"
      ]
    },
    {
      "cell_type": "markdown",
      "metadata": {
        "id": "NdjOwiTNGvSo"
      },
      "source": [
        "**Outlier identification of `AMT_INCOME_TOTAL` with Payment difficulties**"
      ]
    },
    {
      "cell_type": "markdown",
      "metadata": {
        "id": "12Udd-gmGvSo"
      },
      "source": [
        "**Outlier identification of `AMT_INCOME_TOTAL` with On-Time Payments**"
      ]
    },
    {
      "cell_type": "markdown",
      "metadata": {
        "id": "8YehbVbAGvSp"
      },
      "source": [
        "**Client with Payment difficulties**"
      ]
    },
    {
      "cell_type": "markdown",
      "metadata": {
        "id": "5b1K5-7ZGvSp"
      },
      "source": [
        "**Client with On-Time Payments**"
      ]
    },
    {
      "cell_type": "markdown",
      "metadata": {
        "id": "wts233lHGvSq"
      },
      "source": [
        "**Observations**\n",
        "- Clients who are `Waiters/barment staff` and `female` have less median income in On-Time Payments than Payment difficulties\n",
        "- Clients who are `Cleaning staff` and `female` have more median income in On-Time Payments than Payment difficulties\n",
        "- Clients who are `HR Staff` and `Male` have more median income in Payment difficulties than On-Time Payments\n",
        "- Clients who are `Managers` and `Male` have more median income in On-Time Payments than Payment difficulties"
      ]
    },
    {
      "cell_type": "markdown",
      "metadata": {
        "id": "3PcWgHLZGvSq"
      },
      "source": [
        "## Categorical V/S Categorical variables"
      ]
    },
    {
      "cell_type": "markdown",
      "metadata": {
        "id": "Vabls-zyGvSq"
      },
      "source": [
        "### Analysis of `NAME_INCOME_TYPE` V/S `CODE_GENDER`"
      ]
    },
    {
      "cell_type": "markdown",
      "metadata": {
        "id": "Uzhcl4hZGvSq"
      },
      "source": [
        "**Observations**\n",
        "- Clients who are `Working` and `Male` have more Payment difficulties compared to On-Time Payments\n",
        "- Clients who are `Pensioner` and `Female` have more Payment difficulties compared to On-Time Payments\n",
        "- Clients who are `Businessman` and `Students` do their payments On-Time though their record count is low"
      ]
    },
    {
      "cell_type": "markdown",
      "metadata": {
        "id": "riw5qtzTGvSq"
      },
      "source": [
        "### Analysis of `NAME_EDUCATION_TYPE` V/S `CODE_GENDER`"
      ]
    },
    {
      "cell_type": "markdown",
      "metadata": {
        "id": "TbmoxMeMGvSq"
      },
      "source": [
        "**Observations**\n",
        "- Clients who have `Secondary/Secondary special` education and `Male` have more Payment difficulties compared to On-Time Payments\n",
        "- Clients who have `Higher education` and `Female` have more On-Time Payments compared to Payment difficulties"
      ]
    },
    {
      "cell_type": "markdown",
      "metadata": {
        "id": "ZddXHDNTGvSr"
      },
      "source": [
        "### Analysis of `NAME_FAMILY_STATUS` V/S `OCCUPATION_TYPE`"
      ]
    },
    {
      "cell_type": "markdown",
      "metadata": {
        "id": "qbW-HoO7GvSr"
      },
      "source": [
        "**Observations**\n",
        "- Clients who are `Single/not married`, `Married` & `Civil marriage` and are `Waiters/barmen staff` have more Payment difficulties compared to On-Time Payments\n",
        "- Clients who are `Single/not married` & `Married` and are `Laborers` have more Payment difficulties compared to On-Time Payments\n",
        "- Clients who are `Married` and are `Drivers` have more Payment difficulties compared to On-Time Payments\n",
        "- `Married` and `Accountants` have better On-Time Payments"
      ]
    },
    {
      "cell_type": "markdown",
      "metadata": {
        "id": "j4-SKV_fGvSr"
      },
      "source": [
        "### Analysis of `ORGANIZATION_TYPE` V/S `FLAG_OWN_CAR`"
      ]
    },
    {
      "cell_type": "markdown",
      "metadata": {
        "id": "SPwNyIg6GvSs"
      },
      "source": [
        "**Observations**\n",
        "- Clients who are `Self-employed`and don't own `Car` have more Payment difficulties compared to On-Time Payments"
      ]
    },
    {
      "cell_type": "markdown",
      "metadata": {
        "id": "TMkDAhD-GvSs"
      },
      "source": [
        "### Analysis of `OCCUPATION_TYPE` V/S `NAME_CONTRACT_TYPE`"
      ]
    },
    {
      "cell_type": "markdown",
      "metadata": {
        "id": "_dCytFtuGvSt"
      },
      "source": [
        "**Observations**\n",
        "- Clients who are `Sales staff`,`Laborers`,`Drivers` and have `Cash loans` have more Payment difficulties compared to On-Time Payments"
      ]
    },
    {
      "cell_type": "markdown",
      "metadata": {
        "id": "35YJG3cOGvSt"
      },
      "source": [
        "***"
      ]
    },
    {
      "cell_type": "markdown",
      "metadata": {
        "id": "wlliiD7FGvSt"
      },
      "source": [
        "# Previous Application Data"
      ]
    },
    {
      "cell_type": "markdown",
      "metadata": {
        "id": "lWGmFhnkGvSt"
      },
      "source": [
        "***"
      ]
    },
    {
      "cell_type": "markdown",
      "metadata": {
        "id": "Uv6xY6eoGvSt"
      },
      "source": [
        "# Importing the dataset"
      ]
    },
    {
      "cell_type": "markdown",
      "metadata": {
        "id": "N1x2WlLXGvSu"
      },
      "source": [
        "# Check structure of the data"
      ]
    },
    {
      "cell_type": "markdown",
      "metadata": {
        "id": "YR6EHLvIGvSu"
      },
      "source": [
        "We see any columns with null values"
      ]
    },
    {
      "cell_type": "markdown",
      "metadata": {
        "id": "wuiQ6p3TGvSu"
      },
      "source": [
        "There are ~1.67 million rows and 37 columns"
      ]
    },
    {
      "cell_type": "markdown",
      "metadata": {
        "id": "YXbhr3oFGvSu"
      },
      "source": [
        "## Get statistical summary for numerical variables"
      ]
    },
    {
      "cell_type": "markdown",
      "metadata": {
        "id": "NbBIu56kGvSv"
      },
      "source": [
        "# Analyzing categorical variables"
      ]
    },
    {
      "cell_type": "markdown",
      "metadata": {
        "id": "Y2Mq1UXrGvSv"
      },
      "source": [
        "There are 16 `categorical` variables"
      ]
    },
    {
      "cell_type": "markdown",
      "metadata": {
        "id": "PwJF8tzSGvSv"
      },
      "source": [
        "# Analyzing numerical variables"
      ]
    },
    {
      "cell_type": "markdown",
      "metadata": {
        "id": "QcG8WVNzGvSw"
      },
      "source": [
        "There are 21 `numerical` variables"
      ]
    },
    {
      "cell_type": "markdown",
      "metadata": {
        "id": "sSWJ2S76GvSw"
      },
      "source": [
        "# Dealing with incorrect data types"
      ]
    },
    {
      "cell_type": "markdown",
      "metadata": {
        "id": "Ugcm-GVIGvSw"
      },
      "source": [
        "Check if we have any column with incorrect data type"
      ]
    },
    {
      "cell_type": "markdown",
      "metadata": {
        "id": "JF9wliHpGvSw"
      },
      "source": [
        "Looking at the data and their corresponding data types, we can conclude that **No Data Type changes are required**"
      ]
    },
    {
      "cell_type": "markdown",
      "metadata": {
        "id": "eDBWZdMmGvSx"
      },
      "source": [
        "# Dealing with missing values"
      ]
    },
    {
      "cell_type": "markdown",
      "metadata": {
        "id": "XtwCYCH9GvSx"
      },
      "source": [
        "Check if we have any null values in the dataset"
      ]
    },
    {
      "cell_type": "markdown",
      "metadata": {
        "id": "xQ3P1AXmGvSx"
      },
      "source": [
        "Get Total number of null values in the dataset"
      ]
    },
    {
      "cell_type": "markdown",
      "metadata": {
        "id": "kLuAPqDKGvSx"
      },
      "source": [
        "Getting the list of column(s) which have null values"
      ]
    },
    {
      "cell_type": "markdown",
      "metadata": {
        "id": "Ueru8GpnGvSy"
      },
      "source": [
        "There are totally `16` columns having one or more NULL values in the data"
      ]
    },
    {
      "cell_type": "markdown",
      "metadata": {
        "id": "cgVY10SxGvSy"
      },
      "source": [
        "## Computing count and percentage of missing values"
      ]
    },
    {
      "cell_type": "markdown",
      "metadata": {
        "id": "JeATNXTuGvS0"
      },
      "source": [
        "## Removing columns with NULL values > 40%"
      ]
    },
    {
      "cell_type": "markdown",
      "metadata": {
        "id": "uomr4V7JGvS0"
      },
      "source": [
        "Getting list of columns with NULL values > 40% into a list. We will be removing these columns from the dataframe as there are too many missing values."
      ]
    },
    {
      "cell_type": "markdown",
      "metadata": {
        "id": "JDlLSZ35GvS2"
      },
      "source": [
        "There are totally `11` columns to be removed. Deleting them from previous application dataframe **`df_prev`**"
      ]
    },
    {
      "cell_type": "markdown",
      "metadata": {
        "id": "Do4EQNptGvS3"
      },
      "source": [
        "Checking column count post removal. Only `26` columns should be left"
      ]
    },
    {
      "cell_type": "markdown",
      "metadata": {
        "id": "KxCLME0fGvS3"
      },
      "source": [
        "## Checking columns with NULL values < 40%"
      ]
    },
    {
      "cell_type": "markdown",
      "metadata": {
        "id": "u1QXbkWAGvS3"
      },
      "source": [
        "Creating dataframe `null_df_under40` with missing column percentages under 40%"
      ]
    },
    {
      "cell_type": "markdown",
      "metadata": {
        "id": "U63pVVoOGvS4"
      },
      "source": [
        "### Analysis of `AMT_GOODS_PRICE` column\n",
        "\n",
        "-  null values = 23.08%"
      ]
    },
    {
      "cell_type": "markdown",
      "metadata": {
        "id": "C5VnlQcVGvS4"
      },
      "source": [
        "Getting percentile values for `AMT_GOODS_PRICE`"
      ]
    },
    {
      "cell_type": "markdown",
      "metadata": {
        "id": "wHNx1I8iGvS4"
      },
      "source": [
        "Most recurring value in `AMT_GOODS_PRICE`"
      ]
    },
    {
      "cell_type": "markdown",
      "metadata": {
        "id": "fGhW1wR_GvS5"
      },
      "source": [
        "Checking the average value of `AMT_GOODS_PRICE`"
      ]
    },
    {
      "cell_type": "markdown",
      "metadata": {
        "id": "pwh6oR6aGvS5"
      },
      "source": [
        "**Observations**\n",
        "-  Looking at the boxplot, median is 112320.00\n",
        "-  Most recurring value is 45000.0\n",
        "-  Mean value is 227847.27928334344\n",
        "-  Since missing percentage value is higher (23.08%), it would be better to leave the data as it is and not perform imputations"
      ]
    },
    {
      "cell_type": "markdown",
      "metadata": {
        "id": "FFCsGrPBGvS5"
      },
      "source": [
        "### Analysis of `AMT_ANNUITY` column\n",
        "\n",
        "-  null values = 22.29%"
      ]
    },
    {
      "cell_type": "markdown",
      "metadata": {
        "id": "Ao1oh2FuGvS5"
      },
      "source": [
        "Getting percentile values for `AMT_ANNUITY`"
      ]
    },
    {
      "cell_type": "markdown",
      "metadata": {
        "id": "Rq-xSYIXGvS-"
      },
      "source": [
        "Most recurring value in `AMT_ANNUITY`"
      ]
    },
    {
      "cell_type": "markdown",
      "metadata": {
        "id": "-cPug1fxGvS-"
      },
      "source": [
        "Checking the average value of `AMT_ANNUITY`"
      ]
    },
    {
      "cell_type": "markdown",
      "metadata": {
        "id": "eVjiey6wGvS-"
      },
      "source": [
        "**Observations**\n",
        "-  Looking at the boxplot, median is 11250.00\n",
        "-  Most recurring value is 2250.0\n",
        "-  Mean value is 15955.120659450406\n",
        "-  Since missing percentage value is higher (22.29%), it would be better to leave the data as it is and not perform imputations"
      ]
    },
    {
      "cell_type": "markdown",
      "metadata": {
        "id": "f8YKZSM8GvS_"
      },
      "source": [
        "### Analysis of `CNT_PAYMENT` column\n",
        "\n",
        "-  null values = 22.29%"
      ]
    },
    {
      "cell_type": "markdown",
      "metadata": {
        "id": "X_8WWq63GvS_"
      },
      "source": [
        "Getting percentile values for `CNT_PAYMENT`"
      ]
    },
    {
      "cell_type": "markdown",
      "metadata": {
        "id": "nkB2B5O4GvS_"
      },
      "source": [
        "Most recurring value in `CNT_PAYMENT`"
      ]
    },
    {
      "cell_type": "markdown",
      "metadata": {
        "id": "JwTWA9KrGvTA"
      },
      "source": [
        "Checking the average value of `CNT_PAYMENT`"
      ]
    },
    {
      "cell_type": "markdown",
      "metadata": {
        "id": "IZOQGhWJGvTA"
      },
      "source": [
        "**Observations**\n",
        "-  Looking at the boxplot, median is 12.00\n",
        "-  Most recurring value is 12.0\n",
        "-  Mean value is 16.0540815603274\n",
        "-  Though median & mode are same, since missing percentage value is higher (22.29%), it would be better to leave the data as it is and not perform imputations"
      ]
    },
    {
      "cell_type": "markdown",
      "metadata": {
        "id": "iAiwpgW_GvTA"
      },
      "source": [
        "## Checking columns with NULL values > 0% and < 1%"
      ]
    },
    {
      "cell_type": "markdown",
      "metadata": {
        "id": "2iMIaXydGvTA"
      },
      "source": [
        "Creating dataframe `null_df_under1` with missing column percentages values > 0% and < 1%"
      ]
    },
    {
      "cell_type": "markdown",
      "metadata": {
        "id": "xMdow5DPGvTB"
      },
      "source": [
        "### Analysis of `PRODUCT_COMBINATION` column\n",
        "\n",
        "-  null values = 0.02%"
      ]
    },
    {
      "cell_type": "markdown",
      "metadata": {
        "id": "RDVxLJZvGvTB"
      },
      "source": [
        "**Observations**\n",
        "-  Looking at the plot, `Cash` Product_Combination has the highest number of loan applicants\n",
        "-  We can go ahead and impute `Cash` in the dataframe"
      ]
    },
    {
      "cell_type": "markdown",
      "metadata": {
        "id": "kXu7sZtTGvTB"
      },
      "source": [
        "# Dealing with incorrect/unknown data values"
      ]
    },
    {
      "cell_type": "markdown",
      "metadata": {
        "id": "VazKChZ9GvTB"
      },
      "source": [
        "### Analysis of `NAME_CASH_LOAN_PURPOSE` column"
      ]
    },
    {
      "cell_type": "markdown",
      "metadata": {
        "id": "OdLX7qBWGvTB"
      },
      "source": [
        "Checking range of values"
      ]
    },
    {
      "cell_type": "markdown",
      "metadata": {
        "id": "RF8tUyYEGvTC"
      },
      "source": [
        "**Observations**\n",
        "- Though `XAP` and `XNA` don't provide any understanding of Loan purpose, they indicate Not Available and Not Applicable\n",
        "- Since this makes up 99% of the data, we will leave it as is"
      ]
    },
    {
      "cell_type": "markdown",
      "metadata": {
        "id": "mpB9fTyWGvTC"
      },
      "source": [
        "### Analysis of `DAYS_DECISION` column"
      ]
    },
    {
      "cell_type": "markdown",
      "metadata": {
        "id": "NLduG_TJGvTC"
      },
      "source": [
        "There are 2922 unique records all of which seem to be having negative values"
      ]
    },
    {
      "cell_type": "markdown",
      "metadata": {
        "id": "VZRlvo3WGvTC"
      },
      "source": [
        "Converting `DAYS_DECISION` to positive days"
      ]
    },
    {
      "cell_type": "markdown",
      "metadata": {
        "id": "bpPB3ItNGvTD"
      },
      "source": [
        "All Days in `DAYS_DECISION` have positive values"
      ]
    },
    {
      "cell_type": "markdown",
      "metadata": {
        "id": "VYpEM1mpGvTD"
      },
      "source": [
        "### Analysis of `NAME_PAYMENT_TYPE` column"
      ]
    },
    {
      "cell_type": "markdown",
      "metadata": {
        "id": "EP69jYHjGvTD"
      },
      "source": [
        "Checking range of values"
      ]
    },
    {
      "cell_type": "markdown",
      "metadata": {
        "id": "Zj_hl3i3GvTD"
      },
      "source": [
        "**Observations**\n",
        "- Though `XNA` doesn't provide any understanding of Payment TYpe, it indicates Not Applicable\n",
        "- Since this makes up 38% of the data, we will leave it as is"
      ]
    },
    {
      "cell_type": "markdown",
      "metadata": {
        "id": "w55VZH7zGvTD"
      },
      "source": [
        "### Analysis of `CODE_REJECT_REASON` column"
      ]
    },
    {
      "cell_type": "markdown",
      "metadata": {
        "id": "FEoE9mqNGvTE"
      },
      "source": [
        "Checking range of values"
      ]
    },
    {
      "cell_type": "markdown",
      "metadata": {
        "id": "EmOkHqG2GvTE"
      },
      "source": [
        "**Observations**\n",
        "- Though `XAP` doesn't provide any understanding of Payment Type, it indicates Not Available\n",
        "- Since this makes up 81% of the data, we will leave it as is"
      ]
    },
    {
      "cell_type": "markdown",
      "metadata": {
        "id": "wZmmGDpmGvTE"
      },
      "source": [
        "### Analysis of `NAME_CLIENT_TYPE` column"
      ]
    },
    {
      "cell_type": "markdown",
      "metadata": {
        "id": "t6i8FDcRGvTE"
      },
      "source": [
        "Checking range of values"
      ]
    },
    {
      "cell_type": "markdown",
      "metadata": {
        "id": "NnUCM96sGvTE"
      },
      "source": [
        "`XNA` value may indicate that the value was not provided by the loan applicant or missed by the loan officer verifying the application"
      ]
    },
    {
      "cell_type": "markdown",
      "metadata": {
        "id": "Srhxs6jzGvTF"
      },
      "source": [
        "As data looks valid, we will go ahead and check for an imputation method.\n",
        "-  `Repeater` applicants make up 74% of applicants\n",
        "-  And so, we will go ahead and impute `NAME_CLIENT_TYPE` with 'Repeater'"
      ]
    },
    {
      "cell_type": "markdown",
      "metadata": {
        "id": "tmLkKddoGvTF"
      },
      "source": [
        "Checking if `XNA` is removed"
      ]
    },
    {
      "cell_type": "markdown",
      "metadata": {
        "id": "gpYpmFlGGvTF"
      },
      "source": [
        "There are other columns with `XNA` but we will leave them as is"
      ]
    },
    {
      "cell_type": "markdown",
      "metadata": {
        "id": "CoJrtCeeGvTF"
      },
      "source": [
        "# Dealing with outliers for numerical columns"
      ]
    },
    {
      "cell_type": "markdown",
      "metadata": {
        "id": "Dse50c8ZGvTF"
      },
      "source": [
        "### Analysis of `AMT_ANNUITY` column"
      ]
    },
    {
      "cell_type": "markdown",
      "metadata": {
        "id": "ZWjO7RTeGvTG"
      },
      "source": [
        "Calculating IQR (Inter Quartile range)"
      ]
    },
    {
      "cell_type": "markdown",
      "metadata": {
        "id": "dEImKbFeGvTG"
      },
      "source": [
        "Values before (Q1 - 1.5 * IQR) and (Q3 + 1.5 * IQR) are outliers"
      ]
    },
    {
      "cell_type": "markdown",
      "metadata": {
        "id": "-6rq-et6GvTG"
      },
      "source": [
        "**Observations**\n",
        "-  `AMT_ANNUITY` values above 42163.38 are outliers"
      ]
    },
    {
      "cell_type": "markdown",
      "metadata": {
        "id": "_-pspd7fGvTG"
      },
      "source": [
        "### Analysis of `AMT_APPLICATION` column"
      ]
    },
    {
      "cell_type": "markdown",
      "metadata": {
        "id": "AY7RNspnGvTH"
      },
      "source": [
        "Calculating IQR (Inter Quartile range)"
      ]
    },
    {
      "cell_type": "markdown",
      "metadata": {
        "id": "dkc6P82uGvTH"
      },
      "source": [
        "Values before (Q1 - 1.5 * IQR) and (Q3 + 1.5 * IQR) are outliers"
      ]
    },
    {
      "cell_type": "markdown",
      "metadata": {
        "id": "q7f3o7ngGvTH"
      },
      "source": [
        "**Observations**\n",
        "-  `AMT_APPLICATION` values above 422820.0 are outliers"
      ]
    },
    {
      "cell_type": "markdown",
      "metadata": {
        "id": "MoqrE2FLGvTH"
      },
      "source": [
        "### Analysis of `AMT_CREDIT` column"
      ]
    },
    {
      "cell_type": "markdown",
      "metadata": {
        "id": "7c4uwt_XGvTI"
      },
      "source": [
        "Calculating IQR (Inter Quartile range)"
      ]
    },
    {
      "cell_type": "markdown",
      "metadata": {
        "id": "RNwgBGkYGvTI"
      },
      "source": [
        "Values before (Q1 - 1.5 * IQR) and (Q3 + 1.5 * IQR) are outliers"
      ]
    },
    {
      "cell_type": "markdown",
      "metadata": {
        "id": "RMQG9V1YGvTI"
      },
      "source": [
        "**Observations**\n",
        "-  `AMT_CREDIT` values above 504805.5 are outliers"
      ]
    },
    {
      "cell_type": "markdown",
      "metadata": {
        "id": "1-Q3JsHtGvTI"
      },
      "source": [
        "# Merge datasets `df` and `df_prev` into `df_merge`"
      ]
    },
    {
      "cell_type": "markdown",
      "metadata": {
        "id": "ZcE_SroWGvTJ"
      },
      "source": [
        "# Check structure of the data"
      ]
    },
    {
      "cell_type": "markdown",
      "metadata": {
        "id": "mpV0110tGvTJ"
      },
      "source": [
        "We do not see any columns with null values"
      ]
    },
    {
      "cell_type": "markdown",
      "metadata": {
        "id": "MmrRboMsGvTJ"
      },
      "source": [
        "There are ~1.41 million rows and 106 columns"
      ]
    },
    {
      "cell_type": "markdown",
      "metadata": {
        "id": "3EDF1RSDGvTJ"
      },
      "source": [
        "## Get statistical summary for numerical variables"
      ]
    },
    {
      "cell_type": "markdown",
      "metadata": {
        "id": "JNGtZeb_GvTK"
      },
      "source": [
        "# Analyzing categorical variables"
      ]
    },
    {
      "cell_type": "markdown",
      "metadata": {
        "id": "vy1mH7z6GvTK"
      },
      "source": [
        "There are 29 `categorical` variables"
      ]
    },
    {
      "cell_type": "markdown",
      "metadata": {
        "id": "AYjqkbq4GvTK"
      },
      "source": [
        "# Analyzing numerical variables"
      ]
    },
    {
      "cell_type": "markdown",
      "metadata": {
        "id": "UpEDh8fiGvTK"
      },
      "source": [
        "There are 76 `numerical` variables"
      ]
    },
    {
      "cell_type": "markdown",
      "metadata": {
        "id": "hIPoviVLGvTK"
      },
      "source": [
        "# Univariate analysis of categorical variables"
      ]
    },
    {
      "cell_type": "markdown",
      "metadata": {
        "id": "z8DjcY7KGvTK"
      },
      "source": [
        "### Analysis of `NAME_CONTRACT_STATUS`"
      ]
    },
    {
      "cell_type": "markdown",
      "metadata": {
        "id": "G5fv2OuDGvTL"
      },
      "source": [
        "**Observations**\n",
        "\n",
        "- `Approved` loan status is the highest among all loan applications\n",
        "- `Canceled` loan status is the second highest among all loan applications"
      ]
    },
    {
      "cell_type": "markdown",
      "metadata": {
        "id": "P-cmQxX2GvTL"
      },
      "source": [
        "### Analysis of `NAME_CLIENT_TYPE`"
      ]
    },
    {
      "cell_type": "markdown",
      "metadata": {
        "id": "BiU80bUwGvTL"
      },
      "source": [
        "**Observations**\n",
        "\n",
        "- `Repeater` client type is the highest among all loan applications\n",
        "- `New` client type is the second highest among all loan applications"
      ]
    },
    {
      "cell_type": "markdown",
      "metadata": {
        "id": "lECNe0rvGvTL"
      },
      "source": [
        "### Analysis of `CHANNEL_TYPE`"
      ]
    },
    {
      "cell_type": "markdown",
      "metadata": {
        "id": "z1s9pCOOGvTM"
      },
      "source": [
        "**Observations**\n",
        "\n",
        "- `Country-wide` Channel type is the highest among all loan applications\n",
        "- `Credit and cash offices` is the second highest Channel Type among all loan applications"
      ]
    },
    {
      "cell_type": "markdown",
      "metadata": {
        "id": "dvP9B6u2GvTM"
      },
      "source": [
        "### Analysis of `NAME_YIELD_GROUP`"
      ]
    },
    {
      "cell_type": "markdown",
      "metadata": {
        "id": "zWKm8RtoGvTN"
      },
      "source": [
        "**Observations**\n",
        "\n",
        "- `XNA` interest rate is the highest among all loan applications\n",
        "- `middle` and `high` interest rates are the second and third highest among all loan applications"
      ]
    },
    {
      "cell_type": "markdown",
      "metadata": {
        "id": "OpQUwziHGvTN"
      },
      "source": [
        "### Analysis of `NAME_GOODS_CATEGORY`"
      ]
    },
    {
      "cell_type": "markdown",
      "metadata": {
        "id": "GE2OqsUfGvTO"
      },
      "source": [
        "**Observations**\n",
        "\n",
        "- `XNA` goods category is the highest among all loan applications\n",
        "- `mobile` goods categoryis the second highest among all loan applications"
      ]
    },
    {
      "cell_type": "markdown",
      "metadata": {
        "id": "z8WxeO4ZGvTO"
      },
      "source": [
        "# Univariate analysis of numerical variables"
      ]
    },
    {
      "cell_type": "markdown",
      "metadata": {
        "id": "d6wBl6-TGvTO"
      },
      "source": [
        "### Analysis of `AMT_APPLICATION`"
      ]
    },
    {
      "cell_type": "markdown",
      "metadata": {
        "id": "1-8k7l_KGvTO"
      },
      "source": [
        "#### Outlier identification of `AMT_APPLICATION`"
      ]
    },
    {
      "cell_type": "markdown",
      "metadata": {
        "id": "NCDasBeFGvTO"
      },
      "source": [
        "Calculating IQR (Inter Quartile range)"
      ]
    },
    {
      "cell_type": "markdown",
      "metadata": {
        "id": "8NbDsM7wGvTO"
      },
      "source": [
        "Values before (Q1 - 1.5 * IQR) and (Q3 + 1.5 * IQR) are outliers"
      ]
    },
    {
      "cell_type": "markdown",
      "metadata": {
        "id": "vyFEAlWEGvTO"
      },
      "source": [
        "Removing outliers and plotting distplot"
      ]
    },
    {
      "cell_type": "markdown",
      "metadata": {
        "id": "P54qp131GvTP"
      },
      "source": [
        "**Observations**\n",
        "\n",
        "- Most of the loan amount applied by the clients initially seems to be very small as can be seen from the huge spike at the beginning of the distribution"
      ]
    },
    {
      "cell_type": "markdown",
      "metadata": {
        "id": "lzhE71LDGvTP"
      },
      "source": [
        "### Analysis of `AMT_ANNUITY_y`"
      ]
    },
    {
      "cell_type": "markdown",
      "metadata": {
        "id": "lzfy9XVCGvTP"
      },
      "source": [
        "#### Outlier identification of `AMT_ANNUITY_y`"
      ]
    },
    {
      "cell_type": "markdown",
      "metadata": {
        "id": "y1Qi-uGXGvTP"
      },
      "source": [
        "Calculating IQR (Inter Quartile range)"
      ]
    },
    {
      "cell_type": "markdown",
      "metadata": {
        "id": "SZ2GZl3QGvTP"
      },
      "source": [
        "Values before (Q1 - 1.5 * IQR) and (Q3 + 1.5 * IQR) are outliers"
      ]
    },
    {
      "cell_type": "markdown",
      "metadata": {
        "id": "NNc5DkIdGvTP"
      },
      "source": [
        "Removing outliers and plotting distplot"
      ]
    },
    {
      "cell_type": "markdown",
      "metadata": {
        "id": "5NSWtOimGvTP"
      },
      "source": [
        "**Observations**\n",
        "\n",
        "- Most of the previous loan's annuity from the clients is less than 10,000 as the distribution is high here\n",
        "- As previous loan's annuity increases, the no. of clients decreases"
      ]
    },
    {
      "cell_type": "markdown",
      "metadata": {
        "id": "kL62RWh2GvTP"
      },
      "source": [
        "### Analysis of `AMT_CREDIT_y`"
      ]
    },
    {
      "cell_type": "markdown",
      "metadata": {
        "id": "Y1Ot-TZ7GvTQ"
      },
      "source": [
        "#### Outlier identification of `AMT_CREDIT_y`"
      ]
    },
    {
      "cell_type": "markdown",
      "metadata": {
        "id": "VsyddmfQGvTQ"
      },
      "source": [
        "Calculating IQR (Inter Quartile range)"
      ]
    },
    {
      "cell_type": "markdown",
      "metadata": {
        "id": "YBVSZ2QRGvTQ"
      },
      "source": [
        "Values before (Q1 - 1.5 * IQR) and (Q3 + 1.5 * IQR) are outliers"
      ]
    },
    {
      "cell_type": "markdown",
      "metadata": {
        "id": "hqOW5fveGvTQ"
      },
      "source": [
        "Removing outliers and plotting distplot"
      ]
    },
    {
      "cell_type": "markdown",
      "metadata": {
        "id": "6EIQws4CGvTQ"
      },
      "source": [
        "**Observations**\n",
        "\n",
        "- This distribution very closely resembles that of AMT_APPLICATION. This means that most people received the loan amount that they applied for"
      ]
    },
    {
      "cell_type": "markdown",
      "metadata": {
        "id": "QJd_wzlxGvTQ"
      },
      "source": [
        "### Analysis of `AMT_GOODS_PRICE_y`"
      ]
    },
    {
      "cell_type": "markdown",
      "metadata": {
        "id": "d4CE_H1CGvTQ"
      },
      "source": [
        "#### Outlier identification of `AMT_GOODS_PRICE_y`"
      ]
    },
    {
      "cell_type": "markdown",
      "metadata": {
        "id": "zw5i3fy1GvTR"
      },
      "source": [
        "Calculating IQR (Inter Quartile range)"
      ]
    },
    {
      "cell_type": "markdown",
      "metadata": {
        "id": "mwkBgShwGvTR"
      },
      "source": [
        "Values before (Q1 - 1.5 * IQR) and (Q3 + 1.5 * IQR) are outliers"
      ]
    },
    {
      "cell_type": "markdown",
      "metadata": {
        "id": "oyDot0xVGvTR"
      },
      "source": [
        "Removing outliers and plotting distplot"
      ]
    },
    {
      "cell_type": "markdown",
      "metadata": {
        "id": "ETC2V0c8GvTR"
      },
      "source": [
        "**Observations**\n",
        "\n",
        "- Most of the goods price asked by clients in previous application is less than 100K"
      ]
    },
    {
      "cell_type": "markdown",
      "metadata": {
        "id": "aXNV_Ma0GvTR"
      },
      "source": [
        "# Correlation analysis of numerical variables"
      ]
    },
    {
      "cell_type": "markdown",
      "metadata": {
        "id": "PALGUi0TGvTR"
      },
      "source": [
        "### Plotting correlation matrix"
      ]
    },
    {
      "cell_type": "markdown",
      "metadata": {
        "id": "UQ6YDcyyGvTS"
      },
      "source": [
        "Creating a HeatMap"
      ]
    },
    {
      "cell_type": "markdown",
      "metadata": {
        "id": "VU3915dHGvTS"
      },
      "source": [
        "**Observations**\n",
        "- `AMT_APPLICATION` has a high correlation with `AMT_ANNUITY_y`,`AMT_CREDIT_y`,`AMT_GOODS_PRICE_y` and decent correlation with `CNT_PAYMENT`\n",
        "- `AMT_GOODS_PRICE_y` has a high correlation with `AMT_ANNUITY_y`,`AMT_CREDIT_y`,`AMT_APPLICATION` and decent correlation with `CNT_PAYMENT`\n",
        "- `AMT_CREDIT_y` has a high correlation with `AMT_GOODS_PRICE_y` and decent correlation with `CNT_PAYMENT`\n",
        "- `AMT_ANNUITY_x` has a high correlation with `AMT_GOODS_PRICE_y`,`AMT_CREDIT_y`\n",
        "- `AMT_ANNUITY_x` has a high correlation with `AMT_GOODS_PRICE_x`,`AMT_CREDIT_x`\n",
        "- `AMT_CREDIT_x` has a high correlation with `AMT_GOODS_PRICE_x`"
      ]
    },
    {
      "cell_type": "markdown",
      "metadata": {
        "id": "XQCdZuDAGvTS"
      },
      "source": [
        "# Bivariate/Multivariate analysis"
      ]
    },
    {
      "cell_type": "markdown",
      "metadata": {
        "id": "dZTXU3-bGvTS"
      },
      "source": [
        "## Continuous V/S Continuous variables"
      ]
    },
    {
      "cell_type": "markdown",
      "metadata": {
        "id": "zEOw4oITGvTS"
      },
      "source": [
        "### Analysis of `AMT_GOODS_PRICE_y` V/S `AMT_CREDIT_y` V/S `NAME_CONTRACT_STATUS`"
      ]
    },
    {
      "cell_type": "markdown",
      "metadata": {
        "id": "0L35_PKLGvTS"
      },
      "source": [
        "**Outlier identification of `AMT_GOODS_PRICE_y`**"
      ]
    },
    {
      "cell_type": "markdown",
      "metadata": {
        "id": "3TzCtOv7GvTS"
      },
      "source": [
        "**Outlier identification of `AMT_CREDIT_y`**"
      ]
    },
    {
      "cell_type": "markdown",
      "metadata": {
        "id": "9fWcAXqEGvTT"
      },
      "source": [
        "Plotting scatterplot"
      ]
    },
    {
      "cell_type": "markdown",
      "metadata": {
        "id": "v6xLahUxGvTT"
      },
      "source": [
        "**Observations**\n",
        "- At lower levels of previous application's Goods price < 200K and Credit > 300k, have a chance of getting refused. However, this is a weak correlation as we have less data points to support this"
      ]
    },
    {
      "cell_type": "markdown",
      "metadata": {
        "id": "SycyNzGUGvTT"
      },
      "source": [
        "### Analysis of `AMT_ANNUITY_y` V/S `AMT_CREDIT_y` V/S `NAME_CONTRACT_STATUS`"
      ]
    },
    {
      "cell_type": "markdown",
      "metadata": {
        "id": "31j1A6i1GvTT"
      },
      "source": [
        "**Outlier identification of `AMT_ANNUITY_y`**"
      ]
    },
    {
      "cell_type": "markdown",
      "metadata": {
        "id": "gcr4230KGvTT"
      },
      "source": [
        "**Outlier identification of `AMT_CREDIT_y`**"
      ]
    },
    {
      "cell_type": "markdown",
      "metadata": {
        "id": "FgFs8mwqGvTT"
      },
      "source": [
        "Plotting scatterplot"
      ]
    },
    {
      "cell_type": "markdown",
      "metadata": {
        "id": "JlQtiNc_GvTT"
      },
      "source": [
        "**Observations**\n",
        "- There are lots of refusal observations with Annuity amount < 10000 and Credit amount > ~250K. This might be because higher credit amount should also require higher Annuity from Client to pay it"
      ]
    },
    {
      "cell_type": "markdown",
      "metadata": {
        "id": "oGkPLFMLGvTU"
      },
      "source": [
        "### Analysis of `AMT_APPLICATION` V/S `AMT_GOODS_PRICE_y` V/S `NAME_CONTRACT_STATUS`"
      ]
    },
    {
      "cell_type": "markdown",
      "metadata": {
        "id": "3b1h3bwyGvTU"
      },
      "source": [
        "**Outlier identification of `AMT_APPLICATION`**"
      ]
    },
    {
      "cell_type": "markdown",
      "metadata": {
        "id": "x0DxP1UAGvTU"
      },
      "source": [
        "**Outlier identification of `AMT_GOODS_PRICE_y`**"
      ]
    },
    {
      "cell_type": "markdown",
      "metadata": {
        "id": "3OnwZRLRGvTU"
      },
      "source": [
        "Plotting scatterplot"
      ]
    },
    {
      "cell_type": "markdown",
      "metadata": {
        "id": "XihYXdpgGvTU"
      },
      "source": [
        "**Observations**\n",
        "- Application amount has strong positive correlation with Goods price"
      ]
    },
    {
      "cell_type": "markdown",
      "metadata": {
        "id": "xR4a1QyYGvTU"
      },
      "source": [
        "### Analysis of `AMT_APPLICATION` V/S `AMT_CREDIT_y` V/S `NAME_CONTRACT_STATUS`"
      ]
    },
    {
      "cell_type": "markdown",
      "metadata": {
        "id": "Fc5gtFBGGvTU"
      },
      "source": [
        "**Outlier identification of `AMT_APPLICATION`**"
      ]
    },
    {
      "cell_type": "markdown",
      "metadata": {
        "id": "UrtwpEXyGvTV"
      },
      "source": [
        "**Outlier identification of `AMT_CREDIT_y`**"
      ]
    },
    {
      "cell_type": "markdown",
      "metadata": {
        "id": "LzZ-S-odGvTV"
      },
      "source": [
        "Plotting scatterplot"
      ]
    },
    {
      "cell_type": "markdown",
      "metadata": {
        "id": "5QsKajq0GvTV"
      },
      "source": [
        "**Observations**\n",
        "- Application amount has strong positive correlation with Credit amount"
      ]
    },
    {
      "cell_type": "markdown",
      "metadata": {
        "id": "09EQLXFmGvTV"
      },
      "source": [
        "## Continuous V/S Categorical variables"
      ]
    },
    {
      "cell_type": "markdown",
      "metadata": {
        "id": "nUgQ_RiZGvTV"
      },
      "source": [
        "### Analysis of `NAME_CONTRACT_STATUS` V/S `AMT_CREDIT_y` V/S `CODE_GENDER`"
      ]
    },
    {
      "cell_type": "markdown",
      "metadata": {
        "id": "BqaLHED7GvTV"
      },
      "source": [
        "**Outlier identification of `AMT_CREDIT_y`**"
      ]
    },
    {
      "cell_type": "markdown",
      "metadata": {
        "id": "Q0MlwCyiGvTV"
      },
      "source": [
        "**Client with Payment difficulties**"
      ]
    },
    {
      "cell_type": "markdown",
      "metadata": {
        "id": "2oH5w2ZAGvTV"
      },
      "source": [
        "**Observations**\n",
        "- Clients who are `Refused` and `Female` apply for higher median credit amount than `Male`"
      ]
    },
    {
      "cell_type": "markdown",
      "metadata": {
        "id": "Jvzqt6TRGvTW"
      },
      "source": [
        "### Analysis of `NAME_CONTRACT_STATUS` V/S `AMT_ANNUITY_y` V/S `CODE_GENDER`"
      ]
    },
    {
      "cell_type": "markdown",
      "metadata": {
        "id": "xhlZnuqZGvTW"
      },
      "source": [
        "**Outlier identification of `AMT_ANNUITY_y`**"
      ]
    },
    {
      "cell_type": "markdown",
      "metadata": {
        "id": "e3p4dpxBGvTW"
      },
      "source": [
        "**Client with Payment difficulties**"
      ]
    },
    {
      "cell_type": "markdown",
      "metadata": {
        "id": "v3VkK5KqGvTW"
      },
      "source": [
        "**Observations**\n",
        "- Clients who got `Cancelled` and `Male` paid higher median Annuity than `Female`\n",
        "- Clients who got `Refused` and `Female` paid higher median Annuity than `Male`"
      ]
    },
    {
      "cell_type": "markdown",
      "metadata": {
        "id": "qtTKj1_3GvTW"
      },
      "source": [
        "### Analysis of `NAME_CLIENT_TYPE` V/S `AMT_GOODS_PRICE_y` V/S `NAME_CONTRACT_STATUS`"
      ]
    },
    {
      "cell_type": "markdown",
      "metadata": {
        "id": "rt24wissGvTW"
      },
      "source": [
        "**Outlier identification of `AMT_GOODS_PRICE_y`**"
      ]
    },
    {
      "cell_type": "markdown",
      "metadata": {
        "id": "VQQFTHekGvTW"
      },
      "source": [
        "**Client with Payment difficulties**"
      ]
    },
    {
      "cell_type": "markdown",
      "metadata": {
        "id": "fRVu9pvNGvTW"
      },
      "source": [
        "**Observations**\n",
        "- Clients who are `New` and `Canceled`have less median goods price compared to `Repeater` and `Refreshed`\n",
        "- Clients who are `Approved` and `New` have less median goods price compared to  `Repeater` and `Refreshed`"
      ]
    },
    {
      "cell_type": "markdown",
      "metadata": {
        "id": "6zQOIzDIGvTW"
      },
      "source": [
        "### Analysis of `NAME_CONTRACT_STATUS` V/S `AMT_CREDIT_y` V/S `NAME_PORTFOLIO`"
      ]
    },
    {
      "cell_type": "markdown",
      "metadata": {
        "id": "atW3UVaBGvTW"
      },
      "source": [
        "**Outlier identification of `AMT_CREDIT_y`**"
      ]
    },
    {
      "cell_type": "markdown",
      "metadata": {
        "id": "CHZLQ_05GvTX"
      },
      "source": [
        "**Client with Payment difficulties**"
      ]
    },
    {
      "cell_type": "markdown",
      "metadata": {
        "id": "-32CusyjGvTX"
      },
      "source": [
        "**Observations**\n",
        "- Clients who have `Unused offer` receive more median credit in `POS` portfolio\n",
        "- Clients who are `Refused` receive more median credit in `Cash` portfolio\n",
        "- Clients who are `Approved` receive more median credit in `Cars` portfolio"
      ]
    },
    {
      "cell_type": "markdown",
      "metadata": {
        "id": "CyHpLgNiGvTX"
      },
      "source": [
        "## Categorical V/S Categorical variables"
      ]
    },
    {
      "cell_type": "markdown",
      "metadata": {
        "id": "WR9mTsFLGvTX"
      },
      "source": [
        "### Analysis of `YEARS_BIRTH_CATEGORY` V/S `NAME_CONTRACT_STATUS`"
      ]
    },
    {
      "cell_type": "markdown",
      "metadata": {
        "id": "GN_Vwcr9GvTX"
      },
      "source": [
        "**Observations**\n",
        "- Clients who are in the age range 30-40 get most approval followed by clients in 40-50 age range\n",
        "- Clients who are in the age range 60-70 receive least refusals followed by 20-30 age range"
      ]
    },
    {
      "cell_type": "markdown",
      "metadata": {
        "id": "nL3VPkwPGvTX"
      },
      "source": [
        "### Analysis of `NAME_FAMILY_STATUS` V/S `NAME_CONTRACT_STATUS`"
      ]
    },
    {
      "cell_type": "markdown",
      "metadata": {
        "id": "OxRJAwQxGvTX"
      },
      "source": [
        "**Observations**\n",
        "- Clients who are `Married` receive the most approvals"
      ]
    },
    {
      "cell_type": "markdown",
      "metadata": {
        "id": "37HtyixgGvTX"
      },
      "source": [
        "### Analysis of `NAME_EDUCATION_TYPE` V/S `NAME_CONTRACT_STATUS`"
      ]
    },
    {
      "cell_type": "markdown",
      "metadata": {
        "id": "JMMsRhnYGvTX"
      },
      "source": [
        "**Observations**\n",
        "- Clients who have `Secondary/secondary special` receive the most approvals"
      ]
    },
    {
      "cell_type": "markdown",
      "metadata": {
        "id": "no1cKFi2GvTX"
      },
      "source": [
        "### Analysis of `NAME_CLIENT_TYPE` V/S `NAME_CONTRACT_STATUS`"
      ]
    },
    {
      "cell_type": "markdown",
      "metadata": {
        "id": "ykyRI4wyGvTY"
      },
      "source": [
        "**Observations**\n",
        "- Clients who are `Repeaters` receive the most approvals followed by `New`"
      ]
    },
    {
      "cell_type": "markdown",
      "metadata": {
        "id": "_51bH1X1GvTY"
      },
      "source": [
        "***"
      ]
    },
    {
      "cell_type": "markdown",
      "metadata": {
        "id": "Uo6ap3FvGvTY"
      },
      "source": [
        "**Conclusion: Client categories to be targeted for providing loan**\n",
        "- Clients who are employed for more than 19 years\n",
        "- Clients in the age range 30-40 and 40-50\n",
        "- Clients who are Married\n",
        "- Male clients with Academic degree\n",
        "- Students and Businessman\n",
        "- Repeater clients"
      ]
    }
  ],
  "metadata": {
    "colab": {
      "provenance": []
    },
    "kaggle": {
      "accelerator": "none",
      "dataSources": [
        {
          "datasetId": 1464713,
          "sourceId": 2420782,
          "sourceType": "datasetVersion"
        }
      ],
      "dockerImageVersionId": 30120,
      "isGpuEnabled": false,
      "isInternetEnabled": true,
      "language": "python",
      "sourceType": "notebook"
    },
    "kernelspec": {
      "display_name": "Python 3 (ipykernel)",
      "language": "python",
      "name": "python3"
    },
    "language_info": {
      "codemirror_mode": {
        "name": "ipython",
        "version": 3
      },
      "file_extension": ".py",
      "mimetype": "text/x-python",
      "name": "python",
      "nbconvert_exporter": "python",
      "pygments_lexer": "ipython3",
      "version": "3.11.5"
    }
  },
  "nbformat": 4,
  "nbformat_minor": 0
}