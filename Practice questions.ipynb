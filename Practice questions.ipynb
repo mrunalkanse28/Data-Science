{
 "cells": [
  {
   "cell_type": "markdown",
   "id": "7ab30843-8bad-45c0-8af3-50a7208b377d",
   "metadata": {},
   "source": [
    "### Armstrong Number Or Not"
   ]
  },
  {
   "cell_type": "code",
   "execution_count": 6,
   "id": "18f94a2d-19d3-446b-a85b-075cc1c1435d",
   "metadata": {},
   "outputs": [
    {
     "name": "stdin",
     "output_type": "stream",
     "text": [
      "Enter a 3-digit number or more:  24\n"
     ]
    },
    {
     "name": "stdout",
     "output_type": "stream",
     "text": [
      "Number should be positive and atleast 3-digit number\n"
     ]
    }
   ],
   "source": [
    "number = int(input(\"Enter a 3-digit number or more: \"))\n",
    "if number < 0 or len(str(number)) < 3:\n",
    "    print('Number should be positive and atleast 3-digit number')\n",
    "else:\n",
    "    num_str = str(number)\n",
    "    num_digits = len(num_str)\n",
    "    sum = 0\n",
    "    for i in num_str:\n",
    "        sum += int(i)** num_digits\n",
    "    if sum == number:\n",
    "            print(\"armstrong number\")\n",
    "    else:\n",
    "            print('not an armstrong number')"
   ]
  },
  {
   "cell_type": "markdown",
   "id": "bf63400a-527c-4d53-a373-1aa8a0ab1122",
   "metadata": {},
   "source": [
    "### Anagram string or not"
   ]
  },
  {
   "cell_type": "code",
   "execution_count": 7,
   "id": "b48ed499-eec9-4f61-a09d-25f0608b72af",
   "metadata": {},
   "outputs": [
    {
     "name": "stdin",
     "output_type": "stream",
     "text": [
      "Enter string1:  pot\n",
      "Enter string2:  top\n"
     ]
    },
    {
     "name": "stdout",
     "output_type": "stream",
     "text": [
      "the strings are anagrams\n"
     ]
    }
   ],
   "source": [
    "def check(s1, s2):\n",
    "    if(sorted(s1) == sorted(s2)):\n",
    "        print('the strings are anagrams')\n",
    "    else:\n",
    "        print('the strings are not anagrams')\n",
    "s1 = input('Enter string1: ')\n",
    "s2 = input('Enter string2: ')\n",
    "check(s1,s2)"
   ]
  },
  {
   "cell_type": "markdown",
   "id": "7e7f394a-655d-401c-9909-3c26cae66d13",
   "metadata": {},
   "source": [
    "### String have vowels or not"
   ]
  },
  {
   "cell_type": "code",
   "execution_count": 11,
   "id": "8eeef633-6d7d-48d3-b498-a5182b625186",
   "metadata": {},
   "outputs": [
    {
     "name": "stdin",
     "output_type": "stream",
     "text": [
      "Enter a string:  Mrunal\n"
     ]
    },
    {
     "name": "stdout",
     "output_type": "stream",
     "text": [
      "there is a vowel\n"
     ]
    }
   ],
   "source": [
    "get_string = input('Enter a string: ').lower()\n",
    "vowel_list = ['a','e','i','o','e']\n",
    "vowel_check = False\n",
    "for character in get_string:\n",
    "    if character in vowel_list:\n",
    "        vowel_check = True\n",
    "        break\n",
    "if vowel_check == True:\n",
    "        print('there is a vowel')\n",
    "else:\n",
    "        print('there is no vowel')"
   ]
  },
  {
   "cell_type": "code",
   "execution_count": 6,
   "id": "15388209-1b80-4b9c-9576-ef59b82881c4",
   "metadata": {},
   "outputs": [
    {
     "name": "stdout",
     "output_type": "stream",
     "text": [
      "10\n"
     ]
    }
   ],
   "source": [
    "import decimal \n",
    "a = 10\n",
    "print(decimal.Decimal(a))"
   ]
  },
  {
   "cell_type": "code",
   "execution_count": 11,
   "id": "54ff8c15-77e5-4e68-b05a-59b1d64a3c09",
   "metadata": {},
   "outputs": [
    {
     "name": "stdout",
     "output_type": "stream",
     "text": [
      "3\n"
     ]
    }
   ],
   "source": [
    "numList = [1, 2, 3, 4, 5]\n",
    "midElement = int(len(numList)/2)\n",
    "\n",
    "print(numList[midElement])\n"
   ]
  },
  {
   "cell_type": "code",
   "execution_count": null,
   "id": "46ca60e6-e69f-427d-b85c-8b4845fd5ea4",
   "metadata": {},
   "outputs": [],
   "source": []
  }
 ],
 "metadata": {
  "kernelspec": {
   "display_name": "Python 3 (ipykernel)",
   "language": "python",
   "name": "python3"
  },
  "language_info": {
   "codemirror_mode": {
    "name": "ipython",
    "version": 3
   },
   "file_extension": ".py",
   "mimetype": "text/x-python",
   "name": "python",
   "nbconvert_exporter": "python",
   "pygments_lexer": "ipython3",
   "version": "3.12.4"
  }
 },
 "nbformat": 4,
 "nbformat_minor": 5
}
