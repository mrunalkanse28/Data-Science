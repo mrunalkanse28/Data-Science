{
 "cells": [
  {
   "cell_type": "code",
   "execution_count": 1,
   "id": "5a8c763b-33bb-4051-b737-15bf7c351411",
   "metadata": {},
   "outputs": [
    {
     "name": "stdout",
     "output_type": "stream",
     "text": [
      "Requirement already satisfied: pandas in c:\\users\\mrunal\\anaconda3\\lib\\site-packages (2.2.2)\n",
      "Requirement already satisfied: numpy>=1.26.0 in c:\\users\\mrunal\\anaconda3\\lib\\site-packages (from pandas) (1.26.4)\n",
      "Requirement already satisfied: python-dateutil>=2.8.2 in c:\\users\\mrunal\\anaconda3\\lib\\site-packages (from pandas) (2.9.0.post0)\n",
      "Requirement already satisfied: pytz>=2020.1 in c:\\users\\mrunal\\anaconda3\\lib\\site-packages (from pandas) (2024.1)\n",
      "Requirement already satisfied: tzdata>=2022.7 in c:\\users\\mrunal\\anaconda3\\lib\\site-packages (from pandas) (2023.3)\n",
      "Requirement already satisfied: six>=1.5 in c:\\users\\mrunal\\anaconda3\\lib\\site-packages (from python-dateutil>=2.8.2->pandas) (1.16.0)\n"
     ]
    }
   ],
   "source": [
    "!pip install pandas"
   ]
  },
  {
   "cell_type": "code",
   "execution_count": 2,
   "id": "e6443976-d227-4121-bc40-fea7eed75f63",
   "metadata": {},
   "outputs": [],
   "source": [
    "import pandas as pd\n",
    "from pandas import Series, DataFrame"
   ]
  },
  {
   "cell_type": "markdown",
   "id": "744c2b63-9321-433d-8968-971d8d540989",
   "metadata": {},
   "source": [
    "#### Series \n"
   ]
  },
  {
   "cell_type": "code",
   "execution_count": 3,
   "id": "e00effc4-4cfc-4ecb-8b2f-124ac4004c99",
   "metadata": {},
   "outputs": [
    {
     "data": {
      "text/plain": [
       "0    4\n",
       "1    2\n",
       "2    3\n",
       "3    4\n",
       "4    5\n",
       "dtype: int64"
      ]
     },
     "execution_count": 3,
     "metadata": {},
     "output_type": "execute_result"
    }
   ],
   "source": [
    "obj_1 = pd.Series([4,2,3,4,5])\n",
    "obj_1"
   ]
  },
  {
   "cell_type": "code",
   "execution_count": 4,
   "id": "63825c3d-5f20-49aa-8b91-89655eb48526",
   "metadata": {},
   "outputs": [
    {
     "data": {
      "text/plain": [
       "March    4\n",
       "April    2\n",
       "May      3\n",
       "June     4\n",
       "July     5\n",
       "dtype: int64"
      ]
     },
     "execution_count": 4,
     "metadata": {},
     "output_type": "execute_result"
    }
   ],
   "source": [
    "# If we want months at by default index\n",
    "obj_1 = pd.Series([4,2,3,4,5],index = ['March','April','May','June','July'])\n",
    "obj_1"
   ]
  },
  {
   "cell_type": "code",
   "execution_count": 5,
   "id": "38fcf0e0-2570-44e3-b6da-fd3b998a0039",
   "metadata": {},
   "outputs": [
    {
     "data": {
      "text/plain": [
       "array([4, 2, 3, 4, 5], dtype=int64)"
      ]
     },
     "execution_count": 5,
     "metadata": {},
     "output_type": "execute_result"
    }
   ],
   "source": [
    "obj_1.values"
   ]
  },
  {
   "cell_type": "code",
   "execution_count": 6,
   "id": "c5dae765-f73b-4273-9b4a-0038a697b50a",
   "metadata": {},
   "outputs": [
    {
     "data": {
      "text/plain": [
       "Index(['March', 'April', 'May', 'June', 'July'], dtype='object')"
      ]
     },
     "execution_count": 6,
     "metadata": {},
     "output_type": "execute_result"
    }
   ],
   "source": [
    "obj_1.index"
   ]
  },
  {
   "cell_type": "code",
   "execution_count": 7,
   "id": "d080f003-8320-4d45-ae61-d1b41d1c7607",
   "metadata": {},
   "outputs": [
    {
     "data": {
      "text/plain": [
       "4"
      ]
     },
     "execution_count": 7,
     "metadata": {},
     "output_type": "execute_result"
    }
   ],
   "source": [
    "# Indexing\n",
    "obj_1['March']"
   ]
  },
  {
   "cell_type": "code",
   "execution_count": 8,
   "id": "bb099c92-aef5-44fc-b3b3-3ef1acaf6461",
   "metadata": {},
   "outputs": [
    {
     "data": {
      "text/plain": [
       "March    6\n",
       "April    2\n",
       "May      3\n",
       "June     4\n",
       "July     5\n",
       "dtype: int64"
      ]
     },
     "execution_count": 8,
     "metadata": {},
     "output_type": "execute_result"
    }
   ],
   "source": [
    "# Update method\n",
    "obj_1['March'] = 6\n",
    "obj_1"
   ]
  },
  {
   "cell_type": "code",
   "execution_count": 9,
   "id": "a388c8ba-cd65-441e-8432-c1ee6247e99f",
   "metadata": {},
   "outputs": [
    {
     "name": "stdout",
     "output_type": "stream",
     "text": [
      "March    6\n",
      "July     5\n",
      "dtype: int64\n"
     ]
    }
   ],
   "source": [
    "# condition to filter out\n",
    "print(obj_1[obj_1 >= 5])"
   ]
  },
  {
   "cell_type": "code",
   "execution_count": 10,
   "id": "2dd9af78-10e0-4021-9afe-25671887d032",
   "metadata": {},
   "outputs": [
    {
     "data": {
      "text/plain": [
       "A    80\n",
       "B    90\n",
       "C    60\n",
       "D    70\n",
       "E    90\n",
       "dtype: int64"
      ]
     },
     "execution_count": 10,
     "metadata": {},
     "output_type": "execute_result"
    }
   ],
   "source": [
    "grade = pd.Series([80,90,60,70,90],index = ['A','B','C','D','E'])\n",
    "grade"
   ]
  },
  {
   "cell_type": "code",
   "execution_count": 11,
   "id": "2e65a74f-6453-44ec-a4e0-9514c61ad9b3",
   "metadata": {},
   "outputs": [
    {
     "data": {
      "text/plain": [
       "80"
      ]
     },
     "execution_count": 11,
     "metadata": {},
     "output_type": "execute_result"
    }
   ],
   "source": [
    "grade['A']"
   ]
  },
  {
   "cell_type": "code",
   "execution_count": 12,
   "id": "b97fe92c-8cf8-4769-8029-0fff02a73d2c",
   "metadata": {},
   "outputs": [
    {
     "data": {
      "text/plain": [
       "A    80\n",
       "B    80\n",
       "C    60\n",
       "D    70\n",
       "E    90\n",
       "dtype: int64"
      ]
     },
     "execution_count": 12,
     "metadata": {},
     "output_type": "execute_result"
    }
   ],
   "source": [
    "grade['B'] = 80\n",
    "grade"
   ]
  },
  {
   "cell_type": "code",
   "execution_count": 13,
   "id": "449e7e1f-815b-4572-9c27-731aee167286",
   "metadata": {},
   "outputs": [
    {
     "name": "stdout",
     "output_type": "stream",
     "text": [
      "A    80\n",
      "B    80\n",
      "D    70\n",
      "E    90\n",
      "dtype: int64\n"
     ]
    }
   ],
   "source": [
    "print(grade[grade >= 70])"
   ]
  },
  {
   "cell_type": "code",
   "execution_count": 14,
   "id": "1e594b6b-964b-454a-94ce-49dde5e117c8",
   "metadata": {},
   "outputs": [
    {
     "data": {
      "text/plain": [
       "March    1.2\n",
       "April    0.4\n",
       "May      0.6\n",
       "June     0.8\n",
       "July     1.0\n",
       "dtype: float64"
      ]
     },
     "execution_count": 14,
     "metadata": {},
     "output_type": "execute_result"
    }
   ],
   "source": [
    "# multiply the values of the given\n",
    "obj_2 = obj_1*0.20\n",
    "obj_2"
   ]
  },
  {
   "cell_type": "code",
   "execution_count": 15,
   "id": "8ef64aad-6224-4862-9c96-cca29bf2c956",
   "metadata": {},
   "outputs": [],
   "source": [
    "import numpy as np"
   ]
  },
  {
   "cell_type": "code",
   "execution_count": 16,
   "id": "fa4a082c-b6f4-4be8-ad99-e04bc79efe13",
   "metadata": {},
   "outputs": [
    {
     "data": {
      "text/plain": [
       "March    3.320117\n",
       "April    1.491825\n",
       "May      1.822119\n",
       "June     2.225541\n",
       "July     2.718282\n",
       "dtype: float64"
      ]
     },
     "execution_count": 16,
     "metadata": {},
     "output_type": "execute_result"
    }
   ],
   "source": [
    "# e mostly used in exponent and log\n",
    "obj_3 = np.exp(obj_2)\n",
    "obj_3"
   ]
  },
  {
   "cell_type": "code",
   "execution_count": 17,
   "id": "84165b64-0f92-48a5-8bbf-41f2f29e733d",
   "metadata": {},
   "outputs": [
    {
     "data": {
      "text/plain": [
       "False"
      ]
     },
     "execution_count": 17,
     "metadata": {},
     "output_type": "execute_result"
    }
   ],
   "source": [
    "'September' in obj_3"
   ]
  },
  {
   "cell_type": "code",
   "execution_count": 18,
   "id": "17fe4f75-739a-4300-8472-ea7db5371ed8",
   "metadata": {},
   "outputs": [
    {
     "data": {
      "text/plain": [
       "True"
      ]
     },
     "execution_count": 18,
     "metadata": {},
     "output_type": "execute_result"
    }
   ],
   "source": [
    "80 in grade.values"
   ]
  },
  {
   "cell_type": "code",
   "execution_count": 19,
   "id": "b64f2101-4ea9-4c37-a2bd-427f7dace433",
   "metadata": {},
   "outputs": [
    {
     "data": {
      "text/plain": [
       "True"
      ]
     },
     "execution_count": 19,
     "metadata": {},
     "output_type": "execute_result"
    }
   ],
   "source": [
    "'April' in obj_3"
   ]
  },
  {
   "cell_type": "markdown",
   "id": "0357f932-3cb9-4a80-a952-e2182888f109",
   "metadata": {},
   "source": [
    "#### Connection between dict and series in pandas"
   ]
  },
  {
   "cell_type": "code",
   "execution_count": 20,
   "id": "41294022-381e-41e0-b69e-bac82cbe5735",
   "metadata": {},
   "outputs": [
    {
     "data": {
      "text/plain": [
       "A    50\n",
       "B    60\n",
       "C    70\n",
       "D    80\n",
       "E    90\n",
       "dtype: int64"
      ]
     },
     "execution_count": 20,
     "metadata": {},
     "output_type": "execute_result"
    }
   ],
   "source": [
    "dict_1 = {'A':50,'B':60,'C':70,'D':80,'E':90}\n",
    "\n",
    "obj_4 = pd.Series(dict_1)\n",
    "obj_4"
   ]
  },
  {
   "cell_type": "code",
   "execution_count": 21,
   "id": "1702a7fd-8da3-4434-ae8f-d09b3d7fd176",
   "metadata": {},
   "outputs": [
    {
     "data": {
      "text/plain": [
       "1    50\n",
       "2    60\n",
       "3    70\n",
       "4    80\n",
       "5    90\n",
       "dtype: int64"
      ]
     },
     "execution_count": 21,
     "metadata": {},
     "output_type": "execute_result"
    }
   ],
   "source": [
    "index_change = [1,2,3,4,5]\n",
    "obj_4.index = index_change\n",
    "obj_4"
   ]
  },
  {
   "cell_type": "code",
   "execution_count": 22,
   "id": "9bbe9330-cf16-4a15-bb91-63804df41e45",
   "metadata": {},
   "outputs": [
    {
     "data": {
      "text/plain": [
       "B    60\n",
       "A    50\n",
       "C    70\n",
       "D    80\n",
       "dtype: int64"
      ]
     },
     "execution_count": 22,
     "metadata": {},
     "output_type": "execute_result"
    }
   ],
   "source": [
    "index_2 = ['B','A','C','D']\n",
    "\n",
    "obj_5 = pd.Series(dict_1, index = index_2)\n",
    "obj_5"
   ]
  },
  {
   "cell_type": "code",
   "execution_count": 26,
   "id": "1d032a7d-2ff6-44c6-9890-0466d9ecbc45",
   "metadata": {},
   "outputs": [
    {
     "data": {
      "text/plain": [
       "B    60.0\n",
       "A    50.0\n",
       "C    70.0\n",
       "D    80.0\n",
       "F     NaN\n",
       "dtype: float64"
      ]
     },
     "execution_count": 26,
     "metadata": {},
     "output_type": "execute_result"
    }
   ],
   "source": [
    "obj_7 = pd.Series(dict_1, index = ['B','A','C','D','F'])\n",
    "obj_7"
   ]
  },
  {
   "cell_type": "code",
   "execution_count": 27,
   "id": "04122b79-136f-404e-8f68-10d9aa9bcbe1",
   "metadata": {},
   "outputs": [
    {
     "data": {
      "text/plain": [
       "B    False\n",
       "A    False\n",
       "C    False\n",
       "D    False\n",
       "F     True\n",
       "dtype: bool"
      ]
     },
     "execution_count": 27,
     "metadata": {},
     "output_type": "execute_result"
    }
   ],
   "source": [
    "# To check is any null value or not in Series\n",
    "pd.isnull(obj_7)"
   ]
  },
  {
   "cell_type": "code",
   "execution_count": null,
   "id": "52295b1f-9daf-4163-ab90-18dd76d62680",
   "metadata": {},
   "outputs": [],
   "source": [
    "pd.notnull(obj_7)"
   ]
  },
  {
   "cell_type": "code",
   "execution_count": 34,
   "id": "db9bdfd0-fc05-4f24-bc70-241a2706018f",
   "metadata": {},
   "outputs": [
    {
     "data": {
      "text/plain": [
       "A    50\n",
       "B    60\n",
       "C    70\n",
       "D    80\n",
       "dtype: int64"
      ]
     },
     "execution_count": 34,
     "metadata": {},
     "output_type": "execute_result"
    }
   ],
   "source": [
    "dict_1 = {'A':50,'B':60,'C':70,'D':80}\n",
    "\n",
    "obj_4 = pd.Series(dict_1)\n",
    "obj_4"
   ]
  },
  {
   "cell_type": "code",
   "execution_count": 35,
   "id": "3ab36758-e53c-436b-baa9-1d93322b2ecf",
   "metadata": {},
   "outputs": [
    {
     "data": {
      "text/plain": [
       "B    60\n",
       "A    50\n",
       "C    70\n",
       "D    80\n",
       "dtype: int64"
      ]
     },
     "execution_count": 35,
     "metadata": {},
     "output_type": "execute_result"
    }
   ],
   "source": [
    "index_2 = ['B','A','C','D']\n",
    "\n",
    "obj_5 = pd.Series(dict_1, index = index_2)\n",
    "obj_5"
   ]
  },
  {
   "cell_type": "code",
   "execution_count": 36,
   "id": "a360dccd-80af-41eb-b1da-960e7bf3f45d",
   "metadata": {},
   "outputs": [
    {
     "data": {
      "text/plain": [
       "A    100\n",
       "B    120\n",
       "C    140\n",
       "D    160\n",
       "dtype: int64"
      ]
     },
     "execution_count": 36,
     "metadata": {},
     "output_type": "execute_result"
    }
   ],
   "source": [
    "obj_9 = obj_4 + obj_5\n",
    "obj_9"
   ]
  },
  {
   "cell_type": "code",
   "execution_count": 37,
   "id": "5531b22f-67eb-47ce-848a-eb16051caa78",
   "metadata": {},
   "outputs": [
    {
     "data": {
      "text/plain": [
       "A    100\n",
       "B    120\n",
       "C    140\n",
       "D    160\n",
       "dtype: int64"
      ]
     },
     "execution_count": 37,
     "metadata": {},
     "output_type": "execute_result"
    }
   ],
   "source": [
    "obj_9.head()"
   ]
  },
  {
   "cell_type": "code",
   "execution_count": 40,
   "id": "92279fab-83df-4824-8461-3bfd4f3d7c05",
   "metadata": {},
   "outputs": [
    {
     "data": {
      "text/plain": [
       "A    100\n",
       "B    120\n",
       "C    140\n",
       "dtype: int64"
      ]
     },
     "execution_count": 40,
     "metadata": {},
     "output_type": "execute_result"
    }
   ],
   "source": [
    "obj_9.head(3)"
   ]
  },
  {
   "cell_type": "code",
   "execution_count": 39,
   "id": "c47e9154-f092-4e03-a4e6-d528347c0b54",
   "metadata": {},
   "outputs": [
    {
     "data": {
      "text/plain": [
       "A    100\n",
       "B    120\n",
       "C    140\n",
       "D    160\n",
       "dtype: int64"
      ]
     },
     "execution_count": 39,
     "metadata": {},
     "output_type": "execute_result"
    }
   ],
   "source": [
    "obj_9.tail()"
   ]
  },
  {
   "cell_type": "code",
   "execution_count": 41,
   "id": "61b6df55-5e3b-4849-bdcb-2f47b354cc9d",
   "metadata": {},
   "outputs": [
    {
     "data": {
      "text/plain": [
       "C    140\n",
       "D    160\n",
       "dtype: int64"
      ]
     },
     "execution_count": 41,
     "metadata": {},
     "output_type": "execute_result"
    }
   ],
   "source": [
    "obj_9.tail(2)"
   ]
  },
  {
   "cell_type": "code",
   "execution_count": 42,
   "id": "e6713cc4-f782-4bb7-a080-803b3eb0ac01",
   "metadata": {},
   "outputs": [
    {
     "data": {
      "text/plain": [
       "Student Name\n",
       "A    50\n",
       "B    60\n",
       "C    70\n",
       "D    80\n",
       "Name: Marks, dtype: int64"
      ]
     },
     "execution_count": 42,
     "metadata": {},
     "output_type": "execute_result"
    }
   ],
   "source": [
    "obj_4.index.name = 'Student Name'\n",
    "obj_4.name = 'Marks'\n",
    "obj_4"
   ]
  },
  {
   "cell_type": "code",
   "execution_count": 43,
   "id": "09aaca6f-b5d6-4585-a660-42a19c798221",
   "metadata": {},
   "outputs": [
    {
     "data": {
      "text/plain": [
       "0     Ana\n",
       "4    Anne\n",
       "dtype: object"
      ]
     },
     "execution_count": 43,
     "metadata": {},
     "output_type": "execute_result"
    }
   ],
   "source": [
    "student_name = pd.Series(['Ana','Eve','Chris','Della','Anne'])\n",
    "student_name_filter = student_name[student_name.str.startswith('A')]\n",
    "student_name_filter"
   ]
  },
  {
   "cell_type": "code",
   "execution_count": null,
   "id": "233f284a-b6a5-492f-80c2-faaffb85fdf0",
   "metadata": {},
   "outputs": [],
   "source": []
  }
 ],
 "metadata": {
  "kernelspec": {
   "display_name": "Python 3 (ipykernel)",
   "language": "python",
   "name": "python3"
  },
  "language_info": {
   "codemirror_mode": {
    "name": "ipython",
    "version": 3
   },
   "file_extension": ".py",
   "mimetype": "text/x-python",
   "name": "python",
   "nbconvert_exporter": "python",
   "pygments_lexer": "ipython3",
   "version": "3.12.4"
  }
 },
 "nbformat": 4,
 "nbformat_minor": 5
}
