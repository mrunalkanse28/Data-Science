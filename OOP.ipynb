{
 "cells": [
  {
   "cell_type": "code",
   "execution_count": 1,
   "id": "b8fc9ad8-2c73-48fb-b47d-139fe7bc64de",
   "metadata": {},
   "outputs": [
    {
     "name": "stdout",
     "output_type": "stream",
     "text": [
      "<class 'str'>\n"
     ]
    }
   ],
   "source": [
    "print(type(\"Mrunal\"))"
   ]
  },
  {
   "cell_type": "code",
   "execution_count": 2,
   "id": "4c50c877-98a6-4e8e-933c-5d89267d702f",
   "metadata": {},
   "outputs": [
    {
     "name": "stdout",
     "output_type": "stream",
     "text": [
      "<class 'int'>\n"
     ]
    }
   ],
   "source": [
    "print(type(28))"
   ]
  },
  {
   "cell_type": "code",
   "execution_count": 6,
   "id": "5ff7c36b-4eaa-4c4a-b0c4-febceaaa808c",
   "metadata": {},
   "outputs": [
    {
     "data": {
      "text/plain": [
       "str"
      ]
     },
     "execution_count": 6,
     "metadata": {},
     "output_type": "execute_result"
    }
   ],
   "source": [
    "a = 'Hello'\n",
    "type(a)"
   ]
  },
  {
   "cell_type": "code",
   "execution_count": 5,
   "id": "84c4a440-8eaa-4b80-96f7-70e6923103f7",
   "metadata": {},
   "outputs": [
    {
     "name": "stdout",
     "output_type": "stream",
     "text": [
      "<class '__main__.Animal'>\n"
     ]
    }
   ],
   "source": [
    "class Animal():\n",
    "    pass\n",
    "\n",
    "dog = Animal()\n",
    "print(type(dog))"
   ]
  },
  {
   "cell_type": "code",
   "execution_count": 11,
   "id": "8a5f5a4d-b7b7-4329-9b81-be0a51e2b655",
   "metadata": {},
   "outputs": [],
   "source": [
    "class Rectangle():\n",
    "    def __init__(self,length,breadth):\n",
    "        self.length = length\n",
    "        self.breadth = breadth\n",
    "    def area(self):\n",
    "        return self.length*self.breadth\n",
    "    def circumference(self):\n",
    "        return 2*(self.length+self.breadth)"
   ]
  },
  {
   "cell_type": "code",
   "execution_count": 12,
   "id": "8b61a6a7-b6ba-4267-bdce-9de41467464b",
   "metadata": {},
   "outputs": [
    {
     "name": "stdout",
     "output_type": "stream",
     "text": [
      "3\n",
      "4\n",
      "12\n",
      "14\n"
     ]
    }
   ],
   "source": [
    "rect_1 = Rectangle(3,4)\n",
    "print(rect_1.length)\n",
    "print(rect_1.breadth)\n",
    "print(rect_1.area())\n",
    "print(rect_1.circumference())"
   ]
  },
  {
   "cell_type": "code",
   "execution_count": 15,
   "id": "8b4347e9-fff8-4267-92be-8d6cdf2d9549",
   "metadata": {},
   "outputs": [],
   "source": [
    "class Circle():\n",
    "    def __init__(self,radius):\n",
    "        self.radius = radius\n",
    "    def area(self):\n",
    "        return 3.14*self.radius**2\n",
    "    def perimeter(self):\n",
    "        return 2*3.14*self.radius\n",
    "        "
   ]
  },
  {
   "cell_type": "code",
   "execution_count": 18,
   "id": "1987fb43-077e-42f3-b670-985a7ca21cb9",
   "metadata": {},
   "outputs": [
    {
     "name": "stdout",
     "output_type": "stream",
     "text": [
      "78.5\n",
      "31.400000000000002\n"
     ]
    }
   ],
   "source": [
    "cir_1 = Circle(5)\n",
    "print(cir_1.area())\n",
    "print(cir_1.perimeter())"
   ]
  },
  {
   "cell_type": "code",
   "execution_count": 19,
   "id": "3a114b16-e43a-4c4b-a326-6c144bfb8ea4",
   "metadata": {},
   "outputs": [],
   "source": [
    "class Dog():\n",
    "    species = \"Mammals\"\n",
    "\n",
    "    def __init__(self,name,breed):\n",
    "        self.name = name\n",
    "        self.breed = breed\n",
    "\n",
    "    def desciption(self):\n",
    "        return f'{self.name} is a {self.breed}'\n",
    "\n",
    "dog1 = Dog(\"Mishki\",\"lab\")\n",
    "dog2 = Dog(\"Crystal\",\"Indie\")"
   ]
  },
  {
   "cell_type": "code",
   "execution_count": 22,
   "id": "c8f9330b-f547-48d8-9d83-4b43cbd6752a",
   "metadata": {},
   "outputs": [
    {
     "data": {
      "text/plain": [
       "'Mammals'"
      ]
     },
     "execution_count": 22,
     "metadata": {},
     "output_type": "execute_result"
    }
   ],
   "source": [
    "dog1.species\n",
    "dog2.species"
   ]
  },
  {
   "cell_type": "code",
   "execution_count": 23,
   "id": "51032f8a-9204-4ac3-93e3-9b069fa78c30",
   "metadata": {},
   "outputs": [
    {
     "data": {
      "text/plain": [
       "'Mishki'"
      ]
     },
     "execution_count": 23,
     "metadata": {},
     "output_type": "execute_result"
    }
   ],
   "source": [
    "dog1.name"
   ]
  },
  {
   "cell_type": "code",
   "execution_count": 24,
   "id": "b3e66008-ff66-4c25-9a1f-7638d1a4f98e",
   "metadata": {},
   "outputs": [
    {
     "data": {
      "text/plain": [
       "'Indie'"
      ]
     },
     "execution_count": 24,
     "metadata": {},
     "output_type": "execute_result"
    }
   ],
   "source": [
    "dog2.breed"
   ]
  },
  {
   "cell_type": "code",
   "execution_count": 26,
   "id": "2b9d73fb-24c7-4fed-966e-3b34e294ae59",
   "metadata": {},
   "outputs": [
    {
     "data": {
      "text/plain": [
       "'Mishki is a lab'"
      ]
     },
     "execution_count": 26,
     "metadata": {},
     "output_type": "execute_result"
    }
   ],
   "source": [
    "dog1.desciption()"
   ]
  },
  {
   "cell_type": "code",
   "execution_count": null,
   "id": "778028a3-1feb-4ef1-8d65-11c25ef77a57",
   "metadata": {},
   "outputs": [],
   "source": []
  }
 ],
 "metadata": {
  "kernelspec": {
   "display_name": "Python 3 (ipykernel)",
   "language": "python",
   "name": "python3"
  },
  "language_info": {
   "codemirror_mode": {
    "name": "ipython",
    "version": 3
   },
   "file_extension": ".py",
   "mimetype": "text/x-python",
   "name": "python",
   "nbconvert_exporter": "python",
   "pygments_lexer": "ipython3",
   "version": "3.12.4"
  }
 },
 "nbformat": 4,
 "nbformat_minor": 5
}
