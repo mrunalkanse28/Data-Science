{
 "cells": [
  {
   "cell_type": "markdown",
   "id": "1a6cb794-86e7-4a8b-8927-26abdf7d736d",
   "metadata": {},
   "source": [
    "1. Write a program to calculate the sum of all natural numbers up to a given number n.\n",
    "2. Write a program where the user has to guess a pre-defined number between 1 and 10.\n",
    "3. Write a program to print the multiplication table of a given number.\n",
    "4. Write a program to calculate the factorial of a given number.\n",
    "5. Write a program that counts down from a given number to 0.\n",
    "6. Write a program to find the sum of digits of a given number."
   ]
  },
  {
   "cell_type": "code",
   "execution_count": null,
   "id": "6989f6ea-4eed-4396-a921-e2981aeccd4c",
   "metadata": {},
   "outputs": [],
   "source": [
    "# 1.\n",
    "num = int(input(\"Enter the number:\"))\n",
    "total = 0\n",
    "value = 1\n",
    "while value <= num:\n",
    "    total = total + value\n",
    "    value = value + 1\n",
    "print(\"The Sum from 1 to {0} =  {1}\".format(num, total))"
   ]
  },
  {
   "cell_type": "code",
   "execution_count": null,
   "id": "1c0f64c9-73aa-4f83-8752-a05218ce1c9f",
   "metadata": {},
   "outputs": [],
   "source": [
    "# 3.\n",
    "multiple = 6\n",
    "count = 1\n",
    "  \n",
    "while count <= 20: \n",
    "    result = count * multiple\n",
    "    print(f\"{count} x {multiple} = {result}\") \n",
    "    count += 1"
   ]
  },
  {
   "cell_type": "code",
   "execution_count": null,
   "id": "c10d1b89-28d6-406b-bc6f-a3b4e65ac6ec",
   "metadata": {},
   "outputs": [],
   "source": [
    "# 4.\n",
    "num1 = int(input(\"enter a number:\"))\n",
    "fact = 1\n",
    "a = 1\n",
    "while a <= num1:\n",
    "\tfact = fact * a\n",
    "\ta = a + 1\n",
    "\n",
    "print(\"factorial of \", num1, \" is \", fact)"
   ]
  },
  {
   "cell_type": "code",
   "execution_count": null,
   "id": "19c727f6-4128-40ad-9947-e69a68b529e7",
   "metadata": {},
   "outputs": [],
   "source": [
    "# 5.\n",
    "number = int(input(\"Enter a value:\"))\n",
    "while True:\n",
    "    if number <= 0:\n",
    "        print(\"Invalid input\")\n",
    "        continue\n",
    "    for i in range(number, 0, -1):\n",
    "        print(i)\n",
    "    break"
   ]
  },
  {
   "cell_type": "code",
   "execution_count": null,
   "id": "d00dedb6-4217-4ad4-b55b-ea743122a137",
   "metadata": {},
   "outputs": [],
   "source": [
    "# 2.\n",
    "target = 9\n",
    "user_guess = int(input(\"Enter your number between 1 to 10:\"))\n",
    "while user_guess > 0:\n",
    "    if user_guess != target:\n",
    "        print(\"Incorrect Input\")\n",
    "        break\n",
    "    else:\n",
    "        print(\"Correct Input\")\n",
    "        break"
   ]
  },
  {
   "cell_type": "code",
   "execution_count": 1,
   "id": "2f231a4c-7118-4d8e-8f1a-5fb6c2384bd4",
   "metadata": {},
   "outputs": [
    {
     "data": {
      "text/plain": [
       "6"
      ]
     },
     "execution_count": 1,
     "metadata": {},
     "output_type": "execute_result"
    }
   ],
   "source": [
    "# 6.\n",
    "def addition(*args):\n",
    "    return sum(args)\n",
    "addition(1,2,3)"
   ]
  },
  {
   "cell_type": "code",
   "execution_count": null,
   "id": "9e22c529-d5a4-4512-acec-ab50da177eae",
   "metadata": {},
   "outputs": [],
   "source": []
  }
 ],
 "metadata": {
  "kernelspec": {
   "display_name": "Python 3 (ipykernel)",
   "language": "python",
   "name": "python3"
  },
  "language_info": {
   "codemirror_mode": {
    "name": "ipython",
    "version": 3
   },
   "file_extension": ".py",
   "mimetype": "text/x-python",
   "name": "python",
   "nbconvert_exporter": "python",
   "pygments_lexer": "ipython3",
   "version": "3.12.4"
  }
 },
 "nbformat": 4,
 "nbformat_minor": 5
}
