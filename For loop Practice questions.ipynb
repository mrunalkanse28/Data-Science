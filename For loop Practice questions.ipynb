{
 "cells": [
  {
   "cell_type": "markdown",
   "id": "85a68ec4-c158-4ea9-8668-5202de302916",
   "metadata": {},
   "source": [
    "**Basic Questions**\n",
    "\n",
    "1. Write a for loop that prints numbers from 1 to 10.\n",
    "\n",
    "2. Given a list of fruits ['apple', 'banana', 'cherry'], write a for loop to print each fruit.\n",
    "\n",
    "3. Write a for loop to print each character of the string \"Python\".\n",
    "\n",
    "4. Use a for loop to calculate the sum of numbers from 1 to 100.\n",
    "\n",
    "5. Write a for loop to print all even numbers between 1 and 20.\n",
    "\n",
    "6. Write a for loop to print the first 10 multiples of 5.\n",
    "\n",
    "7. Write a for loop to print numbers from 5 to 15 using the range function.\n",
    "\n",
    "8. Given a list ['a', 'b', 'c', 'd'], write a for loop to print the index and value of each element.\n",
    "\n",
    "9. Write a for loop to count down from 10 to 1.\n",
    "\n",
    "10. Given a list of numbers [2, 4, 6, 8, 10], write a for loop to find the sum of the elements."
   ]
  },
  {
   "cell_type": "code",
   "execution_count": 2,
   "id": "5f0f346f-4878-4a54-9c0a-b2524c13ae48",
   "metadata": {},
   "outputs": [
    {
     "name": "stdout",
     "output_type": "stream",
     "text": [
      "1\n",
      "2\n",
      "3\n",
      "4\n",
      "5\n",
      "6\n",
      "7\n",
      "8\n",
      "9\n",
      "10\n",
      "apple\n",
      "banana\n",
      "cherry\n",
      "P\n",
      "y\n",
      "t\n",
      "h\n",
      "o\n",
      "n\n",
      "5050\n",
      "[2, 4, 6, 8, 10, 12, 14, 16, 18, 20]\n"
     ]
    },
    {
     "name": "stdin",
     "output_type": "stream",
     "text": [
      "Enter number:  4\n"
     ]
    },
    {
     "name": "stdout",
     "output_type": "stream",
     "text": [
      "4 8 12 16 20 24 28 32 36 40 [5, 6, 7, 8, 9, 10, 11, 12, 13, 14, 15]\n",
      "10\n",
      "9\n",
      "8\n",
      "7\n",
      "6\n",
      "5\n",
      "4\n",
      "3\n",
      "2\n",
      "1\n",
      "Total 30\n"
     ]
    }
   ],
   "source": [
    "# 1.\n",
    "a = [1,2,3,4,5,6,7,8,9,10]\n",
    "for num in a:\n",
    "    print(num)\n",
    "\n",
    "# 2.\n",
    "f = [\"apple\",\"banana\",\"cherry\"]\n",
    "for fruits in f:\n",
    "    print(fruits)\n",
    "\n",
    "# 3.\n",
    "p = \"Python\"\n",
    "for char in p:\n",
    "    print(char)\n",
    "\n",
    "# 4.\n",
    "numbers = list(range(1,101))\n",
    "sum = 0\n",
    "for x in numbers:\n",
    "      sum = sum + x\n",
    "\n",
    "print(sum)\n",
    "\n",
    "# 5.\n",
    "n = list(range(1,21))\n",
    "even_num = []\n",
    "for num in n:\n",
    "    if num%2 == 0:\n",
    "        even_num.append(num)\n",
    "print(even_num)\n",
    "\n",
    "# 6.\n",
    "number = int(input(\"Enter number: \"))\n",
    "for i in range(1,11):\n",
    "    print(number*i, end =\" \")\n",
    "\n",
    "# 7.\n",
    "s = list(range(5,16))\n",
    "print(s)\n",
    "\n",
    "# 8.\n",
    "\n",
    "# 9.\n",
    "for i in range(10, 0, -1):\n",
    "    print(i)\n",
    "\n",
    "# 10.\n",
    "l = [2, 4, 6, 8, 10]\n",
    "sum = 0\n",
    "for x in l:\n",
    "      sum = sum + x\n",
    "\n",
    "print(\"Total\",sum)"
   ]
  },
  {
   "cell_type": "markdown",
   "id": "ab1468e9-e8e3-4d61-9df7-fec654f22c42",
   "metadata": {},
   "source": [
    "**Medium Level Questions**\n",
    "\n",
    "1. Write a for loop to iterate through the numbers from 1 to 20. Inside the loop, use an if-else statement to print whether each number is even or odd.\n",
    "\n",
    "2. Given a list numbers = [-10, -5, 0, 5, 10], write a for loop to iterate through the list. Inside the loop, use an if-elif-else statement to print whether each number is positive, negative, or zero.\n",
    "\n",
    "3. Write a for loop to iterate through the numbers from 1 to 30. Inside the loop, use an if-elif-else statement to print \"Fizz\" if the number is divisible by 3, \"Buzz\" if the number is divisible by 5, and \"FizzBuzz\" if the number is divisible by both 3 and 5. Print the number itself if it is not divisible by either.\n",
    "\n",
    "4. Given a list of student scores scores = [85, 62, 78, 95, 55, 89, 73], write a for loop to iterate through the list. Inside the loop, use an if-elif-else statement to categorize each score as follows:\n",
    "\n",
    "- \"A\" for scores 90 and above\n",
    "- \"B\" for scores between 80 and 89\n",
    "- \"C\" for scores between 70 and 79\n",
    "- \"D\" for scores between 60 and 69\n",
    "- \"F\" for scores below 60\n",
    "\n",
    "5. Write a for loop to iterate through each character in the string \"Hello, World!\". Inside the loop, use an if-else statement to print whether each character is a vowel (a, e, i, o, u) or a consonant. Ignore non-alphabetic characters."
   ]
  },
  {
   "cell_type": "code",
   "execution_count": 37,
   "id": "e35f135c-d974-4e55-b8dc-9cfcdb32d650",
   "metadata": {},
   "outputs": [
    {
     "name": "stdout",
     "output_type": "stream",
     "text": [
      "1\n",
      "even number\n",
      "3\n",
      "even number\n",
      "5\n",
      "even number\n",
      "7\n",
      "even number\n",
      "9\n",
      "even number\n",
      "11\n",
      "even number\n",
      "13\n",
      "even number\n",
      "15\n",
      "even number\n",
      "17\n",
      "even number\n",
      "19\n",
      "even number\n"
     ]
    }
   ],
   "source": [
    "# 1. \n",
    "a = list(range(1,21))\n",
    "for num in a:\n",
    "    if num%2 == 0:\n",
    "        print(\"even number\")\n",
    "    else:\n",
    "        print(num)"
   ]
  },
  {
   "cell_type": "code",
   "execution_count": 40,
   "id": "614f5464-ec1f-4ce6-8745-1e037676e072",
   "metadata": {},
   "outputs": [
    {
     "name": "stdout",
     "output_type": "stream",
     "text": [
      "-10 =Negative number\n",
      "-5 =Negative number\n",
      "0 =Zero number\n",
      "5 =Positive number\n",
      "10 =Positive number\n"
     ]
    }
   ],
   "source": [
    "# 2.\n",
    "x = [-10, -5, 0, 5, 10]\n",
    "for word in x:\n",
    "    if word > 0:\n",
    "        print(word,\"=Positive number\")\n",
    "    elif word < 0:\n",
    "        print(word,\"=Negative number\")\n",
    "    else:\n",
    "        print(word,\"=Zero number\")"
   ]
  },
  {
   "cell_type": "code",
   "execution_count": 5,
   "id": "e6fad7c1-0b21-40c9-99da-d64e78fd06fd",
   "metadata": {},
   "outputs": [
    {
     "name": "stdout",
     "output_type": "stream",
     "text": [
      "1\n",
      "2\n",
      "Fizz 3\n",
      "4\n",
      "Buzz 5\n",
      "Fizz 6\n",
      "7\n",
      "8\n",
      "Fizz 9\n",
      "Buzz 10\n",
      "11\n",
      "Fizz 12\n",
      "13\n",
      "14\n",
      "FizzBuzz 15\n",
      "16\n",
      "17\n",
      "Fizz 18\n",
      "19\n",
      "Buzz 20\n",
      "Fizz 21\n",
      "22\n",
      "23\n",
      "Fizz 24\n",
      "Buzz 25\n",
      "26\n",
      "Fizz 27\n",
      "28\n",
      "29\n",
      "FizzBuzz 30\n"
     ]
    }
   ],
   "source": [
    "# 3.\n",
    "a = list(range(1,31))\n",
    "for nums in a:\n",
    "    if nums%3 == 0 and nums%5 == 0:\n",
    "        print(\"FizzBuzz\",nums)\n",
    "    elif nums%3 == 0:\n",
    "        print(\"Fizz\",nums)\n",
    "    elif nums%5 == 0:\n",
    "        print(\"Buzz\",nums)\n",
    "    else:\n",
    "        print(nums)"
   ]
  },
  {
   "cell_type": "code",
   "execution_count": 48,
   "id": "1597a7d3-a3b5-44f8-b7f8-cb69092bf264",
   "metadata": {},
   "outputs": [
    {
     "name": "stdout",
     "output_type": "stream",
     "text": [
      "B\n",
      "D\n",
      "C\n",
      "A\n",
      "F\n",
      "B\n",
      "C\n"
     ]
    }
   ],
   "source": [
    "# 4.\n",
    "scores = [85, 62, 78, 95, 55, 89, 73]\n",
    "for s in scores:\n",
    "    if s >= 90:\n",
    "        print(\"A\")\n",
    "    elif 80 <= s <= 89:\n",
    "        print(\"B\")\n",
    "    elif 70 <= s <= 79:\n",
    "        print(\"C\")\n",
    "    elif 60 <= s <= 69:\n",
    "        print(\"D\")\n",
    "    else:\n",
    "        print(\"F\")"
   ]
  },
  {
   "cell_type": "code",
   "execution_count": 49,
   "id": "896c73fe-a09b-491b-ae95-6cace72704e5",
   "metadata": {},
   "outputs": [
    {
     "name": "stdout",
     "output_type": "stream",
     "text": [
      "consonant\n",
      "Vowel\n",
      "consonant\n",
      "consonant\n",
      "Vowel\n",
      "consonant\n",
      "Vowel\n",
      "consonant\n",
      "consonant\n",
      "consonant\n"
     ]
    }
   ],
   "source": [
    "# 5.\n",
    "m = \"HelloWorld\"\n",
    "for char in m:\n",
    "    if char == 'a' or char == 'e' or char == 'i' or char == 'o' or char == 'u':\n",
    "        print(\"Vowel\")\n",
    "    else:\n",
    "        print(\"consonant\")"
   ]
  },
  {
   "cell_type": "code",
   "execution_count": null,
   "id": "28bf6f27-236b-463c-ba44-69529f307750",
   "metadata": {},
   "outputs": [],
   "source": []
  }
 ],
 "metadata": {
  "kernelspec": {
   "display_name": "Python 3 (ipykernel)",
   "language": "python",
   "name": "python3"
  },
  "language_info": {
   "codemirror_mode": {
    "name": "ipython",
    "version": 3
   },
   "file_extension": ".py",
   "mimetype": "text/x-python",
   "name": "python",
   "nbconvert_exporter": "python",
   "pygments_lexer": "ipython3",
   "version": "3.12.4"
  }
 },
 "nbformat": 4,
 "nbformat_minor": 5
}
