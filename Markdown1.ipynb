{
 "cells": [
  {
   "cell_type": "code",
   "execution_count": 2,
   "id": "edbf6bbe-ad0e-4924-88ac-33057216e2f5",
   "metadata": {},
   "outputs": [],
   "source": [
    "x =2"
   ]
  },
  {
   "cell_type": "code",
   "execution_count": 3,
   "id": "90baa464-a3c9-4941-b07c-7ff8d5f6d1bd",
   "metadata": {},
   "outputs": [
    {
     "data": {
      "text/plain": [
       "2"
      ]
     },
     "execution_count": 3,
     "metadata": {},
     "output_type": "execute_result"
    }
   ],
   "source": [
    "x"
   ]
  },
  {
   "cell_type": "markdown",
   "id": "ef0eadc4-39c2-43f3-8906-a166abec8cf7",
   "metadata": {},
   "source": [
    "# First Lecture on python"
   ]
  },
  {
   "cell_type": "markdown",
   "id": "0c7fc8ad-6a4d-4b12-b2d2-8cf90d7d5e87",
   "metadata": {},
   "source": [
    "# First Lecture\n",
    "## First Lecture\n",
    "### First Lecture"
   ]
  },
  {
   "cell_type": "markdown",
   "id": "e45b1aa1-a946-4f2f-bb84-fdbced6a5dd5",
   "metadata": {},
   "source": [
    "I am taking **Python** lecture today."
   ]
  },
  {
   "cell_type": "markdown",
   "id": "f145b3a4-c526-4fbb-be49-14b9037540e5",
   "metadata": {},
   "source": [
    "This is `Python` class"
   ]
  },
  {
   "cell_type": "markdown",
   "id": "ef63946b-c7ab-4d5a-8360-fe6eb4b0f26f",
   "metadata": {},
   "source": [
    "Hello, Im Mrunal Kanse.I am Studying <br>SQL,<br>Excel,<br>java"
   ]
  },
  {
   "cell_type": "markdown",
   "id": "df2bed0a-c1a8-4375-bce4-540d4fcc9421",
   "metadata": {},
   "source": [
    "Hello, Im Mrunal Kanse.I am Studying\n",
    ">> SQL\n",
    "\n",
    ">> Excel\n",
    "\n",
    ">> java"
   ]
  },
  {
   "cell_type": "markdown",
   "id": "bf9ae9a9-1c30-4726-9169-48c413df536e",
   "metadata": {},
   "source": [
    "Hello, Im Mrunal Kanse.I am Studying\n",
    "- SQL\n",
    "\n",
    "- Excel\n",
    "\n",
    "- java"
   ]
  },
  {
   "cell_type": "markdown",
   "id": "c01970dc-c791-419a-8df4-4ff75eb6a6e3",
   "metadata": {},
   "source": [
    "Species:\n",
    "- Animal\n",
    "  - Dog \n",
    "      - Cat\n",
    "- Plants"
   ]
  },
  {
   "cell_type": "markdown",
   "id": "05f37add-5485-45e9-808b-7f3021506283",
   "metadata": {},
   "source": [
    "<font color='Purple'>Hello, Im Mrunal Kanse."
   ]
  },
  {
   "cell_type": "markdown",
   "id": "4ac27f8c-4fa4-4709-b9aa-2b0cafe2d874",
   "metadata": {},
   "source": [
    "<h1 style= 'color:red'> Mrunal Kanse"
   ]
  },
  {
   "cell_type": "markdown",
   "id": "894ccc9b-b0b6-42b4-9391-5b23bb096a68",
   "metadata": {},
   "source": [
    "This is an equation:\n",
    "$2x+y=10$"
   ]
  },
  {
   "cell_type": "markdown",
   "id": "eb753cf3-2b77-4da3-a218-5e24ba7cf0cf",
   "metadata": {},
   "source": [
    "## Creating Table\n",
    "| Name | Marks |\n",
    "| :---: | :---: |\n",
    "| A | 90 |\n",
    "| B | 90 |"
   ]
  },
  {
   "cell_type": "markdown",
   "id": "39c7534f-5a6c-4596-b2f6-2e45fce62847",
   "metadata": {},
   "source": [
    "## Creating Table\n",
    "| Name | Marks |\n",
    "| ---: | ---: |\n",
    "| A | 90 |\n",
    "| B | 90 |"
   ]
  },
  {
   "cell_type": "markdown",
   "id": "39ad8070-a8a7-4ab1-9791-55cb74688fe1",
   "metadata": {},
   "source": [
    "## Creating Table\n",
    "| Name | Marks |\n",
    "| --- | --- |\n",
    "| A | 90 |\n",
    "| B | 90 |"
   ]
  },
  {
   "cell_type": "code",
   "execution_count": null,
   "id": "f14fc0da-b317-4908-a7f5-d8eacc0ee1c0",
   "metadata": {},
   "outputs": [],
   "source": []
  }
 ],
 "metadata": {
  "kernelspec": {
   "display_name": "Python 3 (ipykernel)",
   "language": "python",
   "name": "python3"
  },
  "language_info": {
   "codemirror_mode": {
    "name": "ipython",
    "version": 3
   },
   "file_extension": ".py",
   "mimetype": "text/x-python",
   "name": "python",
   "nbconvert_exporter": "python",
   "pygments_lexer": "ipython3",
   "version": "3.12.4"
  }
 },
 "nbformat": 4,
 "nbformat_minor": 5
}
