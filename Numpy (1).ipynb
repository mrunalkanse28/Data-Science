{
 "cells": [
  {
   "cell_type": "code",
   "execution_count": 3,
   "id": "6d8c8fb3-bd89-40ee-8d4b-674226badbf4",
   "metadata": {},
   "outputs": [
    {
     "name": "stdout",
     "output_type": "stream",
     "text": [
      "Requirement already satisfied: numpy in c:\\users\\mrunal\\anaconda3\\lib\\site-packages (1.26.4)\n"
     ]
    }
   ],
   "source": [
    "!pip install numpy\n",
    "\n",
    "import numpy as np"
   ]
  },
  {
   "cell_type": "code",
   "execution_count": 4,
   "id": "37ef66c3-07e6-48be-a773-3df5c871113d",
   "metadata": {},
   "outputs": [
    {
     "data": {
      "text/plain": [
       "array([1, 2, 3, 4, 5])"
      ]
     },
     "execution_count": 4,
     "metadata": {},
     "output_type": "execute_result"
    }
   ],
   "source": [
    "a = np.array([1,2,3,4,5])\n",
    "a"
   ]
  },
  {
   "cell_type": "code",
   "execution_count": 5,
   "id": "355fde0a-7c6e-4c54-a3c7-971b31d740a0",
   "metadata": {},
   "outputs": [
    {
     "data": {
      "text/plain": [
       "1"
      ]
     },
     "execution_count": 5,
     "metadata": {},
     "output_type": "execute_result"
    }
   ],
   "source": [
    "a[0]"
   ]
  },
  {
   "cell_type": "code",
   "execution_count": 6,
   "id": "d99fccd5-4183-406e-9e84-49f0d4fa2032",
   "metadata": {},
   "outputs": [
    {
     "data": {
      "text/plain": [
       "array([1, 2, 3, 8, 5])"
      ]
     },
     "execution_count": 6,
     "metadata": {},
     "output_type": "execute_result"
    }
   ],
   "source": [
    "a[3] = 8\n",
    "a"
   ]
  },
  {
   "cell_type": "code",
   "execution_count": 7,
   "id": "83ab49fa-566c-40fe-a4c1-a47f4086da33",
   "metadata": {},
   "outputs": [
    {
     "data": {
      "text/plain": [
       "array([1, 2, 3, 8])"
      ]
     },
     "execution_count": 7,
     "metadata": {},
     "output_type": "execute_result"
    }
   ],
   "source": [
    "a[0:4]"
   ]
  },
  {
   "cell_type": "markdown",
   "id": "d2fb8840-2a43-478c-89fb-5ba3b07e9711",
   "metadata": {},
   "source": [
    "#### Higher dimensional array"
   ]
  },
  {
   "cell_type": "code",
   "execution_count": 20,
   "id": "a1a1db7b-4b19-4ade-a99e-1837f2e142e2",
   "metadata": {},
   "outputs": [
    {
     "data": {
      "text/plain": [
       "array([[1, 2, 3],\n",
       "       [3, 4, 5],\n",
       "       [5, 6, 7]])"
      ]
     },
     "execution_count": 20,
     "metadata": {},
     "output_type": "execute_result"
    }
   ],
   "source": [
    "b = np.array([[1,2,3],[3,4,5],[5,6,7]])\n",
    "b[:3]"
   ]
  },
  {
   "cell_type": "markdown",
   "id": "3877cad0-b510-4a1b-ab1b-9094cb0a6c5d",
   "metadata": {},
   "source": [
    "#### Array Attributes"
   ]
  },
  {
   "cell_type": "code",
   "execution_count": 14,
   "id": "54c37b06-81b4-4cb5-8124-135b37332ebf",
   "metadata": {},
   "outputs": [
    {
     "data": {
      "text/plain": [
       "2"
      ]
     },
     "execution_count": 14,
     "metadata": {},
     "output_type": "execute_result"
    }
   ],
   "source": [
    "b.ndim"
   ]
  },
  {
   "cell_type": "code",
   "execution_count": 11,
   "id": "85d4df97-1fdc-4619-bbba-d338161dbb0c",
   "metadata": {},
   "outputs": [
    {
     "data": {
      "text/plain": [
       "(5,)"
      ]
     },
     "execution_count": 11,
     "metadata": {},
     "output_type": "execute_result"
    }
   ],
   "source": [
    "a.shape"
   ]
  },
  {
   "cell_type": "code",
   "execution_count": 12,
   "id": "5301db88-f9d5-4a75-800a-3fd5d87bb32b",
   "metadata": {},
   "outputs": [
    {
     "data": {
      "text/plain": [
       "5"
      ]
     },
     "execution_count": 12,
     "metadata": {},
     "output_type": "execute_result"
    }
   ],
   "source": [
    "a.size"
   ]
  },
  {
   "cell_type": "code",
   "execution_count": 13,
   "id": "e4b43af1-0018-42d4-969d-6d28303b617f",
   "metadata": {},
   "outputs": [
    {
     "data": {
      "text/plain": [
       "9"
      ]
     },
     "execution_count": 13,
     "metadata": {},
     "output_type": "execute_result"
    }
   ],
   "source": [
    "b.size"
   ]
  },
  {
   "cell_type": "code",
   "execution_count": 14,
   "id": "a2b36c4e-24c7-4c72-b24d-e8b97b7ada86",
   "metadata": {},
   "outputs": [
    {
     "data": {
      "text/plain": [
       "dtype('int32')"
      ]
     },
     "execution_count": 14,
     "metadata": {},
     "output_type": "execute_result"
    }
   ],
   "source": [
    "a.dtype"
   ]
  },
  {
   "cell_type": "code",
   "execution_count": 15,
   "id": "098919d1-fc85-4835-b2bc-de722be2cb8f",
   "metadata": {},
   "outputs": [
    {
     "data": {
      "text/plain": [
       "array([[0, 0, 0, 0],\n",
       "       [0, 0, 0, 0],\n",
       "       [0, 0, 0, 0]])"
      ]
     },
     "execution_count": 15,
     "metadata": {},
     "output_type": "execute_result"
    }
   ],
   "source": [
    "# Syntax: a = np._____(shape=(),dtype=())\n",
    "c = np.zeros((3,4),dtype = int)\n",
    "c"
   ]
  },
  {
   "cell_type": "code",
   "execution_count": 16,
   "id": "0ab1db34-fda3-4198-b71f-5ac73a9ab8a1",
   "metadata": {},
   "outputs": [
    {
     "data": {
      "text/plain": [
       "array([[1., 1., 1., 1.],\n",
       "       [1., 1., 1., 1.],\n",
       "       [1., 1., 1., 1.]])"
      ]
     },
     "execution_count": 16,
     "metadata": {},
     "output_type": "execute_result"
    }
   ],
   "source": [
    "d = np.ones((3,4))\n",
    "d"
   ]
  },
  {
   "cell_type": "code",
   "execution_count": 20,
   "id": "854592da-a02a-44ea-9c56-2302cdf4c5bf",
   "metadata": {},
   "outputs": [
    {
     "data": {
      "text/plain": [
       "array([[ 1520645912,  1950122683],\n",
       "       [-1648127402,   408837765]])"
      ]
     },
     "execution_count": 20,
     "metadata": {},
     "output_type": "execute_result"
    }
   ],
   "source": [
    "# ts creates garbage value just for take place in array\n",
    "e = np.empty((2,2),dtype = int)\n",
    "e"
   ]
  },
  {
   "cell_type": "code",
   "execution_count": 49,
   "id": "a0ad602d-a586-42ba-b43c-1555a92eaf5e",
   "metadata": {},
   "outputs": [
    {
     "data": {
      "text/plain": [
       "array([5, 6, 7, 8, 9])"
      ]
     },
     "execution_count": 49,
     "metadata": {},
     "output_type": "execute_result"
    }
   ],
   "source": [
    "#\n",
    "f = np.arange(5,10,1)\n",
    "f"
   ]
  },
  {
   "cell_type": "code",
   "execution_count": 18,
   "id": "810230eb-91f7-4427-9fd9-f8b6d42ce6d9",
   "metadata": {},
   "outputs": [
    {
     "data": {
      "text/plain": [
       "array([5. , 6.5, 8. , 9.5])"
      ]
     },
     "execution_count": 18,
     "metadata": {},
     "output_type": "execute_result"
    }
   ],
   "source": [
    "f1 = np.arange(5,10,1.5)\n",
    "f1"
   ]
  },
  {
   "cell_type": "code",
   "execution_count": 51,
   "id": "4ed01262-94f5-4a52-9954-7b416d8f3463",
   "metadata": {},
   "outputs": [
    {
     "data": {
      "text/plain": [
       "array([ 5.        ,  5.26315789,  5.52631579,  5.78947368,  6.05263158,\n",
       "        6.31578947,  6.57894737,  6.84210526,  7.10526316,  7.36842105,\n",
       "        7.63157895,  7.89473684,  8.15789474,  8.42105263,  8.68421053,\n",
       "        8.94736842,  9.21052632,  9.47368421,  9.73684211, 10.        ])"
      ]
     },
     "execution_count": 51,
     "metadata": {},
     "output_type": "execute_result"
    }
   ],
   "source": [
    "np.linspace(5,10,num = 20,dtype = None,axis = 0) # It count end value also\n"
   ]
  },
  {
   "cell_type": "code",
   "execution_count": 23,
   "id": "9c689c81-87ab-45b0-bdb4-48dd9a71c39e",
   "metadata": {},
   "outputs": [
    {
     "data": {
      "text/plain": [
       "array([  1,   3,   5,   7,   9,  11,  13,  15,  17,  19,  21,  23,  25,\n",
       "        27,  29,  31,  33,  35,  37,  39,  41,  43,  45,  47,  49,  51,\n",
       "        53,  55,  57,  59,  61,  63,  65,  67,  69,  71,  73,  75,  77,\n",
       "        79,  81,  83,  85,  87,  89,  91,  93,  95,  97, 100])"
      ]
     },
     "execution_count": 23,
     "metadata": {},
     "output_type": "execute_result"
    }
   ],
   "source": [
    "np.linspace(1,100,50,dtype=int)"
   ]
  },
  {
   "cell_type": "code",
   "execution_count": 24,
   "id": "5477b665-5862-484a-bde0-a34339accdf2",
   "metadata": {},
   "outputs": [],
   "source": [
    "# Using concatenate\n",
    "a = np.array([3,4,2,7,8,9,10])\n",
    "a = np.sort(a)"
   ]
  },
  {
   "cell_type": "code",
   "execution_count": 26,
   "id": "b0f2719f-6c2e-4937-aad0-741a796e38b2",
   "metadata": {},
   "outputs": [
    {
     "data": {
      "text/plain": [
       "array([ 2,  3,  4,  7,  8,  9, 10, 20, 40, 30, 60])"
      ]
     },
     "execution_count": 26,
     "metadata": {},
     "output_type": "execute_result"
    }
   ],
   "source": [
    "b = np.array([20,40,30,60])\n",
    "\n",
    "c = np.concatenate((a,b))\n",
    "c"
   ]
  },
  {
   "cell_type": "code",
   "execution_count": 40,
   "id": "b9f4fd63-87c2-4f35-a05c-33b17cae6e1a",
   "metadata": {},
   "outputs": [
    {
     "data": {
      "text/plain": [
       "array([[1, 2, 3, 4],\n",
       "       [7, 8, 5, 6]])"
      ]
     },
     "execution_count": 40,
     "metadata": {},
     "output_type": "execute_result"
    }
   ],
   "source": [
    "#Axis 0 use for row & axis 1 use for column; thats why it counted columns in both list and it return in row \n",
    "x = np.array([[1,2],[7,8]])\n",
    "y = np.array([[3,4],[5,6]])\n",
    "\n",
    "z = np.concatenate((x,y),axis = 1)\n",
    "z"
   ]
  },
  {
   "cell_type": "markdown",
   "id": "7fa6d861-caa1-480b-980d-24d02f0f5fb8",
   "metadata": {},
   "source": [
    "#### Reshape Array"
   ]
  },
  {
   "cell_type": "code",
   "execution_count": 46,
   "id": "cf805181-d6b4-47fe-b3c7-9970f56817a6",
   "metadata": {},
   "outputs": [
    {
     "data": {
      "text/plain": [
       "array([[1, 2],\n",
       "       [3, 4],\n",
       "       [7, 8],\n",
       "       [5, 6]])"
      ]
     },
     "execution_count": 46,
     "metadata": {},
     "output_type": "execute_result"
    }
   ],
   "source": [
    "a1 = z.reshape(4,2) # 4 is define for column number and 2 is for rows\n",
    "a1"
   ]
  },
  {
   "cell_type": "markdown",
   "id": "e51d20e5-ac9e-478d-9b44-46df59867f36",
   "metadata": {},
   "source": [
    "#### Basic array operations"
   ]
  },
  {
   "cell_type": "code",
   "execution_count": 59,
   "id": "984570ca-4f65-43c0-a494-f63e44dad79e",
   "metadata": {},
   "outputs": [
    {
     "data": {
      "text/plain": [
       "array([3, 4])"
      ]
     },
     "execution_count": 59,
     "metadata": {},
     "output_type": "execute_result"
    }
   ],
   "source": [
    "# Syntax: data + ones \n",
    "data = np.array([1,2])\n",
    "ones_arr = np.array(2, dtype = int)\n",
    "x = data + ones_arr\n",
    "x"
   ]
  },
  {
   "cell_type": "code",
   "execution_count": 60,
   "id": "53b6dd35-83e1-4e29-ba0f-66e927a962bb",
   "metadata": {},
   "outputs": [
    {
     "data": {
      "text/plain": [
       "array([-1,  0])"
      ]
     },
     "execution_count": 60,
     "metadata": {},
     "output_type": "execute_result"
    }
   ],
   "source": [
    "data = np.array([1,2])\n",
    "ones_arr = np.array(2,dtype = int)\n",
    "x = data - ones_arr\n",
    "x"
   ]
  },
  {
   "cell_type": "code",
   "execution_count": 61,
   "id": "b1fc5cb5-8f9d-493d-884a-d0b951ca22b0",
   "metadata": {},
   "outputs": [
    {
     "data": {
      "text/plain": [
       "array([2, 4])"
      ]
     },
     "execution_count": 61,
     "metadata": {},
     "output_type": "execute_result"
    }
   ],
   "source": [
    "data = np.array([1,2])\n",
    "ones_arr = np.array(2,dtype = int)\n",
    "x = data * ones_arr\n",
    "x"
   ]
  },
  {
   "cell_type": "code",
   "execution_count": 62,
   "id": "19f5e5f4-7c34-411a-9f0f-622de2b493eb",
   "metadata": {},
   "outputs": [
    {
     "data": {
      "text/plain": [
       "array([0.5, 1. ])"
      ]
     },
     "execution_count": 62,
     "metadata": {},
     "output_type": "execute_result"
    }
   ],
   "source": [
    "data = np.array([1,2])\n",
    "ones_arr = np.array(2,dtype = int)\n",
    "x = data / ones_arr\n",
    "x"
   ]
  },
  {
   "cell_type": "code",
   "execution_count": 63,
   "id": "5a58d73d-5b55-4698-b86a-92749ebf36c8",
   "metadata": {},
   "outputs": [
    {
     "data": {
      "text/plain": [
       "array([2, 4])"
      ]
     },
     "execution_count": 63,
     "metadata": {},
     "output_type": "execute_result"
    }
   ],
   "source": [
    "b = 2*data\n",
    "b"
   ]
  },
  {
   "cell_type": "markdown",
   "id": "2846a9ec-4de5-4113-8c22-3039b65fc2e6",
   "metadata": {},
   "source": [
    "#### Imp"
   ]
  },
  {
   "cell_type": "code",
   "execution_count": 64,
   "id": "5abe68b3-0c33-40dd-a900-6a3ed297f100",
   "metadata": {},
   "outputs": [
    {
     "data": {
      "text/plain": [
       "'\\n1. Variance = It is the stattistical majorment of how far each num in the \\n            set of observations is from the mean\\n            Formula :\\n                sigma**2\\n2. Statndard Deviation = It is calculated as the square root of variance\\n            Formula :\\n                sigma\\n'"
      ]
     },
     "execution_count": 64,
     "metadata": {},
     "output_type": "execute_result"
    }
   ],
   "source": [
    "# Central tendancy :\n",
    "'''\n",
    "1. Mean/average = it is the ration of sum of the all observation and total num of observations\n",
    "    formula:\n",
    "            Mean = (Sum of all the observations/Total number of observations)\n",
    "            \n",
    "2. Mode = highest number of frequency(here freq. means count)\n",
    "    it is the value that is repeatedly occuring in a given set of observation\n",
    "    \n",
    "3. Median = n/2 (if n is odd(for eg:9,11) then take average of middle two numbers)\n",
    "    median is the middle observation in a sorted list of obseravtion\n",
    "    formula:\n",
    "            med = (n+1/2)th observation\n",
    "\n",
    "'''\n",
    "# Majors of dispersion:\n",
    "'''\n",
    "1. Variance = It is the stattistical majorment of how far each num in the \n",
    "            set of observations is from the mean\n",
    "            Formula :\n",
    "                sigma**2\n",
    "2. Statndard Deviation = It is calculated as the square root of variance\n",
    "            Formula :\n",
    "                sigma\n",
    "'''"
   ]
  },
  {
   "cell_type": "code",
   "execution_count": 65,
   "id": "19f7757a-f5ff-40c0-8d2f-016b53d6fc0b",
   "metadata": {},
   "outputs": [
    {
     "data": {
      "text/plain": [
       "1"
      ]
     },
     "execution_count": 65,
     "metadata": {},
     "output_type": "execute_result"
    }
   ],
   "source": [
    "data.min()"
   ]
  },
  {
   "cell_type": "code",
   "execution_count": 66,
   "id": "03925922-a3be-405d-9a65-82b7b9e1ca93",
   "metadata": {},
   "outputs": [
    {
     "data": {
      "text/plain": [
       "2"
      ]
     },
     "execution_count": 66,
     "metadata": {},
     "output_type": "execute_result"
    }
   ],
   "source": [
    "data.max()"
   ]
  },
  {
   "cell_type": "code",
   "execution_count": 76,
   "id": "2efae832-e19a-4e92-8b54-1808722dcade",
   "metadata": {},
   "outputs": [
    {
     "data": {
      "text/plain": [
       "array([0, 2, 3])"
      ]
     },
     "execution_count": 76,
     "metadata": {},
     "output_type": "execute_result"
    }
   ],
   "source": [
    "data = np.array([[1,2,3],[0,4,5],[6,7,8]])\n",
    "data.max()\n",
    "data.min()\n",
    "data.max(axis=1)\n",
    "data.min(axis=1)\n",
    "data.max(axis=0)\n",
    "data.min(axis=0)"
   ]
  },
  {
   "cell_type": "code",
   "execution_count": 77,
   "id": "c7d314ab-13ea-4572-b4b4-07acac9be301",
   "metadata": {},
   "outputs": [
    {
     "data": {
      "text/plain": [
       "array([ 7, 13, 16])"
      ]
     },
     "execution_count": 77,
     "metadata": {},
     "output_type": "execute_result"
    }
   ],
   "source": [
    "data.sum(axis=0)"
   ]
  },
  {
   "cell_type": "code",
   "execution_count": 78,
   "id": "0369a28c-3e85-4f42-9e28-5a3f0679d033",
   "metadata": {},
   "outputs": [
    {
     "data": {
      "text/plain": [
       "array([ 6,  9, 21])"
      ]
     },
     "execution_count": 78,
     "metadata": {},
     "output_type": "execute_result"
    }
   ],
   "source": [
    "data.sum(axis=1)"
   ]
  },
  {
   "cell_type": "code",
   "execution_count": 82,
   "id": "ff61af24-b4f5-4d9c-8d50-c7f729d05993",
   "metadata": {},
   "outputs": [
    {
     "data": {
      "text/plain": [
       "array([2.33333333, 4.33333333, 5.33333333])"
      ]
     },
     "execution_count": 82,
     "metadata": {},
     "output_type": "execute_result"
    }
   ],
   "source": [
    "data.sum(axis=1)\n",
    "data.mean(axis=0)"
   ]
  },
  {
   "cell_type": "markdown",
   "id": "37b5b1bd-b232-4211-8a53-f577345bdcc7",
   "metadata": {},
   "source": [
    "#### Generating random"
   ]
  },
  {
   "cell_type": "code",
   "execution_count": 28,
   "id": "9bae38b7-27fd-4b37-8060-128f32d42c1e",
   "metadata": {},
   "outputs": [
    {
     "data": {
      "text/plain": [
       "5"
      ]
     },
     "execution_count": 28,
     "metadata": {},
     "output_type": "execute_result"
    }
   ],
   "source": [
    "random_int = np.random.randint(10)\n",
    "random_int\n",
    "\n",
    "random_int = np.random.randint(5,10)\n",
    "random_int"
   ]
  },
  {
   "cell_type": "code",
   "execution_count": 36,
   "id": "923b9a94-2d61-410a-807d-39e9fb439c66",
   "metadata": {},
   "outputs": [
    {
     "data": {
      "text/plain": [
       "array([[ 7,  7, -4],\n",
       "       [ 9, -1,  2],\n",
       "       [ 2,  5,  1]])"
      ]
     },
     "execution_count": 36,
     "metadata": {},
     "output_type": "execute_result"
    }
   ],
   "source": [
    "random_array = np.random.randint(5,10, size=(3,3))\n",
    "random_array\n",
    "\n",
    "random_array = np.random.randint(10, size=(3,3)) # If we dont take initial value\n",
    "random_array\n",
    "\n",
    "random_array = np.random.randint(-5,10, size=(3,3)) # If we take negative initial value\n",
    "random_array"
   ]
  },
  {
   "cell_type": "code",
   "execution_count": 40,
   "id": "3e00bc12-b367-40c5-9c66-7d598ab84bde",
   "metadata": {},
   "outputs": [
    {
     "data": {
      "text/plain": [
       "array([[ 7,  9,  2],\n",
       "       [ 7, -1,  5],\n",
       "       [-4,  2,  1]])"
      ]
     },
     "execution_count": 40,
     "metadata": {},
     "output_type": "execute_result"
    }
   ],
   "source": [
    "random_array.T"
   ]
  },
  {
   "cell_type": "code",
   "execution_count": 41,
   "id": "2fe2a701-26eb-4e46-be04-7c99b9ada5f7",
   "metadata": {},
   "outputs": [
    {
     "data": {
      "text/plain": [
       "array([[ 7,  9,  2],\n",
       "       [ 7, -1,  5],\n",
       "       [-4,  2,  1]])"
      ]
     },
     "execution_count": 41,
     "metadata": {},
     "output_type": "execute_result"
    }
   ],
   "source": [
    "random_array.transpose()"
   ]
  },
  {
   "cell_type": "code",
   "execution_count": 42,
   "id": "8142c2c8-2d37-4cb6-bfcb-23bec2a23750",
   "metadata": {},
   "outputs": [
    {
     "data": {
      "text/plain": [
       "array([[ 1,  5,  2],\n",
       "       [ 2, -1,  9],\n",
       "       [-4,  7,  7]])"
      ]
     },
     "execution_count": 42,
     "metadata": {},
     "output_type": "execute_result"
    }
   ],
   "source": [
    "np.flip(random_array)"
   ]
  },
  {
   "cell_type": "code",
   "execution_count": 43,
   "id": "e06958e5-3ef7-49ad-aaf8-2aff608b20ea",
   "metadata": {},
   "outputs": [
    {
     "data": {
      "text/plain": [
       "array([[ 2,  5,  1],\n",
       "       [ 9, -1,  2],\n",
       "       [ 7,  7, -4]])"
      ]
     },
     "execution_count": 43,
     "metadata": {},
     "output_type": "execute_result"
    }
   ],
   "source": [
    "np.flip(random_array,axis=0)"
   ]
  },
  {
   "cell_type": "code",
   "execution_count": 44,
   "id": "0c980b57-751c-4702-9950-69e14ead89d7",
   "metadata": {},
   "outputs": [
    {
     "data": {
      "text/plain": [
       "array([ 7,  7, -4,  9, -1,  2,  2,  5,  1])"
      ]
     },
     "execution_count": 44,
     "metadata": {},
     "output_type": "execute_result"
    }
   ],
   "source": [
    "# Flatten makes copy of main array\n",
    "# Ravel makes changes in main array\n",
    "\n",
    "flattened_array = random_array.flatten()\n",
    "flattened_array"
   ]
  },
  {
   "cell_type": "code",
   "execution_count": 46,
   "id": "62691d34-096e-4fe7-b2dd-c5195d707e12",
   "metadata": {},
   "outputs": [
    {
     "name": "stdout",
     "output_type": "stream",
     "text": [
      "[ 7  7 -4  5 -1  2  2  5  1]\n",
      "[[ 7  7 -4]\n",
      " [ 9 -1  2]\n",
      " [ 2  5  1]]\n"
     ]
    }
   ],
   "source": [
    "flattened_array[3] = 5\n",
    "print(flattened_array)\n",
    "print(random_array)"
   ]
  },
  {
   "cell_type": "code",
   "execution_count": 47,
   "id": "26f798a5-f33d-4aaa-bbfd-b3c61fe7feb2",
   "metadata": {},
   "outputs": [
    {
     "name": "stdout",
     "output_type": "stream",
     "text": [
      "[ 7  7 -4  5 -1  2  2  5  1]\n",
      "[[ 7  7 -4]\n",
      " [ 5 -1  2]\n",
      " [ 2  5  1]]\n"
     ]
    }
   ],
   "source": [
    "ravelled_array = random_array.ravel()\n",
    "ravelled_array[3] = 5\n",
    "print(ravelled_array)\n",
    "print(random_array)"
   ]
  },
  {
   "cell_type": "code",
   "execution_count": 50,
   "id": "f8e1d1a4-2455-4dc9-81ec-db0a6b7528db",
   "metadata": {},
   "outputs": [
    {
     "data": {
      "text/plain": [
       "6"
      ]
     },
     "execution_count": 50,
     "metadata": {},
     "output_type": "execute_result"
    }
   ],
   "source": [
    "arr = np.array([[1,2,3],[4,5,6]]) # array[0] = [1,2,3] & array[1] = [4,5,6] then return again \n",
    "arr[1,2]"
   ]
  },
  {
   "cell_type": "code",
   "execution_count": null,
   "id": "3a5b613d-1c5a-4a44-ab33-c35d093ab69c",
   "metadata": {},
   "outputs": [],
   "source": []
  }
 ],
 "metadata": {
  "kernelspec": {
   "display_name": "Python 3 (ipykernel)",
   "language": "python",
   "name": "python3"
  },
  "language_info": {
   "codemirror_mode": {
    "name": "ipython",
    "version": 3
   },
   "file_extension": ".py",
   "mimetype": "text/x-python",
   "name": "python",
   "nbconvert_exporter": "python",
   "pygments_lexer": "ipython3",
   "version": "3.12.4"
  }
 },
 "nbformat": 4,
 "nbformat_minor": 5
}
