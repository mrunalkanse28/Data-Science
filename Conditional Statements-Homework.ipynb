{
 "cells": [
  {
   "cell_type": "markdown",
   "id": "2e8f809b-dcf5-4aa1-b5f5-5d9b1495ed51",
   "metadata": {},
   "source": [
    "Quiz\n",
    "Write a Python program that categorizes students into Pass or Fail based on the following conditions:\n",
    "\n",
    "If the score is greater than or equal to 70, they pass.\n",
    "\n",
    "If the score is between 50 and 69 (inclusive), a second check is done: If attendance is greater than or equal to 80%, they pass; otherwise, they fail.\n",
    "\n",
    "If the score is below 50, they fail."
   ]
  },
  {
   "cell_type": "code",
   "execution_count": 17,
   "id": "ec73238f-a6a5-4dde-91ae-d0513138894f",
   "metadata": {},
   "outputs": [
    {
     "name": "stdin",
     "output_type": "stream",
     "text": [
      "Enter your score= 70\n",
      "Enter your attendance= 3\n"
     ]
    },
    {
     "name": "stdout",
     "output_type": "stream",
     "text": [
      "pass\n"
     ]
    }
   ],
   "source": [
    "'''\n",
    "get_score (User input)\n",
    "attendance (User input)\n",
    "check if get_score >= 70:\n",
    "    print pass\n",
    "else:\n",
    "    if 50 <= get_score <= 69 and attendance >= 80:\n",
    "        print pass\n",
    "    elif 50 <= get_score <= 69 and attendance <= 80::\n",
    "        print fail\n",
    "    else:\n",
    "        print fail\n",
    "    '''\n",
    "\n",
    "get_score = int(input(\"Enter your score=\"))\n",
    "attendance = int(input(\"Enter your attendance=\"))\n",
    "if get_score >= 70:\n",
    "    print(\"pass\")\n",
    "else:\n",
    "    if 50 <= get_score <= 69 and attendance >= 80:\n",
    "        print(\"pass\")\n",
    "    elif 50 <= get_score <= 69 and attendance <= 80:\n",
    "        print(\"fail\")\n",
    "    else:\n",
    "        print(\"fail\")\n"
   ]
  },
  {
   "cell_type": "markdown",
   "id": "a54bcbfb-abf6-40b3-b4ca-dddacf04b956",
   "metadata": {},
   "source": [
    "Write a Python program that takes a day of the week as input and checks if it's a weekday or a weekend day. If it's a weekday, print It's a workday. If it's a weekend day, print Enjoy your weekend."
   ]
  },
  {
   "cell_type": "code",
   "execution_count": 24,
   "id": "509bb754-f99b-453e-9329-b3efa3d51ce2",
   "metadata": {},
   "outputs": [
    {
     "name": "stdin",
     "output_type": "stream",
     "text": [
      "Enter the day weekday\n"
     ]
    },
    {
     "name": "stdout",
     "output_type": "stream",
     "text": [
      "it's a workday\n"
     ]
    }
   ],
   "source": [
    "'''\n",
    "get_day input\n",
    "check if get_day == \"weekday\":\n",
    "    print it's a workday\n",
    "elif get_day == \"weekend\":\n",
    "    print enjoy your weekend\n",
    "else:\n",
    "    print invalid input\n",
    "    '''\n",
    "\n",
    "get_day = input(\"Enter the day\")\n",
    "if get_day == \"weekday\":\n",
    "    print(\"it's a workday\")\n",
    "elif get_day == \"weekend\":\n",
    "    print(\"Enjoy your weekend\")\n",
    "else:\n",
    "    print(\"Invalid input\")"
   ]
  },
  {
   "cell_type": "markdown",
   "id": "05ab1797-f65b-4719-a448-eb710185fe5c",
   "metadata": {},
   "source": [
    "Write a Python program using the elif statement to assign grades to sales representatives according to the following criteria:\n",
    "\n",
    "If sales are greater than or equal to 100 units, assign the grade Excellent.\n",
    "\n",
    "If sales are between 50 and 99 units (inclusive), assign the grade Good.\n",
    "\n",
    "If sales are between 20 and 49 units (inclusive), assign the grade Acceptable.\n",
    "\n",
    "If sales are less than 20 units, assign the grade Needs Improvement."
   ]
  },
  {
   "cell_type": "code",
   "execution_count": 28,
   "id": "ee63b368-e8ea-4155-bc5d-637943b0541a",
   "metadata": {},
   "outputs": [
    {
     "name": "stdin",
     "output_type": "stream",
     "text": [
      "Enter Grade of sales= 100\n"
     ]
    },
    {
     "name": "stdout",
     "output_type": "stream",
     "text": [
      "Excellent\n"
     ]
    }
   ],
   "source": [
    "'''\n",
    "get_sales (User input)\n",
    "check if get_sale >= 100:\n",
    "    print Excellent\n",
    "else:\n",
    "    if 50 <= get_sale <= 99:\n",
    "        print Good\n",
    "    elif 20 <= get_score <= 49:\n",
    "        print Acceptable\n",
    "    else:\n",
    "        print Needs Improvement\n",
    "        '''\n",
    "\n",
    "get_sales = int(input(\"Enter Grade of sales=\"))\n",
    "if get_sales >= 100:\n",
    "    print(\"Excellent\")\n",
    "else:\n",
    "    if 50 <= get_sales <= 99:\n",
    "        print(\"Good\")\n",
    "    elif 20 <= get_sales <= 49:\n",
    "        print(\"Acceptable\")\n",
    "    else:\n",
    "        print(\"Needs Improvement\")"
   ]
  },
  {
   "cell_type": "markdown",
   "id": "cfe9c33e-515d-4e0f-9311-ad8464ce89c2",
   "metadata": {},
   "source": [
    "Create a Python program that prompts the user to enter their age.\n",
    "\n",
    "If the age is less than 18, print You are a minor.\n",
    "\n",
    "If the age is 60 or older, print You are a senior citizen.\n",
    "\n",
    "In any other case, print You are an adult."
   ]
  },
  {
   "cell_type": "code",
   "execution_count": 31,
   "id": "87f401f9-3a19-4d48-a08f-1fd03d929a6d",
   "metadata": {},
   "outputs": [
    {
     "name": "stdin",
     "output_type": "stream",
     "text": [
      "Enter Your Age= 15\n"
     ]
    },
    {
     "name": "stdout",
     "output_type": "stream",
     "text": [
      "You are minor\n"
     ]
    }
   ],
   "source": [
    "''' \n",
    "age (user input)\n",
    "check if age < 18:\n",
    "    print you are minor\n",
    "elif age >= 60:\n",
    "    print you are senior citizen\n",
    "else:\n",
    "    print you are adult\n",
    "'''\n",
    "\n",
    "age = int(input(\"Enter Your Age=\"))\n",
    "if age < 18:\n",
    "    print(\"You are minor\")\n",
    "elif age >= 60:\n",
    "    print(\"You are senior citizen\")\n",
    "else:\n",
    "    print(\"You are adult\")"
   ]
  },
  {
   "cell_type": "markdown",
   "id": "68f3bea7-e6ef-4e04-a305-b3f4d8e8e794",
   "metadata": {},
   "source": [
    "Create a Python program that simulates a simple login system. Ask the user for their username and age. Check if the username is admin and the age is 18 or older. If both conditions are true, print Login successful. Otherwise, print Access denied."
   ]
  },
  {
   "cell_type": "code",
   "execution_count": 35,
   "id": "6ff76ed3-f62e-47c3-9563-c1af5ed72194",
   "metadata": {},
   "outputs": [
    {
     "name": "stdin",
     "output_type": "stream",
     "text": [
      "Enter Username= Admin\n",
      "Enter Your Age= 5\n"
     ]
    },
    {
     "name": "stdout",
     "output_type": "stream",
     "text": [
      "Access denied\n"
     ]
    }
   ],
   "source": [
    "'''\n",
    "get username \n",
    "get age\n",
    "check if username == \"admin\" and age >= 18:\n",
    "    print Login Succesfull\n",
    "else:\n",
    "    print Access denied\n",
    "    '''\n",
    "\n",
    "username = input(\"Enter Username=\")\n",
    "age = int(input(\"Enter Your Age=\"))\n",
    "if username == \"Admin\" and age >= 18:\n",
    "    print(\"Login Successful\")\n",
    "else:\n",
    "    print(\"Access denied\")"
   ]
  },
  {
   "cell_type": "code",
   "execution_count": null,
   "id": "8d5c2f7b-373c-42fb-a639-962c68a721aa",
   "metadata": {},
   "outputs": [],
   "source": []
  }
 ],
 "metadata": {
  "kernelspec": {
   "display_name": "Python 3 (ipykernel)",
   "language": "python",
   "name": "python3"
  },
  "language_info": {
   "codemirror_mode": {
    "name": "ipython",
    "version": 3
   },
   "file_extension": ".py",
   "mimetype": "text/x-python",
   "name": "python",
   "nbconvert_exporter": "python",
   "pygments_lexer": "ipython3",
   "version": "3.12.4"
  }
 },
 "nbformat": 4,
 "nbformat_minor": 5
}
