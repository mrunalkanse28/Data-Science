{
 "cells": [
  {
   "cell_type": "markdown",
   "id": "e0289a3f-ec4a-4c95-b965-9b3219999ce8",
   "metadata": {},
   "source": [
    "Given the list of student IDs [123, 456, 789, 101, 112], write a Python function using linear search to find the index of student ID 101. If the student ID is not found, the function should return -1."
   ]
  },
  {
   "cell_type": "code",
   "execution_count": 2,
   "id": "ec2420e5-2d54-4763-98e3-3fa0fcc1477d",
   "metadata": {},
   "outputs": [
    {
     "data": {
      "text/plain": [
       "3"
      ]
     },
     "execution_count": 2,
     "metadata": {},
     "output_type": "execute_result"
    }
   ],
   "source": [
    "def stud_id(arr, target):\n",
    "    if arr == []:\n",
    "        print(\"It is an empty array\")\n",
    "    else:\n",
    "        index = -1\n",
    "        for i in range(len(arr)):\n",
    "            if arr[i] == target:\n",
    "                index = i\n",
    "                break\n",
    "        return index\n",
    "\n",
    "stud_id([123, 456, 789, 101, 112],101)"
   ]
  },
  {
   "cell_type": "markdown",
   "id": "c38e13c4-9583-4520-a5c5-c500fbd4bb13",
   "metadata": {},
   "source": [
    "A list of product prices [15.5, 23.0, 9.99, 5.75, 12.99] is given. Write a Python function using linear search to find the index of the price 9.99. If the price is not found, the function should return -1."
   ]
  },
  {
   "cell_type": "code",
   "execution_count": 3,
   "id": "83f19c43-246a-4289-b3fd-3d69627a780b",
   "metadata": {},
   "outputs": [
    {
     "data": {
      "text/plain": [
       "2"
      ]
     },
     "execution_count": 3,
     "metadata": {},
     "output_type": "execute_result"
    }
   ],
   "source": [
    "def prod_price(arr,target):\n",
    "    if arr == []:\n",
    "        print(\"Empty array\")\n",
    "    else:\n",
    "        index = -1\n",
    "        for i in range(len(arr)):\n",
    "            if arr[i] == target:\n",
    "                index = i\n",
    "                break\n",
    "        return index\n",
    "\n",
    "prod_price([15.5, 23.0, 9.99, 5.75, 12.99],9.99)"
   ]
  },
  {
   "cell_type": "markdown",
   "id": "b2cb8041-5949-43e9-a822-eb3db04d9790",
   "metadata": {},
   "source": [
    "Given a sorted list of book ISBN numbers [1001, 1005, 1010, 1020, 1030], write a Python function using binary search to find the index of ISBN 1010. If the ISBN is not found, the function should return -1."
   ]
  },
  {
   "cell_type": "code",
   "execution_count": 5,
   "id": "aec40eb3-684d-441a-99ca-a846734ebfe1",
   "metadata": {},
   "outputs": [
    {
     "data": {
      "text/plain": [
       "2"
      ]
     },
     "execution_count": 5,
     "metadata": {},
     "output_type": "execute_result"
    }
   ],
   "source": [
    "def isbn_num(arr,target):\n",
    "    if arr == []:\n",
    "        print(\"empty array\")\n",
    "    else:\n",
    "        index = -1\n",
    "        for i in range(len(arr)):\n",
    "            if arr[i] == target:\n",
    "                index = i\n",
    "                break\n",
    "        return index\n",
    "\n",
    "isbn_num([1001, 1005, 1010, 1020, 1030],1010)"
   ]
  },
  {
   "cell_type": "markdown",
   "id": "a434fe16-2f6b-425f-b89d-922008f3d05b",
   "metadata": {},
   "source": [
    "You have a sorted list of temperatures in Celsius [22.5, 23.0, 23.5, 24.0, 24.5]. Write a Python function using binary search to find the index of temperature 24.0. If the temperature is not found, the function should return -1"
   ]
  },
  {
   "cell_type": "code",
   "execution_count": 7,
   "id": "01727785-c3ed-4fd6-ab97-6d6f9af03584",
   "metadata": {},
   "outputs": [
    {
     "data": {
      "text/plain": [
       "3"
      ]
     },
     "execution_count": 7,
     "metadata": {},
     "output_type": "execute_result"
    }
   ],
   "source": [
    "def temp_celsius(arr,target):\n",
    "    if arr == []:\n",
    "        print(\"Empty array\")\n",
    "    else:\n",
    "        index = -1\n",
    "        for i in range(len(arr)):\n",
    "            if arr[i] == target:\n",
    "                index = i\n",
    "                break\n",
    "        return index\n",
    "\n",
    "temp_celsius([22.5, 23.0, 23.5, 24.0, 24.5],24.0)"
   ]
  },
  {
   "cell_type": "markdown",
   "id": "e9344648-1541-4a78-a6cf-72d3013354b2",
   "metadata": {},
   "source": [
    "Given the list of heights in centimeters [150, 120, 140, 160, 130], write a Python function using bubble sort to sort the heights in ascending order."
   ]
  },
  {
   "cell_type": "code",
   "execution_count": 12,
   "id": "4ad8a780-6dbf-45a0-9d04-da450c05b171",
   "metadata": {},
   "outputs": [
    {
     "name": "stdout",
     "output_type": "stream",
     "text": [
      "[120, 130, 140, 150, 160]\n"
     ]
    }
   ],
   "source": [
    "def bubble_sort(arr):\n",
    "    n = len(arr)\n",
    "    if n == 0:\n",
    "        print(\"Array is Empty\")\n",
    "    else:   \n",
    "        for i in range(n):\n",
    "            swapped = False\n",
    "    \n",
    "            for j in range(0,n-i-1):\n",
    "                if arr[j] > arr[j+1]:\n",
    "                    arr[j],arr[j+1] = arr[j+1],arr[j]\n",
    "                    swapped = True\n",
    "    \n",
    "            if not swapped:\n",
    "                break\n",
    "\n",
    "arr = ([150, 120, 140, 160, 130])\n",
    "bubble_sort(arr)\n",
    "print(arr)"
   ]
  },
  {
   "cell_type": "markdown",
   "id": "3e3e1789-5267-4cc0-8f05-c250dd85e1f1",
   "metadata": {},
   "source": [
    "A list of test scores [88, 75, 92, 85, 78] needs to be sorted. Write a Python function using bubble sort to sort the scores in ascending order."
   ]
  },
  {
   "cell_type": "code",
   "execution_count": 13,
   "id": "2127a2ca-a891-4761-a6d8-e286acc3a5c1",
   "metadata": {},
   "outputs": [
    {
     "name": "stdout",
     "output_type": "stream",
     "text": [
      "[75, 78, 85, 88, 92]\n"
     ]
    }
   ],
   "source": [
    "def bubble_sort(arr):\n",
    "    n = len(arr)\n",
    "    if n == 0:\n",
    "        print(\"Array is Empty\")\n",
    "    else:   \n",
    "        for i in range(n):\n",
    "            swapped = False\n",
    "    \n",
    "            for j in range(0,n-i-1):\n",
    "                if arr[j] > arr[j+1]:\n",
    "                    arr[j],arr[j+1] = arr[j+1],arr[j]\n",
    "                    swapped = True\n",
    "    \n",
    "            if not swapped:\n",
    "                break\n",
    "\n",
    "arr = ([88, 75, 92, 85, 78])\n",
    "bubble_sort(arr)\n",
    "print(arr)"
   ]
  },
  {
   "cell_type": "markdown",
   "id": "2d12642c-4b76-4d23-9dd5-2a24e50ebd2a",
   "metadata": {},
   "source": [
    "Given the list of ages [25, 20, 35, 30, 22], write a Python function using selection sort to sort the ages in ascending order."
   ]
  },
  {
   "cell_type": "code",
   "execution_count": 14,
   "id": "6b49310b-f479-452a-9e3b-4ca1e67ec66c",
   "metadata": {},
   "outputs": [
    {
     "name": "stdout",
     "output_type": "stream",
     "text": [
      "[20, 22, 25, 30, 35]\n"
     ]
    }
   ],
   "source": [
    "def selection_sort(arr):\n",
    "    n = len(arr)\n",
    "    if n == 0:\n",
    "        print(\"Array is empty\")\n",
    "    else:\n",
    "        for i in range(n):\n",
    "            min_index = i\n",
    "    \n",
    "            for j in range(i+1, n):\n",
    "                if arr[j] < arr[min_index]:\n",
    "                    min_index = j\n",
    "    \n",
    "            if min_index != i:\n",
    "                arr[i],arr[min_index] = arr[min_index],arr[i]\n",
    "    \n",
    "        return arr\n",
    "\n",
    "arr = ([25, 20, 35, 30, 22])\n",
    "selection_sort(arr)\n",
    "print(arr)"
   ]
  },
  {
   "cell_type": "markdown",
   "id": "686a368c-fe4a-4435-aad5-8418540f1387",
   "metadata": {},
   "source": [
    "You have a list of weights in kilograms [70, 60, 80, 75, 65]. Write a Python function using selection sort to sort the weights in ascending order."
   ]
  },
  {
   "cell_type": "code",
   "execution_count": 15,
   "id": "cddd4faf-fa16-4001-81df-505e51fe0d14",
   "metadata": {},
   "outputs": [
    {
     "name": "stdout",
     "output_type": "stream",
     "text": [
      "[60, 65, 70, 75, 80]\n"
     ]
    }
   ],
   "source": [
    "def selection_sort(arr):\n",
    "    n = len(arr)\n",
    "    if n == 0:\n",
    "        print(\"Array is empty\")\n",
    "    else:\n",
    "        for i in range(n):\n",
    "            min_index = i\n",
    "    \n",
    "            for j in range(i+1, n):\n",
    "                if arr[j] < arr[min_index]:\n",
    "                    min_index = j\n",
    "    \n",
    "            if min_index != i:\n",
    "                arr[i],arr[min_index] = arr[min_index],arr[i]\n",
    "    \n",
    "        return arr\n",
    "\n",
    "arr = ([70, 60, 80, 75, 65])\n",
    "selection_sort(arr)\n",
    "print(arr)"
   ]
  },
  {
   "cell_type": "markdown",
   "id": "c5046fc8-14ae-444e-aec6-2d8d2650f6e7",
   "metadata": {},
   "source": [
    "Given the list of prices in dollars [12.99, 5.99, 15.99, 9.99, 8.99], write a Python function using insertion sort to sort the prices in ascending order."
   ]
  },
  {
   "cell_type": "code",
   "execution_count": 16,
   "id": "e0b4edfa-3f16-4493-9b61-6df8f2ac0115",
   "metadata": {},
   "outputs": [
    {
     "data": {
      "text/plain": [
       "[5.99, 8.99, 9.99, 12.99, 15.99]"
      ]
     },
     "execution_count": 16,
     "metadata": {},
     "output_type": "execute_result"
    }
   ],
   "source": [
    "def insertion_sort(arr):\n",
    "    n = len(arr)\n",
    "\n",
    "    for i in range(1, n):\n",
    "        key = arr[i]\n",
    "        j = i - 1\n",
    "\n",
    "        while j>=0 and key<arr[j]:\n",
    "            arr[j+1] = arr[j]\n",
    "            j -= 1\n",
    "            \n",
    "        arr[j+1] = key\n",
    "    return arr\n",
    "\n",
    "arr = ([12.99, 5.99, 15.99, 9.99, 8.99])\n",
    "insertion_sort(arr)"
   ]
  },
  {
   "cell_type": "markdown",
   "id": "fddad71d-8a7f-49ac-bff1-01c9c4810e3d",
   "metadata": {},
   "source": [
    "A list of distances in kilometers [5.2, 3.1, 7.4, 2.9, 4.6] needs to be sorted. Write a Python function using insertion sort to sort the distances in ascending order."
   ]
  },
  {
   "cell_type": "code",
   "execution_count": 20,
   "id": "9192de49-a863-4057-9362-1fa3dac4a83e",
   "metadata": {},
   "outputs": [
    {
     "data": {
      "text/plain": [
       "[2.9, 3.1, 4.6, 5.2, 7.4]"
      ]
     },
     "execution_count": 20,
     "metadata": {},
     "output_type": "execute_result"
    }
   ],
   "source": [
    "def insertion_sort(arr):\n",
    "    n = len(arr)\n",
    "\n",
    "    for i in range(1, n):\n",
    "        key = arr[i]\n",
    "        j = i - 1\n",
    "\n",
    "        while j>= 0 and key<arr[j]:\n",
    "            arr[j+1] = arr[j]\n",
    "            j -=1\n",
    "\n",
    "        arr[j+1] = key\n",
    "    return arr\n",
    "\n",
    "arr = ([5.2, 3.1, 7.4, 2.9, 4.6])\n",
    "insertion_sort(arr)"
   ]
  },
  {
   "cell_type": "code",
   "execution_count": null,
   "id": "84f617d5-6c32-490b-a3be-89f68b6b83fd",
   "metadata": {},
   "outputs": [],
   "source": []
  }
 ],
 "metadata": {
  "kernelspec": {
   "display_name": "Python 3 (ipykernel)",
   "language": "python",
   "name": "python3"
  },
  "language_info": {
   "codemirror_mode": {
    "name": "ipython",
    "version": 3
   },
   "file_extension": ".py",
   "mimetype": "text/x-python",
   "name": "python",
   "nbconvert_exporter": "python",
   "pygments_lexer": "ipython3",
   "version": "3.12.4"
  }
 },
 "nbformat": 4,
 "nbformat_minor": 5
}
