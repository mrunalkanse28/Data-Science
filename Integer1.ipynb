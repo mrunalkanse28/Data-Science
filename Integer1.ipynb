{
 "cells": [
  {
   "cell_type": "code",
   "execution_count": 10,
   "id": "24736893-eb0d-4d4a-a5d3-545c1683a640",
   "metadata": {},
   "outputs": [
    {
     "data": {
      "text/plain": [
       "False"
      ]
     },
     "execution_count": 10,
     "metadata": {},
     "output_type": "execute_result"
    }
   ],
   "source": [
    "# double equal to\n",
    "x = 10\n",
    "y = 5\n",
    "x == y"
   ]
  },
  {
   "cell_type": "code",
   "execution_count": 1,
   "id": "16a0f721-237a-4f84-b2de-10dfd6ca120f",
   "metadata": {},
   "outputs": [
    {
     "data": {
      "text/plain": [
       "True"
      ]
     },
     "execution_count": 1,
     "metadata": {},
     "output_type": "execute_result"
    }
   ],
   "source": [
    "# not equal to\n",
    "2 != 3"
   ]
  },
  {
   "cell_type": "code",
   "execution_count": 12,
   "id": "6920066a-fde7-4d84-bc18-cbebcdb96651",
   "metadata": {},
   "outputs": [
    {
     "data": {
      "text/plain": [
       "False"
      ]
     },
     "execution_count": 12,
     "metadata": {},
     "output_type": "execute_result"
    }
   ],
   "source": [
    "# less than \n",
    "2 > 3"
   ]
  },
  {
   "cell_type": "code",
   "execution_count": 13,
   "id": "b37a3473-c396-452e-9dd9-9e0119561d2e",
   "metadata": {},
   "outputs": [
    {
     "data": {
      "text/plain": [
       "True"
      ]
     },
     "execution_count": 13,
     "metadata": {},
     "output_type": "execute_result"
    }
   ],
   "source": [
    "# greater than\n",
    "4 < 10"
   ]
  },
  {
   "cell_type": "code",
   "execution_count": 15,
   "id": "d8361a08-621f-4aa3-ac79-8778f961b840",
   "metadata": {},
   "outputs": [
    {
     "data": {
      "text/plain": [
       "True"
      ]
     },
     "execution_count": 15,
     "metadata": {},
     "output_type": "execute_result"
    }
   ],
   "source": [
    "# greater than equal to\n",
    "x = 10 \n",
    "y = 5\n",
    "x >= y"
   ]
  },
  {
   "cell_type": "code",
   "execution_count": 14,
   "id": "2b34d863-1785-4d95-b7a4-87839d531e96",
   "metadata": {},
   "outputs": [
    {
     "data": {
      "text/plain": [
       "False"
      ]
     },
     "execution_count": 14,
     "metadata": {},
     "output_type": "execute_result"
    }
   ],
   "source": [
    "# less than equal to\n",
    "x = 3\n",
    "y = 5\n",
    "x >= y"
   ]
  },
  {
   "cell_type": "code",
   "execution_count": 16,
   "id": "6962cb9d-2572-4367-a674-2d5162c56492",
   "metadata": {},
   "outputs": [],
   "source": [
    "# pep 8 standards [HW]"
   ]
  },
  {
   "cell_type": "code",
   "execution_count": 19,
   "id": "622ad742-1d73-4f85-bcbb-4a353ac0d20d",
   "metadata": {},
   "outputs": [],
   "source": [
    "name = \"Mrunal\"\n",
    "rollno = 345\n",
    "percentage = 80.4\n",
    "x = 3+2j"
   ]
  },
  {
   "cell_type": "code",
   "execution_count": 20,
   "id": "d605b529-e6b3-4695-92f7-93d69002086c",
   "metadata": {},
   "outputs": [
    {
     "data": {
      "text/plain": [
       "str"
      ]
     },
     "execution_count": 20,
     "metadata": {},
     "output_type": "execute_result"
    }
   ],
   "source": [
    "type(name)"
   ]
  },
  {
   "cell_type": "code",
   "execution_count": 21,
   "id": "90833ac0-bd5e-48dc-bf0a-a3ed56afe1b4",
   "metadata": {},
   "outputs": [
    {
     "data": {
      "text/plain": [
       "int"
      ]
     },
     "execution_count": 21,
     "metadata": {},
     "output_type": "execute_result"
    }
   ],
   "source": [
    "type(rollno)"
   ]
  },
  {
   "cell_type": "code",
   "execution_count": 22,
   "id": "0e1941b5-9baa-41c8-9f44-7d977f025347",
   "metadata": {},
   "outputs": [
    {
     "data": {
      "text/plain": [
       "float"
      ]
     },
     "execution_count": 22,
     "metadata": {},
     "output_type": "execute_result"
    }
   ],
   "source": [
    "type(percentage)"
   ]
  },
  {
   "cell_type": "code",
   "execution_count": 23,
   "id": "c0b18d01-dc7f-424f-90e9-3bde7b41c736",
   "metadata": {},
   "outputs": [
    {
     "data": {
      "text/plain": [
       "complex"
      ]
     },
     "execution_count": 23,
     "metadata": {},
     "output_type": "execute_result"
    }
   ],
   "source": [
    "type(x)"
   ]
  },
  {
   "cell_type": "code",
   "execution_count": 27,
   "id": "24cd1059-ba41-431d-a23d-6e3587a910a7",
   "metadata": {},
   "outputs": [
    {
     "data": {
      "text/plain": [
       "1"
      ]
     },
     "execution_count": 27,
     "metadata": {},
     "output_type": "execute_result"
    }
   ],
   "source": [
    "# To find remainder\n",
    "11%2"
   ]
  },
  {
   "cell_type": "code",
   "execution_count": 25,
   "id": "ccfd98cf-111f-4a06-a770-22de633b45b9",
   "metadata": {},
   "outputs": [
    {
     "data": {
      "text/plain": [
       "5"
      ]
     },
     "execution_count": 25,
     "metadata": {},
     "output_type": "execute_result"
    }
   ],
   "source": [
    "# t]To find Quetiont\n",
    "11//2"
   ]
  },
  {
   "cell_type": "code",
   "execution_count": 28,
   "id": "925d1220-5122-403a-b460-e59ab842fba7",
   "metadata": {},
   "outputs": [
    {
     "data": {
      "text/plain": [
       "5.5"
      ]
     },
     "execution_count": 28,
     "metadata": {},
     "output_type": "execute_result"
    }
   ],
   "source": [
    "# To find division\n",
    "11/2"
   ]
  },
  {
   "cell_type": "code",
   "execution_count": 2,
   "id": "2a011ffc-10fc-49de-8513-a445ba6d28a5",
   "metadata": {},
   "outputs": [
    {
     "data": {
      "text/plain": [
       "11"
      ]
     },
     "execution_count": 2,
     "metadata": {},
     "output_type": "execute_result"
    }
   ],
   "source": [
    "x = 5\n",
    "y = 6\n",
    "(x+y)"
   ]
  },
  {
   "cell_type": "code",
   "execution_count": 5,
   "id": "f7a5c1e5-e9b8-4e94-83b6-007aa5cf3caa",
   "metadata": {},
   "outputs": [],
   "source": [
    "x = 6"
   ]
  },
  {
   "cell_type": "code",
   "execution_count": 6,
   "id": "44e70b57-66a7-4b31-8454-716257a7e1a7",
   "metadata": {},
   "outputs": [
    {
     "data": {
      "text/plain": [
       "11"
      ]
     },
     "execution_count": 6,
     "metadata": {},
     "output_type": "execute_result"
    }
   ],
   "source": [
    "x += 5\n",
    "x"
   ]
  },
  {
   "cell_type": "code",
   "execution_count": 7,
   "id": "b7b0b5dd-173e-4319-afd8-c12996e47ce7",
   "metadata": {},
   "outputs": [
    {
     "data": {
      "text/plain": [
       "0"
      ]
     },
     "execution_count": 7,
     "metadata": {},
     "output_type": "execute_result"
    }
   ],
   "source": [
    "x-=x\n",
    "x"
   ]
  },
  {
   "cell_type": "code",
   "execution_count": 8,
   "id": "58454111-8c46-4cbf-a2a9-3022374c8cb1",
   "metadata": {},
   "outputs": [
    {
     "data": {
      "text/plain": [
       "0"
      ]
     },
     "execution_count": 8,
     "metadata": {},
     "output_type": "execute_result"
    }
   ],
   "source": [
    "x*=x\n",
    "x"
   ]
  },
  {
   "cell_type": "code",
   "execution_count": 9,
   "id": "b43b0f89-dcae-4c38-b4a9-e06f327bda21",
   "metadata": {},
   "outputs": [
    {
     "data": {
      "text/plain": [
       "0"
      ]
     },
     "execution_count": 9,
     "metadata": {},
     "output_type": "execute_result"
    }
   ],
   "source": [
    "x+=x\n",
    "x"
   ]
  },
  {
   "cell_type": "code",
   "execution_count": 14,
   "id": "8911c789-6eec-4a6e-9dfc-f6e4c1e6538f",
   "metadata": {},
   "outputs": [],
   "source": [
    "a = 100000\n",
    "total = (15/100)*a\n"
   ]
  },
  {
   "cell_type": "code",
   "execution_count": 15,
   "id": "a3abf948-aa04-4030-b4d0-d42e6fe5318b",
   "metadata": {},
   "outputs": [
    {
     "data": {
      "text/plain": [
       "15000.0"
      ]
     },
     "execution_count": 15,
     "metadata": {},
     "output_type": "execute_result"
    }
   ],
   "source": [
    "total"
   ]
  },
  {
   "cell_type": "code",
   "execution_count": 52,
   "id": "8a4abe6a-79fa-40b4-a6d5-741cb3779166",
   "metadata": {},
   "outputs": [
    {
     "data": {
      "text/plain": [
       "284.0"
      ]
     },
     "execution_count": 52,
     "metadata": {},
     "output_type": "execute_result"
    }
   ],
   "source": [
    "F = (9/5)*140+32\n",
    "F"
   ]
  },
  {
   "cell_type": "code",
   "execution_count": 55,
   "id": "cdc5eef4-f2b9-47d2-8f17-8352c5c2959a",
   "metadata": {},
   "outputs": [],
   "source": [
    "#code to convert rupee to dollar(HW)"
   ]
  },
  {
   "cell_type": "code",
   "execution_count": 56,
   "id": "b442b008-4f46-45dc-8182-11b2f9d25a98",
   "metadata": {},
   "outputs": [
    {
     "data": {
      "text/plain": [
       "5"
      ]
     },
     "execution_count": 56,
     "metadata": {},
     "output_type": "execute_result"
    }
   ],
   "source": [
    "x = 10\n",
    "y = 5\n",
    "x\n",
    "y"
   ]
  },
  {
   "cell_type": "code",
   "execution_count": 57,
   "id": "dbf4d0f4-6849-4b76-83d9-09f44d0b004b",
   "metadata": {},
   "outputs": [
    {
     "name": "stdout",
     "output_type": "stream",
     "text": [
      "10\n",
      "5\n"
     ]
    }
   ],
   "source": [
    "x = 10\n",
    "y = 5\n",
    "print(x)\n",
    "print(y)"
   ]
  },
  {
   "cell_type": "code",
   "execution_count": 60,
   "id": "53cd53e7-7b7f-4910-a9e7-49bf14541d22",
   "metadata": {},
   "outputs": [
    {
     "data": {
      "text/plain": [
       "284"
      ]
     },
     "execution_count": 60,
     "metadata": {},
     "output_type": "execute_result"
    }
   ],
   "source": [
    "#type casting\n",
    "F = (9/5)*140+32\n",
    "int(F)"
   ]
  },
  {
   "cell_type": "code",
   "execution_count": 59,
   "id": "56543dfc-d4b9-49e4-b2c6-cf9e3b26a294",
   "metadata": {},
   "outputs": [
    {
     "data": {
      "text/plain": [
       "float"
      ]
     },
     "execution_count": 59,
     "metadata": {},
     "output_type": "execute_result"
    }
   ],
   "source": [
    "F = (9/5)*140+32\n",
    "type(F)"
   ]
  },
  {
   "cell_type": "code",
   "execution_count": 61,
   "id": "99870f97-9ba7-41eb-819e-7e1a45393d2d",
   "metadata": {},
   "outputs": [
    {
     "data": {
      "text/plain": [
       "'284.0'"
      ]
     },
     "execution_count": 61,
     "metadata": {},
     "output_type": "execute_result"
    }
   ],
   "source": [
    "F = (9/5)*140+32\n",
    "str(F)"
   ]
  },
  {
   "cell_type": "code",
   "execution_count": 62,
   "id": "193b66a1-0caa-42f0-bf29-13ccfd4a40d8",
   "metadata": {},
   "outputs": [
    {
     "data": {
      "text/plain": [
       "'HelloWorld'"
      ]
     },
     "execution_count": 62,
     "metadata": {},
     "output_type": "execute_result"
    }
   ],
   "source": [
    "x = 'Hello'\n",
    "y = 'World'\n",
    "x+y"
   ]
  },
  {
   "cell_type": "code",
   "execution_count": 63,
   "id": "b67e8fdf-9f07-4765-926e-c2e5ab1a4a62",
   "metadata": {},
   "outputs": [
    {
     "data": {
      "text/plain": [
       "'Hello World'"
      ]
     },
     "execution_count": 63,
     "metadata": {},
     "output_type": "execute_result"
    }
   ],
   "source": [
    "x = 'Hello '\n",
    "y = 'World'\n",
    "x+y"
   ]
  },
  {
   "cell_type": "code",
   "execution_count": 64,
   "id": "806fe459-0e7b-42f0-aeaf-d917191b896d",
   "metadata": {},
   "outputs": [
    {
     "name": "stdout",
     "output_type": "stream",
     "text": [
      "Hello World\n"
     ]
    }
   ],
   "source": [
    "#concatination(Without using variable)\n",
    "print('Hello'+' '+'World')"
   ]
  },
  {
   "cell_type": "code",
   "execution_count": 65,
   "id": "2ec05ac2-ddca-4c14-9170-ac14d6ad8878",
   "metadata": {},
   "outputs": [
    {
     "name": "stdout",
     "output_type": "stream",
     "text": [
      "Hello World\n"
     ]
    }
   ],
   "source": [
    "print('Hello '+'World')"
   ]
  }
 ],
 "metadata": {
  "kernelspec": {
   "display_name": "Python 3 (ipykernel)",
   "language": "python",
   "name": "python3"
  },
  "language_info": {
   "codemirror_mode": {
    "name": "ipython",
    "version": 3
   },
   "file_extension": ".py",
   "mimetype": "text/x-python",
   "name": "python",
   "nbconvert_exporter": "python",
   "pygments_lexer": "ipython3",
   "version": "3.12.4"
  }
 },
 "nbformat": 4,
 "nbformat_minor": 5
}
