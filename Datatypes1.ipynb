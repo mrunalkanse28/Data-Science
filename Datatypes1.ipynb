{
 "cells": [
  {
   "cell_type": "code",
   "execution_count": 13,
   "id": "30da8831-2fbf-4475-bbb7-d1851a8be124",
   "metadata": {},
   "outputs": [
    {
     "name": "stdout",
     "output_type": "stream",
     "text": [
      "[1, 2, 3, 4, 5, 6]\n"
     ]
    },
    {
     "data": {
      "text/plain": [
       "list"
      ]
     },
     "execution_count": 13,
     "metadata": {},
     "output_type": "execute_result"
    }
   ],
   "source": [
    "# List datatype\n",
    "a = [1,2,3,4,5,6]\n",
    "print(a)\n",
    "type(a)"
   ]
  },
  {
   "cell_type": "code",
   "execution_count": 14,
   "id": "7ce0bd91-a038-4b41-83b6-547eb0088080",
   "metadata": {},
   "outputs": [
    {
     "name": "stdout",
     "output_type": "stream",
     "text": [
      "(1, 2, 3, 4, 5, 6)\n"
     ]
    },
    {
     "data": {
      "text/plain": [
       "tuple"
      ]
     },
     "execution_count": 14,
     "metadata": {},
     "output_type": "execute_result"
    }
   ],
   "source": [
    "# Tuple datatype\n",
    "a = (1,2,3,4,5,6)\n",
    "print(a)\n",
    "type(a)"
   ]
  },
  {
   "cell_type": "code",
   "execution_count": 15,
   "id": "0df57395-80d6-4973-bfac-0c0ded5a83b7",
   "metadata": {},
   "outputs": [
    {
     "name": "stdout",
     "output_type": "stream",
     "text": [
      "{1, 2, 3, 4, 7, 8}\n"
     ]
    },
    {
     "data": {
      "text/plain": [
       "set"
      ]
     },
     "execution_count": 15,
     "metadata": {},
     "output_type": "execute_result"
    }
   ],
   "source": [
    "# Set datatype\n",
    "a = {1,2,4,8,3,7}\n",
    "print(a)\n",
    "type(a)"
   ]
  },
  {
   "cell_type": "code",
   "execution_count": 16,
   "id": "c46c3e4a-5adf-43a4-91ca-bf8fbc0effb6",
   "metadata": {},
   "outputs": [
    {
     "name": "stdout",
     "output_type": "stream",
     "text": [
      "{'Name': 'mrunal', 'Rollno': 28, 'Cont': 12345}\n"
     ]
    },
    {
     "data": {
      "text/plain": [
       "dict"
      ]
     },
     "execution_count": 16,
     "metadata": {},
     "output_type": "execute_result"
    }
   ],
   "source": [
    "# Dictionary datatype\n",
    "a = {\"Name\":\"mrunal\",\"Rollno\":28,\"Cont\":12345}\n",
    "print(a)\n",
    "type(a)"
   ]
  },
  {
   "cell_type": "code",
   "execution_count": 20,
   "id": "0d27c26c-bf2e-499d-99a8-6a508772c773",
   "metadata": {},
   "outputs": [
    {
     "name": "stdout",
     "output_type": "stream",
     "text": [
      "frozenset({1, 2, 3, 4, 5, 6})\n"
     ]
    },
    {
     "data": {
      "text/plain": [
       "frozenset"
      ]
     },
     "execution_count": 20,
     "metadata": {},
     "output_type": "execute_result"
    }
   ],
   "source": [
    "# Frozen set datatype\n",
    "a = frozenset({1,2,3,4,5,6})\n",
    "print(a)\n",
    "type(a)"
   ]
  },
  {
   "cell_type": "code",
   "execution_count": 19,
   "id": "35a26816-96f9-4c62-997f-d9e93df254b6",
   "metadata": {},
   "outputs": [
    {
     "name": "stdout",
     "output_type": "stream",
     "text": [
      "{1, 2, 3, 4, 7, 8}\n"
     ]
    },
    {
     "data": {
      "text/plain": [
       "set"
      ]
     },
     "execution_count": 19,
     "metadata": {},
     "output_type": "execute_result"
    }
   ],
   "source": [
    "# Set datatype(duplicate remove)\n",
    "a = {1,2,4,2,8,1,8,3,7}\n",
    "print(a)\n",
    "type(a)"
   ]
  },
  {
   "cell_type": "code",
   "execution_count": 25,
   "id": "f3c1d76a-55a1-46a8-96c7-342797efc91d",
   "metadata": {},
   "outputs": [
    {
     "name": "stdout",
     "output_type": "stream",
     "text": [
      "e\n"
     ]
    }
   ],
   "source": [
    "# Positive indexing\n",
    "s = \"Hello\"\n",
    "print(s[1])"
   ]
  },
  {
   "cell_type": "code",
   "execution_count": 27,
   "id": "8336a788-d0eb-4df7-94ef-bc79fcc8984e",
   "metadata": {},
   "outputs": [
    {
     "data": {
      "text/plain": [
       "5"
      ]
     },
     "execution_count": 27,
     "metadata": {},
     "output_type": "execute_result"
    }
   ],
   "source": [
    "# Negative indexing(zero not consider,start from -1)\n",
    "a = [1,2,3,4,5]\n",
    "a[-1]"
   ]
  },
  {
   "cell_type": "code",
   "execution_count": 1,
   "id": "577bc643-280f-4b23-8272-854d13e566fd",
   "metadata": {},
   "outputs": [
    {
     "data": {
      "text/plain": [
       "[2, 3]"
      ]
     },
     "execution_count": 1,
     "metadata": {},
     "output_type": "execute_result"
    }
   ],
   "source": [
    "# Slicing\n",
    "a = [1,2,3,4,5,6]\n",
    "a[1:3]"
   ]
  },
  {
   "cell_type": "code",
   "execution_count": 2,
   "id": "7cf04aa6-0699-4bb9-9ed8-7f3b4fbe0c6a",
   "metadata": {},
   "outputs": [
    {
     "data": {
      "text/plain": [
       "[2, 3, 4, 5, 6, 7, 8, 9, 10]"
      ]
     },
     "execution_count": 2,
     "metadata": {},
     "output_type": "execute_result"
    }
   ],
   "source": [
    "# Slicing\n",
    "a = [1,2,3,4,5,6,7,8,9,10]\n",
    "a[1:]"
   ]
  },
  {
   "cell_type": "code",
   "execution_count": 5,
   "id": "3ee8ac4c-e49c-4d51-a552-55f5b330283b",
   "metadata": {},
   "outputs": [
    {
     "data": {
      "text/plain": [
       "[2, 4, 6, 8, 10]"
      ]
     },
     "execution_count": 5,
     "metadata": {},
     "output_type": "execute_result"
    }
   ],
   "source": [
    "# Slicing even number\n",
    "a = [1,2,3,4,5,6,7,8,9,10]\n",
    "a[1::2]"
   ]
  },
  {
   "cell_type": "code",
   "execution_count": 39,
   "id": "c849949e-6658-4e50-b6d0-6dee169e8ced",
   "metadata": {},
   "outputs": [
    {
     "data": {
      "text/plain": [
       "[1, 3, 5, 7, 9]"
      ]
     },
     "execution_count": 39,
     "metadata": {},
     "output_type": "execute_result"
    }
   ],
   "source": [
    "# Slicing odd number\n",
    "a = [1,2,3,4,5,6,7,8,9,10]\n",
    "a[0::2]"
   ]
  },
  {
   "cell_type": "code",
   "execution_count": 42,
   "id": "910fa5aa-a9c9-4eb9-81d0-9722db778c6d",
   "metadata": {},
   "outputs": [],
   "source": [
    "# slicing in tuple(HW)\n",
    "#create tuple of first 10 natural numbers\n",
    "#slice even number tuple from created natural number tuple\n",
    "#slice odd number tuple from created natural number tuple"
   ]
  },
  {
   "cell_type": "code",
   "execution_count": 6,
   "id": "8b381a31-7636-445f-97de-735e5f1fcf95",
   "metadata": {},
   "outputs": [
    {
     "data": {
      "text/plain": [
       "'mrunal'"
      ]
     },
     "execution_count": 6,
     "metadata": {},
     "output_type": "execute_result"
    }
   ],
   "source": [
    "# Dictionary datatype(Indexing;keys can't be duplicate in dict,values can be;)\n",
    "a = {\"Name\":\"mrunal\",\"Rollno\":28,\"Cont\":12345}\n",
    "a[\"Name\"]"
   ]
  },
  {
   "cell_type": "code",
   "execution_count": 47,
   "id": "1daa352e-e20c-4697-88a7-c3b9aa017cee",
   "metadata": {},
   "outputs": [
    {
     "data": {
      "text/plain": [
       "(1, 2, 3, 4)"
      ]
     },
     "execution_count": 47,
     "metadata": {},
     "output_type": "execute_result"
    }
   ],
   "source": [
    "#create a list and convert the type to tuple and vice versa using type casting\n",
    "a = [1,2,3,4]\n",
    "b = tuple(a)\n",
    "b"
   ]
  },
  {
   "cell_type": "code",
   "execution_count": 50,
   "id": "5c554a50-971f-411b-a0dd-054a62c7a179",
   "metadata": {},
   "outputs": [
    {
     "data": {
      "text/plain": [
       "[1, 2, 3, 4]"
      ]
     },
     "execution_count": 50,
     "metadata": {},
     "output_type": "execute_result"
    }
   ],
   "source": [
    "a = (1,2,3,4)\n",
    "b = list(a)\n",
    "b"
   ]
  },
  {
   "cell_type": "code",
   "execution_count": 58,
   "id": "6eb02805-ba36-4278-b4b7-6d0acd380cee",
   "metadata": {},
   "outputs": [
    {
     "data": {
      "text/plain": [
       "1"
      ]
     },
     "execution_count": 58,
     "metadata": {},
     "output_type": "execute_result"
    }
   ],
   "source": [
    "#Method of tuple\n",
    "a = (1,2,1,2,3,2,2,3,4)\n",
    "a.count(2)# It define count of number which to be given\n",
    "a.index(2)# It define index of particular number which is given"
   ]
  },
  {
   "cell_type": "code",
   "execution_count": 60,
   "id": "952e71e3-4889-4d4f-8ca8-a0e12fb06491",
   "metadata": {},
   "outputs": [
    {
     "data": {
      "text/plain": [
       "[1, 2, 3, 4, 5, 6, 7, 2, 1, 4, 3, 'A']"
      ]
     },
     "execution_count": 60,
     "metadata": {},
     "output_type": "execute_result"
    }
   ],
   "source": [
    "#Method of List\n",
    "a = [1,2,3,4,5,6,7,2,1,4,3]\n",
    "a.append('A')\n",
    "a"
   ]
  },
  {
   "cell_type": "code",
   "execution_count": 89,
   "id": "a0be088a-f076-40ca-bab3-3326362b1f9c",
   "metadata": {},
   "outputs": [
    {
     "data": {
      "text/plain": [
       "['Mrunal',\n",
       " 'kaustubh',\n",
       " ['maths', 'science', 'english'],\n",
       " (70, 80, 90),\n",
       " {'DS': 'Shalini'}]"
      ]
     },
     "execution_count": 89,
     "metadata": {},
     "output_type": "execute_result"
    }
   ],
   "source": [
    "#name,list of sub,tuple of marks of each sub and add dictionary in list\n",
    "student_info = [\"Mrunal\",[\"maths\",\"science\",\"english\"],(70,80,90)]\n",
    "d = {\"DS\":\"Shalini\"}\n",
    "student_info.pop #remove last element\n",
    "student_info.append(d) #add element\n",
    "student_info.remove(\"Mrunal\") #remove element which is given in bracket\n",
    "student_info.insert(1,\"kaustubh\") #insert new element with particular location \n",
    "student_info"
   ]
  },
  {
   "cell_type": "code",
   "execution_count": 91,
   "id": "455c8e3a-130d-4d31-99a5-85d9be8f33de",
   "metadata": {},
   "outputs": [
    {
     "data": {
      "text/plain": [
       "'OLLEH'"
      ]
     },
     "execution_count": 91,
     "metadata": {},
     "output_type": "execute_result"
    }
   ],
   "source": [
    "#reverse string\n",
    "a = \"HELLO\"\n",
    "a[::-1]"
   ]
  },
  {
   "cell_type": "code",
   "execution_count": 92,
   "id": "851270a0-423e-45f3-8a91-5f9d86530a43",
   "metadata": {},
   "outputs": [],
   "source": [
    "#list methods\n",
    "#string methods(HW)"
   ]
  },
  {
   "cell_type": "code",
   "execution_count": null,
   "id": "43e8175e-bdfe-4f35-8e8a-ce16e41806af",
   "metadata": {},
   "outputs": [],
   "source": []
  }
 ],
 "metadata": {
  "kernelspec": {
   "display_name": "Python 3 (ipykernel)",
   "language": "python",
   "name": "python3"
  },
  "language_info": {
   "codemirror_mode": {
    "name": "ipython",
    "version": 3
   },
   "file_extension": ".py",
   "mimetype": "text/x-python",
   "name": "python",
   "nbconvert_exporter": "python",
   "pygments_lexer": "ipython3",
   "version": "3.12.4"
  }
 },
 "nbformat": 4,
 "nbformat_minor": 5
}
