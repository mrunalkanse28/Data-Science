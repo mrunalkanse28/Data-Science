{
 "cells": [
  {
   "cell_type": "code",
   "execution_count": 1,
   "id": "b227021b-3563-4217-b044-22ca45760065",
   "metadata": {},
   "outputs": [
    {
     "data": {
      "text/plain": [
       "'def name_of_function(arguments):'"
      ]
     },
     "execution_count": 1,
     "metadata": {},
     "output_type": "execute_result"
    }
   ],
   "source": [
    "# Def Syntax\n",
    "'''def name_of_function(arguments):'''\n",
    "    "
   ]
  },
  {
   "cell_type": "code",
   "execution_count": 1,
   "id": "271d175f-63ba-462d-8223-c18351112c76",
   "metadata": {},
   "outputs": [
    {
     "data": {
      "text/plain": [
       "12.56"
      ]
     },
     "execution_count": 1,
     "metadata": {},
     "output_type": "execute_result"
    }
   ],
   "source": [
    "# Using Return\n",
    "def calculate_area(radius):\n",
    "    area = 3.14*(radius**2)\n",
    "    return area\n",
    "calculate_area(2)"
   ]
  },
  {
   "cell_type": "code",
   "execution_count": 3,
   "id": "06ecbef0-64f0-43d5-bfca-98a42a4a4a86",
   "metadata": {},
   "outputs": [
    {
     "name": "stdout",
     "output_type": "stream",
     "text": [
      "62.800000000000004\n"
     ]
    }
   ],
   "source": [
    "# Using print\n",
    "def calculate_circumference(radius):\n",
    "    circumference = 2*3.14*radius\n",
    "    print(circumference)\n",
    "calculate_circumference(10)"
   ]
  },
  {
   "cell_type": "code",
   "execution_count": 4,
   "id": "a8aeef3e-a8a4-4430-8d59-55d02a2785b7",
   "metadata": {},
   "outputs": [],
   "source": [
    "'''\n",
    "Write a function 'greet' that takes username as argument and prints:\n",
    "Hello, John ! You must attempt the weekly test.\n",
    "Revise the concepts.\n",
    "'''\n",
    "\n",
    "def greet(name):\n",
    "    print(f'Hello, {name} ! You must attempt the weekly test.\\nRevise the concepts.')\n",
    "    "
   ]
  },
  {
   "cell_type": "code",
   "execution_count": 5,
   "id": "616876ab-8af0-4244-80da-296a210d00bd",
   "metadata": {},
   "outputs": [
    {
     "name": "stdout",
     "output_type": "stream",
     "text": [
      "Hello, Mrunal ! You must attempt the weekly test.\n",
      "Revise the concepts.\n"
     ]
    }
   ],
   "source": [
    "greet(\"Mrunal\")"
   ]
  },
  {
   "cell_type": "code",
   "execution_count": 6,
   "id": "510c6c96-01cf-4cae-a390-83aadc16c552",
   "metadata": {},
   "outputs": [
    {
     "name": "stdout",
     "output_type": "stream",
     "text": [
      "Hello, Mrunal ! You must attempt the weekly test.\n",
      "Revise the concepts.\n"
     ]
    }
   ],
   "source": [
    "# If we want to use return\n",
    "def greet(name):\n",
    "    return f'Hello, {name} ! You must attempt the weekly test.\\nRevise the concepts.'\n",
    "\n",
    "print(greet(\"Mrunal\"))"
   ]
  },
  {
   "cell_type": "code",
   "execution_count": 7,
   "id": "e10daf3e-2b33-49d1-bd42-1282414d4d64",
   "metadata": {},
   "outputs": [
    {
     "data": {
      "text/plain": [
       "120"
      ]
     },
     "execution_count": 7,
     "metadata": {},
     "output_type": "execute_result"
    }
   ],
   "source": [
    "# Calculate factorial\n",
    "def factorial(n):\n",
    "    fact = 1\n",
    "    for i in range(1,n+1):\n",
    "        fact *= i\n",
    "    return fact\n",
    "factorial(5)"
   ]
  },
  {
   "cell_type": "code",
   "execution_count": 2,
   "id": "67ffb0d7-cd3d-4be9-837a-be5a7f70c8de",
   "metadata": {},
   "outputs": [
    {
     "name": "stdout",
     "output_type": "stream",
     "text": [
      "Hi,Mrunal\n",
      "Your age is 19.\n"
     ]
    }
   ],
   "source": [
    "# User info\n",
    "def user_info(name,age):\n",
    "    print(f'Hi,{name}\\nYour age is {age}.')\n",
    "user_info(\"Mrunal\",19)"
   ]
  },
  {
   "cell_type": "code",
   "execution_count": 5,
   "id": "de0af55a-3112-4ac6-995a-26dad89aa1b6",
   "metadata": {},
   "outputs": [
    {
     "name": "stdout",
     "output_type": "stream",
     "text": [
      "Hi,User\n"
     ]
    }
   ],
   "source": [
    "def user_info(name = 'User'):\n",
    "    print(f'Hi,{name}')\n",
    "user_info()"
   ]
  },
  {
   "cell_type": "code",
   "execution_count": 12,
   "id": "dc381659-1c52-43b1-bf8c-8805b25e5724",
   "metadata": {},
   "outputs": [
    {
     "data": {
      "text/plain": [
       "3"
      ]
     },
     "execution_count": 12,
     "metadata": {},
     "output_type": "execute_result"
    }
   ],
   "source": [
    "def addition(num1,num2):\n",
    "    return num1+num2\n",
    "\n",
    "addition(1,2)"
   ]
  },
  {
   "cell_type": "code",
   "execution_count": 9,
   "id": "21b1e28e-669a-4860-99b3-6bc7183665e3",
   "metadata": {},
   "outputs": [
    {
     "data": {
      "text/plain": [
       "17"
      ]
     },
     "execution_count": 9,
     "metadata": {},
     "output_type": "execute_result"
    }
   ],
   "source": [
    "# If we want n number of arguments or elements then we use (*args)\n",
    "def addition(*args):\n",
    "    return sum(args) \n",
    "\n",
    "addition(1,2,3,4,7)"
   ]
  },
  {
   "cell_type": "code",
   "execution_count": 11,
   "id": "c4018581-f45c-49b6-92f6-d6a499b648e3",
   "metadata": {},
   "outputs": [
    {
     "name": "stdout",
     "output_type": "stream",
     "text": [
      "{'name': 'Mrunal', 'age': 19, 'course': 'DS'}\n",
      "name , Mrunal\n",
      "age , 19\n",
      "course , DS\n"
     ]
    }
   ],
   "source": [
    "# ** = kwargs(**kwargs) ; adding key value pairs(key word arguments)\n",
    "def dict_conversion(**kwargs):\n",
    "    print(kwargs)\n",
    "    for key , value in kwargs.items(): #If we want unpacked dictionary\n",
    "        print(f\"{key} , {value}\") #If we want unpacked dictionary\n",
    "dict_conversion(name = \"Mrunal\", age = 19, course = \"DS\")\n"
   ]
  },
  {
   "cell_type": "code",
   "execution_count": 25,
   "id": "5a72fc1b-1604-4876-8e74-305eb73c3723",
   "metadata": {},
   "outputs": [
    {
     "data": {
      "text/plain": [
       "60480"
      ]
     },
     "execution_count": 25,
     "metadata": {},
     "output_type": "execute_result"
    }
   ],
   "source": [
    "a = factorial(7)\n",
    "x = a*12\n",
    "x"
   ]
  },
  {
   "cell_type": "code",
   "execution_count": 37,
   "id": "3f345cf0-78b4-4ae0-b6b5-901ec5660362",
   "metadata": {},
   "outputs": [
    {
     "data": {
      "text/plain": [
       "'Saving is 500'"
      ]
     },
     "execution_count": 37,
     "metadata": {},
     "output_type": "execute_result"
    }
   ],
   "source": [
    "def budget_check(*expenses, total_budget):\n",
    "    total_expense = sum(expenses)\n",
    "    saving = total_budget - total_expense\n",
    "    if saving < 0:\n",
    "        return f\"Exceeded budget by {saving}\"\n",
    "    else:\n",
    "        return f\"Saving is {saving}\"\n",
    "budget_check(1000,2000,3000, total_budget = 6500)\n",
    " "
   ]
  },
  {
   "cell_type": "code",
   "execution_count": null,
   "id": "f2a91c54-e888-49a7-b2fd-c1deb2f13486",
   "metadata": {},
   "outputs": [],
   "source": []
  }
 ],
 "metadata": {
  "kernelspec": {
   "display_name": "Python 3 (ipykernel)",
   "language": "python",
   "name": "python3"
  },
  "language_info": {
   "codemirror_mode": {
    "name": "ipython",
    "version": 3
   },
   "file_extension": ".py",
   "mimetype": "text/x-python",
   "name": "python",
   "nbconvert_exporter": "python",
   "pygments_lexer": "ipython3",
   "version": "3.12.4"
  }
 },
 "nbformat": 4,
 "nbformat_minor": 5
}
