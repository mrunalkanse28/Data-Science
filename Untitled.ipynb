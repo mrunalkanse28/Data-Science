{
 "cells": [
  {
   "cell_type": "code",
   "execution_count": 8,
   "id": "8688d956-3dbe-44e9-a871-b6e1ca2a1061",
   "metadata": {},
   "outputs": [
    {
     "data": {
      "text/plain": [
       "['Learn', 'Quiz', 'Practice', 'Contribute']"
      ]
     },
     "execution_count": 8,
     "metadata": {},
     "output_type": "execute_result"
    }
   ],
   "source": [
    "Check1 = ['Learn', 'Quiz', 'Practice', 'Contribute']\n",
    "Check2 = Check1\n",
    "Check3 = Check1[:]\n",
    "Check3"
   ]
  },
  {
   "cell_type": "code",
   "execution_count": 9,
   "id": "b25b9268-b441-4725-b66b-23ceb776996b",
   "metadata": {},
   "outputs": [
    {
     "data": {
      "text/plain": [
       "['Code', 'Quiz', 'Practice', 'Contribute']"
      ]
     },
     "execution_count": 9,
     "metadata": {},
     "output_type": "execute_result"
    }
   ],
   "source": [
    "Check2[0] = 'Code'\n",
    "Check2"
   ]
  },
  {
   "cell_type": "code",
   "execution_count": 10,
   "id": "ae38eb77-c0f7-4dac-aaf5-50163a7f6b27",
   "metadata": {},
   "outputs": [
    {
     "data": {
      "text/plain": [
       "['Learn', 'MCQ', 'Practice', 'Contribute']"
      ]
     },
     "execution_count": 10,
     "metadata": {},
     "output_type": "execute_result"
    }
   ],
   "source": [
    "Check3[1] = 'MCQ'\n",
    "Check3"
   ]
  },
  {
   "cell_type": "code",
   "execution_count": 11,
   "id": "ad7c754b-6510-48c8-b1c0-bd561754270c",
   "metadata": {},
   "outputs": [
    {
     "data": {
      "text/plain": [
       "['Code', 'Quiz', 'Practice', 'Contribute']"
      ]
     },
     "execution_count": 11,
     "metadata": {},
     "output_type": "execute_result"
    }
   ],
   "source": [
    "Check1"
   ]
  },
  {
   "cell_type": "code",
   "execution_count": 22,
   "id": "890708e2-5187-42a9-a2b9-b8c155603342",
   "metadata": {},
   "outputs": [
    {
     "name": "stdout",
     "output_type": "stream",
     "text": [
      "1\n",
      "11\n"
     ]
    }
   ],
   "source": [
    "Count = 0\n",
    "for c in (Check2,Check3):\n",
    "    if c[0] == 'Code':\n",
    "        Count += 1\n",
    "    if c[1] == 'MCQ':\n",
    "        Count += 10\n",
    "    print(Count) "
   ]
  },
  {
   "cell_type": "markdown",
   "id": "ed7dee93-6852-4cb4-ba05-571f3afa1e8f",
   "metadata": {},
   "source": [
    "### Dictionary Example"
   ]
  },
  {
   "cell_type": "code",
   "execution_count": 24,
   "id": "6f401642-02ad-4e2f-9545-8e376ec047a9",
   "metadata": {},
   "outputs": [
    {
     "name": "stdout",
     "output_type": "stream",
     "text": [
      "0\n"
     ]
    }
   ],
   "source": [
    "counter = {}\n",
    "def add_To_Counter(Country):\n",
    "    if country in counter:\n",
    "        counter[country] += 1\n",
    "    else:\n",
    "        counter[country] = 1\n",
    "    add_To_Counter('China')\n",
    "    add_To_Counter('Japan')\n",
    "    add_To_Counter('china')\n",
    "print(len(counter))"
   ]
  },
  {
   "cell_type": "code",
   "execution_count": null,
   "id": "2a081b09-9ad2-482e-a82c-3ffedeced149",
   "metadata": {},
   "outputs": [],
   "source": []
  }
 ],
 "metadata": {
  "kernelspec": {
   "display_name": "Python 3 (ipykernel)",
   "language": "python",
   "name": "python3"
  },
  "language_info": {
   "codemirror_mode": {
    "name": "ipython",
    "version": 3
   },
   "file_extension": ".py",
   "mimetype": "text/x-python",
   "name": "python",
   "nbconvert_exporter": "python",
   "pygments_lexer": "ipython3",
   "version": "3.12.4"
  }
 },
 "nbformat": 4,
 "nbformat_minor": 5
}
