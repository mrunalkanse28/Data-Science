{
 "cells": [
  {
   "cell_type": "markdown",
   "id": "c2f8a302-f7fa-4f54-bb2f-9b61868aaee2",
   "metadata": {},
   "source": [
    "import array\n",
    "# How you would create an array\n",
    "array.array()"
   ]
  },
  {
   "cell_type": "code",
   "execution_count": null,
   "id": "ff44c364-37ce-4080-80a5-dc0daa4ad68e",
   "metadata": {},
   "outputs": [],
   "source": [
    "from array import *\n",
    "array()"
   ]
  },
  {
   "cell_type": "code",
   "execution_count": 5,
   "id": "4d53edc3-0f40-4672-83f9-ebf9d116e7af",
   "metadata": {},
   "outputs": [
    {
     "data": {
      "text/plain": [
       "array('i', [1, 2, 3, 4, 5])"
      ]
     },
     "execution_count": 5,
     "metadata": {},
     "output_type": "execute_result"
    }
   ],
   "source": [
    "# create an array of integers\n",
    "import array\n",
    "num = array.array('i',[1,2,3,4,5])\n",
    "num"
   ]
  },
  {
   "cell_type": "code",
   "execution_count": 6,
   "id": "afcce919-c6e2-49c1-ac0e-7ca31242d67b",
   "metadata": {},
   "outputs": [],
   "source": [
    "# All methods are worked in a similar way in list"
   ]
  },
  {
   "cell_type": "code",
   "execution_count": 8,
   "id": "d9c6ece9-c196-4c9b-8a3b-e9a4d6df2992",
   "metadata": {},
   "outputs": [
    {
     "data": {
      "text/plain": [
       "array('i', [1, 2, 3, 4, 5])"
      ]
     },
     "execution_count": 8,
     "metadata": {},
     "output_type": "execute_result"
    }
   ],
   "source": [
    "# Second method\n",
    "from array import *\n",
    "num = array('i',[1,2,3,4,5]) # i for integer datatype\n",
    "num"
   ]
  },
  {
   "cell_type": "code",
   "execution_count": 20,
   "id": "2a40c8aa-02c6-48a8-9815-7fc144939afc",
   "metadata": {},
   "outputs": [
    {
     "data": {
      "text/plain": [
       "array('f', [1.0, 2.0, 3.0, 4.0, 5.0])"
      ]
     },
     "execution_count": 20,
     "metadata": {},
     "output_type": "execute_result"
    }
   ],
   "source": [
    "# Create in float datatype\n",
    "num = array('f',[1,2,3,4,5]) # f for float datatype\n",
    "num"
   ]
  },
  {
   "cell_type": "code",
   "execution_count": 14,
   "id": "ec29d90f-bc3d-4ceb-aafb-77ea95529a15",
   "metadata": {},
   "outputs": [
    {
     "data": {
      "text/plain": [
       "array('i', [1, 2, 3, 4, 5, 6])"
      ]
     },
     "execution_count": 14,
     "metadata": {},
     "output_type": "execute_result"
    }
   ],
   "source": [
    "# Append 6th element\n",
    "num = array('i',[1,2,3,4,5])\n",
    "num.append(6)\n",
    "num"
   ]
  },
  {
   "cell_type": "code",
   "execution_count": 28,
   "id": "53743052-9a2e-4e2f-8bee-8564220915e4",
   "metadata": {},
   "outputs": [
    {
     "data": {
      "text/plain": [
       "4"
      ]
     },
     "execution_count": 28,
     "metadata": {},
     "output_type": "execute_result"
    }
   ],
   "source": [
    "# create an array with grades of students from the below list\n",
    "#[4.3,3.5,4.1,4.8,3.9,4.0]\n",
    "grades = array('d',[4.3,3.5,4.1,4.8,3.9,4.0])\n",
    "grades.index(3.9)"
   ]
  },
  {
   "cell_type": "code",
   "execution_count": 18,
   "id": "3e56ebfc-13c2-45c2-9ffa-b20cc52f59f1",
   "metadata": {},
   "outputs": [
    {
     "name": "stdout",
     "output_type": "stream",
     "text": [
      "array('i', [43, 35, 41, 48, 39, 40])\n"
     ]
    }
   ],
   "source": [
    "grades = array('i',[43,35,41,48,39,40])\n",
    "print(grades)"
   ]
  },
  {
   "cell_type": "code",
   "execution_count": 31,
   "id": "1206f820-9d29-482e-bf8c-bf885c53359b",
   "metadata": {},
   "outputs": [
    {
     "name": "stdout",
     "output_type": "stream",
     "text": [
      "2\n"
     ]
    }
   ],
   "source": [
    "# Find the index of the 3 element\n",
    "import array as arr\n",
    "\n",
    "number = arr.array('i',[1,2,3,4,5])\n",
    "print(number.index(3))\n"
   ]
  },
  {
   "cell_type": "code",
   "execution_count": 24,
   "id": "af7fa071-0843-486e-b251-453907eac4d8",
   "metadata": {},
   "outputs": [
    {
     "name": "stdout",
     "output_type": "stream",
     "text": [
      "4\n"
     ]
    }
   ],
   "source": [
    "# Find the index of the 5 element\n",
    "print(number.index(5))"
   ]
  },
  {
   "cell_type": "code",
   "execution_count": 33,
   "id": "d2fa7478-c842-4b3e-9247-02a366d95821",
   "metadata": {},
   "outputs": [
    {
     "name": "stdout",
     "output_type": "stream",
     "text": [
      "1\n",
      "2\n",
      "3\n",
      "4\n",
      "5\n"
     ]
    }
   ],
   "source": [
    "for i in number:\n",
    "    print(i)"
   ]
  },
  {
   "cell_type": "code",
   "execution_count": 34,
   "id": "8fe3d776-0016-401f-81d2-21d640d49b3c",
   "metadata": {},
   "outputs": [
    {
     "name": "stdout",
     "output_type": "stream",
     "text": [
      "array('i', [1, 2])\n"
     ]
    }
   ],
   "source": [
    "print(number[:2])"
   ]
  },
  {
   "cell_type": "code",
   "execution_count": 35,
   "id": "2fd89e06-99e5-4a74-8291-57d304d214b5",
   "metadata": {},
   "outputs": [
    {
     "name": "stdout",
     "output_type": "stream",
     "text": [
      "array('i', [2, 3])\n"
     ]
    }
   ],
   "source": [
    "print(number[1:3])"
   ]
  },
  {
   "cell_type": "code",
   "execution_count": 36,
   "id": "ee2d1642-36c8-417c-bbdd-2adc260b7b1c",
   "metadata": {},
   "outputs": [],
   "source": [
    "# Time and space complexity for slicing and array O[k],where k is the number of elements in the slice;this is because k elements need to be picked up from array and need to be added to a new array;"
   ]
  },
  {
   "cell_type": "code",
   "execution_count": 53,
   "id": "c3effac6-c8fb-4ad1-b051-64acd5a5038e",
   "metadata": {},
   "outputs": [
    {
     "data": {
      "text/plain": [
       "array('i', [6, 5, 4, 3, 1])"
      ]
     },
     "execution_count": 53,
     "metadata": {},
     "output_type": "execute_result"
    }
   ],
   "source": [
    "# insert from he beginning\n",
    "import array as arr\n",
    "number = arr.array('i',[1,2])\n",
    "number.insert(0,3)\n",
    "number\n",
    "# insert from the end\n",
    "number = arr.array('i',[1,2])\n",
    "number.append(3)\n",
    "number\n",
    "# insert in the middle\n",
    "number = arr.array('i',[1,2])\n",
    "number.insert(2,4)\n",
    "number\n",
    "# delete from the beginning\n",
    "number = arr.array('i',[1,2])\n",
    "number.pop(0)\n",
    "number\n",
    "# delete from the end\n",
    "number = arr.array('i',[1,2])\n",
    "number.pop()\n",
    "number\n",
    "# delete from the middle\n",
    "number = arr.array('i',[1,2,3])\n",
    "number.pop(1)\n",
    "number\n",
    "#insert more than one element in th end\n",
    "number.extend([4,5,6])\n",
    "number\n",
    "# reverse method\n",
    "number.reverse()\n",
    "number"
   ]
  },
  {
   "cell_type": "code",
   "execution_count": null,
   "id": "e4a9847d-889e-4e36-a3cf-f2e91338e43a",
   "metadata": {},
   "outputs": [],
   "source": []
  }
 ],
 "metadata": {
  "kernelspec": {
   "display_name": "Python 3 (ipykernel)",
   "language": "python",
   "name": "python3"
  },
  "language_info": {
   "codemirror_mode": {
    "name": "ipython",
    "version": 3
   },
   "file_extension": ".py",
   "mimetype": "text/x-python",
   "name": "python",
   "nbconvert_exporter": "python",
   "pygments_lexer": "ipython3",
   "version": "3.12.4"
  }
 },
 "nbformat": 4,
 "nbformat_minor": 5
}
