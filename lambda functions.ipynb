{
 "cells": [
  {
   "cell_type": "code",
   "execution_count": 4,
   "id": "68898a3f-cee7-41d2-b1d8-b2e9b206f53d",
   "metadata": {},
   "outputs": [
    {
     "name": "stdout",
     "output_type": "stream",
     "text": [
      "[2, 4, 6, 8, 10]\n",
      "[1, 3, 5, 7, 9]\n"
     ]
    }
   ],
   "source": [
    "a = [1,2,3,4,5,6,7,8,9,10]\n",
    "b = []\n",
    "c = []\n",
    "for i in a:\n",
    "    if i%2 == 0:\n",
    "        b.append(i)\n",
    "    else:\n",
    "        c.append(i)\n",
    "print(b)\n",
    "print(c)"
   ]
  },
  {
   "cell_type": "code",
   "execution_count": 9,
   "id": "4ef8d8b4-e4df-4844-93ee-15a53aafb435",
   "metadata": {},
   "outputs": [
    {
     "name": "stdout",
     "output_type": "stream",
     "text": [
      "[2, 4, 6, 8, 10]\n",
      "[1, 3, 5, 7, 9]\n"
     ]
    }
   ],
   "source": [
    "# Comprehension : It means multiple lines is converted into single line code\n",
    "a = [1,2,3,4,5,6,7,8,9,10]\n",
    "b = [i for i in a if i%2 == 0]\n",
    "c = [i for i in a if i%2 != 0]\n",
    "print(b)\n",
    "print(c)"
   ]
  },
  {
   "cell_type": "code",
   "execution_count": 24,
   "id": "62b10a2e-7a43-4fbe-8e96-5089db5e0060",
   "metadata": {},
   "outputs": [
    {
     "name": "stdout",
     "output_type": "stream",
     "text": [
      "[2, 4, 6, 2, 2, 4, 6, 6, 8, 8, 10]\n"
     ]
    }
   ],
   "source": [
    "#print even numbers with duplicates\n",
    "a = [1,2,3,4,5,6,7,2,2,3,4,5,6,6,7,8,8,9,10]\n",
    "b = [i for i in a if i%2 == 0]\n",
    "print(b)"
   ]
  },
  {
   "cell_type": "code",
   "execution_count": 25,
   "id": "db50aeda-6009-42dd-8476-7bb7b9bc4a01",
   "metadata": {},
   "outputs": [
    {
     "name": "stdout",
     "output_type": "stream",
     "text": [
      "{2, 4, 6, 8, 10}\n"
     ]
    }
   ],
   "source": [
    "#print even number without duplicates \n",
    "a = [1,2,3,4,5,6,7,2,2,3,4,5,6,6,7,8,8,9,10]\n",
    "b = {i for i in a if i%2 == 0} #set is collection of unordered unique elements\n",
    "print(b)"
   ]
  },
  {
   "cell_type": "code",
   "execution_count": 23,
   "id": "11b60bf2-32ea-4729-9124-80b458689c43",
   "metadata": {},
   "outputs": [
    {
     "data": {
      "text/plain": [
       "[1, 4, 9, 16, 25, 36, 49, 64, 81, 100]"
      ]
     },
     "execution_count": 23,
     "metadata": {},
     "output_type": "execute_result"
    }
   ],
   "source": [
    "#Square for numbers in list\n",
    "a = [1,2,3,4,5,6,7,8,9,10]\n",
    "b = [i**2 for i in a]\n",
    "b"
   ]
  },
  {
   "cell_type": "code",
   "execution_count": 22,
   "id": "41d39600-ff4c-450c-b892-7b7969815042",
   "metadata": {},
   "outputs": [
    {
     "data": {
      "text/plain": [
       "[0, 1, 4, 9, 16, 25, 36, 49, 64, 81, 100, 121]"
      ]
     },
     "execution_count": 22,
     "metadata": {},
     "output_type": "execute_result"
    }
   ],
   "source": [
    "#if we want range \n",
    "b = [i**2 for i in range(12)]\n",
    "b"
   ]
  },
  {
   "cell_type": "code",
   "execution_count": 21,
   "id": "af0ac0fa-f593-4527-be66-ce8dc32b36f0",
   "metadata": {},
   "outputs": [
    {
     "data": {
      "text/plain": [
       "[0, 4, 16, 36, 64, 100]"
      ]
     },
     "execution_count": 21,
     "metadata": {},
     "output_type": "execute_result"
    }
   ],
   "source": [
    "#if we want only even numbers square:\n",
    "b = [i**2 for i in range(12) if i%2 == 0]\n",
    "b"
   ]
  },
  {
   "cell_type": "code",
   "execution_count": 20,
   "id": "54f9d1a6-968a-467c-bba2-f11821f7c2c9",
   "metadata": {},
   "outputs": [
    {
     "data": {
      "text/plain": [
       "[33.8, 35.6, 37.4, 42.8, 46.4]"
      ]
     },
     "execution_count": 20,
     "metadata": {},
     "output_type": "execute_result"
    }
   ],
   "source": [
    "# If we want to get celcius of list:\n",
    "a = [1,2,3,6,8]\n",
    "b = [(9/5)*i+32 for i in a]\n",
    "b"
   ]
  },
  {
   "cell_type": "code",
   "execution_count": 28,
   "id": "4c32d65a-f511-40f6-9faa-fba29641b813",
   "metadata": {},
   "outputs": [
    {
     "data": {
      "text/plain": [
       "[33.8, 35.6, 37.4, 39.2, 41.0]"
      ]
     },
     "execution_count": 28,
     "metadata": {},
     "output_type": "execute_result"
    }
   ],
   "source": [
    "#If we want list in condition\n",
    "b = [(9/5)*i+32 for i in [1,2,3,4,5]]\n",
    "b"
   ]
  },
  {
   "cell_type": "code",
   "execution_count": 32,
   "id": "1259266f-1d15-4a5d-b322-ec1ea92ecd6f",
   "metadata": {},
   "outputs": [
    {
     "data": {
      "text/plain": [
       "[33.8, 35.6, 37.4, 39.2, 41.0]"
      ]
     },
     "execution_count": 32,
     "metadata": {},
     "output_type": "execute_result"
    }
   ],
   "source": [
    "#create dictionary by using comprehension\n",
    "a = [1,2,3,4,5]\n",
    "b = [(9/5)*i+32 for i in a]\n",
    "b"
   ]
  },
  {
   "cell_type": "code",
   "execution_count": 31,
   "id": "48b57fc0-7dde-4172-ab30-4c3a80a060c0",
   "metadata": {},
   "outputs": [
    {
     "data": {
      "text/plain": [
       "{1: 33.8, 2: 35.6, 3: 37.4, 4: 39.2, 5: 41.0}"
      ]
     },
     "execution_count": 31,
     "metadata": {},
     "output_type": "execute_result"
    }
   ],
   "source": [
    "dict = {i:(9/5)*i+32 for i in a}\n",
    "dict"
   ]
  },
  {
   "cell_type": "code",
   "execution_count": 35,
   "id": "fe4f20df-4b36-4b74-9d4e-187e6883289d",
   "metadata": {},
   "outputs": [
    {
     "data": {
      "text/plain": [
       "{1: 33.8, 2: 35.6, 3: 37.4, 4: 39.2, 5: 41.0}"
      ]
     },
     "execution_count": 35,
     "metadata": {},
     "output_type": "execute_result"
    }
   ],
   "source": [
    "#second method\n",
    "dict = {i:j for i,j in zip(a,b)}\n",
    "dict"
   ]
  },
  {
   "cell_type": "markdown",
   "id": "c58f2385-67f5-4b71-9a4d-4382cb572704",
   "metadata": {},
   "source": [
    "#lambda functions\n",
    ",map\n",
    ",filter\n",
    ",reduce\n"
   ]
  },
  {
   "cell_type": "code",
   "execution_count": 45,
   "id": "a97623c7-1b7b-456e-b655-d77fc1bf1ca7",
   "metadata": {},
   "outputs": [
    {
     "data": {
      "text/plain": [
       "['INDIA', 'ENGLAND', 'US', 'PAKISTAN', 'CHINA']"
      ]
     },
     "execution_count": 45,
     "metadata": {},
     "output_type": "execute_result"
    }
   ],
   "source": [
    "# Lambda syntax\n",
    "#lambda keyword input: function/output, iterable\n",
    "\n",
    "a = [\"India\",\"England\",\"US\",\"Pakistan\",\"China\"]\n",
    "list(map(lambda x:x.upper(), a))"
   ]
  },
  {
   "cell_type": "code",
   "execution_count": 44,
   "id": "1cb49c2d-d983-4daf-83b1-3872dd589169",
   "metadata": {},
   "outputs": [
    {
     "data": {
      "text/plain": [
       "[1, 4, 9, 16, 25]"
      ]
     },
     "execution_count": 44,
     "metadata": {},
     "output_type": "execute_result"
    }
   ],
   "source": [
    "#print square by using lambda function\n",
    "a = [1,2,3,4,5]\n",
    "list(map(lambda x:x**2, a))"
   ]
  },
  {
   "cell_type": "code",
   "execution_count": 46,
   "id": "c0a72e02-c2be-4bff-8e9a-849e29cb279c",
   "metadata": {},
   "outputs": [
    {
     "data": {
      "text/plain": [
       "[5, 7, 2, 8, 5]"
      ]
     },
     "execution_count": 46,
     "metadata": {},
     "output_type": "execute_result"
    }
   ],
   "source": [
    "# By using inbuilt function\n",
    "a = [\"India\",\"England\",\"US\",\"Pakistan\",\"China\"]\n",
    "list(map(lambda x:len(x), a))"
   ]
  },
  {
   "cell_type": "code",
   "execution_count": 48,
   "id": "398c3702-08ab-4c01-84bd-3d70a850db64",
   "metadata": {},
   "outputs": [
    {
     "data": {
      "text/plain": [
       "[5, 7, 2, 8, 5]"
      ]
     },
     "execution_count": 48,
     "metadata": {},
     "output_type": "execute_result"
    }
   ],
   "source": [
    "# Without using lambda function\n",
    "a = [\"India\",\"England\",\"US\",\"Pakistan\",\"China\"]\n",
    "list(map(len, a))"
   ]
  },
  {
   "cell_type": "code",
   "execution_count": 50,
   "id": "f604ef20-62cc-49b7-ba0d-27c018350142",
   "metadata": {},
   "outputs": [],
   "source": [
    "# Map syntax:\n",
    "#list(map(function,iterable))"
   ]
  },
  {
   "cell_type": "code",
   "execution_count": 56,
   "id": "8e7ef5ea-e28f-4317-b451-9f44416df038",
   "metadata": {},
   "outputs": [],
   "source": [
    "# Filter syntax:\n",
    "#if we want to check condition is true or false then we use filter function"
   ]
  },
  {
   "cell_type": "code",
   "execution_count": 52,
   "id": "58f6ad09-dd07-41f3-805a-8fca6f0e3aa8",
   "metadata": {},
   "outputs": [
    {
     "data": {
      "text/plain": [
       "True"
      ]
     },
     "execution_count": 52,
     "metadata": {},
     "output_type": "execute_result"
    }
   ],
   "source": [
    "e = [3,4,5,6,7,8,9,10]\n",
    "divby3 = lambda x : x%3 == 0\n",
    "divby3(6)"
   ]
  },
  {
   "cell_type": "code",
   "execution_count": 53,
   "id": "a81d3aa8-5590-4024-ad9a-d7fa1ee5fce7",
   "metadata": {},
   "outputs": [
    {
     "data": {
      "text/plain": [
       "False"
      ]
     },
     "execution_count": 53,
     "metadata": {},
     "output_type": "execute_result"
    }
   ],
   "source": [
    "divby3(10)"
   ]
  },
  {
   "cell_type": "code",
   "execution_count": 54,
   "id": "8f2c236d-f7de-44a3-8add-cab5f7532465",
   "metadata": {},
   "outputs": [
    {
     "data": {
      "text/plain": [
       "<filter at 0x1703038f370>"
      ]
     },
     "execution_count": 54,
     "metadata": {},
     "output_type": "execute_result"
    }
   ],
   "source": [
    "filter(divby3, e)"
   ]
  },
  {
   "cell_type": "code",
   "execution_count": 55,
   "id": "11ce45da-bb32-4594-abe5-c9b86b31c663",
   "metadata": {},
   "outputs": [
    {
     "data": {
      "text/plain": [
       "[3, 6, 9]"
      ]
     },
     "execution_count": 55,
     "metadata": {},
     "output_type": "execute_result"
    }
   ],
   "source": [
    "list(filter(divby3, e))"
   ]
  },
  {
   "cell_type": "code",
   "execution_count": 57,
   "id": "b44c21e8-0159-4b43-9326-b0d1d2ba9e97",
   "metadata": {},
   "outputs": [
    {
     "data": {
      "text/plain": [
       "True"
      ]
     },
     "execution_count": 57,
     "metadata": {},
     "output_type": "execute_result"
    }
   ],
   "source": [
    "e = [3,4,5,6,7,8,9,10]\n",
    "even = lambda x : x%2 == 0\n",
    "even(6)"
   ]
  },
  {
   "cell_type": "code",
   "execution_count": 58,
   "id": "829b57b9-f4c5-4c83-87e9-5dc18836caea",
   "metadata": {},
   "outputs": [
    {
     "data": {
      "text/plain": [
       "[4, 6, 8, 10]"
      ]
     },
     "execution_count": 58,
     "metadata": {},
     "output_type": "execute_result"
    }
   ],
   "source": [
    "list(filter(even, e))"
   ]
  },
  {
   "cell_type": "code",
   "execution_count": 61,
   "id": "95123e1c-3247-4764-bdbc-cbb7cb32b4bf",
   "metadata": {},
   "outputs": [
    {
     "data": {
      "text/plain": [
       "[3, 5, 7, 9]"
      ]
     },
     "execution_count": 61,
     "metadata": {},
     "output_type": "execute_result"
    }
   ],
   "source": [
    "e = [3,4,5,6,7,8,9,10]\n",
    "odd = lambda x : x%2 != 0\n",
    "list(filter(odd, e))"
   ]
  },
  {
   "cell_type": "code",
   "execution_count": 62,
   "id": "ebde8d7f-a8c4-4696-84fb-deaca42eb017",
   "metadata": {},
   "outputs": [],
   "source": [
    "# Reduce syntax"
   ]
  },
  {
   "cell_type": "code",
   "execution_count": 68,
   "id": "d0575694-f75b-45a9-b063-9ef5dc1f824e",
   "metadata": {},
   "outputs": [],
   "source": [
    "# It is compulsory to run\n",
    "from functools import reduce"
   ]
  },
  {
   "cell_type": "code",
   "execution_count": 64,
   "id": "fe410671-2017-42a6-8ce1-808acc4e8578",
   "metadata": {},
   "outputs": [
    {
     "data": {
      "text/plain": [
       "150"
      ]
     },
     "execution_count": 64,
     "metadata": {},
     "output_type": "execute_result"
    }
   ],
   "source": [
    "a = [20,25,30,35,40]\n",
    "reduce(lambda x,y:x+y, a)"
   ]
  },
  {
   "cell_type": "code",
   "execution_count": 66,
   "id": "9a9fac4c-2b15-4716-bf5d-c058845b19d9",
   "metadata": {},
   "outputs": [
    {
     "data": {
      "text/plain": [
       "5"
      ]
     },
     "execution_count": 66,
     "metadata": {},
     "output_type": "execute_result"
    }
   ],
   "source": [
    "a = [20,10,5]\n",
    "reduce(lambda x,y:x-y, a)"
   ]
  },
  {
   "cell_type": "code",
   "execution_count": 67,
   "id": "46a54584-b064-4272-b173-728a3a4183fa",
   "metadata": {},
   "outputs": [
    {
     "data": {
      "text/plain": [
       "'IndiaEnglandUSPakistanChina'"
      ]
     },
     "execution_count": 67,
     "metadata": {},
     "output_type": "execute_result"
    }
   ],
   "source": [
    "b = [\"India\",\"England\",\"US\",\"Pakistan\",\"China\"]\n",
    "reduce(lambda x,y:x+y, b)"
   ]
  },
  {
   "cell_type": "code",
   "execution_count": 69,
   "id": "cd07fee4-8f18-4b36-9cea-f784613daea3",
   "metadata": {},
   "outputs": [
    {
     "data": {
      "text/plain": [
       "5040"
      ]
     },
     "execution_count": 69,
     "metadata": {},
     "output_type": "execute_result"
    }
   ],
   "source": [
    "c = [1,2,3,4,5,6,7]\n",
    "reduce(lambda x,y:x*y, c)"
   ]
  },
  {
   "cell_type": "code",
   "execution_count": 86,
   "id": "7a4c0e1c-4e25-4bca-a81a-e60d508a0dbb",
   "metadata": {},
   "outputs": [
    {
     "data": {
      "text/plain": [
       "0"
      ]
     },
     "execution_count": 86,
     "metadata": {},
     "output_type": "execute_result"
    }
   ],
   "source": [
    "# Reduce to return quotient of element\n",
    "a = [1,2,3,4,5,6,7,8]\n",
    "reduce(lambda x,y:x//y, a)"
   ]
  },
  {
   "cell_type": "code",
   "execution_count": 94,
   "id": "e300c129-db95-4ea3-91f9-6629aef3b769",
   "metadata": {},
   "outputs": [
    {
     "data": {
      "text/plain": [
       "43"
      ]
     },
     "execution_count": 94,
     "metadata": {},
     "output_type": "execute_result"
    }
   ],
   "source": [
    "# Calculate the maximum element in a list\n",
    "a = [1,2,3,6,43,5]\n",
    "reduce(lambda x,y:max(x,y), a)"
   ]
  },
  {
   "cell_type": "code",
   "execution_count": 97,
   "id": "2837ca2e-c779-4276-8258-e15472532a37",
   "metadata": {},
   "outputs": [
    {
     "data": {
      "text/plain": [
       "'Mrunal Kanse'"
      ]
     },
     "execution_count": 97,
     "metadata": {},
     "output_type": "execute_result"
    }
   ],
   "source": [
    "# Concatenate strings in a list with a seperator\n",
    "b = [\"Mrunal\",\"Kanse\"]\n",
    "reduce(lambda x,y:x+\" \"+y, b)"
   ]
  },
  {
   "cell_type": "code",
   "execution_count": 87,
   "id": "e72da28b-aa30-4ffc-9eef-8e6eb1d02375",
   "metadata": {},
   "outputs": [
    {
     "data": {
      "text/plain": [
       "43"
      ]
     },
     "execution_count": 87,
     "metadata": {},
     "output_type": "execute_result"
    }
   ],
   "source": [
    "# Calculate the maximum element in a list(2nd method)\n",
    "a = [1,2,3,6,43,5]\n",
    "reduce(lambda x,y:x if x>y else y, a)"
   ]
  },
  {
   "cell_type": "code",
   "execution_count": null,
   "id": "2c064683-d3e5-4721-b1c0-d6480b9d3e96",
   "metadata": {},
   "outputs": [],
   "source": []
  }
 ],
 "metadata": {
  "kernelspec": {
   "display_name": "Python 3 (ipykernel)",
   "language": "python",
   "name": "python3"
  },
  "language_info": {
   "codemirror_mode": {
    "name": "ipython",
    "version": 3
   },
   "file_extension": ".py",
   "mimetype": "text/x-python",
   "name": "python",
   "nbconvert_exporter": "python",
   "pygments_lexer": "ipython3",
   "version": "3.12.4"
  }
 },
 "nbformat": 4,
 "nbformat_minor": 5
}
