{
 "cells": [
  {
   "cell_type": "code",
   "execution_count": 5,
   "id": "d1c60257-f3be-4caa-bcfa-011dc8fd16a9",
   "metadata": {},
   "outputs": [
    {
     "name": "stdout",
     "output_type": "stream",
     "text": [
      "Class will happen\n"
     ]
    }
   ],
   "source": [
    "# If statement\n",
    "# check if the class strenght is >30,print class will happen\n",
    "clas_strenghth = 50\n",
    "if clas_strenghth > 30:\n",
    "    print(\"Class will happen\")"
   ]
  },
  {
   "cell_type": "code",
   "execution_count": 2,
   "id": "facfe15c-a592-4f07-9ea5-3b90c7544e44",
   "metadata": {},
   "outputs": [
    {
     "name": "stdout",
     "output_type": "stream",
     "text": [
      "Class will not happen\n"
     ]
    }
   ],
   "source": [
    "# If Else statement\n",
    "# check if the class strenght is >30,print class will happen : else print class will not happen\n",
    "clas_strenghth = 20\n",
    "if clas_strenghth > 30:\n",
    "    print(\"Class will happen\")\n",
    "else:\n",
    "    print(\"Class will not happen\")"
   ]
  },
  {
   "cell_type": "code",
   "execution_count": 6,
   "id": "c6b3267d-3027-4af7-b616-91bbdcbea182",
   "metadata": {},
   "outputs": [
    {
     "name": "stdin",
     "output_type": "stream",
     "text": [
      "Enter strength of class 40\n"
     ]
    },
    {
     "name": "stdout",
     "output_type": "stream",
     "text": [
      "Class will happen\n"
     ]
    }
   ],
   "source": [
    "class_strenghth = int(input(\"Enter strength of class\"))\n",
    "if class_strenghth > 30:\n",
    "    print(\"Class will happen\")\n",
    "else:\n",
    "    print(\"Class will not happen\")"
   ]
  },
  {
   "cell_type": "code",
   "execution_count": 6,
   "id": "a8550ffa-5780-4549-9433-38a7c19c46d3",
   "metadata": {},
   "outputs": [
    {
     "name": "stdin",
     "output_type": "stream",
     "text": [
      "Enter strength of class -5\n"
     ]
    },
    {
     "name": "stdout",
     "output_type": "stream",
     "text": [
      "Class strength can not be zero\n"
     ]
    }
   ],
   "source": [
    "class_strength = int(input(\"Enter strength of class\"))\n",
    "if class_strength < 0:\n",
    "    print(\"Class strength can not be zero\")\n",
    "else:\n",
    "    if class_strength > 30:\n",
    "        print(\"Class will happen\")\n",
    "    else:\n",
    "        print(\"Class will not happen\")"
   ]
  },
  {
   "cell_type": "code",
   "execution_count": 10,
   "id": "5261e34b-4272-46c3-acae-463b27497a3c",
   "metadata": {},
   "outputs": [
    {
     "name": "stdin",
     "output_type": "stream",
     "text": [
      "Enter your age 19\n",
      "Enter M for male and F for female.Input is case=sensitive: f\n"
     ]
    },
    {
     "name": "stdout",
     "output_type": "stream",
     "text": [
      "User can not be eligible for pass\n"
     ]
    }
   ],
   "source": [
    "#government is giving free pass to females who are eligible to vote\n",
    "#write a code that takes input from user and check if they are eligible for pass or not\n",
    "age = int(input(\"Enter your age\"))\n",
    "gender = input(\"Enter M for male and F for female.Input is case=sensitive:\")\n",
    "if age < 0:\n",
    "    print(\"Invalid input\")\n",
    "else:\n",
    "    if age >= 18 and gender == \"F\":\n",
    "        print(\"User can eligible for pass\")\n",
    "    else:\n",
    "        print(\"User can not be eligible for pass\")"
   ]
  },
  {
   "cell_type": "code",
   "execution_count": 16,
   "id": "6f17a53e-6011-4be8-81c9-223873c93a73",
   "metadata": {},
   "outputs": [
    {
     "name": "stdin",
     "output_type": "stream",
     "text": [
      "Enter the num1 10\n",
      "Enter the num2 0\n"
     ]
    },
    {
     "name": "stdout",
     "output_type": "stream",
     "text": [
      "Invalid Number\n"
     ]
    }
   ],
   "source": [
    "# get two integers from the user and if possible, divide them and print the result\n",
    "'''\n",
    "get user input for num 1\n",
    "get user input for num 2\n",
    "check if num 2 == 0:\n",
    "    print invalid input\n",
    "otherwise:\n",
    "    print num 1 / num 2'''\n",
    "\n",
    "num1 = int(input(\"Enter the num1\"))\n",
    "num2 = int(input(\"Enter the num2\"))\n",
    "if num2 == 0:\n",
    "    print(\"Invalid Number\")\n",
    "else:\n",
    "    print(num1/num2)"
   ]
  },
  {
   "cell_type": "code",
   "execution_count": 19,
   "id": "f9c10c0e-2413-4cfd-bbda-18e2d81585c9",
   "metadata": {},
   "outputs": [
    {
     "name": "stdin",
     "output_type": "stream",
     "text": [
      "Enter the num1 20\n",
      "Enter the num2 5\n"
     ]
    },
    {
     "name": "stdout",
     "output_type": "stream",
     "text": [
      "4.0\n"
     ]
    }
   ],
   "source": [
    "num1 = int(input(\"Enter the num1\"))\n",
    "num2 = int(input(\"Enter the num2\"))\n",
    "if num2 == 0:\n",
    "    print(\"Invalid Number\")\n",
    "else:\n",
    "    print(num1/num2)"
   ]
  },
  {
   "cell_type": "markdown",
   "id": "1ca0db59-0f86-4a4b-accb-b28d3e7e0b1e",
   "metadata": {},
   "source": [
    "# Write a program that uses the elif statment to categorize employees into the following groups:\n",
    "- if attendance is perfect(30 days),label the employee as oustanding                     \n",
    "- if attendance is between 25 to 29 days,label the employee as satisfactory                       \n",
    "- if attendance is between 20 to 24 days,label the employee as needs improvement                                        \n",
    "- if attendance is below 20 days,label the employee as unsatisfactory"
   ]
  },
  {
   "cell_type": "code",
   "execution_count": 28,
   "id": "12a4cb19-ce82-44ff-86e9-cc0ae344a0d9",
   "metadata": {},
   "outputs": [
    {
     "name": "stdin",
     "output_type": "stream",
     "text": [
      " 26\n"
     ]
    },
    {
     "name": "stdout",
     "output_type": "stream",
     "text": [
      "satisfactory\n"
     ]
    }
   ],
   "source": [
    "''' \n",
    "get attendance input\n",
    "check if attendance == 30:\n",
    "    print outstanding\n",
    "otherwise check if attendance >= 25 and <= 29:\n",
    "    print satisfactory\n",
    "otherwise check if attendance >= 20 and <= 24:\n",
    "    print needs improvement\n",
    "else:\n",
    "    print unsatisfactory\n",
    "'''\n",
    "\n",
    "x = int(input())\n",
    "if x <= 0 or x >= 31:\n",
    "    print(\"Invalid input\")\n",
    "else:\n",
    "    if x == 30:\n",
    "        print(\"outstanding\")\n",
    "    elif 25 <= x <= 29:\n",
    "        print(\"satisfactory\")\n",
    "    elif 20 <= x <= 24:\n",
    "        print(\"needs improvement\")\n",
    "    else:\n",
    "        print(\"unsatisfactory\")"
   ]
  },
  {
   "cell_type": "code",
   "execution_count": null,
   "id": "15e13706-dcb7-484f-9a5f-2e548bd56910",
   "metadata": {},
   "outputs": [],
   "source": []
  }
 ],
 "metadata": {
  "kernelspec": {
   "display_name": "Python 3 (ipykernel)",
   "language": "python",
   "name": "python3"
  },
  "language_info": {
   "codemirror_mode": {
    "name": "ipython",
    "version": 3
   },
   "file_extension": ".py",
   "mimetype": "text/x-python",
   "name": "python",
   "nbconvert_exporter": "python",
   "pygments_lexer": "ipython3",
   "version": "3.12.4"
  }
 },
 "nbformat": 4,
 "nbformat_minor": 5
}
