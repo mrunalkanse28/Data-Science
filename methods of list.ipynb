{
 "cells": [
  {
   "cell_type": "markdown",
   "metadata": {
    "id": "FfVQ8ifc3Wi0"
   },
   "source": [
    "# Assignment 1"
   ]
  },
  {
   "cell_type": "markdown",
   "metadata": {
    "id": "j4crfDdtlZJn"
   },
   "source": [
    "####Note: Use appropriate data type methods for the below mentioned scenarios."
   ]
  },
  {
   "cell_type": "markdown",
   "metadata": {
    "id": "NwqQsB4jSF2T"
   },
   "source": [
    "### Shopping List Management 1:\n",
    "\n",
    "**Situation:** Managing a shopping list for a household.\n",
    "\n",
    "**Application:** Use a list to store items needed for shopping. Users can add, remove, or update items as needed.\n",
    "\n",
    "**Task:** (To be done in a sequence) add \"milk\", add \"Sugar\", remove \"sugar\", add \"Bread\", add \"Sugar\", find on which place the \"sugar\" is in the list, reverse the list."
   ]
  },
  {
   "cell_type": "code",
   "execution_count": 6,
   "metadata": {
    "id": "asd7YRWaSelu"
   },
   "outputs": [
    {
     "data": {
      "text/plain": [
       "['sugar', 'Bread', 'milk']"
      ]
     },
     "execution_count": 6,
     "metadata": {},
     "output_type": "execute_result"
    }
   ],
   "source": [
    "l = [\"milk\",\"sugar\"]\n",
    "l.remove(\"sugar\")\n",
    "l\n",
    "l.append(\"Bread\")\n",
    "l\n",
    "l.append(\"sugar\")\n",
    "l\n",
    "l.reverse()\n",
    "l"
   ]
  },
  {
   "cell_type": "markdown",
   "metadata": {
    "id": "QywFLVvaSm_i"
   },
   "source": [
    "### Shopping List Management 2:\n",
    "\n",
    "**Situation:** Managing a shopping list for a household.\n",
    "\n",
    "**Application:** Create a dictionary of stored items in the list in above example and allot the needful price of each item.\n",
    "\n",
    "**Give:** Budget for purchasing (To be Declared in Class)\n",
    "\n",
    "**Task:** (To be done in a sequence)\n",
    "* assign the items in the shopping list created above in a dictionary as \"Key\".\n",
    "* give each item a price of it (value for each key created)\n",
    "* due to the price hike in the market, every item is now 19% more expensive , modify the price of each item accordingly (use arithmetic operations).\n",
    "* Create a total expense variable.\n",
    "* If the total expense exceeds the budget, delete \"sugar\", if it still exceeds delete \"milk\" from the dictionary and the list as well.\n"
   ]
  },
  {
   "cell_type": "code",
   "execution_count": 44,
   "metadata": {
    "id": "8vA9077sStPk"
   },
   "outputs": [
    {
     "data": {
      "text/plain": [
       "{'Bread': 47, 'milk': 66}"
      ]
     },
     "execution_count": 44,
     "metadata": {},
     "output_type": "execute_result"
    }
   ],
   "source": [
    "d = {'sugar':60,'Bread':40,'milk':56}\n",
    "d['sugar'] = int(1.19 * d['sugar'])\n",
    "d['sugar']\n",
    "d['Bread'] = int(1.19 * d['Bread'])\n",
    "d['Bread']\n",
    "d['milk'] = int(1.19 * d['milk'])\n",
    "d['milk']\n",
    "d\n",
    "#total = d['sugar']+d['Bread']+d['milk']\n",
    "#total\n",
    "total = sum(d.values())\n",
    "total\n",
    "#d.pop('sugar')\n",
    "#d\n",
    "del d['sugar']\n",
    "d\n",
    "#create a dictionary of animals dog,cat,horses and give each animal a count of it(as place of value)\n"
   ]
  },
  {
   "cell_type": "markdown",
   "metadata": {
    "id": "NckdLXt0S4Zi"
   },
   "source": [
    "###Shopping List Management 3:\n",
    "\n",
    "**Situation:** Managing a shopping list for a household.\n",
    "\n",
    "**Application:** Create a dictionary and do the needful tasks stated below.\n",
    "\n",
    "**Task:** (To be done in a sequence)\n",
    "* create a new dictionary of fruits, with any number(>3) of fruits of your choice assign price value as well.\n",
    "* Going to the market you need to buy both fruits and the item in the list/dictionary together. So now merge both of the dictionaries.\n",
    "* Confirm wheather you have \"Bread\" and \"Sugar\" in your list.\n",
    "* You forget to add \"Jam\", add it along with the price.\n",
    "* Assuming that for next breakfast you will only have \"Bread\" and \"Jam\", check their presence in the list/dictionary, and using boolean operation find that if you can have breakfast or not.\n",
    "* Count the number the total number of item in your dictionary.\n",
    "* Convert the dictionaries into two tuples of key, value of each.\n",
    "\n"
   ]
  },
  {
   "cell_type": "code",
   "execution_count": 99,
   "metadata": {
    "id": "ISpM8uR6rDED"
   },
   "outputs": [
    {
     "name": "stdout",
     "output_type": "stream",
     "text": [
      "final shopping list is ('Apple', 'Chikoo', 'Orange', 'Mango', 'Bread', 'Sugar', 'Jam', 'Apricot')\n",
      "merged dictionary is {'Apple': 70, 'Chikoo': 80, 'Orange': 90, 'Mango': 100, 'Bread': 0, 'Sugar': 0, 'Jam': 70, 'Apricot': 1000}\n",
      "Total expense (70, 80, 90, 100, 0, 0, 70, 1000)\n",
      "Can i have breakfast? True. Do i have Bread? True. Do i have Sugar? True\n",
      "Total number of item 8\n"
     ]
    }
   ],
   "source": [
    "d1 = {'Apple':70,'Chikoo':80,'Orange':90,'Mango':100}\n",
    "d2 = {'Bread':0,'Sugar':0}\n",
    "merged_dict = {**d1, **d2}\n",
    "merged_dict\n",
    "checked_bread = 'Bread' in merged_dict\n",
    "checked_sugar = 'Sugar' in merged_dict\n",
    "\n",
    "#You forget to add \"Jam\", add it along with the price.\n",
    "merged_dict['Jam']=70\n",
    "merged_dict\n",
    "merged_dict.update({'Apricot':1000})\n",
    "merged_dict\n",
    "\n",
    "#Assuming that for next breakfast you will only have \"Bread\" and \"Jam\", \n",
    "#check their presence in the list/dictionary, and using boolean operation find that if you can have breakfast or not.\n",
    "can_have_breakfast = 'Bread' and 'Jam' in merged_dict\n",
    "can_have_breakfast\n",
    "\n",
    "#Count the number the total number of item in your dictionary.\n",
    "length_dict = len(merged_dict)\n",
    "length_dict\n",
    "\n",
    "#Convert the dictionaries into two tuples of key, value of each.\n",
    "final_shopping_list = tuple(merged_dict.keys())\n",
    "final_shopping_list\n",
    "key_values = tuple(merged_dict.values())\n",
    "key_values\n",
    "\n",
    "#print final list ,dictionary and expense\n",
    "print(\"final shopping list is\", final_shopping_list)\n",
    "print(\"merged dictionary is\", merged_dict)\n",
    "print(\"Total expense\", key_values)\n",
    "print(f\"Can i have breakfast? {can_have_breakfast}. Do i have Bread? {checked_bread}. Do i have Sugar? {checked_sugar}\")\n",
    "#print(\"Do i have Bread?\", checked_bread)\n",
    "#print(\"Do i have Sugar?\", checked_sugar)\n",
    "print(\"Total number of item\", length_dict)\n"
   ]
  },
  {
   "cell_type": "markdown",
   "metadata": {
    "id": "Q0XLUDHu1FKv"
   },
   "source": [
    "###Library Database Indexing and Slicing Challenge\n",
    "\n",
    "**Situation:** You are managing a library database containing information about various books. Each book entry includes details such as title, author, genre, and publication year. You need to perform various tasks using indexing and slicing techniques on this database.\n",
    "\n",
    "\n"
   ]
  },
  {
   "cell_type": "code",
   "execution_count": null,
   "metadata": {
    "id": "3mgBzoly24sF"
   },
   "outputs": [],
   "source": [
    "library_database = [\n",
    "    {\"title\": \"The Great Gatsby\", \"author\": \"F. Scott Fitzgerald\", \"genre\": \"Classic\", \"publication_year\": 1925},\n",
    "    {\"title\": \"To Kill a Mockingbird\", \"author\": \"Harper Lee\", \"genre\": \"Fiction\", \"publication_year\": 1960},\n",
    "    {\"title\": \"1984\", \"author\": \"George Orwell\", \"genre\": \"Dystopian\", \"publication_year\": 1949},\n",
    "    {\"title\": \"Pride and Prejudice\", \"author\": \"Jane Austen\", \"genre\": \"Romance\", \"publication_year\": 1813},\n",
    "    {\"title\": \"The Catcher in the Rye\", \"author\": \"J.D. Salinger\", \"genre\": \"Coming-of-age\", \"publication_year\": 1951},\n",
    "    {\"title\": \"Moby-Dick\", \"author\": \"Herman Melville\", \"genre\": \"Adventure\", \"publication_year\": 1851},\n",
    "    {\"title\": \"The Lord of the Rings\", \"author\": \"J.R.R. Tolkien\", \"genre\": \"Fantasy\", \"publication_year\": 1954},\n",
    "    {\"title\": \"Harry Potter and the Philosopher's Stone\", \"author\": \"J.K. Rowling\", \"genre\": \"Fantasy\", \"publication_year\": 1997},\n",
    "    {\"title\": \"The Hobbit\", \"author\": \"J.R.R. Tolkien\", \"genre\": \"Fantasy\", \"publication_year\": 1937},\n",
    "    {\"title\": \"Brave New World\", \"author\": \"Aldous Huxley\", \"genre\": \"Dystopian\", \"publication_year\": 1932},\n",
    "    {\"title\": \"The Odyssey\", \"author\": \"Homer\", \"genre\": \"Epic\", \"publication_year\": -800},\n",
    "    {\"title\": \"Frankenstein\", \"author\": \"Mary Shelley\", \"genre\": \"Gothic\", \"publication_year\": 1818},\n",
    "    {\"title\": \"The Picture of Dorian Gray\", \"author\": \"Oscar Wilde\", \"genre\": \"Gothic\", \"publication_year\": 1890},\n",
    "    {\"title\": \"The Adventures of Huckleberry Finn\", \"author\": \"Mark Twain\", \"genre\": \"Adventure\", \"publication_year\": 1884},\n",
    "    {\"title\": \"Alice's Adventures in Wonderland\", \"author\": \"Lewis Carroll\", \"genre\": \"Fantasy\", \"publication_year\": 1865}\n",
    "]\n"
   ]
  },
  {
   "cell_type": "markdown",
   "metadata": {
    "id": "EH1ViTMk26O4"
   },
   "source": [
    "**Tasks:**\n",
    "* Retrieve the title of the first book in the database.\n",
    "* View the details of the last five books added to the database using slicing.\n",
    "* Update the publication year of a specific book in the database by locating the book using indexing and modifying its publication year.\n",
    "* Extract the names of authors from the books indexed 10 to 20 in the database.\n",
    "* Extract books published between the years 2000 and 2010 from the database using slicing and indexing.\n",
    "* Check if a particular book exists in the database using indexing.\n",
    "* Retrieve only the genre information for all the books in the database.\n",
    "* Display the details of every fifth book in the database using indexing.\n",
    "* Remove the first three books from the database using slicing.\n",
    "* Sort the books in the database based on their publication years using indexing and slicing."
   ]
  },
  {
   "cell_type": "markdown",
   "metadata": {
    "id": "avr5MJB33TUh"
   },
   "source": [
    "name = 'Mrunal'\n",
    "print(f\"Hi\" {name})"
   ]
  },
  {
   "cell_type": "code",
   "execution_count": 3,
   "metadata": {},
   "outputs": [],
   "source": [
    "# create a list of dictionaries with each metro cities as the key and  the pair of latitude and longitude(tuple pair as values) for each cities\n",
    "#extract latitude for each metro city as 4 different variables \n",
    "\n"
   ]
  },
  {
   "cell_type": "code",
   "execution_count": null,
   "metadata": {},
   "outputs": [],
   "source": []
  }
 ],
 "metadata": {
  "colab": {
   "provenance": []
  },
  "kernelspec": {
   "display_name": "Python 3 (ipykernel)",
   "language": "python",
   "name": "python3"
  },
  "language_info": {
   "codemirror_mode": {
    "name": "ipython",
    "version": 3
   },
   "file_extension": ".py",
   "mimetype": "text/x-python",
   "name": "python",
   "nbconvert_exporter": "python",
   "pygments_lexer": "ipython3",
   "version": "3.12.4"
  }
 },
 "nbformat": 4,
 "nbformat_minor": 4
}
