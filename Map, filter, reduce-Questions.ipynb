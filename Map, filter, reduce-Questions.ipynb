{
 "cells": [
  {
   "cell_type": "code",
   "execution_count": 1,
   "id": "7174ba13-b360-48cc-b0d7-2d84ae70d075",
   "metadata": {},
   "outputs": [
    {
     "data": {
      "text/plain": [
       "'**Lambda**\\nQuestion 1: Write a lambda function to calculate the cube of a number.\\n\\nQuestion 2: Create a lambda function that adds two numbers and assign it to a variable. Then, use this function to add 3 and 5.\\n\\nQuestion 3: Use a lambda function to sort the list of tuples [(1, 2), (3, 3), (2, 1)] by the second value in each tuple.\\n\\nQuestion 4: Create a lambda function that returns True if a string starts with \\'A\\' and False otherwise. Test it with the string \"Apple\".\\n\\nQuestion 5: Write a lambda function to check if a number is even. Test it with the number 4.\\n\\n**Map**\\nQuestion 6: Use map and a lambda function to convert the list [\\'1\\', \\'2\\', \\'3\\'] to integers.\\n\\nQuestion 7: Apply a lambda function using map to add 5 to each element in the list [0, 1, 2, 3].\\n\\nQuestion 8: Use map and a lambda function to find the length of each word in the list [\\'apple\\', \\'banana\\', \\'cherry\\'].\\n\\nQuestion 9: Given two lists [1, 2, 3] and [4, 5, 6], use map and a lambda function to add corresponding elements of both lists.\\n\\nQuestion 10: Apply a lambda function using map to convert a list of temperatures in Celsius [0, 20, 100] to Fahrenheit.\\n\\n**Filter**\\nQuestion 11: Use filter and a lambda function to get all even numbers from the list [1, 2, 3, 4, 5, 6].\\n\\nQuestion 12: Use filter and a lambda function to get all strings with length greater than 3 from the list [\\'apple\\', \\'it\\', \\'banana\\', \\'a\\', \\'cherry\\'].\\n\\nQuestion 13: Use filter and a lambda function to find all numbers greater than 10 in the list [5, 10, 15, 20, 25].\\n\\nQuestion 14: Use filter and a lambda function to get all the vowels from the string \\'hello world\\'.\\n\\nQuestion 15: Use filter and a lambda function to find all negative numbers in the list [-2, -1, 0, 1, 2].\\n\\n**Reduce**\\nQuestion 16: Use reduce and a lambda function to find the sum of the list [1, 2, 3, 4, 5].\\n\\nQuestion 17: Use reduce and a lambda function to find the product of the list [1, 2, 3, 4, 5].\\nAnswer:\\n\\npython\\nCopy code\\nfrom functools import reduce\\nnumbers = [1, 2, 3, 4, 5]\\nproduct = reduce(lambda x, y: x * y, numbers)  # Result: 120\\nQuestion: Use reduce and a lambda function to find the maximum value in the list [3, 1, 4, 1, 5, 9, 2, 6, 5].\\nAnswer:\\n\\npython\\nCopy code\\nfrom functools import reduce\\nnumbers = [3, 1, 4, 1, 5, 9, 2, 6, 5]\\nmax_value = reduce(lambda x, y: x if x > y else y, numbers)  # Result: 9\\nQuestion: Use reduce and a lambda function to concatenate a list of strings [\\'Hello\\', \\' \\', \\'World\\', \\'!\\'].\\nAnswer:\\n\\npython\\nCopy code\\nfrom functools import reduce\\nstrings = [\\'Hello\\', \\' \\', \\'World\\', \\'!\\']\\nconcatenated = reduce(lambda x, y: x + y, strings)  # Result: \\'Hello World!\\'\\nQuestion: Use reduce and a lambda function to find the smallest number in the list [3, 5, 2, 8, 1].\\nAnswer:\\n\\npython\\nCopy code\\nfrom functools import reduce\\nnumbers = [3, 5, 2, 8, 1]\\nmin_value = reduce(lambda x, y: x if x < y else y, numbers)  # Result: 1'"
      ]
     },
     "execution_count": 1,
     "metadata": {},
     "output_type": "execute_result"
    }
   ],
   "source": [
    "'''**Lambda**\n",
    "Question 1: Write a lambda function to calculate the cube of a number.\n",
    "\n",
    "Question 2: Create a lambda function that adds two numbers and assign it to a variable. Then, use this function to add 3 and 5.\n",
    "\n",
    "Question 3: Use a lambda function to sort the list of tuples [(1, 2), (3, 3), (2, 1)] by the second value in each tuple.\n",
    "\n",
    "Question 4: Create a lambda function that returns True if a string starts with 'A' and False otherwise. Test it with the string \"Apple\".\n",
    "\n",
    "Question 5: Write a lambda function to check if a number is even. Test it with the number 4.\n",
    "\n",
    "**Map**\n",
    "Question 6: Use map and a lambda function to convert the list ['1', '2', '3'] to integers.\n",
    "\n",
    "Question 7: Apply a lambda function using map to add 5 to each element in the list [0, 1, 2, 3].\n",
    "\n",
    "Question 8: Use map and a lambda function to find the length of each word in the list ['apple', 'banana', 'cherry'].\n",
    "\n",
    "Question 9: Given two lists [1, 2, 3] and [4, 5, 6], use map and a lambda function to add corresponding elements of both lists.\n",
    "\n",
    "Question 10: Apply a lambda function using map to convert a list of temperatures in Celsius [0, 20, 100] to Fahrenheit.\n",
    "\n",
    "**Filter**\n",
    "Question 11: Use filter and a lambda function to get all even numbers from the list [1, 2, 3, 4, 5, 6].\n",
    "\n",
    "Question 12: Use filter and a lambda function to get all strings with length greater than 3 from the list ['apple', 'it', 'banana', 'a', 'cherry'].\n",
    "\n",
    "Question 13: Use filter and a lambda function to find all numbers greater than 10 in the list [5, 10, 15, 20, 25].\n",
    "\n",
    "Question 14: Use filter and a lambda function to get all the vowels from the string 'hello world'.\n",
    "\n",
    "Question 15: Use filter and a lambda function to find all negative numbers in the list [-2, -1, 0, 1, 2].\n",
    "\n",
    "**Reduce**\n",
    "Question 16: Use reduce and a lambda function to find the sum of the list [1, 2, 3, 4, 5].\n",
    "\n",
    "Question 17: Use reduce and a lambda function to find the product of the list [1, 2, 3, 4, 5].\n",
    "Answer:\n",
    "\n",
    "python\n",
    "Copy code\n",
    "from functools import reduce\n",
    "numbers = [1, 2, 3, 4, 5]\n",
    "product = reduce(lambda x, y: x * y, numbers)  # Result: 120\n",
    "Question: Use reduce and a lambda function to find the maximum value in the list [3, 1, 4, 1, 5, 9, 2, 6, 5].\n",
    "Answer:\n",
    "\n",
    "python\n",
    "Copy code\n",
    "from functools import reduce\n",
    "numbers = [3, 1, 4, 1, 5, 9, 2, 6, 5]\n",
    "max_value = reduce(lambda x, y: x if x > y else y, numbers)  # Result: 9\n",
    "Question: Use reduce and a lambda function to concatenate a list of strings ['Hello', ' ', 'World', '!'].\n",
    "Answer:\n",
    "\n",
    "python\n",
    "Copy code\n",
    "from functools import reduce\n",
    "strings = ['Hello', ' ', 'World', '!']\n",
    "concatenated = reduce(lambda x, y: x + y, strings)  # Result: 'Hello World!'\n",
    "Question: Use reduce and a lambda function to find the smallest number in the list [3, 5, 2, 8, 1].\n",
    "Answer:\n",
    "\n",
    "python\n",
    "Copy code\n",
    "from functools import reduce\n",
    "numbers = [3, 5, 2, 8, 1]\n",
    "min_value = reduce(lambda x, y: x if x < y else y, numbers)  # Result: 1'''"
   ]
  },
  {
   "cell_type": "code",
   "execution_count": 20,
   "id": "57f9d103-4af6-4fc7-b6bc-6af8208ff07a",
   "metadata": {},
   "outputs": [
    {
     "name": "stdout",
     "output_type": "stream",
     "text": [
      "[1, 8, 27, 64, 125]\n",
      "10\n",
      "[(1, 2), (2, 1), (3, 3)]\n"
     ]
    },
    {
     "data": {
      "text/plain": [
       "False"
      ]
     },
     "execution_count": 20,
     "metadata": {},
     "output_type": "execute_result"
    }
   ],
   "source": [
    "# Question 1: Write a lambda function to calculate the cube of a number.\n",
    "a = [1,2,3,4,5]\n",
    "cal_cube = list(map(lambda x:x**3, a))\n",
    "print(cal_cube)\n",
    "\n",
    "# Question 2: Create a lambda function that adds two numbers and assign it to a variable.Then, use this function to add 3 and 5.\n",
    "add = lambda x, y: x + y\n",
    "result = add(5, 5)\n",
    "print(result)\n",
    "\n",
    "# Question 3: Use a lambda function to sort the list of tuples [(1, 2), (3, 3), (2, 1)] by the second value in each tuple.\n",
    "tuples_list = [(1, 2), (3, 3), (2, 1)]\n",
    "sorted_list = sorted(tuples_list, key=lambda x: x[0])\n",
    "print(sorted_list)\n",
    "\n",
    "# Question 4: Create a lambda function that returns True if a string starts with 'A' and False otherwise. Test it with the string \"Apple\".\n",
    "check_str = lambda x : x[0] == 'A'\n",
    "check_str(\"Apple\")\n",
    "\n",
    "# Question 5: Write a lambda function to check if a number is even. Test it with the number 4.\n",
    "e = [3,4,5,6,7,8,9,10]\n",
    "check_even = lambda x : x%2 == 0\n",
    "check_even(7)\n"
   ]
  },
  {
   "cell_type": "code",
   "execution_count": 21,
   "id": "579d0428-8ae1-4ceb-8cb1-937f78bdcff1",
   "metadata": {},
   "outputs": [
    {
     "name": "stdout",
     "output_type": "stream",
     "text": [
      "[1, 2, 3]\n",
      "[5, 6, 7, 8]\n",
      "[5, 6, 6]\n",
      "[5, 7, 9]\n"
     ]
    },
    {
     "data": {
      "text/plain": [
       "[32.0, 68.0, 212.0]"
      ]
     },
     "execution_count": 21,
     "metadata": {},
     "output_type": "execute_result"
    }
   ],
   "source": [
    "# Question 6: Use map and a lambda function to convert the list ['1', '2', '3'] to integers.\n",
    "string_list = ['1', '2', '3']\n",
    "int_list = list(map(lambda x: int(x), string_list))\n",
    "print(int_list)\n",
    "\n",
    "# Question 7: Apply a lambda function using map to add 5 to each element in the list [0, 1, 2, 3].\n",
    "o_list = [0, 1, 2, 3]\n",
    "m_list = list(map(lambda x: x + 5, o_list))\n",
    "print(m_list)\n",
    "\n",
    "# Question 8: Use map and a lambda function to find the length of each word in the list ['apple', 'banana', 'cherry'].\n",
    "a = ['apple', 'banana', 'cherry']\n",
    "get_len = list(map(lambda x:len(x), a))\n",
    "print(get_len)\n",
    "\n",
    "# Question 9: Given two lists [1, 2, 3] and [4, 5, 6], use map and a lambda function to add corresponding elements of both lists.\n",
    "l1 = [1,2,3]\n",
    "l2 = [4,5,6]\n",
    "result = list(map(lambda x,y: x + y, l1,l2))\n",
    "print(result)\n",
    "\n",
    "# Question 10: Apply a lambda function using map to convert a list of temperatures in Celsius [0, 20, 100] to Fahrenheit.\n",
    "a = [0,20,100]\n",
    "list(map(lambda x:(9/5)*x+32, a))\n"
   ]
  },
  {
   "cell_type": "code",
   "execution_count": 26,
   "id": "6b82950f-e1da-4e5e-a0fc-95c050061411",
   "metadata": {},
   "outputs": [
    {
     "name": "stdout",
     "output_type": "stream",
     "text": [
      "['apple', 'banana', 'cherry']\n",
      "[15, 20, 25]\n",
      "['e', 'o', 'o']\n"
     ]
    },
    {
     "data": {
      "text/plain": [
       "[-2, -1]"
      ]
     },
     "execution_count": 26,
     "metadata": {},
     "output_type": "execute_result"
    }
   ],
   "source": [
    "# Question 11: Use filter and a lambda function to get all even numbers from the list [1, 2, 3, 4, 5, 6].\n",
    "e = [3,4,5,6,7,8,9,10]\n",
    "check_even = lambda x : x%2 == 0\n",
    "check_even(4)\n",
    "list(filter(check_even, e))\n",
    "\n",
    "# Question 12: Use filter and a lambda function to get all strings with length greater than 3 from the list ['apple', 'it', 'banana', 'a', 'cherry'].\n",
    "str1 = ['apple', 'it', 'banana', 'a', 'cherry']\n",
    "str2 = list(filter(lambda x:len(x)>3, str1))\n",
    "print(str2)\n",
    "\n",
    "# Question 13: Use filter and a lambda function to find all numbers greater than 10 in the list [5, 10, 15, 20, 25].\n",
    "a = [5,10,15,20,25]\n",
    "check_greater = lambda x : x > 10\n",
    "output = list(filter(check_greater , a))\n",
    "print(output)\n",
    "\n",
    "# Question 14: Use filter and a lambda function to get all the vowels from the string 'hello world'.\n",
    "a = 'hello world'\n",
    "check_vowel = lambda x : x == 'a' or x == 'e' or x == 'i' or x == 'o' or x == 'u'\n",
    "v_output = list(filter(check_vowel , a))\n",
    "print(v_output)\n",
    "\n",
    "# Question 15: Use filter and a lambda function to find all negative numbers in the list [-2, -1, 0, 1, 2].\n",
    "a = [-2, -1, 0, 1, 2]\n",
    "check_neg = lambda x : x < 0\n",
    "list(filter(check_neg , a))"
   ]
  },
  {
   "cell_type": "code",
   "execution_count": 27,
   "id": "ce2fa046-9c6e-4aff-9f8f-da2f2092d6ea",
   "metadata": {},
   "outputs": [],
   "source": [
    "from functools import reduce"
   ]
  },
  {
   "cell_type": "code",
   "execution_count": null,
   "id": "326a2d98-6555-4fa7-bd51-7ab2180ae8bd",
   "metadata": {},
   "outputs": [],
   "source": [
    "# Question 16: Use reduce and a lambda function to find the sum of the list [1, 2, 3, 4, 5].\n",
    "a = [1,2,3,4,5]\n",
    "reduce(lambda x,y:x+y, a)\n"
   ]
  },
  {
   "cell_type": "code",
   "execution_count": null,
   "id": "50f17f25-3aa8-4349-a7ac-0ac29a249b13",
   "metadata": {},
   "outputs": [],
   "source": [
    "# Question : Use reduce and a lambda function to find the product of the list [1, 2, 3, 4, 5].\n",
    "numbers = [1, 2, 3, 4, 5]\n",
    "product = reduce(lambda x, y: x * y, numbers)\n",
    "product"
   ]
  },
  {
   "cell_type": "code",
   "execution_count": null,
   "id": "ebf47605-2715-4bbd-a5c1-0c25971ebc30",
   "metadata": {},
   "outputs": [],
   "source": [
    "# Question: Use reduce and a lambda function to find the maximum value in the list [3, 1, 4, 1, 5, 9, 2, 6, 5].\n",
    "numbers = [3, 1, 4, 1, 5, 9, 2, 6, 5]\n",
    "max_value = reduce(lambda x, y: x if x > y else y, numbers)  \n",
    "max_value"
   ]
  },
  {
   "cell_type": "code",
   "execution_count": null,
   "id": "ed598232-9ec7-4f87-ab14-83798fbf2ae0",
   "metadata": {},
   "outputs": [],
   "source": [
    "# Question: Use reduce and a lambda function to concatenate a list of strings ['Hello', ' ', 'World', '!'].\n",
    "strings = ['Hello', ' ', 'World', '!']\n",
    "concatenated = reduce(lambda x, y: x + y, strings)  \n",
    "concatenated"
   ]
  },
  {
   "cell_type": "code",
   "execution_count": null,
   "id": "9f87ab49-02b1-4f68-b61f-a824e9e140fd",
   "metadata": {},
   "outputs": [],
   "source": [
    "# # Question: Use reduce and a lambda function to find the smallest number in the list [3, 5, 2, 8, 1]\n",
    "numbers = [3, 5, 2, 8, 1]\n",
    "min_value = reduce(lambda x, y: x if x < y else y, numbers)\n",
    "min_value"
   ]
  },
  {
   "cell_type": "code",
   "execution_count": null,
   "id": "bc7f5ab5-f9e0-4be5-bdf9-3f021d32fc69",
   "metadata": {},
   "outputs": [],
   "source": []
  }
 ],
 "metadata": {
  "kernelspec": {
   "display_name": "Python 3 (ipykernel)",
   "language": "python",
   "name": "python3"
  },
  "language_info": {
   "codemirror_mode": {
    "name": "ipython",
    "version": 3
   },
   "file_extension": ".py",
   "mimetype": "text/x-python",
   "name": "python",
   "nbconvert_exporter": "python",
   "pygments_lexer": "ipython3",
   "version": "3.12.4"
  }
 },
 "nbformat": 4,
 "nbformat_minor": 5
}
