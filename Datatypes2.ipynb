{
 "cells": [
  {
   "cell_type": "code",
   "execution_count": 8,
   "id": "85102059-143e-464b-be11-34e2aeaa827c",
   "metadata": {},
   "outputs": [
    {
     "data": {
      "text/plain": [
       "(1, 2, 3, 4, 5, 6, 7, 8, 9, 10)"
      ]
     },
     "execution_count": 8,
     "metadata": {},
     "output_type": "execute_result"
    }
   ],
   "source": [
    "# slicing in tuple #list and string methods\n",
    "#create tuple of first 10 natural numbers\n",
    "t = (1,2,3,4,5,6,7,8,9,10)\n",
    "t"
   ]
  },
  {
   "cell_type": "code",
   "execution_count": 2,
   "id": "5698226f-1bb8-4841-8b50-365dfe58286f",
   "metadata": {},
   "outputs": [
    {
     "data": {
      "text/plain": [
       "(2, 4, 6, 8, 10)"
      ]
     },
     "execution_count": 2,
     "metadata": {},
     "output_type": "execute_result"
    }
   ],
   "source": [
    "#slice even number tuple from created natural number tuple\n",
    "t = (1,2,3,4,5,6,7,8,9,10)\n",
    "t[1::2]"
   ]
  },
  {
   "cell_type": "code",
   "execution_count": 7,
   "id": "0bda5247-69c0-4ec4-b39b-043b43f7d99c",
   "metadata": {},
   "outputs": [
    {
     "data": {
      "text/plain": [
       "(1, 3, 5, 7, 9)"
      ]
     },
     "execution_count": 7,
     "metadata": {},
     "output_type": "execute_result"
    }
   ],
   "source": [
    "#slice odd number tuple from created natural number tuple\n",
    "t = (1,2,3,4,5,6,7,8,9,10)\n",
    "t[0::2]"
   ]
  },
  {
   "cell_type": "code",
   "execution_count": 9,
   "id": "9f3957d1-c2a5-4495-acfd-f0b26ac531ab",
   "metadata": {},
   "outputs": [
    {
     "data": {
      "text/plain": [
       "'Mrunal'"
      ]
     },
     "execution_count": 9,
     "metadata": {},
     "output_type": "execute_result"
    }
   ],
   "source": [
    "# String methods\n",
    "a = \"mrunal\"\n",
    "a.capitalize()"
   ]
  },
  {
   "cell_type": "code",
   "execution_count": 10,
   "id": "288a6c81-9035-4576-bc54-72fa6964d015",
   "metadata": {},
   "outputs": [
    {
     "data": {
      "text/plain": [
       "'MRUNAL'"
      ]
     },
     "execution_count": 10,
     "metadata": {},
     "output_type": "execute_result"
    }
   ],
   "source": [
    "a = \"Mrunal\"\n",
    "a.upper()"
   ]
  },
  {
   "cell_type": "code",
   "execution_count": 32,
   "id": "75fe9ddd-f3b6-4f1d-baf6-ecd23449a98b",
   "metadata": {},
   "outputs": [
    {
     "data": {
      "text/plain": [
       "'mrunal'"
      ]
     },
     "execution_count": 32,
     "metadata": {},
     "output_type": "execute_result"
    }
   ],
   "source": [
    "a = \"Mrunal\"\n",
    "a.casefold()"
   ]
  },
  {
   "cell_type": "code",
   "execution_count": 30,
   "id": "6a48ae21-9111-489a-b202-443670b89ce6",
   "metadata": {},
   "outputs": [
    {
     "data": {
      "text/plain": [
       "'mRUNAL'"
      ]
     },
     "execution_count": 30,
     "metadata": {},
     "output_type": "execute_result"
    }
   ],
   "source": [
    "a = \"Mrunal\"\n",
    "a.swapcase()"
   ]
  },
  {
   "cell_type": "code",
   "execution_count": 2,
   "id": "6db604f5-ade8-4f7e-bdc8-91f7327a28a7",
   "metadata": {},
   "outputs": [
    {
     "data": {
      "text/plain": [
       "'Mrunal'"
      ]
     },
     "execution_count": 2,
     "metadata": {},
     "output_type": "execute_result"
    }
   ],
   "source": [
    "a = \"mrunal\"\n",
    "a.title()"
   ]
  },
  {
   "cell_type": "code",
   "execution_count": 26,
   "id": "9e85065c-c92a-40f4-8cb0-0be4bc7ee005",
   "metadata": {},
   "outputs": [
    {
     "data": {
      "text/plain": [
       "['Mrunal']"
      ]
     },
     "execution_count": 26,
     "metadata": {},
     "output_type": "execute_result"
    }
   ],
   "source": [
    "a = \"Mrunal\"\n",
    "a.split()"
   ]
  },
  {
   "cell_type": "code",
   "execution_count": 27,
   "id": "aa42e81f-71d9-4b6e-9cb7-ca18ca99cb71",
   "metadata": {},
   "outputs": [
    {
     "data": {
      "text/plain": [
       "'mrunal'"
      ]
     },
     "execution_count": 27,
     "metadata": {},
     "output_type": "execute_result"
    }
   ],
   "source": [
    "a = \"Mrunal\"\n",
    "a.lower()"
   ]
  },
  {
   "cell_type": "code",
   "execution_count": 37,
   "id": "be4a8c86-605e-4d9b-88ac-b6736e539856",
   "metadata": {},
   "outputs": [
    {
     "data": {
      "text/plain": [
       "[1, 2, 3, 4, 5, 6, 'M']"
      ]
     },
     "execution_count": 37,
     "metadata": {},
     "output_type": "execute_result"
    }
   ],
   "source": [
    "# List methods\n",
    "l = [1,2,3,4,5,6]\n",
    "l.append(\"M\")\n",
    "l"
   ]
  },
  {
   "cell_type": "code",
   "execution_count": 40,
   "id": "bee679bc-3cd4-4118-b5d4-f10fa1abe1fd",
   "metadata": {},
   "outputs": [
    {
     "data": {
      "text/plain": [
       "[]"
      ]
     },
     "execution_count": 40,
     "metadata": {},
     "output_type": "execute_result"
    }
   ],
   "source": [
    "l = [1,2,3,4,5,6]\n",
    "l.clear()\n",
    "l"
   ]
  },
  {
   "cell_type": "code",
   "execution_count": 43,
   "id": "c5c5b513-a54a-4f9e-9c85-c697a8e7afc1",
   "metadata": {},
   "outputs": [
    {
     "data": {
      "text/plain": [
       "3"
      ]
     },
     "execution_count": 43,
     "metadata": {},
     "output_type": "execute_result"
    }
   ],
   "source": [
    "l = [1,2,3,4,1,2,1,5,6]\n",
    "l.count(1)"
   ]
  },
  {
   "cell_type": "code",
   "execution_count": 46,
   "id": "df807f4f-965f-4e3c-bbb4-6ee50f3f0868",
   "metadata": {},
   "outputs": [
    {
     "data": {
      "text/plain": [
       "2"
      ]
     },
     "execution_count": 46,
     "metadata": {},
     "output_type": "execute_result"
    }
   ],
   "source": [
    "l = [1,2,3,4,5,6]\n",
    "l.index(3)"
   ]
  },
  {
   "cell_type": "code",
   "execution_count": 50,
   "id": "7bf1f502-74fa-4760-9e01-cc418ae3d2fe",
   "metadata": {},
   "outputs": [
    {
     "data": {
      "text/plain": [
       "[1, 2, 3, 4, 5, 8, 6]"
      ]
     },
     "execution_count": 50,
     "metadata": {},
     "output_type": "execute_result"
    }
   ],
   "source": [
    "l = [1,2,3,4,5,6]\n",
    "l.insert(5,8)\n",
    "l"
   ]
  },
  {
   "cell_type": "code",
   "execution_count": 53,
   "id": "ef2ae073-96ff-4c28-8d19-d9b64904456a",
   "metadata": {},
   "outputs": [
    {
     "data": {
      "text/plain": [
       "[1, 2, 3, 4, 5]"
      ]
     },
     "execution_count": 53,
     "metadata": {},
     "output_type": "execute_result"
    }
   ],
   "source": [
    "l = [1,2,3,4,5,6]\n",
    "l.pop()\n",
    "l"
   ]
  },
  {
   "cell_type": "code",
   "execution_count": 56,
   "id": "cd85337c-e6aa-43cc-87d6-5a53ec48a0db",
   "metadata": {},
   "outputs": [
    {
     "data": {
      "text/plain": [
       "[1, 2, 4, 5, 6]"
      ]
     },
     "execution_count": 56,
     "metadata": {},
     "output_type": "execute_result"
    }
   ],
   "source": [
    "l = [1,2,3,4,5,6]\n",
    "l.remove(3)\n",
    "l"
   ]
  },
  {
   "cell_type": "code",
   "execution_count": 61,
   "id": "03ed1145-74bc-4d24-a1b1-8d4c958e7594",
   "metadata": {},
   "outputs": [
    {
     "data": {
      "text/plain": [
       "[6, 5, 4, 3, 2, 1]"
      ]
     },
     "execution_count": 61,
     "metadata": {},
     "output_type": "execute_result"
    }
   ],
   "source": [
    "l = [1,2,3,4,5,6]\n",
    "l.reverse()\n",
    "l"
   ]
  },
  {
   "cell_type": "code",
   "execution_count": 1,
   "id": "5476e2d9-d403-4d3c-9bfc-ab1345fc8fc8",
   "metadata": {},
   "outputs": [
    {
     "data": {
      "text/plain": [
       "'MRUNAL'"
      ]
     },
     "execution_count": 1,
     "metadata": {},
     "output_type": "execute_result"
    }
   ],
   "source": [
    "a = 'mrunal'\n",
    "a.upper()"
   ]
  },
  {
   "cell_type": "code",
   "execution_count": null,
   "id": "28308da2-3777-4b84-a71d-708329fb6c0e",
   "metadata": {},
   "outputs": [],
   "source": []
  }
 ],
 "metadata": {
  "kernelspec": {
   "display_name": "Python 3 (ipykernel)",
   "language": "python",
   "name": "python3"
  },
  "language_info": {
   "codemirror_mode": {
    "name": "ipython",
    "version": 3
   },
   "file_extension": ".py",
   "mimetype": "text/x-python",
   "name": "python",
   "nbconvert_exporter": "python",
   "pygments_lexer": "ipython3",
   "version": "3.12.4"
  }
 },
 "nbformat": 4,
 "nbformat_minor": 5
}
