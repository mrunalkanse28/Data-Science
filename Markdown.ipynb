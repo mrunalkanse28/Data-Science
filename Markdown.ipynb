{
 "cells": [
  {
   "cell_type": "markdown",
   "id": "d6ac0239-ccfb-4baf-b16e-0ec29477c433",
   "metadata": {},
   "source": [
    "#### 1.Markdown Table Creation\n",
    "| Name | Age | Gender | Occupation |\n",
    "| :---: | :---: | :---: | :---: |\n",
    "| A | 21 | Male | Doctor |\n",
    "| B | 25 | Female | Engineer |\n",
    "| C | 27 | Female | Singer |"
   ]
  },
  {
   "cell_type": "code",
   "execution_count": 2,
   "id": "3fa3d5ad-bb19-407a-961e-e49e3312718d",
   "metadata": {},
   "outputs": [
    {
     "data": {
      "text/plain": [
       "[]"
      ]
     },
     "execution_count": 2,
     "metadata": {},
     "output_type": "execute_result"
    }
   ],
   "source": [
    "[\n",
    "    # Add Content here\n",
    "]"
   ]
  },
  {
   "cell_type": "markdown",
   "id": "b67d77ae-6ea1-46a6-a6c2-1a9af9eda2a1",
   "metadata": {},
   "source": [
    "#### 2.Markdown Text Highlighting\n",
    "Python **Versatility**"
   ]
  },
  {
   "cell_type": "markdown",
   "id": "d58ecbac-6296-40fd-9e16-1ea834a902b5",
   "metadata": {},
   "source": [
    "#### 3.Markdown syntax in script\n",
    "Listing Advantages of python progarmming:\n",
    "- High level language\n",
    "\n",
    "- Interpreted language\n",
    "\n",
    "- Extensive support libraries"
   ]
  },
  {
   "cell_type": "markdown",
   "id": "c68057fe-f15c-407d-b2d0-8e6eb9d64b7c",
   "metadata": {},
   "source": [
    "#### 4.Markdown syntax in script\n",
    "<h4 style= 'color:blue'> Task instructions are given in green</h4>\n",
    "<h5 style= 'color:green'> Highlight next line in red</h5>\n",
    "Linear Equations\n",
    "Linear equations are given as:\n",
    "\n",
    "<h5 style= 'color:green'> Convert following content to bullets</h5>\n",
    "In this equation:\n",
    "- y represents the dependent variable\n",
    "\n",
    "- x represents the independent variable\n",
    "\n",
    "- m represents the slope of line\n",
    "\n",
    "- b represents the y-intercept."
   ]
  }
 ],
 "metadata": {
  "kernelspec": {
   "display_name": "Python 3 (ipykernel)",
   "language": "python",
   "name": "python3"
  },
  "language_info": {
   "codemirror_mode": {
    "name": "ipython",
    "version": 3
   },
   "file_extension": ".py",
   "mimetype": "text/x-python",
   "name": "python",
   "nbconvert_exporter": "python",
   "pygments_lexer": "ipython3",
   "version": "3.12.4"
  }
 },
 "nbformat": 4,
 "nbformat_minor": 5
}
