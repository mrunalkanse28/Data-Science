{
 "cells": [
  {
   "cell_type": "markdown",
   "metadata": {
    "id": "htLsIrm5FLEy"
   },
   "source": [
    "### Agenda:\n",
    "**Introduction to Data Structures:**\n",
    "1.   Arrays\n",
    "2.   Linked List\n",
    "\n",
    "\n",
    "---\n",
    "\n"
   ]
  },
  {
   "cell_type": "markdown",
   "metadata": {
    "id": "3Nb6z6iNGCDG"
   },
   "source": [
    "## Introduction:"
   ]
  },
  {
   "cell_type": "markdown",
   "metadata": {
    "id": "szdE-pf5F_63"
   },
   "source": [
    "Data structure refers to the process whereby the data can be stored and organized in a way that the user can access and utilize the data efficiently. Various algorithms are present to work with the data structures. Therefore, the data structure includes a group of data values, their relation to other elements, and also the operations that can be carried over the data values."
   ]
  },
  {
   "cell_type": "markdown",
   "metadata": {
    "id": "c8TjDVtNGOn-"
   },
   "source": [
    "Here's an intuitive:\n",
    "\n",
    "\n",
    "```\n",
    "                                Programs   =   algorithms  +   data structures\n",
    "\n",
    "                       Data structures   =  related data  +   allowed operations on that data\n",
    "```\n",
    "\n",
    "\n"
   ]
  },
  {
   "cell_type": "markdown",
   "metadata": {
    "id": "XdmIkYGs7Hka"
   },
   "source": [
    "### Types of data structures\n",
    "Data structures are broadly classified into primitive and non-primitive types."
   ]
  },
  {
   "cell_type": "markdown",
   "metadata": {
    "id": "Ofu35aJs68JO"
   },
   "source": [
    "\n",
    "<img src=\"https://miro.medium.com/v2/resize:fit:746/1*VdLFpmSutr5BSbEeAtpmrQ.jpeg\">\n",
    "\n",
    "Image source: [towardsdatascience](https://www.google.com/url?sa=i&url=https%3A%2F%2Ftowardsdatascience.com%2Fdata-structures-in-python-a-brief-introduction-b4135d7a9b7d&psig=AOvVaw3Ap8iY0iFY0jegPFIPVtJE&ust=1714549419766000&source=images&cd=vfe&opi=89978449&ved=0CBIQjRxqFwoTCIDGoLy46YUDFQAAAAAdAAAAABAE)\n"
   ]
  },
  {
   "cell_type": "markdown",
   "metadata": {
    "id": "GxkZDiypGwJO"
   },
   "source": [
    "**Primitive data** types are the building blocks of non-primitive data structures. Examples of primitive data types are integer, float, and string. Collection of primitive data structures form non-primitive data structures like lists, tuples, sets etc.\n",
    "\n",
    "**Non-primitive** data structures are again broadly classified into two types based on how they store the data:\n",
    "\n",
    "1. Linear data structure\n",
    "2. Non-linear data structure\n",
    "\n",
    "<img src=\"https://techdifferences.com/wp-content/uploads/2018/07/linear-vs-non-linear-data-structure.jpg\">\n",
    "<br>\n",
    "\n",
    "Image source: [techdifferences](https://www.google.com/url?sa=i&url=https%3A%2F%2Ftechdifferences.com%2Fdifference-between-linear-and-non-linear-data-structure.html&psig=AOvVaw3qfvym1KZhvREMm0W1P8M5&ust=1714552855509000&source=images&cd=vfe&opi=89978449&ved=0CBIQjRxqFwoTCND_6KLF6YUDFQAAAAAdAAAAABAE)"
   ]
  },
  {
   "cell_type": "markdown",
   "metadata": {
    "id": "ApwFa1GeHKkH"
   },
   "source": [
    "**Linear data structure**\n",
    "* The storage of data takes place sequentially or in a linear fashion. Here, every element stored in the structure is linked to its neighboring elements.\n",
    "* The elements can be accessed in a single run as they are arranged linearly.\n",
    "Being linearly stored in the memory, implementation is an easy process since the computer’s memory is also linear. You will understand this better in the next segment on RAM vs Storage.\n",
    "* Example: Lists, stacks, queues and linked lists"
   ]
  },
  {
   "cell_type": "markdown",
   "metadata": {
    "id": "JKQ118v4Hm5W"
   },
   "source": [
    "**Non-linear data structure**\n",
    "* As the name suggests, non-linear data structures are arranged in a non-contiguous manner in the memory. The elements don’t have a set path to connect to the other elements but have multiple paths. Traversing through the elements is not possible in one run as the data is non-linearly arranged.\n",
    "* An element in a non-linear data structure may be connected with multiple elements, unlike linear data structure where the elements are connected only to both of its neighbouring elements, This makes the implementation of a non-linear data structure slightly more challenging than a  linear data structure. However, if done correctly, it can lead to the effective usage of memory.\n",
    "* Example: Graphs and Trees"
   ]
  },
  {
   "cell_type": "markdown",
   "metadata": {
    "id": "Kg5BcRGYRb5r"
   },
   "source": [
    "Linear data structures like linked lists, stacks and queues are user-defined data structures. The term user-defined means that the user is allowed to define those data structures on their own.\n",
    "\n",
    "\n",
    "\n",
    "---\n",
    "\n"
   ]
  },
  {
   "cell_type": "markdown",
   "metadata": {
    "id": "ZlLE9iueR0dc"
   },
   "source": [
    "## Arrays\n",
    "**Real life Examples of Arrays:**\n",
    "\n",
    "Understanding the concept of an array can be made easier by using these examples.\n",
    "\n",
    "**Student Grades:**\n",
    "<br>\n",
    "In a classroom, you can use an array to store the grades of each student for a particular subject. For example, suppose you have a class of 30 students, and you want to record their grades for a mathematics test. You can use an integer array to store these grades. Each element in the array corresponds to a student's grade, and the index represents the student's position in the class. With this array, you can easily access and manipulate individual grades, calculate averages, or identify the highest and lowest scores.\n",
    "\n",
    "\n",
    "**Inventory Management:**\n",
    "<br>\n",
    "In a retail store, arrays can be used to manage inventory. For instance, consider a grocery store that wants to keep track of the quantities of different products they have in stock. They can use an array where each element represents a specific product, and the value at each index represents the quantity of that product available. By using arrays, the store can efficiently update the inventory, track product sales, and reorder items when necessary.\n",
    "\n",
    "**Weather Data Collection:**\n",
    "<br>\n",
    "Meteorological stations often collect weather data, such as temperature, humidity, and rainfall, at regular intervals. Arrays can be used to store this data. For example, an array of floating-point numbers can represent the temperature readings taken hourly throughout the day. Each element in the array corresponds to a specific time interval, allowing meteorologists to analyze trends, generate forecasts, and identify patterns in the weather data.\n",
    "\n",
    "**Game Development:**\n",
    "<br>\n",
    "In game development, arrays are often used to store information about game elements such as player positions, scores, enemies, or items collected. For example, in a 2D platformer game, an array can represent the game world, where each element corresponds to a specific tile or object within the game environment. By manipulating these arrays, game developers can create dynamic and interactive gameplay experiences, handle collisions, and manage game state effectively.\n",
    "\n",
    "\n",
    "**Employee Records:**\n",
    "<br>\n",
    "In a company's database, arrays can be used to store employee records. Each element of the array can represent an employee, containing information such as their name, employee ID, department, and salary. By using arrays, the company can efficiently manage and retrieve employee data, perform operations like sorting or searching for specific employees, and generate reports based on various criteria.\n",
    "\n",
    "---\n",
    "\n",
    "In each of these examples, arrays provide a structured and efficient way to organize and manage data, making it easier to perform operations and derive insights from the information stored.\n",
    "\n",
    "\n",
    "* In Python, arrays are a fundamental data structure used to store collections of items.\n",
    "* Unlike some other programming languages, Python doesn't have built-in support for arrays in the traditional sense.\n",
    "* Instead, Python provides several ways to work with arrays, including lists, tuples, and the array module."
   ]
  },
  {
   "cell_type": "markdown",
   "metadata": {
    "id": "lwq5v7NQSFqb"
   },
   "source": [
    "An array is a collection of items stored at memory locations that are adjacent.The Array is an idea of storing multiple items of the same type together, making it easier to calculate the position of each element by simply adding an offset to the base value.\n",
    "\n",
    "* A combination of the arrays could save a lot of time by reducing the overall size of the code. It is used to store multiple values in a single variable.\n",
    "\n",
    "* Python's built-in array module provides a way to create arrays that are more memory-efficient than lists when dealing with large sequences of homogeneous data. Arrays are similar to lists but are constrained to a single data type.\n",
    "\n",
    "\n",
    "\n",
    "---\n",
    "\n"
   ]
  },
  {
   "cell_type": "markdown",
   "metadata": {
    "id": "tyCXfoDngORl"
   },
   "source": [
    "In order to create Python arrays, you'll first have to import the array module which contains all the necessary functions.\n",
    "\n",
    "There are three ways you can import the array module:\n",
    "1. By using import array at the top of the file. This includes the module array. You would then go on to create an array using array.array().\n",
    "\n",
    "\n",
    "```\n",
    "import array\n",
    "\n",
    "#how you would create an array\n",
    "array.array()\n",
    "\n",
    "```\n",
    "<br>\n",
    "\n",
    "2. Instead of having to type array.array() all the time, you could use import array as arr at the top of the file, instead of import array alone. You would then create an array by typing arr.array(). The arr acts as an alias name, with the array constructor then immediately following it.\n",
    "\n",
    "\n",
    "\n",
    "```\n",
    "import array as arr\n",
    "\n",
    "#how you would create an array\n",
    "arr.array()\n",
    "\n",
    "```\n",
    "<br>\n",
    "\n",
    "3. Lastly, you could also use from array import *, with * importing all the functionalities available. You would then create an array by writing the array() constructor alone.\n",
    "\n",
    "\n",
    "\n",
    "```\n",
    "from array import *\n",
    "\n",
    "#how you would create an array\n",
    "array()\n",
    "\n",
    "```\n",
    "\n",
    "\n",
    "---\n",
    "\n",
    "\n",
    "\n",
    "\n"
   ]
  },
  {
   "cell_type": "markdown",
   "metadata": {
    "id": "U3GZ_Y9BSL7C"
   },
   "source": [
    "Syntax of Array:\n",
    "\n",
    "```\n",
    "array(data_type, value_list)\n",
    "\n",
    "```"
   ]
  },
  {
   "cell_type": "markdown",
   "metadata": {
    "id": "aM-gdZXuhDsy"
   },
   "source": [
    "Example:"
   ]
  },
  {
   "cell_type": "code",
   "execution_count": null,
   "metadata": {
    "id": "Ka8_ZPcsSYlE"
   },
   "outputs": [],
   "source": [
    "import array\n",
    "num = array.array('i', [1, 2, 3, 4, 5])  # An array of integers"
   ]
  },
  {
   "cell_type": "markdown",
   "metadata": {
    "id": "iubiQs97Shq9"
   },
   "source": [
    "Here,\n",
    "<br>\n",
    "'i' indicates the type of items the array will hold (in this case, integers).\n",
    "Other type codes include:\n",
    "<br>\n",
    "'f': Represents single-precision floating-point numbers (float).\n",
    "<br>\n",
    "'d': Represents double-precision floating-point numbers (float).\n"
   ]
  },
  {
   "cell_type": "markdown",
   "metadata": {
    "id": "7pth9qvQSvmF"
   },
   "source": [
    "Array elements can be accessed using indexing just like lists:"
   ]
  },
  {
   "cell_type": "code",
   "execution_count": null,
   "metadata": {
    "colab": {
     "base_uri": "https://localhost:8080/"
    },
    "id": "eB-e9lEjSyTr",
    "outputId": "cace409e-a4ab-4b77-b072-e36424111d81"
   },
   "outputs": [
    {
     "name": "stdout",
     "output_type": "stream",
     "text": [
      "1\n"
     ]
    }
   ],
   "source": [
    "print(num[0])"
   ]
  },
  {
   "cell_type": "code",
   "execution_count": null,
   "metadata": {
    "colab": {
     "base_uri": "https://localhost:8080/"
    },
    "id": "PZxicrUqS_7s",
    "outputId": "5d028620-d802-430e-e230-def0dcea0b9e"
   },
   "outputs": [
    {
     "name": "stdout",
     "output_type": "stream",
     "text": [
      "2\n"
     ]
    }
   ],
   "source": [
    "print(num[1])"
   ]
  },
  {
   "cell_type": "markdown",
   "metadata": {
    "id": "IJNYKElVhgUb"
   },
   "source": [
    "Below is a datatype table, with the different datatypes that can be used with the different data types when defining Python arrays:\n",
    "\n",
    "![image.png](data:image/png;base64,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)"
   ]
  },
  {
   "cell_type": "code",
   "execution_count": null,
   "metadata": {
    "colab": {
     "base_uri": "https://localhost:8080/"
    },
    "executionInfo": {
     "elapsed": 454,
     "status": "ok",
     "timestamp": 1721202581083,
     "user": {
      "displayName": "Shalini Singh",
      "userId": "00074614948243791029"
     },
     "user_tz": -330
    },
    "id": "t394aYB1mXgC",
    "outputId": "87ed1acf-ad78-4ca9-cbfa-6f57204978b0"
   },
   "outputs": [
    {
     "name": "stdout",
     "output_type": "stream",
     "text": [
      "array('d', [4.3, 3.5, 4.1, 4.8, 3.9, 4.0])\n"
     ]
    }
   ],
   "source": [
    "# Example: Create an array with grades of the students from the below list.\n",
    "# [4.3, 3.5, 4.1, 4.8, 3.9, 4.0]\n",
    "\n",
    "import array as arr\n",
    "\n",
    "grades = arr.array('d', [4.3, 3.5, 4.1, 4.8, 3.9, 4.0])\n",
    "\n",
    "#search for the index of the value 10\n",
    "print(grades)"
   ]
  },
  {
   "cell_type": "code",
   "execution_count": null,
   "metadata": {
    "colab": {
     "base_uri": "https://localhost:8080/"
    },
    "executionInfo": {
     "elapsed": 485,
     "status": "ok",
     "timestamp": 1716804489666,
     "user": {
      "displayName": "Srushith Kumar Donthoju",
      "userId": "14576840901732490377"
     },
     "user_tz": -330
    },
    "id": "tTPZ5_KdhVY1",
    "outputId": "e243252b-792f-472b-81ff-f14b50c33569"
   },
   "outputs": [
    {
     "name": "stdout",
     "output_type": "stream",
     "text": [
      "Array after removing the grade 39:\n",
      "array('i', [43, 35, 41, 48, 40])\n"
     ]
    }
   ],
   "source": [
    "# Create an array with the grades of the students from the list below.\n",
    "# [43, 35, 41, 48, 39, 40]\n",
    "\n",
    "import array as arr\n",
    "\n",
    "grades = arr.array('i', [43, 35, 41, 48, 39, 40])\n",
    "\n",
    "# print the grades\n",
    "\n",
    "print(grades)\n"
   ]
  },
  {
   "cell_type": "markdown",
   "metadata": {
    "id": "O-g3ec30Mn0W"
   },
   "source": [
    "**Complexities for Creation of Arrays:**\n",
    "\n",
    "Time Complexity: O(1)\n",
    "\n",
    "Auxiliary Space: O(n)"
   ]
  },
  {
   "cell_type": "markdown",
   "metadata": {
    "id": "xqORB52r_T3u"
   },
   "source": [
    "---\n",
    "\n",
    "Understanding the time and space complexity of data structures in Python is essential for optimizing code performance and developing efficient algorithms.\n",
    "\n"
   ]
  },
  {
   "cell_type": "markdown",
   "metadata": {
    "id": "tISgh5CHJRoP"
   },
   "source": [
    "### Time Complexity\n",
    "1. Time complexity denotes the duration an algorithm takes to execute relative to the input size.\n",
    "2. It's often denoted using Big O notation, portraying the upper bound of the runtime concerning the input size.\n",
    "3. For instance, an algorithm with O(n) time complexity executes linearly, where n represents the input size.\n",
    "\n",
    "**Common time complexities include:**\n",
    "\n",
    "\n",
    "<img src=\"https://www.doabledanny.com/static/33ef8737ec93416320dab795d4a399c5/62407/1.jpg\">\n",
    "\n",
    "<br>\n",
    "\n",
    "Image source: [doabledanny](https://www.doabledanny.com/big-o-notation-in-javascript)\n",
    "\n",
    "O(1): Constant time complexity, where algorithm runtime remains unaffected by input size.\n",
    "\n",
    "O(log n): Logarithmic time complexity, where runtime grows proportionally to the logarithm of the input size.\n",
    "\n",
    "O(n): Linear time complexity, where runtime increases proportionally with input size.\n",
    "\n",
    "O(n²): Quadratic time complexity, where runtime scales proportionally to the square of the input size.\n",
    "\n",
    "Selecting the appropriate algorithm is pivotal to ensure efficient execution for the given problem.\n",
    "\n",
    "\n",
    "\n"
   ]
  },
  {
   "cell_type": "markdown",
   "metadata": {
    "id": "PM5uUCM9KDOX"
   },
   "source": [
    "### Enhancing Time Complexity in Python:\n",
    "Consider employing the following strategies to enhance the time complexity of your Python code:\n",
    "\n",
    "**Utilize built-in functions:** Python offers numerous built-in functions optimized for efficiency. For instance, instead of iterating through a list to find the minimum value, utilize the min function.\n",
    "\n",
    "**Leverage list comprehensions:** List comprehensions facilitate creating a new list by applying a function or operation to each element of an existing list, offering more efficiency compared to appending elements via loops.\n",
    "\n",
    "**Avoid nested loops:** Nested loops can swiftly escalate to quadratic time complexity, particularly with large input sizes. Explore alternatives like dictionaries or sets to circumvent nested loops.\n",
    "\n",
    "**Implement memoization:** Memoization involves caching results of costly function calls and returning cached results upon recurring inputs. This technique significantly enhances the runtime of recursive functions.\n",
    "\n",
    "---"
   ]
  },
  {
   "cell_type": "markdown",
   "metadata": {
    "id": "SWMtVyrFK9xv"
   },
   "source": [
    "### Understanding Space Complexity\n",
    "Space complexity refers to the amount of memory that an algorithm requires to execute as the size of the input increases. It is usually measured in terms of the amount of additional memory used by the algorithm, beyond the input itself.\n",
    "\n",
    "\n",
    "**Common space complexities are:**\n",
    "\n",
    "O(1): Constant space complexity, where the algorithm's additional memory usage remains constant irrespective of the input size.\n",
    "\n",
    "O(n): Linear space complexity, where the algorithm's additional memory usage grows proportionally to the input size.\n",
    "\n",
    "O(n²): Quadratic space complexity, where the algorithm's additional memory usage grows proportionally to the square of the input size.\n",
    "\n",
    "Selecting appropriate data structures and algorithms is crucial to ensure efficient memory usage in your code.\n"
   ]
  },
  {
   "cell_type": "markdown",
   "metadata": {
    "id": "ZjOGy54MLkVP"
   },
   "source": [
    "### Enhancing Space Complexity in Python\n",
    "To enhance the space complexity of your Python code, consider the following techniques:\n",
    "\n",
    "**Utilize generators:** Generators enable the creation of iterators that produce values without storing them in memory. This approach can substantially reduce the memory footprint of your program. You can implement a generator function using the yield keyword to generate values dynamically.\n",
    "\n",
    "---"
   ]
  },
  {
   "cell_type": "markdown",
   "metadata": {
    "id": "mZffc_Wxh9Bk"
   },
   "source": [
    "The array module provides various methods for working with arrays, such as appending, inserting, and more.\n",
    "\n",
    "<br>\n",
    "\n",
    "### To Search Through an Array:\n",
    "<br>\n",
    "You can find out an element's index number by using the index() method."
   ]
  },
  {
   "cell_type": "code",
   "execution_count": null,
   "metadata": {
    "colab": {
     "base_uri": "https://localhost:8080/"
    },
    "id": "Brc9tJ9bUTMs",
    "outputId": "7067390e-c584-480e-e49c-7b7412d497a0"
   },
   "outputs": [
    {
     "name": "stdout",
     "output_type": "stream",
     "text": [
      "2\n"
     ]
    }
   ],
   "source": [
    "import array as arr\n",
    "\n",
    "numbers = arr.array('i', [1, 2, 3, 4, 5])\n",
    "\n",
    "#search for the index of the value 10\n",
    "print(numbers.index(3))"
   ]
  },
  {
   "cell_type": "code",
   "execution_count": null,
   "metadata": {
    "colab": {
     "base_uri": "https://localhost:8080/"
    },
    "id": "7Fuss4pDnqj5",
    "outputId": "6077d25c-c55b-4538-d268-89ab8025a575"
   },
   "outputs": [
    {
     "name": "stdout",
     "output_type": "stream",
     "text": [
      "0\n"
     ]
    }
   ],
   "source": [
    "print(numbers.index(1))"
   ]
  },
  {
   "cell_type": "markdown",
   "metadata": {
    "id": "yZhKdSL1PG8W"
   },
   "source": [
    "Complexities for searching elements in the Arrays:\n",
    "\n",
    "Time Complexity: O(n)\n",
    "\n",
    "Auxiliary Space: O(1)"
   ]
  },
  {
   "cell_type": "markdown",
   "metadata": {
    "id": "eOifYIAAiYui"
   },
   "source": [
    "### To Loop through an Array:\n",
    "You've also seen how to print the array, using the print() method. That method gives the following result:"
   ]
  },
  {
   "cell_type": "code",
   "execution_count": null,
   "metadata": {
    "colab": {
     "base_uri": "https://localhost:8080/"
    },
    "id": "g1UI7wKzUTIF",
    "outputId": "e19fa999-5fdc-48ae-986d-687948ca6b32"
   },
   "outputs": [
    {
     "name": "stdout",
     "output_type": "stream",
     "text": [
      "array('i', [1, 2, 3, 4, 5])\n"
     ]
    }
   ],
   "source": [
    "import array as arr\n",
    "\n",
    "numbers = arr.array('i',[1, 2, 3, 4, 5])\n",
    "\n",
    "print(numbers)"
   ]
  },
  {
   "cell_type": "markdown",
   "metadata": {
    "id": "LhzjBAIMilFx"
   },
   "source": [
    "What if you want to print each value one by one?\n",
    "\n",
    "Use a for loop:"
   ]
  },
  {
   "cell_type": "code",
   "execution_count": null,
   "metadata": {
    "colab": {
     "base_uri": "https://localhost:8080/"
    },
    "id": "dx8DIESyUTDs",
    "outputId": "55444a39-162b-4110-d665-01cfcb0c409b"
   },
   "outputs": [
    {
     "name": "stdout",
     "output_type": "stream",
     "text": [
      "1\n",
      "2\n",
      "3\n",
      "4\n",
      "5\n"
     ]
    }
   ],
   "source": [
    "import array as arr\n",
    "\n",
    "numbers = arr.array('i',[1, 2, 3, 4, 5])\n",
    "\n",
    "for number in numbers:\n",
    "    print(number)"
   ]
  },
  {
   "cell_type": "markdown",
   "metadata": {
    "id": "-ttgUPpEiuRJ"
   },
   "source": [
    "### To slice an array, use the same approach as used for lists."
   ]
  },
  {
   "cell_type": "code",
   "execution_count": null,
   "metadata": {
    "colab": {
     "base_uri": "https://localhost:8080/"
    },
    "id": "dCjmgdCqi7qW",
    "outputId": "d0d908e8-8310-4e6f-bb02-4a542ab82da8"
   },
   "outputs": [
    {
     "name": "stdout",
     "output_type": "stream",
     "text": [
      "array('i', [2, 3])\n"
     ]
    }
   ],
   "source": [
    "import array as arr\n",
    "\n",
    "#original array\n",
    "numbers = arr.array('i',[1, 2, 3, 4, 5])\n",
    "\n",
    "\n",
    "#get the values between 2 and 4 only\n",
    "print(numbers[1:3])"
   ]
  },
  {
   "cell_type": "code",
   "execution_count": null,
   "metadata": {
    "colab": {
     "base_uri": "https://localhost:8080/"
    },
    "id": "eviUDT1QoBUw",
    "outputId": "4084807b-8e59-4c18-f496-ff5d1f3f688c"
   },
   "outputs": [
    {
     "name": "stdout",
     "output_type": "stream",
     "text": [
      "array('i', [4, 5])\n"
     ]
    }
   ],
   "source": [
    "print(numbers[3:5])"
   ]
  },
  {
   "cell_type": "markdown",
   "metadata": {
    "id": "_wgwsGx3jSlp"
   },
   "source": [
    "Arrays are mutable, which means they are changeable. You can change the value of the different items, add new ones, or remove any you don't want in your program anymore."
   ]
  },
  {
   "cell_type": "markdown",
   "metadata": {
    "id": "IFle6vBZjeHp"
   },
   "source": [
    "## Operation on Arrays:"
   ]
  },
  {
   "cell_type": "markdown",
   "metadata": {
    "id": "9DJuYpx9jkhp"
   },
   "source": [
    "### 1. To  add a New Value\n",
    "To add one single value at the end of an array, use the append() method:"
   ]
  },
  {
   "cell_type": "code",
   "execution_count": null,
   "metadata": {
    "colab": {
     "base_uri": "https://localhost:8080/"
    },
    "id": "C_JevneIjsKg",
    "outputId": "0d73d2cf-9716-437c-a34c-7ced9535636b"
   },
   "outputs": [
    {
     "name": "stdout",
     "output_type": "stream",
     "text": [
      "array('i', [1, 2, 3, 4, 5, 6])\n"
     ]
    }
   ],
   "source": [
    "import array as arr\n",
    "\n",
    "#original array\n",
    "numbers = arr.array('i',[1, 2, 3, 4, 5])\n",
    "\n",
    "#add the integer 6 to the end of numbers\n",
    "numbers.append(6)\n",
    "\n",
    "print(numbers)"
   ]
  },
  {
   "cell_type": "code",
   "execution_count": null,
   "metadata": {
    "colab": {
     "base_uri": "https://localhost:8080/"
    },
    "id": "yEoxMSYeoIEI",
    "outputId": "8639512f-f05d-4ca4-8fb8-571b612c16e4"
   },
   "outputs": [
    {
     "name": "stdout",
     "output_type": "stream",
     "text": [
      "array('i', [1, 2, 3, 4, 5, 6, 7])\n"
     ]
    }
   ],
   "source": [
    "numbers.append(7)\n",
    "print(numbers)"
   ]
  },
  {
   "cell_type": "markdown",
   "metadata": {
    "id": "3Sm2Tjsmj2ZJ"
   },
   "source": [
    "Be aware that the new item you add needs to be the same data type as the rest of the items in the array."
   ]
  },
  {
   "cell_type": "code",
   "execution_count": null,
   "metadata": {
    "colab": {
     "base_uri": "https://localhost:8080/",
     "height": 211
    },
    "id": "fXoW3zXFj9l5",
    "outputId": "b0e59b2b-aba7-4cec-c732-a31be419bd57"
   },
   "outputs": [
    {
     "ename": "TypeError",
     "evalue": "'float' object cannot be interpreted as an integer",
     "output_type": "error",
     "traceback": [
      "\u001b[0;31m---------------------------------------------------------------------------\u001b[0m",
      "\u001b[0;31mTypeError\u001b[0m                                 Traceback (most recent call last)",
      "\u001b[0;32m<ipython-input-28-3e5234417622>\u001b[0m in \u001b[0;36m<cell line: 7>\u001b[0;34m()\u001b[0m\n\u001b[1;32m      5\u001b[0m \u001b[0;34m\u001b[0m\u001b[0m\n\u001b[1;32m      6\u001b[0m \u001b[0;31m#add the integer 6 to the end of numbers\u001b[0m\u001b[0;34m\u001b[0m\u001b[0;34m\u001b[0m\u001b[0m\n\u001b[0;32m----> 7\u001b[0;31m \u001b[0mnumbers\u001b[0m\u001b[0;34m.\u001b[0m\u001b[0mappend\u001b[0m\u001b[0;34m(\u001b[0m\u001b[0;36m6.25\u001b[0m\u001b[0;34m)\u001b[0m\u001b[0;34m\u001b[0m\u001b[0;34m\u001b[0m\u001b[0m\n\u001b[0m\u001b[1;32m      8\u001b[0m \u001b[0;34m\u001b[0m\u001b[0m\n\u001b[1;32m      9\u001b[0m \u001b[0mprint\u001b[0m\u001b[0;34m(\u001b[0m\u001b[0mnumbers\u001b[0m\u001b[0;34m)\u001b[0m\u001b[0;34m\u001b[0m\u001b[0;34m\u001b[0m\u001b[0m\n",
      "\u001b[0;31mTypeError\u001b[0m: 'float' object cannot be interpreted as an integer"
     ]
    }
   ],
   "source": [
    "import array as arr\n",
    "\n",
    "#original array\n",
    "numbers = arr.array('i',[1, 2, 3, 4, 5])\n",
    "\n",
    "#add the integer 6 to the end of numbers\n",
    "numbers.append(6.25)\n",
    "\n",
    "print(numbers)"
   ]
  },
  {
   "cell_type": "markdown",
   "metadata": {
    "id": "aSL_gaw9kFhi"
   },
   "source": [
    "### 2. To add more than one value to the end an array\n",
    "Use the extend() method, which takes an iterable (such as a list of items) as an argument. Again, make sure that the new items are all the same data type."
   ]
  },
  {
   "cell_type": "code",
   "execution_count": null,
   "metadata": {
    "colab": {
     "base_uri": "https://localhost:8080/"
    },
    "id": "zP7M-ZjFkFRi",
    "outputId": "4c17ce79-818a-481f-e98d-86ce7e9d3325"
   },
   "outputs": [
    {
     "name": "stdout",
     "output_type": "stream",
     "text": [
      "array('i', [1, 2, 3, 4, 5, 6, 7, 8])\n"
     ]
    }
   ],
   "source": [
    "import array as arr\n",
    "\n",
    "#original array\n",
    "numbers = arr.array('i',[1, 2, 3, 4, 5])\n",
    "\n",
    "#add the integers 6,7,8 to the end of numbers\n",
    "#The numbers need to be enclosed in square brackets\n",
    "\n",
    "numbers.extend([6,7,8])\n",
    "\n",
    "print(numbers)"
   ]
  },
  {
   "cell_type": "code",
   "execution_count": null,
   "metadata": {
    "colab": {
     "base_uri": "https://localhost:8080/"
    },
    "id": "U-zcHu8SoQd5",
    "outputId": "899462f8-553f-49d9-e45f-6e3486ee2e92"
   },
   "outputs": [
    {
     "name": "stdout",
     "output_type": "stream",
     "text": [
      "array('i', [1, 2, 3, 4, 5, 6, 7, 8, 9, 10])\n"
     ]
    }
   ],
   "source": [
    "numbers.extend([9,10])\n",
    "print(numbers)"
   ]
  },
  {
   "cell_type": "markdown",
   "metadata": {
    "id": "R2gW0PU2QBfL"
   },
   "source": [
    "Complexities for extend element from array:\n",
    "\n",
    "Time Complexity: O(1)\n",
    "\n",
    "Auxiliary Space: O(1)"
   ]
  },
  {
   "cell_type": "markdown",
   "metadata": {
    "id": "_C0wSfm7kPTC"
   },
   "source": [
    "### 3. To add an item at a specific position use the insert() method.\n",
    "The insert( _ , _ ) function takes two arguments:\n",
    "* Index number of the position the new element will be inserted,\n",
    "* Value of the new element.\n"
   ]
  },
  {
   "cell_type": "code",
   "execution_count": null,
   "metadata": {
    "colab": {
     "base_uri": "https://localhost:8080/"
    },
    "id": "MinbuXDokUup",
    "outputId": "fffd92a5-0805-4c5e-9fad-44629701e4dd"
   },
   "outputs": [
    {
     "name": "stdout",
     "output_type": "stream",
     "text": [
      "array('i', [6, 1, 2, 3, 4, 5])\n"
     ]
    }
   ],
   "source": [
    "import array as arr\n",
    "\n",
    "#original array\n",
    "numbers = arr.array('i',[1, 2, 3, 4, 5])\n",
    "\n",
    "#add the integer 6 in the first position\n",
    "#remember indexing starts at 0\n",
    "\n",
    "numbers.insert(0,6)\n",
    "\n",
    "print(numbers)"
   ]
  },
  {
   "cell_type": "code",
   "execution_count": null,
   "metadata": {
    "colab": {
     "base_uri": "https://localhost:8080/"
    },
    "id": "bEIOq4aHoasR",
    "outputId": "de05df46-5db1-4d5c-ec2c-2c8acea0b390"
   },
   "outputs": [
    {
     "name": "stdout",
     "output_type": "stream",
     "text": [
      "array('i', [6, 1, 2, 3, 4, 1, 5])\n"
     ]
    }
   ],
   "source": [
    "numbers.insert(5, 1)\n",
    "print(numbers)"
   ]
  },
  {
   "cell_type": "markdown",
   "metadata": {
    "id": "pYsCNvjBN9Ce"
   },
   "source": [
    "Complexities for Adding elements to the Arrays:\n",
    "**Time Complexity:** O(1)/O(n)\n",
    "<br>\n",
    "( O(1) – for inserting elements at the end of the array, O(n) – for inserting elements at the beginning of the array and to the full array\n",
    "\n",
    "**Auxiliary Space:** O(1)\n"
   ]
  },
  {
   "cell_type": "markdown",
   "metadata": {
    "id": "wjtOl93zkXbr"
   },
   "source": [
    "### 4. To Remove a Value:\n",
    "To remove an element from an array, use the remove() method and include the value as an argument to the method."
   ]
  },
  {
   "cell_type": "code",
   "execution_count": null,
   "metadata": {
    "colab": {
     "base_uri": "https://localhost:8080/"
    },
    "id": "IqS8xjl5kiBh",
    "outputId": "8f3f6577-c928-4ba7-d3ff-ebd895d39ac6"
   },
   "outputs": [
    {
     "name": "stdout",
     "output_type": "stream",
     "text": [
      "array('i', [2, 3, 4, 5])\n"
     ]
    }
   ],
   "source": [
    "import array as arr\n",
    "\n",
    "#original array\n",
    "numbers = arr.array('i',[1, 2, 3, 4, 5])\n",
    "\n",
    "numbers.remove(1)\n",
    "\n",
    "print(numbers)"
   ]
  },
  {
   "cell_type": "code",
   "execution_count": null,
   "metadata": {
    "colab": {
     "base_uri": "https://localhost:8080/"
    },
    "id": "ZKiWmsAEoqFj",
    "outputId": "7f494e72-e098-4ee0-9609-e8f8f94997bf"
   },
   "outputs": [
    {
     "name": "stdout",
     "output_type": "stream",
     "text": [
      "array('i', [2, 3, 4])\n"
     ]
    }
   ],
   "source": [
    "numbers.remove(5)\n",
    "print(numbers)"
   ]
  },
  {
   "cell_type": "markdown",
   "metadata": {
    "id": "2Z5RPD-ykk4p"
   },
   "source": [
    "For more than one identical values in the array, only the first occurence is removed."
   ]
  },
  {
   "cell_type": "code",
   "execution_count": null,
   "metadata": {
    "colab": {
     "base_uri": "https://localhost:8080/"
    },
    "id": "06tt9-XiknUL",
    "outputId": "ec4d8e54-9f8f-46d8-86ea-06239d2c0982"
   },
   "outputs": [
    {
     "name": "stdout",
     "output_type": "stream",
     "text": [
      "array('i', [1, 2, 3, 4, 5])\n"
     ]
    }
   ],
   "source": [
    "import array as arr\n",
    "\n",
    "#original array\n",
    "numbers = arr.array('i',[1, 2, 5, 3, 4, 5])\n",
    "\n",
    "numbers.remove(5)\n",
    "\n",
    "print(numbers)"
   ]
  },
  {
   "cell_type": "markdown",
   "metadata": {
    "id": "LF6ZnucQOwKl"
   },
   "source": [
    "Complexities for Removing elements in the Arrays:\n",
    "\n",
    "**Time Complexity: O(1)/O(n)**\n",
    "<br>\n",
    "(O(1) – for removing elements at the end of the array, O(n) – for removing elements at the beginning of the Python create array and to the full array\n",
    "\n",
    "**Auxiliary Space:** O(1)\n"
   ]
  },
  {
   "cell_type": "markdown",
   "metadata": {
    "id": "LUhqBGmiktJ5"
   },
   "source": [
    "### 5. To reverse elements in a Array:\n",
    "In order to reverse elements of an array we need to simply use the reverse() method.\n"
   ]
  },
  {
   "cell_type": "code",
   "execution_count": null,
   "metadata": {
    "colab": {
     "base_uri": "https://localhost:8080/"
    },
    "id": "B5F7YYBCkv5p",
    "outputId": "f26282ae-0a8c-4e0d-ea21-3b79c198099c"
   },
   "outputs": [
    {
     "name": "stdout",
     "output_type": "stream",
     "text": [
      "array('i', [5, 4, 3, 2, 1])\n"
     ]
    }
   ],
   "source": [
    "import array\n",
    "numbers = array.array('i', [1, 2, 3, 4, 5])\n",
    "\n",
    "numbers.reverse()\n",
    "print(numbers)"
   ]
  },
  {
   "cell_type": "markdown",
   "metadata": {
    "id": "8Q6T7NMSPbq9"
   },
   "source": [
    "Complexities for reversing elements in the Arrays:\n",
    "\n",
    "Time Complexity: O(n)\n",
    "\n",
    "Auxiliary Space: O(1)"
   ]
  },
  {
   "cell_type": "markdown",
   "metadata": {
    "id": "1L5aYmBIULbL"
   },
   "source": [
    "Limitations of Arrays:\n",
    "* Arrays use contiguous blocks of memory. (contiguous: next or together in sequence.)\n",
    "* Memory manager allocates a fixed size block for arrays.\n",
    "* Extending arrays requires creating a new, larger block and copying existing elements.\n"
   ]
  },
  {
   "cell_type": "markdown",
   "metadata": {
    "id": "uzcbO6NFwbQh"
   },
   "source": [
    "**Arrays have a fixed size, meaning you need to know the maximum number of elements in advance. Additionally, inserting or deleting elements from the middle of an array can be inefficient because it requires shifting all subsequent elements.**"
   ]
  },
  {
   "cell_type": "markdown",
   "metadata": {
    "id": "794q3dA2wyzJ"
   },
   "source": [
    "**Linked Lists can be used to address the limitations of arrays.**\n",
    "* Unlike arrays, linked lists do not have a fixed size, allowing dynamic memory allocation depending on the requirement.\n",
    "* Moreover, inserting or deleting nodes in the middle of a singly linked list can be done efficiently by changing just a few pointers, without needing to shift subsequent elements.\n",
    "* These characteristics make linked lists well suited for handling situations where frequent insertions and deletions occur, especially if predicting the exact size in advance is difficult.\n",
    "* Some scenarios include implementing a cache, managing free memory space in operating systems, or building custom container classes. However, accessing elements randomly in linked lists tends to be slower compared to arrays, requiring traversals starting from the head node until reaching the desired location.\n",
    "* Nonetheless, this tradeoff often proves beneficial in terms of overall performance gains achieved through faster insertions/deletions"
   ]
  },
  {
   "cell_type": "markdown",
   "metadata": {
    "id": "62W-H04gOyP0"
   },
   "source": [
    "![image.png](data:image/png;base64,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)"
   ]
  },
  {
   "cell_type": "markdown",
   "metadata": {
    "id": "y1zdgWNcpOC1"
   },
   "source": [
    "# Linked List\n",
    "\n",
    "Linked Lists are a data structure that store data in the form of a chain. The structure of a linked list is such that each piece of data has a connection to the next one (and sometimes the previous data as well).\n",
    "\n",
    "* Linked lists overcome the limitations of arrays by using non-contiguous blocks of memory.\n",
    "* Each element in a linked list consists of a node that stores the data and a pointer to the next node."
   ]
  },
  {
   "cell_type": "markdown",
   "metadata": {
    "id": "mqi0aKiazkDT"
   },
   "source": [
    "Linked lists are a fundamental data structure used in many real-world applications.\n",
    "\n",
    "1. Music Players:\n",
    "\n",
    "Imagine your music player playlist. Each song can be considered a node in a linked list. The node likely contains information about the song (title, artist, etc.) and a pointer to the next song in the list. When you play the next song, the player follows the pointer from the current song's node to the next one. This allows you to easily navigate through the playlist in a forward direction.\n",
    "\n",
    "2. Image Viewers:\n",
    "\n",
    "Similar to music players, image viewers often use linked lists to manage a sequence of images. Each image can be a node with information like the filename and a pointer to the next image in the list. Clicking the \"next\" button essentially tells the program to follow the pointer in the current image's node to display the next image.\n",
    "\n",
    "3. Web Browsing History:\n",
    "\n",
    "When you browse the web, your browser keeps track of visited websites in your history. This history can be implemented using a linked list. Each visited website acts as a node, containing the URL and a pointer to the previously visited website. Clicking the back button essentially moves you back through the linked list, following the pointers to revisit past websites.\n",
    "\n",
    "4. Social Media Feeds:\n",
    "\n",
    "News feeds on social media platforms like Twitter or Facebook can be viewed as linked lists. Each post you see is a node, containing information about the post and a pointer to the next post in your feed. As you scroll down, the program fetches more nodes (posts) from the linked list and adds them to the viewable section."
   ]
  },
  {
   "cell_type": "markdown",
   "metadata": {
    "id": "pc62u5nH6bbQ"
   },
   "source": [
    "Linked lists offer solutions to the limitations of arrays and regular lists. Here's a breakdown of their advantages and when to use them:\n"
   ]
  },
  {
   "cell_type": "markdown",
   "metadata": {
    "id": "pYkP7BKc7DmY"
   },
   "source": [
    "## Advantages of Linked Lists:\n",
    "**Ease of insertion and deletion**\n",
    "<br>\n",
    "* In regular lists, inserting or deleting elements anywhere except the end requires shifting subsequent items, with a time complexity of O(n), impacting performance as the list size increases.\n",
    "<br>\n",
    "* Linked lists, however, store elements in non-contiguous memory locations and connect them via pointers, allowing for O(1) insertion and deletion by simply modifying links.\n",
    "\n",
    "**Dynamic size**\n",
    "* Regular lists are dynamic arrays, but resizing involves reallocating memory, potentially inefficiently.\n",
    "\n",
    "* Linked lists dynamically grow and shrink without reallocation, offering high flexibility without copying elements.\n",
    "\n",
    "**Memory efficiency**\n",
    "* Regular lists allocate memory in contiguous blocks, leading to inefficient reallocation for growth.\n",
    "\n",
    "* Linked lists allocate memory for each element separately, enhancing memory utilization by allocating memory as needed.\n",
    "\n",
    "\n",
    "Since pointers for each element must be stored to reference the next node, the memory usage per element is higher when using linked lists. Also, this data structure does not allow direct access to data. Accessing an element requires sequential traversal from the beginning of the list, resulting in O(n) search time complexity."
   ]
  },
  {
   "cell_type": "markdown",
   "metadata": {
    "id": "CBiiETZ07wj3"
   },
   "source": [
    "The choice between using a linked list or an array depends on the specific needs of the application. Linked lists are most useful when:\n",
    "\n",
    "* You need to frequently insert and delete many elements\n",
    "* The data size is unpredictable or likely to change frequently\n",
    "* Direct access to elements is not a requirement\n",
    "* The dataset contains large elements or structures\n"
   ]
  },
  {
   "cell_type": "markdown",
   "metadata": {
    "id": "rLnBJVUK8nyi"
   },
   "source": [
    "## Types of linked lists:\n"
   ]
  },
  {
   "cell_type": "markdown",
   "metadata": {
    "id": "vG4N4_GG8tKw"
   },
   "source": [
    "### Singly-linked lists:\n",
    "![image.png](data:image/png;base64,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)"
   ]
  },
  {
   "cell_type": "markdown",
   "metadata": {
    "id": "R8CWet-bubke"
   },
   "source": [
    "\n",
    "A singly-linked list is the simplest type of linked list, where each node contains some data and a reference to the next node in the sequence. They can only be traversed in a single direction - from the head (the first node) to the tail (the last node).\n"
   ]
  },
  {
   "cell_type": "markdown",
   "metadata": {
    "id": "TvjyJCKGugWt"
   },
   "source": [
    "In a singly-linked list, each node typically comprises two parts:\n",
    "\n",
    "**Data:** This holds the actual information stored in the node.\n",
    "<br>\n",
    "**Next Pointer:** This is a reference to the next node. The last node's next pointer is usually set to null.\n",
    "\n",
    "* Since singly-linked lists can only be traversed in one direction, accessing a specific element by value or index requires starting from the head and moving through the nodes sequentially until the desired node is found. This operation has a time complexity of O(n), which becomes less efficient as the list grows larger.\n",
    "\n",
    "* Inserting and deleting a node at the beginning of a singly-linked list is highly efficient with a time complexity of O(1). However, for operations in the middle or at the end, traversing the list until that point is necessary, resulting in an O(n) time complexity.\n",
    "\n",
    "\n",
    "* The design of singly-linked lists makes them a useful data structure when performing operations that occur at the beginning of the list.\n"
   ]
  },
  {
   "cell_type": "markdown",
   "metadata": {
    "id": "Y7NcQmXvu6i1"
   },
   "source": [
    "### Doubly-linked lists\n",
    "![image.png](data:image/png;base64,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)"
   ]
  },
  {
   "cell_type": "markdown",
   "metadata": {
    "id": "PMk52QmzvU3S"
   },
   "source": [
    "* One disadvantage of singly-linked lists is that we can only traverse them in a single direction and cannot iterate back to the previous node if required. This constraint limits our ability to perform operations that require bidirectional navigation.\n",
    "\n",
    "* Doubly-linked lists solve this problem by incorporating an additional pointer within each node, ensuring that the list can be traversed in both directions. Each node in a doubly linked list contains three elements: the data, a pointer to the next node, and a pointer to the previous node.\n"
   ]
  },
  {
   "cell_type": "markdown",
   "metadata": {
    "id": "Kvgsh-ebvfMF"
   },
   "source": [
    "### Circular linked lists\n",
    "![image.png](data:image/png;base64,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)"
   ]
  },
  {
   "cell_type": "markdown",
   "metadata": {
    "id": "MoM1kMYWvm6-"
   },
   "source": [
    "* Circular linked lists are a specialized form of linked list where the last node points back to the first node, creating a circular structure. This means that, unlike the singly and doubly linked lists we’ve seen so far, the circular linked list does not end; instead, it loops around.\n",
    "\n",
    "* The cyclical nature of circular linked lists makes them ideal for scenarios that need to be looped through continuously, such as board games that loop back from the last player to the first, or in computing algorithms such as round-robin scheduling.\n"
   ]
  },
  {
   "cell_type": "markdown",
   "metadata": {
    "id": "pXpwMBM592p7"
   },
   "source": [
    "Use cases:\n",
    "\n",
    "1. In a web browser, a singly linked list can be used to store the history of visited pages, where each page points to the next visited page.\n",
    "2. A doubly linked list is useful in implementing complex data structures like deques (double-ended queues) and in navigation systems where you might need to move both forward and backward, such as a music player playlist where you can move to the next or previous song.\n",
    "3. Circular linked lists are used in applications that require a circular traversal. An example is the implementation of a round-robin scheduler in operating systems, where each process is given an equal share of CPU time in a circular order.\n",
    "\n",
    "\n",
    "![image.png](data:image/png;base64,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)"
   ]
  },
  {
   "cell_type": "markdown",
   "metadata": {
    "id": "xiiAOeFyvwGm"
   },
   "source": [
    "## How to Create a Linked List?\n"
   ]
  },
  {
   "cell_type": "markdown",
   "metadata": {
    "id": "XLsGhtSmMn04"
   },
   "source": [
    "## Singly linked list:"
   ]
  },
  {
   "cell_type": "markdown",
   "metadata": {
    "id": "KXC-Ucusvy6V"
   },
   "source": [
    "###  Step 1: Initializing a Node\n",
    "\n",
    "In Python, a node in a linked list is defined as follows:"
   ]
  },
  {
   "cell_type": "code",
   "execution_count": null,
   "metadata": {
    "id": "gi8plAXzvkpB"
   },
   "outputs": [],
   "source": [
    "class Node:\n",
    "    def __init__(self, data):\n",
    "        self.data = data  # Assigns the given data to the node\n",
    "        self.next = None  # Initialize the next attribute to null"
   ]
  },
  {
   "cell_type": "markdown",
   "metadata": {
    "id": "B0GnYNRDv9-l"
   },
   "source": [
    "This code snippet initializes a node by assigning it data and setting its next pointer to None, indicating that it doesn't currently point to any other node.\n"
   ]
  },
  {
   "cell_type": "markdown",
   "metadata": {
    "id": "-DzYS5Z3v_-t"
   },
   "source": [
    "### Step 2: Creating a Linked List Class\n",
    "\n",
    "To manage the nodes in the linked list, we create a LinkedList class:"
   ]
  },
  {
   "cell_type": "code",
   "execution_count": null,
   "metadata": {
    "id": "jNo-fF0z8s1X"
   },
   "outputs": [],
   "source": [
    "class LinkedList:\n",
    "    def __init__(self):\n",
    "        self.head = None  # Initializes an empty linked list"
   ]
  },
  {
   "cell_type": "markdown",
   "metadata": {
    "id": "XhuJnje3wXIV"
   },
   "source": [
    "By setting self.head to None, we indicate that the linked list is empty initially."
   ]
  },
  {
   "cell_type": "markdown",
   "metadata": {
    "id": "K1K857E3wYIl"
   },
   "source": [
    "### Step 3: Inserting a Node at the Beginning\n",
    "To add a new node at the beginning of the list, we define the insert_at_begining method within the LinkedList class:\n",
    "\n",
    "\n",
    "```\n",
    "def insert_at_beginning(self, new_data):\n",
    "    new_node = Node(new_data)  # Create a new node with the given data\n",
    "    new_node.next = self.head  # Set the next pointer of the new node to the current head\n",
    "    self.head = new_node  # Update the head to point to the new node\n",
    "```\n",
    "\n"
   ]
  },
  {
   "cell_type": "markdown",
   "metadata": {
    "id": "no5v8pvYw-Ah"
   },
   "source": [
    "Each time insert_at_beginning is called, a new node is created with the provided data. Its next pointer is set to the current head, and then the head is updated to point to the new node."
   ]
  },
  {
   "cell_type": "markdown",
   "metadata": {
    "id": "gcx78hHJxH5l"
   },
   "source": [
    "### Step 4: Printing the Linked List\n",
    "We define a method print_LL to traverse and print the contents of the linked list:\n",
    "\n",
    "\n",
    "```\n",
    "def print_LL(self):\n",
    "    temp = self.head  # Start from the head of the list\n",
    "    while temp:\n",
    "        print(temp.data, end=' -> ')  # Print the data in the current node\n",
    "        temp = temp.next  # Move to the next node\n",
    "    print(\"None\")  # Ensure the output is followed by a new line\n",
    "```\n",
    "\n"
   ]
  },
  {
   "cell_type": "markdown",
   "metadata": {
    "id": "ZqBSRQ0NxeWN"
   },
   "source": [
    "This method prints the data of each node in the list as it traverses through them."
   ]
  },
  {
   "cell_type": "markdown",
   "metadata": {
    "id": "69b4RLdXxkrM"
   },
   "source": [
    "### Using the Linked List\n",
    "We can now use the methods we've defined to populate and print the linked list:"
   ]
  },
  {
   "cell_type": "code",
   "execution_count": null,
   "metadata": {
    "id": "FrbWz4GXyTCO"
   },
   "outputs": [],
   "source": [
    "class Node:\n",
    "    def __init__(self, data):\n",
    "        self.data = data  # Assigns the given data to the node\n",
    "        self.next = None  # Initialize the next attribute to null\n",
    "\n",
    "class LinkedList:\n",
    "    def __init__(self):\n",
    "        self.head = None  # Initializes an empty linked list\n",
    "\n",
    "    def insert_at_beginning(self, new_data):\n",
    "      new_node = Node(new_data)  # Create a new node with the given data\n",
    "      new_node.next = self.head  # Set the next pointer of the new node to the current head\n",
    "      self.head = new_node  # Update the head to point to the new node\n",
    "\n",
    "    def print_LL(self):\n",
    "      temp = self.head  # Start from the head of the list\n",
    "      while temp:\n",
    "          print(temp.data, end=' -> ')  # Print the data in the current node\n",
    "          temp = temp.next  # Move to the next node\n",
    "      print(\"None\")  # Ensure the output is followed by a new line\n"
   ]
  },
  {
   "cell_type": "code",
   "execution_count": null,
   "metadata": {
    "colab": {
     "base_uri": "https://localhost:8080/"
    },
    "id": "MgJjwK-nxtLy",
    "outputId": "98b28b36-1c33-4ab6-edbb-a74673e1282a"
   },
   "outputs": [
    {
     "name": "stdout",
     "output_type": "stream",
     "text": [
      "An -> Apple -> a -> day -> keeps -> None\n"
     ]
    }
   ],
   "source": [
    "if __name__ == '__main__':\n",
    "    l_list= LinkedList()  # Create a new linked list instance\n",
    "    l_list.insert_at_beginning('keeps')\n",
    "    l_list.insert_at_beginning('day')\n",
    "    l_list.insert_at_beginning('a')\n",
    "    l_list.insert_at_beginning('Apple')\n",
    "    l_list.insert_at_beginning('An')\n",
    "\n",
    "    l_list.print_LL()  # Print the list\n"
   ]
  },
  {
   "cell_type": "markdown",
   "metadata": {
    "id": "BKW1j_va0VMd"
   },
   "source": [
    "### Inserting a new node at the End:\n",
    "To insert a new node at the end of a linked list, you can implement the insert_at_end method in the LinkedList class.\n",
    "\n",
    "This method creates a new node containing the provided data and adds it to the end of the list. If the list is empty, the new node becomes the head; otherwise, it traverses the list to find the last node and attaches the new node to it.\n",
    "\n",
    "\n",
    "\n",
    "```\n",
    "def insert_at_end(self, new_data):\n",
    "    new_node = Node(new_data)  # Create a new node\n",
    "    if self.head is None:\n",
    "        self.head = new_node  # If the list is empty, make the new node the head\n",
    "        return\n",
    "    last = self.head\n",
    "    while last.next:  # Otherwise, traverse the list to find the last node\n",
    "        last = last.next\n",
    "    last.next = new_node  # Make the new node the next node of the last node\n",
    "```\n",
    "\n"
   ]
  },
  {
   "cell_type": "markdown",
   "metadata": {
    "id": "Hf64rCuT2Wa9"
   },
   "source": [
    "To use this method, you can instantiate a LinkedList object and then insert elements into it, including at the end:"
   ]
  },
  {
   "cell_type": "code",
   "execution_count": null,
   "metadata": {
    "id": "1PzDBAjKSxzZ"
   },
   "outputs": [],
   "source": [
    "class Node:\n",
    "    def __init__(self, data):\n",
    "        self.data = data  # Assigns the given data to the node\n",
    "        self.next = None  # Initialize the next attribute to null\n",
    "\n",
    "class LinkedList:\n",
    "    def __init__(self):\n",
    "        self.head = None  # Initializes an empty linked list\n",
    "\n",
    "    def insert_at_beginning(self, new_data):\n",
    "      new_node = Node(new_data)  # Create a new node with the given data\n",
    "      new_node.next = self.head  # Set the next pointer of the new node to the current head\n",
    "      self.head = new_node  # Update the head to point to the new node\n",
    "\n",
    "    def print_LL(self):\n",
    "      temp = self.head  # Start from the head of the list\n",
    "      while temp:\n",
    "          print(temp.data, end=' -> ')  # Print the data in the current node\n",
    "          temp = temp.next  # Move to the next node\n",
    "      print(\"None\")  # Ensure the output is followed by a new line\n",
    "\n",
    "    def insert_at_end(self, new_data):\n",
    "      new_node = Node(new_data)  # Create a new node\n",
    "      if self.head is None:\n",
    "          self.head = new_node  # If the list is empty, make the new node the head\n",
    "          return\n",
    "      last = self.head\n",
    "      while last.next:  # Otherwise, traverse the list to find the last node\n",
    "          last = last.next\n",
    "      last.next = new_node  # Make the new node the next node of the last node"
   ]
  },
  {
   "cell_type": "code",
   "execution_count": null,
   "metadata": {
    "colab": {
     "base_uri": "https://localhost:8080/"
    },
    "id": "Fs5l3H1f2Wy0",
    "outputId": "bfbe0128-0c47-43ed-ed15-4bad41f13098"
   },
   "outputs": [
    {
     "name": "stdout",
     "output_type": "stream",
     "text": [
      "An -> Apple -> a -> day -> keeps -> the -> None\n"
     ]
    }
   ],
   "source": [
    "if __name__ == '__main__':\n",
    "    l_list = LinkedList()\n",
    "\n",
    "    # Insert words at the beginning\n",
    "    l_list.insert_at_beginning('keeps')\n",
    "    l_list.insert_at_beginning('day')\n",
    "    l_list.insert_at_beginning('a')\n",
    "    l_list.insert_at_beginning('Apple')\n",
    "    l_list.insert_at_beginning('An')\n",
    "\n",
    "    # Insert a word at the end\n",
    "    l_list.insert_at_end('the')\n",
    "\n",
    "    # Print the list\n",
    "    l_list.print_LL()"
   ]
  },
  {
   "cell_type": "markdown",
   "metadata": {
    "id": "68WDLTTb3nct"
   },
   "source": [
    "### Deleting a node from the beginning:\n",
    "Deleting the first node of a linked list is easy since it simply involves pointing the head of this list to the second node. This way, the first node will no longer be a part of the list. To accomplish this, include the following method in the LinkedList class:\n",
    "\n",
    "\n",
    "```\n",
    "def delete_from_beginning(self):\n",
    "    if self.head is None:\n",
    "        return \"The list is empty\" # If the list is empty, return this string\n",
    "    self.head = self.head.next  # Otherwise, remove the head by making the next node the new head\n",
    "```\n",
    "\n"
   ]
  },
  {
   "cell_type": "markdown",
   "metadata": {
    "id": "jJPWxg3p31Rt"
   },
   "source": [
    "### Deleting a node from the end:\n",
    "To delete the last node of a linked list, we must traverse the list to find the second-last node and change its next pointer to None. This way, the last node will no longer be a part of the list.\n",
    "\n",
    "\n",
    "```\n",
    "def delete_from_end(self):\n",
    "    if self.head is None:\n",
    "        return \"The list is empty\"\n",
    "    if self.head.next is None:\n",
    "        self.head = None  # If there's only one node, remove the head by making it None\n",
    "        return\n",
    "    temp = self.head\n",
    "    while temp.next.next:  # Otherwise, go to the second-last node\n",
    "        temp = temp.next\n",
    "    temp.next = None  # Remove the last node by setting the next pointer of the second-last node to None\n",
    "```\n",
    "\n"
   ]
  },
  {
   "cell_type": "markdown",
   "metadata": {
    "id": "9YQcZtCa4ErF"
   },
   "source": [
    "The above method first checks if the linked list is empty, returning a message to the user if it is. Otherwise, if the list contains a single node, that node is removed. For lists with multiple nodes, the method locates the second-last node, and its next node reference is updated to None"
   ]
  },
  {
   "cell_type": "code",
   "execution_count": null,
   "metadata": {
    "id": "pR_Ml3MoUJpv"
   },
   "outputs": [],
   "source": [
    "class Node:\n",
    "    def __init__(self, data):\n",
    "        self.data = data  # Assigns the given data to the node\n",
    "        self.next = None  # Initialize the next attribute to null\n",
    "\n",
    "class LinkedList:\n",
    "  def __init__(self):\n",
    "      self.head = None  # Initializes an empty linked list\n",
    "\n",
    "  def insert_at_beginning(self, new_data):\n",
    "    new_node = Node(new_data)  # Create a new node with the given data\n",
    "    new_node.next = self.head  # Set the next pointer of the new node to the current head\n",
    "    self.head = new_node  # Update the head to point to the new node\n",
    "\n",
    "  def print_LL(self):\n",
    "    temp = self.head  # Start from the head of the list\n",
    "    while temp:\n",
    "        print(temp.data, end=' -> ')  # Print the data in the current node\n",
    "        temp = temp.next  # Move to the next node\n",
    "    print(\"None\")  # Ensure the output is followed by a new line\n",
    "\n",
    "  def insert_at_end(self, new_data):\n",
    "    new_node = Node(new_data)  # Create a new node\n",
    "    if self.head is None:\n",
    "        self.head = new_node  # If the list is empty, make the new node the head\n",
    "        return\n",
    "    last = self.head\n",
    "    while last.next:  # Otherwise, traverse the list to find the last node\n",
    "        last = last.next\n",
    "    last.next = new_node  # Make the new node the next node of the last node\n",
    "\n",
    "  def delete_from_beginning(self):\n",
    "    if self.head is None:\n",
    "        return \"The list is empty\" # If the list is empty, return this string\n",
    "    self.head = self.head.next  # Otherwise, remove the head by making the next node the new head\n",
    "\n",
    "  def delete_from_end(self):\n",
    "    if self.head is None:\n",
    "        return \"The list is empty\"\n",
    "    if self.head.next is None:\n",
    "        self.head = None  # If there's only one node, remove the head by making it None\n",
    "        return\n",
    "    temp = self.head\n",
    "    while temp.next.next:  # Otherwise, go to the second-last node\n",
    "        temp = temp.next\n",
    "    temp.next = None  # Remove the last node by setting the next pointer of the second-last node to None\n",
    "\n",
    "\n"
   ]
  },
  {
   "cell_type": "code",
   "execution_count": null,
   "metadata": {
    "colab": {
     "base_uri": "https://localhost:8080/"
    },
    "executionInfo": {
     "elapsed": 501,
     "status": "ok",
     "timestamp": 1716786370290,
     "user": {
      "displayName": "Srushith Kumar Donthoju",
      "userId": "14576840901732490377"
     },
     "user_tz": -330
    },
    "id": "yrrnuvS13841",
    "outputId": "6bbea4cb-87a8-44ce-dca7-81a30ead5933"
   },
   "outputs": [
    {
     "name": "stdout",
     "output_type": "stream",
     "text": [
      "List before deletion:\n",
      "An -> Apple -> a -> day -> keeps -> the -> None\n",
      "List after deletion:\n",
      "Apple -> a -> day -> keeps -> None\n"
     ]
    }
   ],
   "source": [
    "if __name__ == '__main__':\n",
    "    l_list = LinkedList()\n",
    "\n",
    "    # Insert words at the beginning\n",
    "    l_list.insert_at_beginning('keeps')\n",
    "    l_list.insert_at_beginning('day')\n",
    "    l_list.insert_at_beginning('a')\n",
    "    l_list.insert_at_beginning('Apple')\n",
    "    l_list.insert_at_beginning('An')\n",
    "\n",
    "    # Insert a word at the end\n",
    "    l_list.insert_at_end('the')\n",
    "\n",
    "   # Print the list before deletion\n",
    "    print(\"List before deletion:\")\n",
    "    l_list.print_LL()\n",
    "\n",
    "    # Deleting nodes from the beginning and end\n",
    "    l_list.delete_from_beginning()\n",
    "    l_list.delete_from_end()\n",
    "\n",
    "    # Print the list after deletion\n",
    "    print(\"List after deletion:\")\n",
    "    l_list.print_LL()"
   ]
  },
  {
   "cell_type": "markdown",
   "metadata": {
    "id": "xT6YXs0LcGMS"
   },
   "source": [
    "**Try this question:**\n",
    "Create a singly linked list using the words {“most”, “javascript”, “used”, “is”, “programming”, “language”, “the”}. The correct sentence should be: \"Javascript is the most used programming language.\" Add the first three words at the beginning of the linked list and the remaining words at the end."
   ]
  },
  {
   "cell_type": "code",
   "execution_count": null,
   "metadata": {
    "colab": {
     "base_uri": "https://localhost:8080/"
    },
    "executionInfo": {
     "elapsed": 7,
     "status": "ok",
     "timestamp": 1716786393870,
     "user": {
      "displayName": "Srushith Kumar Donthoju",
      "userId": "14576840901732490377"
     },
     "user_tz": -330
    },
    "id": "QN8tyueVcFtU",
    "outputId": "0acb420e-f291-4110-dddd-4106c8963f05"
   },
   "outputs": [
    {
     "name": "stdout",
     "output_type": "stream",
     "text": [
      "Linked list:\n",
      "Javascript -> is -> the -> most -> used -> programming -> language -> None\n"
     ]
    }
   ],
   "source": [
    "if __name__ == '__main__':\n",
    "    l_list = LinkedList()\n",
    "\n",
    "    # Add the first three words to the beginning\n",
    "    l_list.insert_at_beginning('the')\n",
    "    l_list.insert_at_beginning('is')\n",
    "    l_list.insert_at_beginning('Javascript')\n",
    "\n",
    "    # Add the remaining words to the end\n",
    "    l_list.insert_at_end('most')\n",
    "    l_list.insert_at_end('used')\n",
    "    l_list.insert_at_end('programming')\n",
    "    l_list.insert_at_end('language')\n",
    "\n",
    "    # Print the linked list\n",
    "    print(\"Linked list:\")\n",
    "    l_list.print_LL()"
   ]
  },
  {
   "cell_type": "markdown",
   "metadata": {
    "id": "095zBQ7J4a5M"
   },
   "source": [
    "### Searching the linked list for a specific value\n",
    "To search for a specific value within a linked list, you can implement the search method in the LinkedList class. This method traverses the list, starting from the head, and compares each node's data with the search value. If a match is found, it returns the position of the value in the list; otherwise, it indicates that the value was not found.\n",
    "\n",
    "\n",
    "```\n",
    "def search(self, value):\n",
    "    current = self.head  # Start with the head of the list\n",
    "    position = 0  # Counter to keep track of the position\n",
    "    while current: # Traverse the list\n",
    "        if current.data == value: # Compare the list's data to the search value\n",
    "            return f\"Value '{value}' found at position {position}\" # Print the value if a match is found\n",
    "        current = current.next\n",
    "        position += 1\n",
    "    return f\"Value '{value}' not found in the list\"\n",
    "```\n",
    "\n"
   ]
  },
  {
   "cell_type": "markdown",
   "metadata": {
    "id": "wVyC2hn24zyc"
   },
   "source": [
    "To find specific values in the linked list we’ve created, update your main function to include the search method we’ve just created:"
   ]
  },
  {
   "cell_type": "code",
   "execution_count": null,
   "metadata": {
    "id": "14W76UNCbPHO"
   },
   "outputs": [],
   "source": [
    "class Node:\n",
    "    def __init__(self, data):\n",
    "        self.data = data  # Assigns the given data to the node\n",
    "        self.next = None  # Initialize the next attribute to null\n",
    "\n",
    "class LinkedList:\n",
    "  def __init__(self):\n",
    "      self.head = None  # Initializes an empty linked list\n",
    "\n",
    "  def insert_at_beginning(self, new_data):\n",
    "    new_node = Node(new_data)  # Create a new node with the given data\n",
    "    new_node.next = self.head  # Set the next pointer of the new node to the current head\n",
    "    self.head = new_node  # Update the head to point to the new node\n",
    "\n",
    "  def print_LL(self):\n",
    "    temp = self.head  # Start from the head of the list\n",
    "    while temp:\n",
    "        print(temp.data, end=' -> ')  # Print the data in the current node\n",
    "        temp = temp.next  # Move to the next node\n",
    "    print(\"None\")  # Ensure the output is followed by a new line\n",
    "\n",
    "  def insert_at_end(self, new_data):\n",
    "    new_node = Node(new_data)  # Create a new node\n",
    "    if self.head is None:\n",
    "        self.head = new_node  # If the list is empty, make the new node the head\n",
    "        return\n",
    "    last = self.head\n",
    "    while last.next:  # Otherwise, traverse the list to find the last node\n",
    "        last = last.next\n",
    "    last.next = new_node  # Make the new node the next node of the last node\n",
    "\n",
    "  def delete_from_beginning(self):\n",
    "    if self.head is None:\n",
    "        return \"The list is empty\" # If the list is empty, return this string\n",
    "    self.head = self.head.next  # Otherwise, remove the head by making the next node the new head\n",
    "\n",
    "  def delete_from_end(self):\n",
    "    if self.head is None:\n",
    "        return \"The list is empty\"\n",
    "    if self.head.next is None:\n",
    "        self.head = None  # If there's only one node, remove the head by making it None\n",
    "        return\n",
    "    temp = self.head\n",
    "    while temp.next.next:  # Otherwise, go to the second-last node\n",
    "        temp = temp.next\n",
    "    temp.next = None  # Remove the last node by setting the next pointer of the second-last node to None\n",
    "\n",
    "  def search(self, value):\n",
    "    current = self.head  # Start with the head of the list\n",
    "    position = 0  # Counter to keep track of the position\n",
    "    while current: # Traverse the list\n",
    "        if current.data == value: # Compare the list's data to the search value\n",
    "            return f\"Value '{value}' found at position {position}\" # Print the value if a match is found\n",
    "        current = current.next\n",
    "        position += 1\n",
    "    return f\"Value '{value}' not found in the list\"\n",
    "\n",
    "   def delete_value(self, value):\n",
    "        current = self.head\n",
    "        if current is None:\n",
    "            return \"list is empty\"\n",
    "        if current.data == value:\n",
    "            self.head = current.next\n",
    "            return\n",
    "        prev = None\n",
    "        while current is not None:\n",
    "            if current.data == value:\n",
    "                break\n",
    "            prev = current\n",
    "            current = current.next\n",
    "        if current is None:\n",
    "            return \"Value not found in the list\"\n",
    "        prev.next = current.next\n",
    "\n",
    "\n",
    "    def insert_at_position(self, position, new_data):\n",
    "        if position < 0:\n",
    "            print(\"Invalid position\")\n",
    "            return\n",
    "        new_node = Node(new_data)\n",
    "        if position == 0:\n",
    "            new_node.next = self.head\n",
    "            self.head = new_node\n",
    "            return\n",
    "        current = self.head\n",
    "        for _ in range(position - 1):\n",
    "            if current is None:\n",
    "                print(\"Position out of bounds\")\n",
    "                return\n",
    "            current = current.next\n",
    "        if current is None:\n",
    "            print(\"Position out of bounds\")\n",
    "            return\n",
    "        new_node.next = current.next\n",
    "        current.next = new_node"
   ]
  },
  {
   "cell_type": "code",
   "execution_count": null,
   "metadata": {
    "colab": {
     "base_uri": "https://localhost:8080/"
    },
    "id": "TJ5NC7JO40HU",
    "outputId": "b11b16c1-319e-4ab0-f04d-eb0d28ba0684"
   },
   "outputs": [
    {
     "name": "stdout",
     "output_type": "stream",
     "text": [
      "List before deletion:\n",
      "An -> Apple -> a -> day -> keeps -> the -> None\n",
      "List after deletion:\n",
      "Apple -> a -> day -> keeps -> None\n",
      "Value 'day' found at position 2\n",
      "Value 'Apple' found at position 0\n"
     ]
    }
   ],
   "source": [
    "if __name__ == '__main__':\n",
    "    l_list = LinkedList()\n",
    "\n",
    "    # Insert words at the beginning\n",
    "    l_list.insert_at_beginning('keeps')\n",
    "    l_list.insert_at_beginning('day')\n",
    "    l_list.insert_at_beginning('a')\n",
    "    l_list.insert_at_beginning('Apple')\n",
    "    l_list.insert_at_beginning('An')\n",
    "\n",
    "    # Insert a word at the end\n",
    "    l_list.insert_at_end('the')\n",
    "\n",
    "   # Print the list before deletion\n",
    "    print(\"List before deletion:\")\n",
    "    l_list.print_LL()\n",
    "\n",
    "    # Deleting nodes from the beginning and end\n",
    "    l_list.delete_from_beginning()\n",
    "    l_list.delete_from_end()\n",
    "\n",
    "    # Print the list after deletion\n",
    "    print(\"List after deletion:\")\n",
    "    l_list.print_LL()\n",
    "\n",
    "        # Search for 'quick' and 'lazy' in the list\n",
    "    print(l_list.search('day'))  # Expected to find\n",
    "    print(l_list.search('Apple'))   # Expected not to find"
   ]
  },
  {
   "cell_type": "markdown",
   "metadata": {
    "id": "7GJQqrkaSwmc"
   },
   "source": [
    "### Example:"
   ]
  },
  {
   "cell_type": "code",
   "execution_count": null,
   "metadata": {
    "colab": {
     "base_uri": "https://localhost:8080/"
    },
    "id": "llRvXhkfSooj",
    "outputId": "b565450e-21d9-4ae4-faef-d97e6a862dbf"
   },
   "outputs": [
    {
     "name": "stdout",
     "output_type": "stream",
     "text": [
      "List before deletion:\n",
      "1 -> 2 -> 3 -> 4 -> 5 -> 6 -> None\n",
      "List after deletion:\n",
      "2 -> 3 -> 4 -> 5 -> None\n",
      "Value '3' found at position 1\n",
      "Value '10' not found in the list\n"
     ]
    }
   ],
   "source": [
    "if __name__ == '__main__':\n",
    "    l_list = LinkedList()\n",
    "\n",
    "    # Insert numbers at the beginning\n",
    "    l_list.insert_at_beginning(5)\n",
    "    l_list.insert_at_beginning(4)\n",
    "    l_list.insert_at_beginning(3)\n",
    "    l_list.insert_at_beginning(2)\n",
    "    l_list.insert_at_beginning(1)\n",
    "\n",
    "    # Insert a number at the end\n",
    "    l_list.insert_at_end(6)\n",
    "\n",
    "   # Print the list before deletion\n",
    "    print(\"List before deletion:\")\n",
    "    l_list.print_LL()\n",
    "\n",
    "    # Deleting nodes from the beginning and end\n",
    "    l_list.delete_from_beginning()\n",
    "    l_list.delete_from_end()\n",
    "\n",
    "    # Print the list after deletion\n",
    "    print(\"List after deletion:\")\n",
    "    l_list.print_LL()\n",
    "\n",
    "    # Search for a number in the list\n",
    "    print(l_list.search(3))  # Expected to find\n",
    "    print(l_list.search(10))   # Expected not to find\n"
   ]
  },
  {
   "cell_type": "markdown",
   "metadata": {
    "id": "ThzwR5jZMwMp"
   },
   "source": [
    "## Doubly Linked List:"
   ]
  },
  {
   "cell_type": "markdown",
   "metadata": {
    "id": "eICDeLobU6c0"
   },
   "source": [
    "### Insertion at the Beginning:\n",
    "* Create a new node with the given data.\n",
    "* Set the “next” pointer of the new node to point to the current head (if any).\n",
    "* Set the “previous” pointer of the new node to None (as it will become the new head).\n",
    "* If the list is not empty, update the “previous” pointer of the current head to point to the new node.\n",
    "* Update the head of the list to point to the new node."
   ]
  },
  {
   "cell_type": "code",
   "execution_count": null,
   "metadata": {
    "colab": {
     "base_uri": "https://localhost:8080/"
    },
    "id": "INVJVHbfbh_N",
    "outputId": "313a77e8-c867-4d0a-b9f9-b7ea5b8e4ccf"
   },
   "outputs": [
    {
     "name": "stdout",
     "output_type": "stream",
     "text": [
      "1 <-> 2 <-> 3 <-> 4 <-> None\n"
     ]
    }
   ],
   "source": [
    "# Python Program for traversal of a doubly linked list\n",
    "class Node:\n",
    "    def __init__(self, data):\n",
    "        # Initialize a new node with data, previous, and next pointers\n",
    "        self.data = data\n",
    "        self.next = None\n",
    "        self.prev = None\n",
    "\n",
    "\n",
    "def insert_at_beginning(head, data):\n",
    "    # Insert a new node at the beginning of the doubly linked list\n",
    "    new_node = Node(data)\n",
    "    new_node.next = head\n",
    "    if head:\n",
    "        head.prev = new_node\n",
    "    return new_node\n",
    "\n",
    "\n",
    "def print_LL(head):\n",
    "    # Traverse the doubly linked list and print its elements\n",
    "    temp = head\n",
    "    while temp:\n",
    "      # Print temp node's data\n",
    "        print(temp.data, end=\" <-> \")\n",
    "        # Move to the next node\n",
    "        temp = temp.next\n",
    "    print(\"None\")\n",
    "\n",
    "\n",
    "\n",
    "# Driver Code\n",
    "head = None\n",
    "head = insert_at_beginning(head, 4)\n",
    "head = insert_at_beginning(head, 3)\n",
    "head = insert_at_beginning(head, 2)\n",
    "head = insert_at_beginning(head, 1)\n",
    "\n",
    "# To traverse and print the nodes:\n",
    "print_LL(head)\n",
    "\n"
   ]
  },
  {
   "cell_type": "markdown",
   "metadata": {
    "id": "kHIUJ1wzRJ75"
   },
   "source": [
    "### Insertion after a given node:\n",
    "\n",
    "* Create a new node with the given data.\n",
    "* Set the “next” pointer of the new node to point to the next node of the given node.\n",
    "* Set the “previous” pointer of the new node to point to the given node.\n",
    "* If the next node of the given node is not None, update the “previous” pointer of that node to point to the new node.\n",
    "* Update the “next” pointer of the given node to point to the new node."
   ]
  },
  {
   "cell_type": "code",
   "execution_count": null,
   "metadata": {
    "colab": {
     "base_uri": "https://localhost:8080/"
    },
    "id": "3la0BYT7OFy8",
    "outputId": "3688c806-9864-43bf-b906-4bf9c2a4705d"
   },
   "outputs": [
    {
     "name": "stdout",
     "output_type": "stream",
     "text": [
      "Doubly Linked List before insertion:\n",
      "1 <-> 2 <-> 3 <-> None\n",
      "Doubly Linked List after insertion:\n",
      "1 <-> 2 <-> 4 <-> 3 <-> None\n"
     ]
    }
   ],
   "source": [
    "# Python Program for Insertion after a given node\n",
    "class Node:\n",
    "    def __init__(self, data):\n",
    "        self.data = data\n",
    "        self.next = None\n",
    "        self.prev = None\n",
    "\n",
    "# Function to insert a node after a given node in a doubly linked list\n",
    "def insert_after_node(node, data):\n",
    "    if node is None:\n",
    "        print(\"Error: The given node is None\")\n",
    "        return\n",
    "\n",
    "    new_node = Node(data)\n",
    "    new_node.prev = node\n",
    "    new_node.next = node.next\n",
    "\n",
    "    if node.next:\n",
    "        node.next.prev = new_node\n",
    "\n",
    "    node.next = new_node\n",
    "\n",
    "# Function to print_LL the elements of the doubly linked list\n",
    "def print_LL(head):\n",
    "    current = head\n",
    "    while current:\n",
    "        print(current.data, end=\" <-> \")\n",
    "        current = current.next\n",
    "    print(\"None\")\n",
    "\n",
    "\n",
    "# Driver Code\n",
    "head = Node(1)\n",
    "node2 = Node(2)\n",
    "node3 = Node(3)\n",
    "\n",
    "head.next = node2\n",
    "node2.prev = head\n",
    "node2.next = node3\n",
    "node3.prev = node2\n",
    "\n",
    "print(\"Doubly Linked List before insertion:\")\n",
    "print_LL(head)\n",
    "\n",
    "insert_after_node(node2, 4)\n",
    "\n",
    "print(\"Doubly Linked List after insertion:\")\n",
    "print_LL(head)\n"
   ]
  },
  {
   "cell_type": "markdown",
   "metadata": {
    "id": "JCFmOLb-VgbP"
   },
   "source": [
    "### Insertion before a given node:\n",
    "* Create a new node with the given data.\n",
    "* Set the “next” pointer of the new node to point to the given node.\n",
    "* Set the “previous” pointer of the new node to point to the previous node of the given node.\n",
    "* If the previous node of the given node is not None, update the “next” pointer of that node to point to the new node.\n",
    "* Update the “previous” pointer of the given node to point to the new node."
   ]
  },
  {
   "cell_type": "code",
   "execution_count": null,
   "metadata": {
    "colab": {
     "base_uri": "https://localhost:8080/"
    },
    "id": "nEEb70ScVsPJ",
    "outputId": "621beefe-5830-449a-978b-4a8fe48eff86"
   },
   "outputs": [
    {
     "name": "stdout",
     "output_type": "stream",
     "text": [
      "Doubly Linked List before insertion:\n",
      "1 <-> 2 <-> 3 <-> None\n",
      "Doubly Linked List after insertion:\n",
      "1 <-> 4 <-> 2 <-> 3 <-> None\n"
     ]
    }
   ],
   "source": [
    "# Python Program for Insertion before a given node\n",
    "class Node:\n",
    "    def __init__(self, data):\n",
    "        self.data = data\n",
    "        self.next = None\n",
    "        self.prev = None\n",
    "\n",
    "# Function to insert a node before a given node in a doubly linked list\n",
    "def insert_before_node(node, data):\n",
    "    if node is None:\n",
    "        print(\"Error: The given node is None\")\n",
    "        return\n",
    "\n",
    "    new_node = Node(data)\n",
    "    new_node.prev = node.prev\n",
    "    new_node.next = node\n",
    "\n",
    "    if node.prev:\n",
    "        node.prev.next = new_node\n",
    "\n",
    "    node.prev = new_node\n",
    "\n",
    "# Function to display the elements of the doubly linked list\n",
    "def display(head):\n",
    "    current = head\n",
    "    while current:\n",
    "        print(current.data, end=\" <-> \")\n",
    "        current = current.next\n",
    "    print(\"None\")\n",
    "\n",
    "# Driver Code\n",
    "head = Node(1)\n",
    "node2 = Node(2)\n",
    "node3 = Node(3)\n",
    "\n",
    "head.next = node2\n",
    "node2.prev = head\n",
    "node2.next = node3\n",
    "node3.prev = node2\n",
    "\n",
    "print(\"Doubly Linked List before insertion:\")\n",
    "display(head)\n",
    "\n",
    "insert_before_node(node2, 4)\n",
    "\n",
    "print(\"Doubly Linked List after insertion:\")\n",
    "display(head)\n"
   ]
  },
  {
   "cell_type": "markdown",
   "metadata": {
    "id": "jwUTwpjFUQsg"
   },
   "source": [
    "### Insertion at the end:\n",
    "* Create a new node with the given data.\n",
    "* If the list is empty (head is None), make the new node the head of the list.\n",
    "* Otherwise, traverse the list to find the last node.\n",
    "* Set the “next” pointer of the last node to point to the new node.\n",
    "* Set the “previous” pointer of the new node to point to the last node.\n",
    "* Optionally, update the head of the list to point to the new node if it’s the first node in the list.\n"
   ]
  },
  {
   "cell_type": "code",
   "execution_count": null,
   "metadata": {
    "colab": {
     "base_uri": "https://localhost:8080/"
    },
    "id": "Ns5gkP2URldB",
    "outputId": "e93f8d29-3c22-4a9c-ee10-48c043dd573c"
   },
   "outputs": [
    {
     "name": "stdout",
     "output_type": "stream",
     "text": [
      "Doubly Linked List after insertion at the end:\n",
      "1 <-> 2 <-> 3 <-> None\n"
     ]
    }
   ],
   "source": [
    "# Python Program for Insertion at the end\n",
    "class Node:\n",
    "    def __init__(self, data):\n",
    "        # Initialize a new node with data, previous, and next pointers\n",
    "        self.data = data\n",
    "        self.next = None\n",
    "        self.prev = None\n",
    "\n",
    "\n",
    "def insert_at_end(head, data):\n",
    "    # Insert a new node at the end of the doubly linked list\n",
    "    new_node = Node(data)\n",
    "    if head is None:\n",
    "        return new_node\n",
    "\n",
    "    current = head\n",
    "    while current.next:\n",
    "        current = current.next\n",
    "\n",
    "    current.next = new_node\n",
    "    new_node.prev = current\n",
    "    return head\n",
    "\n",
    "\n",
    "def print_LL(head):\n",
    "    # print the doubly linked list elements\n",
    "    current = head\n",
    "    while current:\n",
    "      # Print current node's data\n",
    "        print(current.data, end=\" <-> \")\n",
    "        # Move to the next node\n",
    "        current = current.next\n",
    "    print(\"None\")\n",
    "\n",
    "\n",
    "# Driver Code\n",
    "head = None\n",
    "head = insert_at_end(head, 1)\n",
    "head = insert_at_end(head, 2)\n",
    "head = insert_at_end(head, 3)\n",
    "\n",
    "print(\"Doubly Linked List after insertion at the end:\")\n",
    "print_LL(head)\n"
   ]
  },
  {
   "cell_type": "markdown",
   "metadata": {
    "id": "6A3RZ8KRUs2Q"
   },
   "source": [
    "### Deletion at the beginning:\n",
    "* Check if the list is empty (head is None). If it is empty, there is nothing to delete.\n",
    "* If the list has only one node, set the head to None to delete the node.\n",
    "* Otherwise, update the head to point to the next node.\n",
    "* Set the “previous” pointer of the new head to None.\n",
    "* Optionally, free the memory allocated to the deleted node."
   ]
  },
  {
   "cell_type": "code",
   "execution_count": null,
   "metadata": {
    "colab": {
     "base_uri": "https://localhost:8080/"
    },
    "id": "63hrmRLHUZm3",
    "outputId": "9cf7d5f6-29d9-458e-adb1-874d4ae5ef5d"
   },
   "outputs": [
    {
     "name": "stdout",
     "output_type": "stream",
     "text": [
      "2 <-> 3 <-> 4 <-> None\n"
     ]
    }
   ],
   "source": [
    "# Python Program for the deletion at the beginning\n",
    "class Node:\n",
    "    def __init__(self, data):\n",
    "        # Initialize a new node with data, previous, and next pointers\n",
    "        self.data = data\n",
    "        self.next = None\n",
    "        self.prev = None\n",
    "\n",
    "def delete_at_beginning(head):\n",
    "    # Delete the first node from the beginning of the doubly linked list\n",
    "    if head is None:\n",
    "        print(\"Doubly linked list is empty\")\n",
    "        return None\n",
    "\n",
    "    if head.next is None:\n",
    "        return None\n",
    "\n",
    "    new_head = head.next\n",
    "    new_head.prev = None\n",
    "    del head\n",
    "    return new_head\n",
    "\n",
    "def print_LL(head):\n",
    "    # print the doubly linked list and print its elements\n",
    "    current = head\n",
    "    while current:\n",
    "      # Print current node's data\n",
    "        print(current.data, end=\" <-> \")\n",
    "        # Move to the next node\n",
    "        current = current.next\n",
    "    print(\"None\")\n",
    "\n",
    "def insert_at_beginning(head, data):\n",
    "    # Insert a new node at the beginning of the doubly linked list\n",
    "    new_node = Node(data)\n",
    "    new_node.next = head\n",
    "    if head:\n",
    "        head.prev = new_node\n",
    "    return new_node\n",
    "\n",
    "# Driver Code\n",
    "head = None\n",
    "head = insert_at_beginning(head, 4)\n",
    "head = insert_at_beginning(head, 3)\n",
    "head = insert_at_beginning(head, 2)\n",
    "head = insert_at_beginning(head, 1)\n",
    "\n",
    "# Delete the first node (node with data 1) from the beginning:\n",
    "head = delete_at_beginning(head)\n",
    "\n",
    "# Traverse and print the nodes after deletion:\n",
    "print_LL(head)\n"
   ]
  },
  {
   "cell_type": "markdown",
   "metadata": {
    "id": "08ZA7vYgWDaP"
   },
   "source": [
    "### Deletion at a given position:\n",
    "* Check if the list is empty (head is None). If it is empty, there is nothing to delete.\n",
    "* If the position is less than 0, print an error message as it’s an invalid position.\n",
    "* If the position is 0, delete the node at the beginning of the list.\n",
    "* Traverse the list to find the node at the given position.\n",
    "* Update the “next” pointer of the previous node to skip the node to be deleted.\n",
    "* Update the “previous” pointer of the next node to point to the previous node of the node to be deleted.\n",
    "* Optionally, free the memory allocated to the deleted node."
   ]
  },
  {
   "cell_type": "code",
   "execution_count": null,
   "metadata": {
    "colab": {
     "base_uri": "https://localhost:8080/"
    },
    "id": "ToxJ9tahWRRW",
    "outputId": "ed59cd0e-54c6-480c-8a3d-95c931e842ac"
   },
   "outputs": [
    {
     "name": "stdout",
     "output_type": "stream",
     "text": [
      "1 <-> 2 <-> 4 <-> None\n"
     ]
    }
   ],
   "source": [
    "# Python Program for Deletion of a given node\n",
    "class Node:\n",
    "    def __init__(self, data):\n",
    "        # Initialize a new node with data, previous, and next pointers\n",
    "        self.data = data\n",
    "        self.next = None\n",
    "        self.prev = None\n",
    "\n",
    "\n",
    "def delete_at_position(head, position):\n",
    "    # Delete the node at a given position from the doubly linked list\n",
    "    if head is None:\n",
    "        print(\"Doubly linked list is empty\")\n",
    "        return None\n",
    "\n",
    "    if position < 0:\n",
    "        print(\"Invalid position\")\n",
    "        return head\n",
    "\n",
    "    if position == 0:\n",
    "        if head.next:\n",
    "            head.next.prev = None\n",
    "        return head.next\n",
    "\n",
    "    current = head\n",
    "    count = 0\n",
    "    while current and count < position:\n",
    "        current = current.next\n",
    "        count += 1\n",
    "\n",
    "    if current is None:\n",
    "        print(\"Position out of range\")\n",
    "        return head\n",
    "\n",
    "    if current.next:\n",
    "        current.next.prev = current.prev\n",
    "    if current.prev:\n",
    "        current.prev.next = current.next\n",
    "\n",
    "    del current\n",
    "    return head\n",
    "\n",
    "\n",
    "def print_LL(head):\n",
    "    # print the doubly linked list and print its elements\n",
    "    current = head\n",
    "    while current:\n",
    "      # Print current node's data\n",
    "        print(current.data, end=\" <-> \")\n",
    "        # Move to the next node\n",
    "        current = current.next\n",
    "    print(\"None\")\n",
    "\n",
    "\n",
    "def insert_at_beginning(head, data):\n",
    "    # Insert a new node at the beginning of the doubly linked list\n",
    "    new_node = Node(data)\n",
    "    new_node.next = head\n",
    "    if head:\n",
    "        head.prev = new_node\n",
    "    return new_node\n",
    "\n",
    "\n",
    "# Driver Code\n",
    "head = None\n",
    "head = insert_at_beginning(head, 4)\n",
    "head = insert_at_beginning(head, 3)\n",
    "head = insert_at_beginning(head, 2)\n",
    "head = insert_at_beginning(head, 1)\n",
    "\n",
    "# Delete the node at position 2 (node with data 3):\n",
    "head = delete_at_position(head, 2)\n",
    "\n",
    "# Traverse and print the nodes after deletion:\n",
    "print_LL(head)\n"
   ]
  },
  {
   "cell_type": "markdown",
   "metadata": {
    "id": "ZBMGwCkpWZVo"
   },
   "source": [
    "### Deletion at the end:\n",
    "* Check if the list is empty (head is None). If it is empty, there is nothing to delete.\n",
    "* If the list has only one node, set the head to None to delete the node.\n",
    "* Traverse the list to find the last node.\n",
    "* Set the “next” pointer of the second-to-last node to None.\n",
    "* Optionally, free the memory allocated to the deleted node."
   ]
  },
  {
   "cell_type": "code",
   "execution_count": null,
   "metadata": {
    "colab": {
     "base_uri": "https://localhost:8080/"
    },
    "id": "eB2jAnmoWg_f",
    "outputId": "fa80c9ae-5223-4d59-e7e1-d037ff88c0b3"
   },
   "outputs": [
    {
     "name": "stdout",
     "output_type": "stream",
     "text": [
      "1 <-> 2 <-> 3 <-> None\n"
     ]
    }
   ],
   "source": [
    "# Python Program Deletion at the end\n",
    "class Node:\n",
    "    def __init__(self, data):\n",
    "        # Initialize a new node with data, previous, and next pointers\n",
    "        self.data = data\n",
    "        self.next = None\n",
    "        self.prev = None\n",
    "\n",
    "def delete_at_end(head):\n",
    "    # Delete the last node from the end of the doubly linked list\n",
    "    if head is None:\n",
    "        print(\"Doubly linked list is empty\")\n",
    "        return None\n",
    "\n",
    "    if head.next is None:\n",
    "        return None\n",
    "\n",
    "    current = head\n",
    "    while current.next.next:\n",
    "        current = current.next\n",
    "\n",
    "    del_node = current.next\n",
    "    current.next = None\n",
    "    del del_node\n",
    "    return head\n",
    "\n",
    "def print_LL(head):\n",
    "    # print the doubly linked list and print its elements\n",
    "    current = head\n",
    "    while current:\n",
    "      # Print current node's data\n",
    "        print(current.data, end=\" <-> \")\n",
    "        # Move to the next node\n",
    "        current = current.next\n",
    "    print(\"None\")\n",
    "\n",
    "def insert_at_beginning(head, data):\n",
    "    # Insert a new node at the beginning of the doubly linked list\n",
    "    new_node = Node(data)\n",
    "    new_node.next = head\n",
    "    if head:\n",
    "        head.prev = new_node\n",
    "    return new_node\n",
    "\n",
    "# Driver Code\n",
    "head = None\n",
    "head = insert_at_beginning(head, 4)\n",
    "head = insert_at_beginning(head, 3)\n",
    "head = insert_at_beginning(head, 2)\n",
    "head = insert_at_beginning(head, 1)\n",
    "\n",
    "# Delete the last node (node with data 4) from the end:\n",
    "head = delete_at_end(head)\n",
    "\n",
    "# Traverse and print the nodes after deletion:\n",
    "print_LL(head)\n"
   ]
  },
  {
   "cell_type": "markdown",
   "metadata": {
    "id": "lUQBbPkXQjh-"
   },
   "source": [
    "**Limitation of Linked List:**\n",
    "\n",
    "* While linked lists excel at insertions and deletions, they do not provide constant-time access to arbitrary elements like arrays.\n",
    "* To access an element at a specific index, you need to traverse the list from the beginning, which can be inefficient."
   ]
  },
  {
   "cell_type": "code",
   "execution_count": null,
   "metadata": {
    "id": "yuZ7hmepiKDj"
   },
   "outputs": [],
   "source": []
  }
 ],
 "metadata": {
  "colab": {
   "provenance": []
  },
  "kernelspec": {
   "display_name": "Python 3 (ipykernel)",
   "language": "python",
   "name": "python3"
  },
  "language_info": {
   "codemirror_mode": {
    "name": "ipython",
    "version": 3
   },
   "file_extension": ".py",
   "mimetype": "text/x-python",
   "name": "python",
   "nbconvert_exporter": "python",
   "pygments_lexer": "ipython3",
   "version": "3.12.4"
  }
 },
 "nbformat": 4,
 "nbformat_minor": 4
}
